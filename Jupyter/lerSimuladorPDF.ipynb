{
 "cells": [
  {
   "cell_type": "code",
   "execution_count": 1,
   "metadata": {},
   "outputs": [],
   "source": [
    "import sys\n",
    "import os\n",
    "import re\n",
    "sys.path.insert(0, r'C:\\Users\\Matheus\\Documents\\Git\\Pontte\\automacaoRegistroAztronic\\automacaoRegistroCCI\\Scripts')\n",
    "from lerPDF import lerPDF"
   ]
  },
  {
   "cell_type": "code",
   "execution_count": 6,
   "metadata": {},
   "outputs": [
    {
     "data": {
      "text/plain": [
       "['FI Simulador Juliana.pdf',\n",
       " 'FI Simulador Romilton.pdf',\n",
       " 'HE Simulador Agostinho.pdf',\n",
       " 'HE Simulador Conrado.pdf',\n",
       " 'HE Simulador Margareide.pdf',\n",
       " 'HE Simulador Patricia.pdf']"
      ]
     },
     "execution_count": 6,
     "metadata": {},
     "output_type": "execute_result"
    }
   ],
   "source": [
    "files_dir = r\"C:\\Users\\Matheus\\Documents\\Git\\Pontte\\automacaoRegistroAztronic\\automacaoRegistroCCI\\Simuladores\"\n",
    "simuladorFiles = [f for f in os.listdir(files_dir) if f.endswith(\".pdf\")]\n",
    "simuladorFiles"
   ]
  },
  {
   "cell_type": "code",
   "execution_count": 11,
   "metadata": {},
   "outputs": [
    {
     "name": "stdout",
     "output_type": "stream",
     "text": [
      "\n",
      " FI_Contrato_Juliana_Assinatura Digital.pdf\n"
     ]
    },
    {
     "data": {
      "text/plain": [
       "'Olá! Tudo bem? Elaboramos essa proposta com todo carinho para  você! Veja se ela não é a sua cara?! R$ 1.114.988,00 0,70% 360Valor bruto Taxa Prazo de pagamento (meses)Price 10,56% NenhumSistema de Amortização Custo Efetivo Total (A.A.) Mês do ano sem pagarSimulação ResultadosSistema de Amortização PriceLTV69,82%IndexadorIPCAIOF -                      Prazo (meses)360TAC 35.000,00           Carência (meses)1ITBI/Registro (SP - Estimado)79.988,00           Mês pular parcelaNenhumValor Total do Empréstimo1.114.988,00      Dia do Vencimento15Valor Líquido1.000.000,00      Taxa (a.m.)0,70%Valor de Avaliação 1.597.000,00Custo Efetivo Total (CET a.a.)10,56%Primeira PMT 8.948,35             DataParcelas MensaisAmortização JurosSaldo DevedorSeguro MIPSeguro DFI Taxa AdmPrestação Mensal08/07/2022 0,00 0,00 0,00 1.114.988,00 0,00 0,00 0,00 0,0015/07/2022 0,00 0,00 0,00 1.116.745,64 0,00 0,00 0,00 0,0015/08/2022 0,00 0,00 0,00 1.124.934,17 0,00 0,00 0,00 0,0015/09/2022 8.575,48 700,94 7.874,54 1.124.233,23 236,09 111,79 25,00 8.948,3515/10/2022 8.575,48 705,84 7.869,63 1.123.527,39 235,94 111,79 25,00 8.948,2115/11/2022 8.575,48 710,78 7.864,69 1.122.816,61 235,79 111,79 25,00 8.948,0615/12/2022 8.575,48 715,76 7.859,72 1.122.100,85 235,64 111,79 25,00 8.947,9115/01/2023 8.575,48 720,77 7.854,71 1.121.380,08 235,49 111,79 25,00 8.947,7515/02/2023 8.575,48 725,81 7.849,66 1.120.654,27 235,34 111,79 25,00 8.947,6015/03/2023 8.575,48 730,90 7.844,58 1.119.923,37 235,18 111,79 25,00 8.947,4515/04/2023 8.575,48 736,01 7.839,46 1.119.187,36 235,03 111,79 25,00 8.947,2915/05/2023 8.575,48 741,16 7.834,31 1.118.446,20 234,87 111,79 25,00 8.947,1415/06/2023 8.575,48 746,35 7.829,12 1.117.699,85 234,72 111,79 25,00 8.946,9815/07/2023 8.575,48 751,58 7.823,90 1.116.948,27 234,56 111,79 25,00 8.946,8215/08/2023 8.575,48 756,84 7.818,64 1.116.191,43 234,40 111,79 25,00 8.946,6715/09/2023 8.575,48 762,13 7.813,34 1.115.429,30 234,24 111,79 25,00 8.946,5115/10/2023 8.575,48 767,47 7.808,01 1.114.661,83 234,08 111,79 25,00 8.946,3415/11/2023 8.575,48 772,84 7.802,63 1.113.888,98 233,92 111,79 25,00 8.946,1815/12/2023 8.575,48 778,25 7.797,22 1.113.110,73 233,75 111,79 25,00 8.946,0215/01/2024 8.575,48 783,70 7.791,78 1.112.327,03 233,59 111,79 25,00 8.945,8515/02/2024 8.575,48 789,19 7.786,29 1.111.537,85 233,42 111,79 25,00 8.945,6915/03/2024 8.575,48 794,71 7.780,76 1.110.743,14 233,26 111,79 25,00 8.945,5215/04/2024 8.575,48 800,27 7.775,20 1.109.942,86 233,09 111,79 25,00 8.945,35Juliana Cristina PiresDATA DA PROPOSTA: 28 JUNHO 2022 Este documento foi assinado digitalmente por Juliana Cristina Pires. Para verificar as assinaturas vá ao site https://www.portaldeassinaturas.com.br e utilize o código D556-C350-92CE-848C. Este documento foi assinado digitalmente por Juliana Cristina Pires. Para verificar as assinaturas vá ao site https://www.portaldeassinaturas.com.br e utilize o código D556-C350-92CE-848C.'"
      ]
     },
     "execution_count": 11,
     "metadata": {},
     "output_type": "execute_result"
    }
   ],
   "source": [
    "i = 0\n",
    "pathDocument = os.path.join(files_dir, simuladorFiles[i])\n",
    "print('\\n', laudoFiles[i])\n",
    "extTexto = lerPDF(pathDocument,1)\n",
    "extTexto"
   ]
  }
 ],
 "metadata": {
  "kernelspec": {
   "display_name": "Python 3.10.4 64-bit",
   "language": "python",
   "name": "python3"
  },
  "language_info": {
   "name": "python",
   "version": "3.10.4"
  },
  "orig_nbformat": 4,
  "vscode": {
   "interpreter": {
    "hash": "9a3b07ba528c89038647187279d5e29ba231df4ea6aa016e93723a294652464d"
   }
  }
 },
 "nbformat": 4,
 "nbformat_minor": 2
}
