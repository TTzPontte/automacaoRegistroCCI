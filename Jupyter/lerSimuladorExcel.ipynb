{
 "cells": [
  {
   "cell_type": "code",
   "execution_count": 7,
   "metadata": {},
   "outputs": [],
   "source": [
    "import openpyxl as xl\n",
    "import pandas as pd\n",
    "import os\n",
    "from time import sleep\n",
    "from datetime import datetime\n",
    "import warnings\n",
    "\n",
    "#Remover Avisos\n",
    "warnings.filterwarnings('ignore', category=UserWarning, module='openpyxl')"
   ]
  },
  {
   "cell_type": "code",
   "execution_count": 3,
   "metadata": {},
   "outputs": [
    {
     "data": {
      "text/plain": [
       "['FI Simulador Juliana.xlsm',\n",
       " 'FI Simulador Romilton.xlsm',\n",
       " 'HE Simulador Agostinho.xlsm',\n",
       " 'He Simulador Conrado.xlsm',\n",
       " 'HE Simulador Margareide.xlsm',\n",
       " 'HE Simulador Patricia.xlsm']"
      ]
     },
     "execution_count": 3,
     "metadata": {},
     "output_type": "execute_result"
    }
   ],
   "source": [
    "files_dir = r\"C:\\Users\\Matheus\\Documents\\Git\\Pontte\\automacaoRegistroAztronic\\automacaoRegistroCCI\\Simuladores\"\n",
    "simuladorFiles = [f for f in os.listdir(files_dir) if f.endswith(\".xlsm\")]\n",
    "simuladorFiles"
   ]
  },
  {
   "cell_type": "code",
   "execution_count": 16,
   "metadata": {},
   "outputs": [
    {
     "data": {
      "text/plain": [
       "'HE Simulador Agostinho.xlsm'"
      ]
     },
     "execution_count": 16,
     "metadata": {},
     "output_type": "execute_result"
    }
   ],
   "source": [
    "path = os.path.join(files_dir, simuladorFiles[2])\n",
    "row2 = 2\n",
    "simuladorFiles[2]"
   ]
  },
  {
   "cell_type": "code",
   "execution_count": 17,
   "metadata": {},
   "outputs": [],
   "source": [
    "wb = xl.load_workbook(path, data_only=True)\n",
    "ws3 = wb['Simulador PDF']"
   ]
  },
  {
   "cell_type": "code",
   "execution_count": 24,
   "metadata": {},
   "outputs": [],
   "source": [
    "#Coletar Informações do Quadro Simulação\n",
    "amortizacao = None\n",
    "indexador = None\n",
    "prazo = None\n",
    "carencia = None\n",
    "pularParcela = None\n",
    "diaVencimento = None\n",
    "taxaAM = None\n",
    "CET = None\n",
    "\n",
    "#Coletar Informações do Quadro Resultados\n",
    "LTV = None\n",
    "IOF = None\n",
    "TAC = None\n",
    "registro = None\n",
    "valorBruto = None\n",
    "valorLiquido = None\n",
    "valorAvaliacao = None\n",
    "primeiraParcela = None\n",
    "\n",
    "#Auxiliar Primeira Parcela\n",
    "auxPar = False\n",
    "dataPriParcela = None\n",
    "dataDesembolco = None\n",
    "priParcelaAmortizao = None\n",
    "priParcelaJuros = None\n",
    "dataUltimaParcela = 0\n",
    "saldoDevedor = None\n",
    "auxSaldo = False\n",
    "\n",
    "\n",
    "for col in ws3.iter_cols(min_col=1,max_col=15, min_row = 1, max_row=100):\n",
    "    for cell in col:\n",
    "        if cell.value == 'Simulação':\n",
    "            #Definir variáveis auxiliares de linha e coluna\n",
    "            rowAux = cell.row + 1\n",
    "            columnAux = cell.column + 3\n",
    "\n",
    "            #Extração da tabela simulação\n",
    "            amortizacao = ws3.cell(row=rowAux, column=columnAux).value\n",
    "            indexador = ws3.cell(row=rowAux+1, column=columnAux).value\n",
    "            prazo = ws3.cell(row=rowAux+2, column=columnAux).value\n",
    "            carencia = ws3.cell(row=rowAux+3, column=columnAux).value\n",
    "            pularParcela = ws3.cell(row=rowAux+4, column=columnAux).value\n",
    "            diaVencimento = ws3.cell(row=rowAux+5, column=columnAux).value\n",
    "            taxaAM = ws3.cell(row=rowAux+6, column=columnAux).value\n",
    "            CET = ws3.cell(row=rowAux+7, column=columnAux).value\n",
    "        \n",
    "        elif cell.value == 'Resultados':\n",
    "            #Definir variáveis auxiliares de linha e coluna\n",
    "            rowAux = cell.row + 1\n",
    "            columnAux = cell.column + 3\n",
    "\n",
    "            #Extralção da tabela Resultados\n",
    "            LTV = ws3.cell(row=rowAux, column=columnAux).value\n",
    "            IOF = ws3.cell(row=rowAux+1, column=columnAux).value\n",
    "            TAC = ws3.cell(row=rowAux+2, column=columnAux).value\n",
    "            registro = ws3.cell(row=rowAux+3, column=columnAux).value\n",
    "            valorBruto = ws3.cell(row=rowAux+4, column=columnAux).value\n",
    "            valorLiquido = ws3.cell(row=rowAux+5, column=columnAux).value\n",
    "            valorAvaliacao = ws3.cell(row=rowAux+6, column=columnAux).value\n",
    "            primeiraParcela = ws3.cell(row=rowAux+7, column=columnAux).value\n",
    "        \n",
    "        elif cell.value == 'Data':\n",
    "            rowAux = cell.row + 1\n",
    "            columnAux = cell.column + 1\n",
    "            dataDesembolco = ws3.cell(row=rowAux, column=cell.column).value\n",
    "            for i in range(1,10):\n",
    "                parcelaMensal = ws3.cell(row=rowAux+i, column=columnAux).value\n",
    "                if parcelaMensal > 0 and auxPar == False:\n",
    "                    priParcelaAmortizao = ws3.cell(row=rowAux+i, column=columnAux+1).value\n",
    "                    priParcelaJuros = ws3.cell(row=rowAux+i, column=columnAux+2).value\n",
    "                    dataPriParcela = ws3.cell(row=rowAux+i, column=columnAux-1).value\n",
    "                    #print(f\"Parcela do mês: {parcelaMensal} \\nAmortização: {priParcelaAmortizao}\\nJuros: {priParcelaJuros}\\nAmortização+Juros: {str(priParcelaJuros+priParcelaAmortizao)}\")\n",
    "                    auxPar = True\n",
    "        \n",
    "        elif cell.value == 'Saldo Devedor':\n",
    "            for i in range(1,400):\n",
    "                saldoDevedor = ws3.cell(row=rowAux+i, column=cell.column).value\n",
    "                try:\n",
    "                    if saldoDevedor <= 10 and auxSaldo ==False:\n",
    "                        dataUltimaParcela = ws3.cell(row=rowAux+i, column=cell.column-4).value\n",
    "                        auxSaldo = True\n",
    "                except:\n",
    "                    pass\n",
    "amortizacaoEJuros = priParcelaAmortizao + priParcelaJuros\n",
    "prestacoes = prazo - carencia\n",
    "nomeCliente = ws3.cell(row=1, column=7).value\n",
    "wb.close()"
   ]
  },
  {
   "cell_type": "markdown",
   "metadata": {},
   "source": [
    "**Conferência dos Valores Extraídos**"
   ]
  },
  {
   "cell_type": "code",
   "execution_count": 25,
   "metadata": {},
   "outputs": [
    {
     "name": "stdout",
     "output_type": "stream",
     "text": [
      "Valores Extraídos do quado de Simulação\n",
      "Amoritzação: SAC \n",
      "Indexador: IPCA \n",
      "Prazo: 228\n",
      "Carência: 6\n",
      "Pular Parcela: Nenhum\n",
      "Dia de Vencimento: 30\n",
      "Taxa ao mês 0.0092\n",
      "CET: 0.14409638500653799\n",
      "\n",
      "\n",
      "Valores Extraídos do quado de Resultados\n",
      "Data Desembolço: 2022-06-08 00:00:00\n",
      "LTV: 0.49264601449921586\n",
      "IOF: 6224.231451705161\n",
      "TAC: 6768\n",
      "Registro: 3042.67\n",
      "Valor Bruto: 185234.90145170517\n",
      "Valor Líquido: 169200\n",
      "Valor de Avaliação: 376000\n",
      "Valor Primeira Parcela: 2800.520024418839\n",
      "\n",
      "\n",
      "Valores Extraídos da Primeira Parcela\n",
      "Valor de Amortização: 889.9910082772791\n",
      "Valor do Juros: 1817.7176353356729\n",
      "Amortização+Juros: 2707.708643612952\n",
      "Data Primeira Parcela: 2023-01-30 00:00:00\n",
      "Data Última Parcela: 2041-06-30 00:00:00\n",
      "Prazo: 222\n"
     ]
    }
   ],
   "source": [
    "# #Printar Informações do Quadro Simulação\n",
    "print(f\"Valores Extraídos do quado de Simulação\")\n",
    "print(f\"Amoritzação: {amortizacao} \\nIndexador: {indexador} \\nPrazo: {prazo}\\nCarência: {carencia}\\nPular Parcela: {pularParcela}\\nDia de Vencimento: {diaVencimento}\\nTaxa ao mês {taxaAM}\\nCET: {CET}\")\n",
    "\n",
    "# #Printar Informações do Quadro Resultados\n",
    "print(f\"\\n\\nValores Extraídos do quado de Resultados\")\n",
    "print(f\"Data Desembolço: {dataDesembolco}\\nLTV: {LTV}\\nIOF: {IOF}\\nTAC: {TAC}\\nRegistro: {registro}\\nValor Bruto: {valorBruto}\\nValor Líquido: {valorLiquido}\\nValor de Avaliação: {valorAvaliacao}\\nValor Primeira Parcela: {primeiraParcela}\")\n",
    "\n",
    "# #Auxiliar Primeira Parcela\n",
    "print(f\"\\n\\nValores Extraídos da Primeira Parcela\")\n",
    "print(f\"Valor de Amortização: {priParcelaAmortizao}\\nValor do Juros: {priParcelaJuros}\\nAmortização+Juros: {str(priParcelaJuros+priParcelaAmortizao)}\\nData Primeira Parcela: {dataPriParcela}\\nData Última Parcela: {dataUltimaParcela}\")\n",
    "\n",
    "print(f\"Prazo: {prestacoes}\")"
   ]
  },
  {
   "cell_type": "code",
   "execution_count": 149,
   "metadata": {},
   "outputs": [],
   "source": [
    "keyValue = {'valorTotal':round(valorBruto,2),'tabela': amortizacao,'registro': round(registro,2),'taxaAM':taxaAM,'valorLiquido': round(valorLiquido,2),'prazoMes': prazo,\n",
    "                'valorPrimeiraParcelaComEncargos':round(primeiraParcela,2), 'valorImóvel':round(valorAvaliacao,2),'prazoContrato': prestacoes,'ultimaParcela':dataUltimaParcela.strftime(\"%d/%m/%Y\"),\n",
    "                'dataContrato': dataDesembolco.strftime(\"%d/%m/%Y\"), 'valorPrimeiraParcela': round(amortizacaoEJuros,2), 'primeiraParcela':dataPriParcela.strftime(\"%d/%m/%Y\"),'indice': indexador\n",
    "                }"
   ]
  },
  {
   "cell_type": "code",
   "execution_count": 150,
   "metadata": {},
   "outputs": [
    {
     "data": {
      "text/plain": [
       "{'valorTotal': 433835.93,\n",
       " 'tabela': 'Price',\n",
       " 'registro': 3240.05,\n",
       " 'taxaAM': 0.0107,\n",
       " 'valorLiquido': 400000,\n",
       " 'prazoMes': 240,\n",
       " 'valorPrimeiraParcelaComEncargos': 5399.79,\n",
       " 'valorImóvel': 930000,\n",
       " 'prazoContrato': 237,\n",
       " 'ultimaParcela': '04/07/2042',\n",
       " 'dataContrato': '05/07/2022',\n",
       " 'valorPrimeiraParcela': 5215.54,\n",
       " 'primeiraParcela': '04/11/2022',\n",
       " 'indice': 'IPCA'}"
      ]
     },
     "execution_count": 150,
     "metadata": {},
     "output_type": "execute_result"
    }
   ],
   "source": [
    "keyValue"
   ]
  },
  {
   "cell_type": "code",
   "execution_count": 133,
   "metadata": {},
   "outputs": [
    {
     "data": {
      "text/plain": [
       "'15/09/2022'"
      ]
     },
     "execution_count": 133,
     "metadata": {},
     "output_type": "execute_result"
    }
   ],
   "source": [
    "dataPriParcela.strftime(\"%d/%m/%Y\")\n"
   ]
  }
 ],
 "metadata": {
  "kernelspec": {
   "display_name": "Python 3.10.4 64-bit",
   "language": "python",
   "name": "python3"
  },
  "language_info": {
   "codemirror_mode": {
    "name": "ipython",
    "version": 3
   },
   "file_extension": ".py",
   "mimetype": "text/x-python",
   "name": "python",
   "nbconvert_exporter": "python",
   "pygments_lexer": "ipython3",
   "version": "3.10.4"
  },
  "orig_nbformat": 4,
  "vscode": {
   "interpreter": {
    "hash": "9a3b07ba528c89038647187279d5e29ba231df4ea6aa016e93723a294652464d"
   }
  }
 },
 "nbformat": 4,
 "nbformat_minor": 2
}
