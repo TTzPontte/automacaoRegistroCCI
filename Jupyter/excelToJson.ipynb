{
 "cells": [
  {
   "cell_type": "code",
   "execution_count": 19,
   "metadata": {},
   "outputs": [],
   "source": [
    "import openpyxl\n",
    "from openpyxl import load_workbook\n",
    "import numpy as np\n",
    "import pandas as pd"
   ]
  },
  {
   "cell_type": "code",
   "execution_count": 20,
   "metadata": {},
   "outputs": [],
   "source": [
    "pathExcel = r\"G:\\Drives compartilhados\\Pontte Crédito\\0_HOME EQUITY\\0_Analises\\MARIA SONIA PAULO DA SILVA ID 586505100\\KIT QI\\Cálculo_Fluxo.xlsx\""
   ]
  },
  {
   "cell_type": "code",
   "execution_count": 21,
   "metadata": {},
   "outputs": [],
   "source": [
    "wb = load_workbook(filename=pathExcel, \n",
    "                   read_only=True)\n",
    "try:\n",
    "    ws = wb['PRICE_CORR']\n",
    "except:\n",
    "    ws = wb['SAC_CORR']\n",
    "\n",
    "# Read the cell values into a list of lists\n",
    "data_rows = []\n",
    "for row in ws['A18':'A500']:\n",
    "    data_cols = []\n",
    "    for cell in row:\n",
    "        data_cols.append(cell.value)\n",
    "    data_rows.append(data_cols)\n"
   ]
  },
  {
   "cell_type": "code",
   "execution_count": 22,
   "metadata": {},
   "outputs": [],
   "source": [
    "\n",
    "# Transform into dataframe\n",
    "df = pd.DataFrame(data_rows)\n",
    "df.replace('',np.nan, inplace=True)\n",
    "df = df.dropna()\n",
    "lastRow = len(df) + 17\n",
    "df.columns = ['numParcela']\n",
    "try:\n",
    "    df['numParcela'] = df['numParcela'].replace(\"I\", 0)\n",
    "except:\n",
    "    print('erro')\n",
    "df['numParcela'] = df['numParcela'].astype(int)"
   ]
  },
  {
   "cell_type": "code",
   "execution_count": 23,
   "metadata": {},
   "outputs": [],
   "source": [
    "#Append Data Vencimento\n",
    "date_rows = []\n",
    "for row in ws['B18':f'B{lastRow}']:\n",
    "    date_cols = []\n",
    "    for cell in row:\n",
    "        date_cols.append(cell.value)\n",
    "    date_rows.append(date_cols)\n",
    "\n",
    "df[\"data_vencto\"] = pd.DataFrame(date_rows)"
   ]
  },
  {
   "cell_type": "code",
   "execution_count": 24,
   "metadata": {},
   "outputs": [],
   "source": [
    "#Append Valor Amortização\n",
    "date_rows = []\n",
    "for row in ws['C18':f'C{lastRow}']:\n",
    "    date_cols = []\n",
    "    for cell in row:\n",
    "        date_cols.append(cell.value)\n",
    "    date_rows.append(date_cols)\n",
    "df[\"amortizacao\"] = pd.DataFrame(date_rows)"
   ]
  },
  {
   "cell_type": "code",
   "execution_count": 25,
   "metadata": {},
   "outputs": [],
   "source": [
    "#Append Juros\n",
    "date_rows = []\n",
    "for row in ws['D18':f'D{lastRow}']:\n",
    "    date_cols = []\n",
    "    for cell in row:\n",
    "        date_cols.append(cell.value)\n",
    "    date_rows.append(date_cols)\n",
    "df[\"juros\"] = pd.DataFrame(date_rows)"
   ]
  },
  {
   "cell_type": "code",
   "execution_count": 26,
   "metadata": {},
   "outputs": [],
   "source": [
    "numCCI = \"123456\""
   ]
  },
  {
   "cell_type": "code",
   "execution_count": 27,
   "metadata": {},
   "outputs": [],
   "source": [
    "df['amortizacao'] = df['amortizacao'].replace(np.nan, 0)\n",
    "df['juros'] = df['juros'].replace(np.nan, 0)\n",
    "df['valor_principal'] = round(df['amortizacao'],2)\n",
    "df['valor_futuro'] = round(df['amortizacao']+df['juros'],2)\n",
    "\n",
    "#Valor CCI\n",
    "df['codigo_integracao'] = numCCI\n",
    "\n",
    "#Valores Padrões\n",
    "df['id_tipo_parcela'] = \"2\"\n",
    "df['Aplica_Correcao'] = \"S\"\n",
    "df['Aplica_Juros'] = \"S\"\n",
    "df['periodicidade'] = \"1\""
   ]
  },
  {
   "cell_type": "code",
   "execution_count": 28,
   "metadata": {},
   "outputs": [],
   "source": [
    "df = df[['codigo_integracao', 'data_vencto', 'id_tipo_parcela', 'numParcela', 'valor_principal', 'valor_futuro', 'Aplica_Correcao', 'Aplica_Juros', 'periodicidade']]\n",
    "df['data_vencto'] = pd.to_datetime(df['data_vencto'], format='%d/%m/%y').dt.strftime('%d/%m/%Y')"
   ]
  },
  {
   "cell_type": "code",
   "execution_count": 29,
   "metadata": {},
   "outputs": [],
   "source": [
    "df_remove = df.loc[(df['valor_principal'] == 0)]\n",
    "df = df.drop(df_remove.index)"
   ]
  },
  {
   "cell_type": "code",
   "execution_count": 30,
   "metadata": {},
   "outputs": [
    {
     "data": {
      "text/html": [
       "<div>\n",
       "<style scoped>\n",
       "    .dataframe tbody tr th:only-of-type {\n",
       "        vertical-align: middle;\n",
       "    }\n",
       "\n",
       "    .dataframe tbody tr th {\n",
       "        vertical-align: top;\n",
       "    }\n",
       "\n",
       "    .dataframe thead th {\n",
       "        text-align: right;\n",
       "    }\n",
       "</style>\n",
       "<table border=\"1\" class=\"dataframe\">\n",
       "  <thead>\n",
       "    <tr style=\"text-align: right;\">\n",
       "      <th></th>\n",
       "      <th>codigo_integracao</th>\n",
       "      <th>data_vencto</th>\n",
       "      <th>id_tipo_parcela</th>\n",
       "      <th>numero_parcela</th>\n",
       "      <th>valor_principal</th>\n",
       "      <th>valor_futuro</th>\n",
       "      <th>Aplica_Correcao</th>\n",
       "      <th>Aplica_Juros</th>\n",
       "      <th>periodicidade</th>\n",
       "    </tr>\n",
       "  </thead>\n",
       "  <tbody>\n",
       "    <tr>\n",
       "      <th>2</th>\n",
       "      <td>123456</td>\n",
       "      <td>10/02/2023</td>\n",
       "      <td>2</td>\n",
       "      <td>1/120</td>\n",
       "      <td>2657.60</td>\n",
       "      <td>9920.23</td>\n",
       "      <td>S</td>\n",
       "      <td>S</td>\n",
       "      <td>1</td>\n",
       "    </tr>\n",
       "    <tr>\n",
       "      <th>3</th>\n",
       "      <td>123456</td>\n",
       "      <td>10/03/2023</td>\n",
       "      <td>2</td>\n",
       "      <td>2/120</td>\n",
       "      <td>2686.93</td>\n",
       "      <td>9920.23</td>\n",
       "      <td>S</td>\n",
       "      <td>S</td>\n",
       "      <td>1</td>\n",
       "    </tr>\n",
       "    <tr>\n",
       "      <th>4</th>\n",
       "      <td>123456</td>\n",
       "      <td>10/04/2023</td>\n",
       "      <td>2</td>\n",
       "      <td>3/120</td>\n",
       "      <td>2716.59</td>\n",
       "      <td>9920.23</td>\n",
       "      <td>S</td>\n",
       "      <td>S</td>\n",
       "      <td>1</td>\n",
       "    </tr>\n",
       "    <tr>\n",
       "      <th>5</th>\n",
       "      <td>123456</td>\n",
       "      <td>10/05/2023</td>\n",
       "      <td>2</td>\n",
       "      <td>4/120</td>\n",
       "      <td>2746.57</td>\n",
       "      <td>9920.23</td>\n",
       "      <td>S</td>\n",
       "      <td>S</td>\n",
       "      <td>1</td>\n",
       "    </tr>\n",
       "    <tr>\n",
       "      <th>6</th>\n",
       "      <td>123456</td>\n",
       "      <td>10/06/2023</td>\n",
       "      <td>2</td>\n",
       "      <td>5/120</td>\n",
       "      <td>2776.88</td>\n",
       "      <td>9920.23</td>\n",
       "      <td>S</td>\n",
       "      <td>S</td>\n",
       "      <td>1</td>\n",
       "    </tr>\n",
       "    <tr>\n",
       "      <th>...</th>\n",
       "      <td>...</td>\n",
       "      <td>...</td>\n",
       "      <td>...</td>\n",
       "      <td>...</td>\n",
       "      <td>...</td>\n",
       "      <td>...</td>\n",
       "      <td>...</td>\n",
       "      <td>...</td>\n",
       "      <td>...</td>\n",
       "    </tr>\n",
       "    <tr>\n",
       "      <th>117</th>\n",
       "      <td>123456</td>\n",
       "      <td>10/09/2032</td>\n",
       "      <td>2</td>\n",
       "      <td>116/120</td>\n",
       "      <td>9390.46</td>\n",
       "      <td>9920.23</td>\n",
       "      <td>S</td>\n",
       "      <td>S</td>\n",
       "      <td>1</td>\n",
       "    </tr>\n",
       "    <tr>\n",
       "      <th>118</th>\n",
       "      <td>123456</td>\n",
       "      <td>10/10/2032</td>\n",
       "      <td>2</td>\n",
       "      <td>117/120</td>\n",
       "      <td>9494.10</td>\n",
       "      <td>9920.23</td>\n",
       "      <td>S</td>\n",
       "      <td>S</td>\n",
       "      <td>1</td>\n",
       "    </tr>\n",
       "    <tr>\n",
       "      <th>119</th>\n",
       "      <td>123456</td>\n",
       "      <td>10/11/2032</td>\n",
       "      <td>2</td>\n",
       "      <td>118/120</td>\n",
       "      <td>9598.89</td>\n",
       "      <td>9920.23</td>\n",
       "      <td>S</td>\n",
       "      <td>S</td>\n",
       "      <td>1</td>\n",
       "    </tr>\n",
       "    <tr>\n",
       "      <th>120</th>\n",
       "      <td>123456</td>\n",
       "      <td>10/12/2032</td>\n",
       "      <td>2</td>\n",
       "      <td>119/120</td>\n",
       "      <td>9704.83</td>\n",
       "      <td>9920.23</td>\n",
       "      <td>S</td>\n",
       "      <td>S</td>\n",
       "      <td>1</td>\n",
       "    </tr>\n",
       "    <tr>\n",
       "      <th>121</th>\n",
       "      <td>123456</td>\n",
       "      <td>10/01/2033</td>\n",
       "      <td>2</td>\n",
       "      <td>120/120</td>\n",
       "      <td>9811.94</td>\n",
       "      <td>9920.23</td>\n",
       "      <td>S</td>\n",
       "      <td>S</td>\n",
       "      <td>1</td>\n",
       "    </tr>\n",
       "  </tbody>\n",
       "</table>\n",
       "<p>120 rows × 9 columns</p>\n",
       "</div>"
      ],
      "text/plain": [
       "    codigo_integracao data_vencto id_tipo_parcela numero_parcela  \\\n",
       "2              123456  10/02/2023               2          1/120   \n",
       "3              123456  10/03/2023               2          2/120   \n",
       "4              123456  10/04/2023               2          3/120   \n",
       "5              123456  10/05/2023               2          4/120   \n",
       "6              123456  10/06/2023               2          5/120   \n",
       "..                ...         ...             ...            ...   \n",
       "117            123456  10/09/2032               2        116/120   \n",
       "118            123456  10/10/2032               2        117/120   \n",
       "119            123456  10/11/2032               2        118/120   \n",
       "120            123456  10/12/2032               2        119/120   \n",
       "121            123456  10/01/2033               2        120/120   \n",
       "\n",
       "     valor_principal  valor_futuro Aplica_Correcao Aplica_Juros periodicidade  \n",
       "2            2657.60       9920.23               S            S             1  \n",
       "3            2686.93       9920.23               S            S             1  \n",
       "4            2716.59       9920.23               S            S             1  \n",
       "5            2746.57       9920.23               S            S             1  \n",
       "6            2776.88       9920.23               S            S             1  \n",
       "..               ...           ...             ...          ...           ...  \n",
       "117          9390.46       9920.23               S            S             1  \n",
       "118          9494.10       9920.23               S            S             1  \n",
       "119          9598.89       9920.23               S            S             1  \n",
       "120          9704.83       9920.23               S            S             1  \n",
       "121          9811.94       9920.23               S            S             1  \n",
       "\n",
       "[120 rows x 9 columns]"
      ]
     },
     "execution_count": 30,
     "metadata": {},
     "output_type": "execute_result"
    }
   ],
   "source": [
    "if df['numParcela'].iloc[0] == 2:\n",
    "    df['numParcela'] = df['numParcela'] - 1\n",
    "\n",
    "df['numParcela'] = np.where(df['valor_principal'] >0, df['numParcela'].apply(str)+\"/\"+str(df['numParcela'].iloc[-1]), 0)\n",
    "df = df.rename(columns={'numParcela': 'numero_parcela'})\n",
    "df"
   ]
  },
  {
   "cell_type": "code",
   "execution_count": 16,
   "metadata": {},
   "outputs": [
    {
     "name": "stdout",
     "output_type": "stream",
     "text": [
      "'[{\"codigo_integracao\":\"123456\",\"data_vencto\":\"10/02/2023\",\"id_tipo_parcela\":\"2\",\"numero_parcela\":\"1/120\",\"valor_principal\":2657.6,\"valor_futuro\":9920.23,\"Aplica_Correcao\":\"S\",\"Aplica_Juros\":\"S\",\"periodicidade\":\"1\"},{\"codigo_integracao\":\"123456\",\"data_vencto\":\"10/03/2023\",\"id_tipo_parcela\":\"2\",\"numero_parcela\":\"2/120\",\"valor_principal\":2686.93,\"valor_futuro\":9920.23,\"Aplica_Correcao\":\"S\",\"Aplica_Juros\":\"S\",\"periodicidade\":\"1\"},{\"codigo_integracao\":\"123456\",\"data_vencto\":\"10/04/2023\",\"id_tipo_parcela\":\"2\",\"numero_parcela\":\"3/120\",\"valor_principal\":2716.59,\"valor_futuro\":9920.23,\"Aplica_Correcao\":\"S\",\"Aplica_Juros\":\"S\",\"periodicidade\":\"1\"},{\"codigo_integracao\":\"123456\",\"data_vencto\":\"10/05/2023\",\"id_tipo_parcela\":\"2\",\"numero_parcela\":\"4/120\",\"valor_principal\":2746.57,\"valor_futuro\":9920.23,\"Aplica_Correcao\":\"S\",\"Aplica_Juros\":\"S\",\"periodicidade\":\"1\"},{\"codigo_integracao\":\"123456\",\"data_vencto\":\"10/06/2023\",\"id_tipo_parcela\":\"2\",\"numero_parcela\":\"5/120\",\"valor_principal\":2776.88,\"valor_futuro\":9920.23,\"Aplica_Correcao\":\"S\",\"Aplica_Juros\":\"S\",\"periodicidade\":\"1\"},{\"codigo_integracao\":\"123456\",\"data_vencto\":\"10/07/2023\",\"id_tipo_parcela\":\"2\",\"numero_parcela\":\"6/120\",\"valor_principal\":2807.53,\"valor_futuro\":9920.23,\"Aplica_Correcao\":\"S\",\"Aplica_Juros\":\"S\",\"periodicidade\":\"1\"},{\"codigo_integracao\":\"123456\",\"data_vencto\":\"10/08/2023\",\"id_tipo_parcela\":\"2\",\"numero_parcela\":\"7/120\",\"valor_principal\":2838.52,\"valor_futuro\":9920.23,\"Aplica_Correcao\":\"S\",\"Aplica_Juros\":\"S\",\"periodicidade\":\"1\"},{\"codigo_integracao\":\"123456\",\"data_vencto\":\"10/09/2023\",\"id_tipo_parcela\":\"2\",\"numero_parcela\":\"8/120\",\"valor_principal\":2869.84,\"valor_futuro\":9920.23,\"Aplica_Correcao\":\"S\",\"Aplica_Juros\":\"S\",\"periodicidade\":\"1\"},{\"codigo_integracao\":\"123456\",\"data_vencto\":\"10/10/2023\",\"id_tipo_parcela\":\"2\",\"numero_parcela\":\"9/120\",\"valor_principal\":2901.52,\"valor_futuro\":9920.23,\"Aplica_Correcao\":\"S\",\"Aplica_Juros\":\"S\",\"periodicidade\":\"1\"},{\"codigo_integracao\":\"123456\",\"data_vencto\":\"10/11/2023\",\"id_tipo_parcela\":\"2\",\"numero_parcela\":\"10/120\",\"valor_principal\":2933.54,\"valor_futuro\":9920.23,\"Aplica_Correcao\":\"S\",\"Aplica_Juros\":\"S\",\"periodicidade\":\"1\"},{\"codigo_integracao\":\"123456\",\"data_vencto\":\"10/12/2023\",\"id_tipo_parcela\":\"2\",\"numero_parcela\":\"11/120\",\"valor_principal\":2965.92,\"valor_futuro\":9920.23,\"Aplica_Correcao\":\"S\",\"Aplica_Juros\":\"S\",\"periodicidade\":\"1\"},{\"codigo_integracao\":\"123456\",\"data_vencto\":\"10/01/2024\",\"id_tipo_parcela\":\"2\",\"numero_parcela\":\"12/120\",\"valor_principal\":2998.65,\"valor_futuro\":9920.23,\"Aplica_Correcao\":\"S\",\"Aplica_Juros\":\"S\",\"periodicidade\":\"1\"},{\"codigo_integracao\":\"123456\",\"data_vencto\":\"10/02/2024\",\"id_tipo_parcela\":\"2\",\"numero_parcela\":\"13/120\",\"valor_principal\":3031.75,\"valor_futuro\":9920.23,\"Aplica_Correcao\":\"S\",\"Aplica_Juros\":\"S\",\"periodicidade\":\"1\"},{\"codigo_integracao\":\"123456\",\"data_vencto\":\"10/03/2024\",\"id_tipo_parcela\":\"2\",\"numero_parcela\":\"14/120\",\"valor_principal\":3065.21,\"valor_futuro\":9920.23,\"Aplica_Correcao\":\"S\",\"Aplica_Juros\":\"S\",\"periodicidade\":\"1\"},{\"codigo_integracao\":\"123456\",\"data_vencto\":\"10/04/2024\",\"id_tipo_parcela\":\"2\",\"numero_parcela\":\"15/120\",\"valor_principal\":3099.04,\"valor_futuro\":9920.23,\"Aplica_Correcao\":\"S\",\"Aplica_Juros\":\"S\",\"periodicidade\":\"1\"},{\"codigo_integracao\":\"123456\",\"data_vencto\":\"10/05/2024\",\"id_tipo_parcela\":\"2\",\"numero_parcela\":\"16/120\",\"valor_principal\":3133.24,\"valor_futuro\":9920.23,\"Aplica_Correcao\":\"S\",\"Aplica_Juros\":\"S\",\"periodicidade\":\"1\"},{\"codigo_integracao\":\"123456\",\"data_vencto\":\"10/06/2024\",\"id_tipo_parcela\":\"2\",\"numero_parcela\":\"17/120\",\"valor_principal\":3167.82,\"valor_futuro\":9920.23,\"Aplica_Correcao\":\"S\",\"Aplica_Juros\":\"S\",\"periodicidade\":\"1\"},{\"codigo_integracao\":\"123456\",\"data_vencto\":\"10/07/2024\",\"id_tipo_parcela\":\"2\",\"numero_parcela\":\"18/120\",\"valor_principal\":3202.78,\"valor_futuro\":9920.23,\"Aplica_Correcao\":\"S\",\"Aplica_Juros\":\"S\",\"periodicidade\":\"1\"},{\"codigo_integracao\":\"123456\",\"data_vencto\":\"10/08/2024\",\"id_tipo_parcela\":\"2\",\"numero_parcela\":\"19/120\",\"valor_principal\":3238.13,\"valor_futuro\":9920.23,\"Aplica_Correcao\":\"S\",\"Aplica_Juros\":\"S\",\"periodicidade\":\"1\"},{\"codigo_integracao\":\"123456\",\"data_vencto\":\"10/09/2024\",\"id_tipo_parcela\":\"2\",\"numero_parcela\":\"20/120\",\"valor_principal\":3273.87,\"valor_futuro\":9920.23,\"Aplica_Correcao\":\"S\",\"Aplica_Juros\":\"S\",\"periodicidade\":\"1\"},{\"codigo_integracao\":\"123456\",\"data_vencto\":\"10/10/2024\",\"id_tipo_parcela\":\"2\",\"numero_parcela\":\"21/120\",\"valor_principal\":3310.0,\"valor_futuro\":9920.23,\"Aplica_Correcao\":\"S\",\"Aplica_Juros\":\"S\",\"periodicidade\":\"1\"},{\"codigo_integracao\":\"123456\",\"data_vencto\":\"10/11/2024\",\"id_tipo_parcela\":\"2\",\"numero_parcela\":\"22/120\",\"valor_principal\":3346.54,\"valor_futuro\":9920.23,\"Aplica_Correcao\":\"S\",\"Aplica_Juros\":\"S\",\"periodicidade\":\"1\"},{\"codigo_integracao\":\"123456\",\"data_vencto\":\"10/12/2024\",\"id_tipo_parcela\":\"2\",\"numero_parcela\":\"23/120\",\"valor_principal\":3383.47,\"valor_futuro\":9920.23,\"Aplica_Correcao\":\"S\",\"Aplica_Juros\":\"S\",\"periodicidade\":\"1\"},{\"codigo_integracao\":\"123456\",\"data_vencto\":\"10/01/2025\",\"id_tipo_parcela\":\"2\",\"numero_parcela\":\"24/120\",\"valor_principal\":3420.81,\"valor_futuro\":9920.23,\"Aplica_Correcao\":\"S\",\"Aplica_Juros\":\"S\",\"periodicidade\":\"1\"},{\"codigo_integracao\":\"123456\",\"data_vencto\":\"10/02/2025\",\"id_tipo_parcela\":\"2\",\"numero_parcela\":\"25/120\",\"valor_principal\":3458.57,\"valor_futuro\":9920.23,\"Aplica_Correcao\":\"S\",\"Aplica_Juros\":\"S\",\"periodicidade\":\"1\"},{\"codigo_integracao\":\"123456\",\"data_vencto\":\"10/03/2025\",\"id_tipo_parcela\":\"2\",\"numero_parcela\":\"26/120\",\"valor_principal\":3496.74,\"valor_futuro\":9920.23,\"Aplica_Correcao\":\"S\",\"Aplica_Juros\":\"S\",\"periodicidade\":\"1\"},{\"codigo_integracao\":\"123456\",\"data_vencto\":\"10/04/2025\",\"id_tipo_parcela\":\"2\",\"numero_parcela\":\"27/120\",\"valor_principal\":3535.33,\"valor_futuro\":9920.23,\"Aplica_Correcao\":\"S\",\"Aplica_Juros\":\"S\",\"periodicidade\":\"1\"},{\"codigo_integracao\":\"123456\",\"data_vencto\":\"10/05/2025\",\"id_tipo_parcela\":\"2\",\"numero_parcela\":\"28/120\",\"valor_principal\":3574.35,\"valor_futuro\":9920.23,\"Aplica_Correcao\":\"S\",\"Aplica_Juros\":\"S\",\"periodicidade\":\"1\"},{\"codigo_integracao\":\"123456\",\"data_vencto\":\"10/06/2025\",\"id_tipo_parcela\":\"2\",\"numero_parcela\":\"29/120\",\"valor_principal\":3613.8,\"valor_futuro\":9920.23,\"Aplica_Correcao\":\"S\",\"Aplica_Juros\":\"S\",\"periodicidade\":\"1\"},{\"codigo_integracao\":\"123456\",\"data_vencto\":\"10/07/2025\",\"id_tipo_parcela\":\"2\",\"numero_parcela\":\"30/120\",\"valor_principal\":3653.68,\"valor_futuro\":9920.23,\"Aplica_Correcao\":\"S\",\"Aplica_Juros\":\"S\",\"periodicidade\":\"1\"},{\"codigo_integracao\":\"123456\",\"data_vencto\":\"10/08/2025\",\"id_tipo_parcela\":\"2\",\"numero_parcela\":\"31/120\",\"valor_principal\":3694.01,\"valor_futuro\":9920.23,\"Aplica_Correcao\":\"S\",\"Aplica_Juros\":\"S\",\"periodicidade\":\"1\"},{\"codigo_integracao\":\"123456\",\"data_vencto\":\"10/09/2025\",\"id_tipo_parcela\":\"2\",\"numero_parcela\":\"32/120\",\"valor_principal\":3734.78,\"valor_futuro\":9920.23,\"Aplica_Correcao\":\"S\",\"Aplica_Juros\":\"S\",\"periodicidade\":\"1\"},{\"codigo_integracao\":\"123456\",\"data_vencto\":\"10/10/2025\",\"id_tipo_parcela\":\"2\",\"numero_parcela\":\"33/120\",\"valor_principal\":3776.0,\"valor_futuro\":9920.23,\"Aplica_Correcao\":\"S\",\"Aplica_Juros\":\"S\",\"periodicidade\":\"1\"},{\"codigo_integracao\":\"123456\",\"data_vencto\":\"10/11/2025\",\"id_tipo_parcela\":\"2\",\"numero_parcela\":\"34/120\",\"valor_principal\":3817.67,\"valor_futuro\":9920.23,\"Aplica_Correcao\":\"S\",\"Aplica_Juros\":\"S\",\"periodicidade\":\"1\"},{\"codigo_integracao\":\"123456\",\"data_vencto\":\"10/12/2025\",\"id_tipo_parcela\":\"2\",\"numero_parcela\":\"35/120\",\"valor_principal\":3859.81,\"valor_futuro\":9920.23,\"Aplica_Correcao\":\"S\",\"Aplica_Juros\":\"S\",\"periodicidade\":\"1\"},{\"codigo_integracao\":\"123456\",\"data_vencto\":\"10/01/2026\",\"id_tipo_parcela\":\"2\",\"numero_parcela\":\"36/120\",\"valor_principal\":3902.41,\"valor_futuro\":9920.23,\"Aplica_Correcao\":\"S\",\"Aplica_Juros\":\"S\",\"periodicidade\":\"1\"},{\"codigo_integracao\":\"123456\",\"data_vencto\":\"10/02/2026\",\"id_tipo_parcela\":\"2\",\"numero_parcela\":\"37/120\",\"valor_principal\":3945.48,\"valor_futuro\":9920.23,\"Aplica_Correcao\":\"S\",\"Aplica_Juros\":\"S\",\"periodicidade\":\"1\"},{\"codigo_integracao\":\"123456\",\"data_vencto\":\"10/03/2026\",\"id_tipo_parcela\":\"2\",\"numero_parcela\":\"38/120\",\"valor_principal\":3989.02,\"valor_futuro\":9920.23,\"Aplica_Correcao\":\"S\",\"Aplica_Juros\":\"S\",\"periodicidade\":\"1\"},{\"codigo_integracao\":\"123456\",\"data_vencto\":\"10/04/2026\",\"id_tipo_parcela\":\"2\",\"numero_parcela\":\"39/120\",\"valor_principal\":4033.05,\"valor_futuro\":9920.23,\"Aplica_Correcao\":\"S\",\"Aplica_Juros\":\"S\",\"periodicidade\":\"1\"},{\"codigo_integracao\":\"123456\",\"data_vencto\":\"10/05/2026\",\"id_tipo_parcela\":\"2\",\"numero_parcela\":\"40/120\",\"valor_principal\":4077.56,\"valor_futuro\":9920.23,\"Aplica_Correcao\":\"S\",\"Aplica_Juros\":\"S\",\"periodicidade\":\"1\"},{\"codigo_integracao\":\"123456\",\"data_vencto\":\"10/06/2026\",\"id_tipo_parcela\":\"2\",\"numero_parcela\":\"41/120\",\"valor_principal\":4122.56,\"valor_futuro\":9920.23,\"Aplica_Correcao\":\"S\",\"Aplica_Juros\":\"S\",\"periodicidade\":\"1\"},{\"codigo_integracao\":\"123456\",\"data_vencto\":\"10/07/2026\",\"id_tipo_parcela\":\"2\",\"numero_parcela\":\"42/120\",\"valor_principal\":4168.06,\"valor_futuro\":9920.23,\"Aplica_Correcao\":\"S\",\"Aplica_Juros\":\"S\",\"periodicidade\":\"1\"},{\"codigo_integracao\":\"123456\",\"data_vencto\":\"10/08/2026\",\"id_tipo_parcela\":\"2\",\"numero_parcela\":\"43/120\",\"valor_principal\":4214.06,\"valor_futuro\":9920.23,\"Aplica_Correcao\":\"S\",\"Aplica_Juros\":\"S\",\"periodicidade\":\"1\"},{\"codigo_integracao\":\"123456\",\"data_vencto\":\"10/09/2026\",\"id_tipo_parcela\":\"2\",\"numero_parcela\":\"44/120\",\"valor_principal\":4260.57,\"valor_futuro\":9920.23,\"Aplica_Correcao\":\"S\",\"Aplica_Juros\":\"S\",\"periodicidade\":\"1\"},{\"codigo_integracao\":\"123456\",\"data_vencto\":\"10/10/2026\",\"id_tipo_parcela\":\"2\",\"numero_parcela\":\"45/120\",\"valor_principal\":4307.59,\"valor_futuro\":9920.23,\"Aplica_Correcao\":\"S\",\"Aplica_Juros\":\"S\",\"periodicidade\":\"1\"},{\"codigo_integracao\":\"123456\",\"data_vencto\":\"10/11/2026\",\"id_tipo_parcela\":\"2\",\"numero_parcela\":\"46/120\",\"valor_principal\":4355.14,\"valor_futuro\":9920.23,\"Aplica_Correcao\":\"S\",\"Aplica_Juros\":\"S\",\"periodicidade\":\"1\"},{\"codigo_integracao\":\"123456\",\"data_vencto\":\"10/12/2026\",\"id_tipo_parcela\":\"2\",\"numero_parcela\":\"47/120\",\"valor_principal\":4403.2,\"valor_futuro\":9920.23,\"Aplica_Correcao\":\"S\",\"Aplica_Juros\":\"S\",\"periodicidade\":\"1\"},{\"codigo_integracao\":\"123456\",\"data_vencto\":\"10/01/2027\",\"id_tipo_parcela\":\"2\",\"numero_parcela\":\"48/120\",\"valor_principal\":4451.8,\"valor_futuro\":9920.23,\"Aplica_Correcao\":\"S\",\"Aplica_Juros\":\"S\",\"periodicidade\":\"1\"},{\"codigo_integracao\":\"123456\",\"data_vencto\":\"10/02/2027\",\"id_tipo_parcela\":\"2\",\"numero_parcela\":\"49/120\",\"valor_principal\":4500.93,\"valor_futuro\":9920.23,\"Aplica_Correcao\":\"S\",\"Aplica_Juros\":\"S\",\"periodicidade\":\"1\"},{\"codigo_integracao\":\"123456\",\"data_vencto\":\"10/03/2027\",\"id_tipo_parcela\":\"2\",\"numero_parcela\":\"50/120\",\"valor_principal\":4550.61,\"valor_futuro\":9920.23,\"Aplica_Correcao\":\"S\",\"Aplica_Juros\":\"S\",\"periodicidade\":\"1\"},{\"codigo_integracao\":\"123456\",\"data_vencto\":\"10/04/2027\",\"id_tipo_parcela\":\"2\",\"numero_parcela\":\"51/120\",\"valor_principal\":4600.83,\"valor_futuro\":9920.23,\"Aplica_Correcao\":\"S\",\"Aplica_Juros\":\"S\",\"periodicidade\":\"1\"},{\"codigo_integracao\":\"123456\",\"data_vencto\":\"10/05/2027\",\"id_tipo_parcela\":\"2\",\"numero_parcela\":\"52/120\",\"valor_principal\":4651.61,\"valor_futuro\":9920.23,\"Aplica_Correcao\":\"S\",\"Aplica_Juros\":\"S\",\"periodicidade\":\"1\"},{\"codigo_integracao\":\"123456\",\"data_vencto\":\"10/06/2027\",\"id_tipo_parcela\":\"2\",\"numero_parcela\":\"53/120\",\"valor_principal\":4702.95,\"valor_futuro\":9920.23,\"Aplica_Correcao\":\"S\",\"Aplica_Juros\":\"S\",\"periodicidade\":\"1\"},{\"codigo_integracao\":\"123456\",\"data_vencto\":\"10/07/2027\",\"id_tipo_parcela\":\"2\",\"numero_parcela\":\"54/120\",\"valor_principal\":4754.85,\"valor_futuro\":9920.23,\"Aplica_Correcao\":\"S\",\"Aplica_Juros\":\"S\",\"periodicidade\":\"1\"},{\"codigo_integracao\":\"123456\",\"data_vencto\":\"10/08/2027\",\"id_tipo_parcela\":\"2\",\"numero_parcela\":\"55/120\",\"valor_principal\":4807.33,\"valor_futuro\":9920.23,\"Aplica_Correcao\":\"S\",\"Aplica_Juros\":\"S\",\"periodicidade\":\"1\"},{\"codigo_integracao\":\"123456\",\"data_vencto\":\"10/09/2027\",\"id_tipo_parcela\":\"2\",\"numero_parcela\":\"56/120\",\"valor_principal\":4860.39,\"valor_futuro\":9920.23,\"Aplica_Correcao\":\"S\",\"Aplica_Juros\":\"S\",\"periodicidade\":\"1\"},{\"codigo_integracao\":\"123456\",\"data_vencto\":\"10/10/2027\",\"id_tipo_parcela\":\"2\",\"numero_parcela\":\"57/120\",\"valor_principal\":4914.03,\"valor_futuro\":9920.23,\"Aplica_Correcao\":\"S\",\"Aplica_Juros\":\"S\",\"periodicidade\":\"1\"},{\"codigo_integracao\":\"123456\",\"data_vencto\":\"10/11/2027\",\"id_tipo_parcela\":\"2\",\"numero_parcela\":\"58/120\",\"valor_principal\":4968.27,\"valor_futuro\":9920.23,\"Aplica_Correcao\":\"S\",\"Aplica_Juros\":\"S\",\"periodicidade\":\"1\"},{\"codigo_integracao\":\"123456\",\"data_vencto\":\"10/12/2027\",\"id_tipo_parcela\":\"2\",\"numero_parcela\":\"59/120\",\"valor_principal\":5023.1,\"valor_futuro\":9920.23,\"Aplica_Correcao\":\"S\",\"Aplica_Juros\":\"S\",\"periodicidade\":\"1\"},{\"codigo_integracao\":\"123456\",\"data_vencto\":\"10/01/2028\",\"id_tipo_parcela\":\"2\",\"numero_parcela\":\"60/120\",\"valor_principal\":5078.54,\"valor_futuro\":9920.23,\"Aplica_Correcao\":\"S\",\"Aplica_Juros\":\"S\",\"periodicidade\":\"1\"},{\"codigo_integracao\":\"123456\",\"data_vencto\":\"10/02/2028\",\"id_tipo_parcela\":\"2\",\"numero_parcela\":\"61/120\",\"valor_principal\":5134.59,\"valor_futuro\":9920.23,\"Aplica_Correcao\":\"S\",\"Aplica_Juros\":\"S\",\"periodicidade\":\"1\"},{\"codigo_integracao\":\"123456\",\"data_vencto\":\"10/03/2028\",\"id_tipo_parcela\":\"2\",\"numero_parcela\":\"62/120\",\"valor_principal\":5191.26,\"valor_futuro\":9920.23,\"Aplica_Correcao\":\"S\",\"Aplica_Juros\":\"S\",\"periodicidade\":\"1\"},{\"codigo_integracao\":\"123456\",\"data_vencto\":\"10/04/2028\",\"id_tipo_parcela\":\"2\",\"numero_parcela\":\"63/120\",\"valor_principal\":5248.55,\"valor_futuro\":9920.23,\"Aplica_Correcao\":\"S\",\"Aplica_Juros\":\"S\",\"periodicidade\":\"1\"},{\"codigo_integracao\":\"123456\",\"data_vencto\":\"10/05/2028\",\"id_tipo_parcela\":\"2\",\"numero_parcela\":\"64/120\",\"valor_principal\":5306.48,\"valor_futuro\":9920.23,\"Aplica_Correcao\":\"S\",\"Aplica_Juros\":\"S\",\"periodicidade\":\"1\"},{\"codigo_integracao\":\"123456\",\"data_vencto\":\"10/06/2028\",\"id_tipo_parcela\":\"2\",\"numero_parcela\":\"65/120\",\"valor_principal\":5365.05,\"valor_futuro\":9920.23,\"Aplica_Correcao\":\"S\",\"Aplica_Juros\":\"S\",\"periodicidade\":\"1\"},{\"codigo_integracao\":\"123456\",\"data_vencto\":\"10/07/2028\",\"id_tipo_parcela\":\"2\",\"numero_parcela\":\"66/120\",\"valor_principal\":5424.26,\"valor_futuro\":9920.23,\"Aplica_Correcao\":\"S\",\"Aplica_Juros\":\"S\",\"periodicidade\":\"1\"},{\"codigo_integracao\":\"123456\",\"data_vencto\":\"10/08/2028\",\"id_tipo_parcela\":\"2\",\"numero_parcela\":\"67/120\",\"valor_principal\":5484.12,\"valor_futuro\":9920.23,\"Aplica_Correcao\":\"S\",\"Aplica_Juros\":\"S\",\"periodicidade\":\"1\"},{\"codigo_integracao\":\"123456\",\"data_vencto\":\"10/09/2028\",\"id_tipo_parcela\":\"2\",\"numero_parcela\":\"68/120\",\"valor_principal\":5544.65,\"valor_futuro\":9920.23,\"Aplica_Correcao\":\"S\",\"Aplica_Juros\":\"S\",\"periodicidade\":\"1\"},{\"codigo_integracao\":\"123456\",\"data_vencto\":\"10/10/2028\",\"id_tipo_parcela\":\"2\",\"numero_parcela\":\"69/120\",\"valor_principal\":5605.85,\"valor_futuro\":9920.23,\"Aplica_Correcao\":\"S\",\"Aplica_Juros\":\"S\",\"periodicidade\":\"1\"},{\"codigo_integracao\":\"123456\",\"data_vencto\":\"10/11/2028\",\"id_tipo_parcela\":\"2\",\"numero_parcela\":\"70/120\",\"valor_principal\":5667.72,\"valor_futuro\":9920.23,\"Aplica_Correcao\":\"S\",\"Aplica_Juros\":\"S\",\"periodicidade\":\"1\"},{\"codigo_integracao\":\"123456\",\"data_vencto\":\"10/12/2028\",\"id_tipo_parcela\":\"2\",\"numero_parcela\":\"71/120\",\"valor_principal\":5730.27,\"valor_futuro\":9920.23,\"Aplica_Correcao\":\"S\",\"Aplica_Juros\":\"S\",\"periodicidade\":\"1\"},{\"codigo_integracao\":\"123456\",\"data_vencto\":\"10/01/2029\",\"id_tipo_parcela\":\"2\",\"numero_parcela\":\"72/120\",\"valor_principal\":5793.51,\"valor_futuro\":9920.23,\"Aplica_Correcao\":\"S\",\"Aplica_Juros\":\"S\",\"periodicidade\":\"1\"},{\"codigo_integracao\":\"123456\",\"data_vencto\":\"10/02/2029\",\"id_tipo_parcela\":\"2\",\"numero_parcela\":\"73/120\",\"valor_principal\":5857.45,\"valor_futuro\":9920.23,\"Aplica_Correcao\":\"S\",\"Aplica_Juros\":\"S\",\"periodicidade\":\"1\"},{\"codigo_integracao\":\"123456\",\"data_vencto\":\"10/03/2029\",\"id_tipo_parcela\":\"2\",\"numero_parcela\":\"74/120\",\"valor_principal\":5922.1,\"valor_futuro\":9920.23,\"Aplica_Correcao\":\"S\",\"Aplica_Juros\":\"S\",\"periodicidade\":\"1\"},{\"codigo_integracao\":\"123456\",\"data_vencto\":\"10/04/2029\",\"id_tipo_parcela\":\"2\",\"numero_parcela\":\"75/120\",\"valor_principal\":5987.46,\"valor_futuro\":9920.23,\"Aplica_Correcao\":\"S\",\"Aplica_Juros\":\"S\",\"periodicidade\":\"1\"},{\"codigo_integracao\":\"123456\",\"data_vencto\":\"10/05/2029\",\"id_tipo_parcela\":\"2\",\"numero_parcela\":\"76/120\",\"valor_principal\":6053.54,\"valor_futuro\":9920.23,\"Aplica_Correcao\":\"S\",\"Aplica_Juros\":\"S\",\"periodicidade\":\"1\"},{\"codigo_integracao\":\"123456\",\"data_vencto\":\"10/06/2029\",\"id_tipo_parcela\":\"2\",\"numero_parcela\":\"77/120\",\"valor_principal\":6120.36,\"valor_futuro\":9920.23,\"Aplica_Correcao\":\"S\",\"Aplica_Juros\":\"S\",\"periodicidade\":\"1\"},{\"codigo_integracao\":\"123456\",\"data_vencto\":\"10/07/2029\",\"id_tipo_parcela\":\"2\",\"numero_parcela\":\"78/120\",\"valor_principal\":6187.9,\"valor_futuro\":9920.23,\"Aplica_Correcao\":\"S\",\"Aplica_Juros\":\"S\",\"periodicidade\":\"1\"},{\"codigo_integracao\":\"123456\",\"data_vencto\":\"10/08/2029\",\"id_tipo_parcela\":\"2\",\"numero_parcela\":\"79/120\",\"valor_principal\":6256.2,\"valor_futuro\":9920.23,\"Aplica_Correcao\":\"S\",\"Aplica_Juros\":\"S\",\"periodicidade\":\"1\"},{\"codigo_integracao\":\"123456\",\"data_vencto\":\"10/09/2029\",\"id_tipo_parcela\":\"2\",\"numero_parcela\":\"80/120\",\"valor_principal\":6325.25,\"valor_futuro\":9920.23,\"Aplica_Correcao\":\"S\",\"Aplica_Juros\":\"S\",\"periodicidade\":\"1\"},{\"codigo_integracao\":\"123456\",\"data_vencto\":\"10/10/2029\",\"id_tipo_parcela\":\"2\",\"numero_parcela\":\"81/120\",\"valor_principal\":6395.06,\"valor_futuro\":9920.23,\"Aplica_Correcao\":\"S\",\"Aplica_Juros\":\"S\",\"periodicidade\":\"1\"},{\"codigo_integracao\":\"123456\",\"data_vencto\":\"10/11/2029\",\"id_tipo_parcela\":\"2\",\"numero_parcela\":\"82/120\",\"valor_principal\":6465.64,\"valor_futuro\":9920.23,\"Aplica_Correcao\":\"S\",\"Aplica_Juros\":\"S\",\"periodicidade\":\"1\"},{\"codigo_integracao\":\"123456\",\"data_vencto\":\"10/12/2029\",\"id_tipo_parcela\":\"2\",\"numero_parcela\":\"83/120\",\"valor_principal\":6537.0,\"valor_futuro\":9920.23,\"Aplica_Correcao\":\"S\",\"Aplica_Juros\":\"S\",\"periodicidade\":\"1\"},{\"codigo_integracao\":\"123456\",\"data_vencto\":\"10/01/2030\",\"id_tipo_parcela\":\"2\",\"numero_parcela\":\"84/120\",\"valor_principal\":6609.14,\"valor_futuro\":9920.23,\"Aplica_Correcao\":\"S\",\"Aplica_Juros\":\"S\",\"periodicidade\":\"1\"},{\"codigo_integracao\":\"123456\",\"data_vencto\":\"10/02/2030\",\"id_tipo_parcela\":\"2\",\"numero_parcela\":\"85/120\",\"valor_principal\":6682.09,\"valor_futuro\":9920.23,\"Aplica_Correcao\":\"S\",\"Aplica_Juros\":\"S\",\"periodicidade\":\"1\"},{\"codigo_integracao\":\"123456\",\"data_vencto\":\"10/03/2030\",\"id_tipo_parcela\":\"2\",\"numero_parcela\":\"86/120\",\"valor_principal\":6755.84,\"valor_futuro\":9920.23,\"Aplica_Correcao\":\"S\",\"Aplica_Juros\":\"S\",\"periodicidade\":\"1\"},{\"codigo_integracao\":\"123456\",\"data_vencto\":\"10/04/2030\",\"id_tipo_parcela\":\"2\",\"numero_parcela\":\"87/120\",\"valor_principal\":6830.4,\"valor_futuro\":9920.23,\"Aplica_Correcao\":\"S\",\"Aplica_Juros\":\"S\",\"periodicidade\":\"1\"},{\"codigo_integracao\":\"123456\",\"data_vencto\":\"10/05/2030\",\"id_tipo_parcela\":\"2\",\"numero_parcela\":\"88/120\",\"valor_principal\":6905.78,\"valor_futuro\":9920.23,\"Aplica_Correcao\":\"S\",\"Aplica_Juros\":\"S\",\"periodicidade\":\"1\"},{\"codigo_integracao\":\"123456\",\"data_vencto\":\"10/06/2030\",\"id_tipo_parcela\":\"2\",\"numero_parcela\":\"89/120\",\"valor_principal\":6982.0,\"valor_futuro\":9920.23,\"Aplica_Correcao\":\"S\",\"Aplica_Juros\":\"S\",\"periodicidade\":\"1\"},{\"codigo_integracao\":\"123456\",\"data_vencto\":\"10/07/2030\",\"id_tipo_parcela\":\"2\",\"numero_parcela\":\"90/120\",\"valor_principal\":7059.06,\"valor_futuro\":9920.23,\"Aplica_Correcao\":\"S\",\"Aplica_Juros\":\"S\",\"periodicidade\":\"1\"},{\"codigo_integracao\":\"123456\",\"data_vencto\":\"10/08/2030\",\"id_tipo_parcela\":\"2\",\"numero_parcela\":\"91/120\",\"valor_principal\":7136.97,\"valor_futuro\":9920.23,\"Aplica_Correcao\":\"S\",\"Aplica_Juros\":\"S\",\"periodicidade\":\"1\"},{\"codigo_integracao\":\"123456\",\"data_vencto\":\"10/09/2030\",\"id_tipo_parcela\":\"2\",\"numero_parcela\":\"92/120\",\"valor_principal\":7215.74,\"valor_futuro\":9920.23,\"Aplica_Correcao\":\"S\",\"Aplica_Juros\":\"S\",\"periodicidade\":\"1\"},{\"codigo_integracao\":\"123456\",\"data_vencto\":\"10/10/2030\",\"id_tipo_parcela\":\"2\",\"numero_parcela\":\"93/120\",\"valor_principal\":7295.37,\"valor_futuro\":9920.23,\"Aplica_Correcao\":\"S\",\"Aplica_Juros\":\"S\",\"periodicidade\":\"1\"},{\"codigo_integracao\":\"123456\",\"data_vencto\":\"10/11/2030\",\"id_tipo_parcela\":\"2\",\"numero_parcela\":\"94/120\",\"valor_principal\":7375.89,\"valor_futuro\":9920.23,\"Aplica_Correcao\":\"S\",\"Aplica_Juros\":\"S\",\"periodicidade\":\"1\"},{\"codigo_integracao\":\"123456\",\"data_vencto\":\"10/12/2030\",\"id_tipo_parcela\":\"2\",\"numero_parcela\":\"95/120\",\"valor_principal\":7457.3,\"valor_futuro\":9920.23,\"Aplica_Correcao\":\"S\",\"Aplica_Juros\":\"S\",\"periodicidade\":\"1\"},{\"codigo_integracao\":\"123456\",\"data_vencto\":\"10/01/2031\",\"id_tipo_parcela\":\"2\",\"numero_parcela\":\"96/120\",\"valor_principal\":7539.6,\"valor_futuro\":9920.23,\"Aplica_Correcao\":\"S\",\"Aplica_Juros\":\"S\",\"periodicidade\":\"1\"},{\"codigo_integracao\":\"123456\",\"data_vencto\":\"10/02/2031\",\"id_tipo_parcela\":\"2\",\"numero_parcela\":\"97/120\",\"valor_principal\":7622.81,\"valor_futuro\":9920.23,\"Aplica_Correcao\":\"S\",\"Aplica_Juros\":\"S\",\"periodicidade\":\"1\"},{\"codigo_integracao\":\"123456\",\"data_vencto\":\"10/03/2031\",\"id_tipo_parcela\":\"2\",\"numero_parcela\":\"98/120\",\"valor_principal\":7706.94,\"valor_futuro\":9920.23,\"Aplica_Correcao\":\"S\",\"Aplica_Juros\":\"S\",\"periodicidade\":\"1\"},{\"codigo_integracao\":\"123456\",\"data_vencto\":\"10/04/2031\",\"id_tipo_parcela\":\"2\",\"numero_parcela\":\"99/120\",\"valor_principal\":7792.0,\"valor_futuro\":9920.23,\"Aplica_Correcao\":\"S\",\"Aplica_Juros\":\"S\",\"periodicidade\":\"1\"},{\"codigo_integracao\":\"123456\",\"data_vencto\":\"10/05/2031\",\"id_tipo_parcela\":\"2\",\"numero_parcela\":\"100/120\",\"valor_principal\":7878.0,\"valor_futuro\":9920.23,\"Aplica_Correcao\":\"S\",\"Aplica_Juros\":\"S\",\"periodicidade\":\"1\"},{\"codigo_integracao\":\"123456\",\"data_vencto\":\"10/06/2031\",\"id_tipo_parcela\":\"2\",\"numero_parcela\":\"101/120\",\"valor_principal\":7964.95,\"valor_futuro\":9920.23,\"Aplica_Correcao\":\"S\",\"Aplica_Juros\":\"S\",\"periodicidade\":\"1\"},{\"codigo_integracao\":\"123456\",\"data_vencto\":\"10/07/2031\",\"id_tipo_parcela\":\"2\",\"numero_parcela\":\"102/120\",\"valor_principal\":8052.86,\"valor_futuro\":9920.23,\"Aplica_Correcao\":\"S\",\"Aplica_Juros\":\"S\",\"periodicidade\":\"1\"},{\"codigo_integracao\":\"123456\",\"data_vencto\":\"10/08/2031\",\"id_tipo_parcela\":\"2\",\"numero_parcela\":\"103/120\",\"valor_principal\":8141.73,\"valor_futuro\":9920.23,\"Aplica_Correcao\":\"S\",\"Aplica_Juros\":\"S\",\"periodicidade\":\"1\"},{\"codigo_integracao\":\"123456\",\"data_vencto\":\"10/09/2031\",\"id_tipo_parcela\":\"2\",\"numero_parcela\":\"104/120\",\"valor_principal\":8231.59,\"valor_futuro\":9920.23,\"Aplica_Correcao\":\"S\",\"Aplica_Juros\":\"S\",\"periodicidade\":\"1\"},{\"codigo_integracao\":\"123456\",\"data_vencto\":\"10/10/2031\",\"id_tipo_parcela\":\"2\",\"numero_parcela\":\"105/120\",\"valor_principal\":8322.44,\"valor_futuro\":9920.23,\"Aplica_Correcao\":\"S\",\"Aplica_Juros\":\"S\",\"periodicidade\":\"1\"},{\"codigo_integracao\":\"123456\",\"data_vencto\":\"10/11/2031\",\"id_tipo_parcela\":\"2\",\"numero_parcela\":\"106/120\",\"valor_principal\":8414.29,\"valor_futuro\":9920.23,\"Aplica_Correcao\":\"S\",\"Aplica_Juros\":\"S\",\"periodicidade\":\"1\"},{\"codigo_integracao\":\"123456\",\"data_vencto\":\"10/12/2031\",\"id_tipo_parcela\":\"2\",\"numero_parcela\":\"107/120\",\"valor_principal\":8507.16,\"valor_futuro\":9920.23,\"Aplica_Correcao\":\"S\",\"Aplica_Juros\":\"S\",\"periodicidade\":\"1\"},{\"codigo_integracao\":\"123456\",\"data_vencto\":\"10/01/2032\",\"id_tipo_parcela\":\"2\",\"numero_parcela\":\"108/120\",\"valor_principal\":8601.05,\"valor_futuro\":9920.23,\"Aplica_Correcao\":\"S\",\"Aplica_Juros\":\"S\",\"periodicidade\":\"1\"},{\"codigo_integracao\":\"123456\",\"data_vencto\":\"10/02/2032\",\"id_tipo_parcela\":\"2\",\"numero_parcela\":\"109/120\",\"valor_principal\":8695.98,\"valor_futuro\":9920.23,\"Aplica_Correcao\":\"S\",\"Aplica_Juros\":\"S\",\"periodicidade\":\"1\"},{\"codigo_integracao\":\"123456\",\"data_vencto\":\"10/03/2032\",\"id_tipo_parcela\":\"2\",\"numero_parcela\":\"110/120\",\"valor_principal\":8791.95,\"valor_futuro\":9920.23,\"Aplica_Correcao\":\"S\",\"Aplica_Juros\":\"S\",\"periodicidade\":\"1\"},{\"codigo_integracao\":\"123456\",\"data_vencto\":\"10/04/2032\",\"id_tipo_parcela\":\"2\",\"numero_parcela\":\"111/120\",\"valor_principal\":8888.99,\"valor_futuro\":9920.23,\"Aplica_Correcao\":\"S\",\"Aplica_Juros\":\"S\",\"periodicidade\":\"1\"},{\"codigo_integracao\":\"123456\",\"data_vencto\":\"10/05/2032\",\"id_tipo_parcela\":\"2\",\"numero_parcela\":\"112/120\",\"valor_principal\":8987.09,\"valor_futuro\":9920.23,\"Aplica_Correcao\":\"S\",\"Aplica_Juros\":\"S\",\"periodicidade\":\"1\"},{\"codigo_integracao\":\"123456\",\"data_vencto\":\"10/06/2032\",\"id_tipo_parcela\":\"2\",\"numero_parcela\":\"113/120\",\"valor_principal\":9086.28,\"valor_futuro\":9920.23,\"Aplica_Correcao\":\"S\",\"Aplica_Juros\":\"S\",\"periodicidade\":\"1\"},{\"codigo_integracao\":\"123456\",\"data_vencto\":\"10/07/2032\",\"id_tipo_parcela\":\"2\",\"numero_parcela\":\"114/120\",\"valor_principal\":9186.56,\"valor_futuro\":9920.23,\"Aplica_Correcao\":\"S\",\"Aplica_Juros\":\"S\",\"periodicidade\":\"1\"},{\"codigo_integracao\":\"123456\",\"data_vencto\":\"10/08/2032\",\"id_tipo_parcela\":\"2\",\"numero_parcela\":\"115/120\",\"valor_principal\":9287.95,\"valor_futuro\":9920.23,\"Aplica_Correcao\":\"S\",\"Aplica_Juros\":\"S\",\"periodicidade\":\"1\"},{\"codigo_integracao\":\"123456\",\"data_vencto\":\"10/09/2032\",\"id_tipo_parcela\":\"2\",\"numero_parcela\":\"116/120\",\"valor_principal\":9390.46,\"valor_futuro\":9920.23,\"Aplica_Correcao\":\"S\",\"Aplica_Juros\":\"S\",\"periodicidade\":\"1\"},{\"codigo_integracao\":\"123456\",\"data_vencto\":\"10/10/2032\",\"id_tipo_parcela\":\"2\",\"numero_parcela\":\"117/120\",\"valor_principal\":9494.1,\"valor_futuro\":9920.23,\"Aplica_Correcao\":\"S\",\"Aplica_Juros\":\"S\",\"periodicidade\":\"1\"},{\"codigo_integracao\":\"123456\",\"data_vencto\":\"10/11/2032\",\"id_tipo_parcela\":\"2\",\"numero_parcela\":\"118/120\",\"valor_principal\":9598.89,\"valor_futuro\":9920.23,\"Aplica_Correcao\":\"S\",\"Aplica_Juros\":\"S\",\"periodicidade\":\"1\"},{\"codigo_integracao\":\"123456\",\"data_vencto\":\"10/12/2032\",\"id_tipo_parcela\":\"2\",\"numero_parcela\":\"119/120\",\"valor_principal\":9704.83,\"valor_futuro\":9920.23,\"Aplica_Correcao\":\"S\",\"Aplica_Juros\":\"S\",\"periodicidade\":\"1\"},{\"codigo_integracao\":\"123456\",\"data_vencto\":\"10/01/2033\",\"id_tipo_parcela\":\"2\",\"numero_parcela\":\"120/120\",\"valor_principal\":9811.94,\"valor_futuro\":9920.23,\"Aplica_Correcao\":\"S\",\"Aplica_Juros\":\"S\",\"periodicidade\":\"1\"}]'\n"
     ]
    }
   ],
   "source": [
    "import pprint\n",
    "jsonTeste = df.to_json(orient='records').replace(\"\\\\/\", str('/'))\n",
    "pprint.pprint(jsonTeste)"
   ]
  },
  {
   "cell_type": "code",
   "execution_count": 14,
   "metadata": {},
   "outputs": [],
   "source": [
    "#Valores Cálculo Fluxo\n",
    "dict_values = {'valorBrutoCF':\"\", 'tabelaCF': '', 'IOFCF':'', 'TACCF': '', 'valorRegistroCF': '', 'valorLiquidoCF': '', 'prazoMesesCF': '', 'taxaMesCF': '', 'primeiraParcelaCF':'',\n",
    "                'valorImovelCF': '', 'carenciaCF': '', 'mesPularParcelaCF':'', 'CETCF':'', 'prazoContratoCF': ''\n",
    "                }\n",
    "\n",
    "#Transformar KEYS em lista\n",
    "listKey =  list(dict_values.keys())\n",
    "i = 0 \n",
    "\n",
    "for row in ws['C2':'C15']:\n",
    "    for cell in row:\n",
    "        #Definição de valor da chave\n",
    "        keyValue = listKey[i]\n",
    "        i+=1\n",
    "\n",
    "        valorCelula = cell.value\n",
    "\n",
    "        if type(valorCelula) == float:\n",
    "            valorCelula = round(valorCelula, 2)\n",
    "\n",
    "        dict_values[keyValue] = valorCelula\n",
    "\n"
   ]
  },
  {
   "cell_type": "code",
   "execution_count": 15,
   "metadata": {},
   "outputs": [
    {
     "data": {
      "text/plain": [
       "{'valorBrutoCF': 651751.35,\n",
       " 'tabelaCF': 'Price',\n",
       " 'IOFCF': 21597.03,\n",
       " 'TACCF': 24000,\n",
       " 'valorRegistroCF': 6154.32,\n",
       " 'valorLiquidoCF': 600000,\n",
       " 'prazoMesesCF': 120,\n",
       " 'taxaMesCF': 0.01,\n",
       " 'primeiraParcelaCF': 10184.28,\n",
       " 'valorImovelCF': 2726000,\n",
       " 'carenciaCF': 0,\n",
       " 'mesPularParcelaCF': 0,\n",
       " 'CETCF': 0.18,\n",
       " 'prazoContratoCF': 120}"
      ]
     },
     "execution_count": 15,
     "metadata": {},
     "output_type": "execute_result"
    }
   ],
   "source": [
    "dict_values"
   ]
  },
  {
   "cell_type": "code",
   "execution_count": null,
   "metadata": {},
   "outputs": [],
   "source": []
  }
 ],
 "metadata": {
  "kernelspec": {
   "display_name": "Python 3.10.8 64-bit",
   "language": "python",
   "name": "python3"
  },
  "language_info": {
   "codemirror_mode": {
    "name": "ipython",
    "version": 3
   },
   "file_extension": ".py",
   "mimetype": "text/x-python",
   "name": "python",
   "nbconvert_exporter": "python",
   "pygments_lexer": "ipython3",
   "version": "3.10.8"
  },
  "orig_nbformat": 4,
  "vscode": {
   "interpreter": {
    "hash": "4f23259cc4a989149ceb318427fe09b9530d16c787809bc42dd4da82aeda726e"
   }
  }
 },
 "nbformat": 4,
 "nbformat_minor": 2
}
