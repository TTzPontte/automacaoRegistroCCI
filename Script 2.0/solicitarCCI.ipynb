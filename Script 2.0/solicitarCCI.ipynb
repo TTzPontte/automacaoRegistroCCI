{
 "cells": [
  {
   "cell_type": "code",
   "execution_count": 1,
   "metadata": {},
   "outputs": [],
   "source": [
    "### Bibliotecas ###\n",
    "from selenium import webdriver\n",
    "from selenium.webdriver.common.keys import Keys\n",
    "from selenium.webdriver.chrome.options import Options\n",
    "from time import sleep\n"
   ]
  },
  {
   "cell_type": "code",
   "execution_count": 2,
   "metadata": {},
   "outputs": [
    {
     "name": "stderr",
     "output_type": "stream",
     "text": [
      "C:\\Users\\Mathe\\AppData\\Local\\Temp\\ipykernel_15356\\2959891519.py:2: DeprecationWarning: executable_path has been deprecated, please pass in a Service object\n",
      "  driver = webdriver.Chrome(executable_path=r'G:\\Drives compartilhados\\Pontte\\Operações\\Automações\\Scripts\\Pontte\\Driver\\chromedriver.exe')\n"
     ]
    }
   ],
   "source": [
    "# ChromeDriver\n",
    "driver = webdriver.Chrome(executable_path=r'G:\\Drives compartilhados\\Pontte\\Operações\\Automações\\Scripts\\Pontte\\Driver\\chromedriver.exe')\n",
    "chrome_options = Options()\n",
    "chrome_options.add_experimental_option(\"detach\", True)\n"
   ]
  },
  {
   "cell_type": "code",
   "execution_count": 3,
   "metadata": {},
   "outputs": [],
   "source": [
    "# Abrir Link do Front-End\n",
    "driver.get('https://srv1.aztronic.com.br/az/collect/init.asp')\n",
    "sleep(5)"
   ]
  },
  {
   "cell_type": "code",
   "execution_count": null,
   "metadata": {},
   "outputs": [],
   "source": []
  }
 ],
 "metadata": {
  "kernelspec": {
   "display_name": "Python 3",
   "language": "python",
   "name": "python3"
  },
  "language_info": {
   "codemirror_mode": {
    "name": "ipython",
    "version": 3
   },
   "file_extension": ".py",
   "mimetype": "text/x-python",
   "name": "python",
   "nbconvert_exporter": "python",
   "pygments_lexer": "ipython3",
   "version": "3.10.8 (tags/v3.10.8:aaaf517, Oct 11 2022, 16:50:30) [MSC v.1933 64 bit (AMD64)]"
  },
  "orig_nbformat": 4,
  "vscode": {
   "interpreter": {
    "hash": "4f23259cc4a989149ceb318427fe09b9530d16c787809bc42dd4da82aeda726e"
   }
  }
 },
 "nbformat": 4,
 "nbformat_minor": 2
}
