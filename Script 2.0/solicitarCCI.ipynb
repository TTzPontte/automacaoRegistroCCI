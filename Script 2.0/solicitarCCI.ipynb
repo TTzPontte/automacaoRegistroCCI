{
 "cells": [
  {
   "cell_type": "code",
   "execution_count": 1,
   "metadata": {},
   "outputs": [],
   "source": [
    "### Bibliotecas ###\n",
    "from selenium import webdriver\n",
    "from selenium.webdriver.common.keys import Keys\n",
    "from selenium.webdriver.chrome.options import Options\n",
    "from time import sleep\n"
   ]
  },
  {
   "cell_type": "code",
   "execution_count": 16,
   "metadata": {},
   "outputs": [
    {
     "name": "stderr",
     "output_type": "stream",
     "text": [
      "C:\\Users\\Mathe\\AppData\\Local\\Temp\\ipykernel_9628\\2959891519.py:2: DeprecationWarning: executable_path has been deprecated, please pass in a Service object\n",
      "  driver = webdriver.Chrome(executable_path=r'G:\\Drives compartilhados\\Pontte\\Operações\\Automações\\Scripts\\Pontte\\Driver\\chromedriver.exe')\n"
     ]
    }
   ],
   "source": [
    "# ChromeDriver\n",
    "driver = webdriver.Chrome(executable_path=r'G:\\Drives compartilhados\\Pontte\\Operações\\Automações\\Scripts\\Pontte\\Driver\\chromedriver.exe')\n",
    "chrome_options = Options()\n",
    "chrome_options.add_experimental_option(\"detach\", True)\n"
   ]
  },
  {
   "cell_type": "code",
   "execution_count": 17,
   "metadata": {},
   "outputs": [],
   "source": [
    "# Abrir Link do Front-End\n",
    "driver.get('https://srv1.aztronic.com.br/az/collect/init.asp')\n",
    "sleep(2)"
   ]
  },
  {
   "cell_type": "code",
   "execution_count": 18,
   "metadata": {},
   "outputs": [],
   "source": [
    "#Inserir Login e Senha\n",
    "driver.find_element('xpath', '//*[@id=\"USER\"]').send_keys('matheus.duarte')\n",
    "driver.find_element('xpath', '//*[@id=\"PWD\"]').send_keys('Pontte@22')\n",
    "\n",
    "#Clicar em Entrar\n",
    "driver.find_element('xpath', '/html/body/div[1]/form/button').click()\n",
    "sleep(2)"
   ]
  },
  {
   "cell_type": "code",
   "execution_count": 19,
   "metadata": {},
   "outputs": [],
   "source": [
    "idContrato = '130371'\n",
    "cci = '1234567/123'"
   ]
  },
  {
   "cell_type": "code",
   "execution_count": 20,
   "metadata": {},
   "outputs": [
    {
     "ename": "NoSuchElementException",
     "evalue": "Message: no such element: Unable to locate element: {\"method\":\"css selector\",\"selector\":\"[id=\"quicksearch\"]\"}\n  (Session info: chrome=108.0.5359.125)\nStacktrace:\nBacktrace:\n\t(No symbol) [0x0047F243]\n\t(No symbol) [0x00407FD1]\n\t(No symbol) [0x002FD04D]\n\t(No symbol) [0x0032C0B0]\n\t(No symbol) [0x0032C22B]\n\t(No symbol) [0x0035E612]\n\t(No symbol) [0x003485D4]\n\t(No symbol) [0x0035C9EB]\n\t(No symbol) [0x00348386]\n\t(No symbol) [0x0032163C]\n\t(No symbol) [0x0032269D]\n\tGetHandleVerifier [0x00719A22+2655074]\n\tGetHandleVerifier [0x0070CA24+2601828]\n\tGetHandleVerifier [0x00528C0A+619850]\n\tGetHandleVerifier [0x00527830+614768]\n\t(No symbol) [0x004105FC]\n\t(No symbol) [0x00415968]\n\t(No symbol) [0x00415A55]\n\t(No symbol) [0x0042051B]\n\tBaseThreadInitThunk [0x764700F9+25]\n\tRtlGetAppContainerNamedObjectPath [0x77C57BBE+286]\n\tRtlGetAppContainerNamedObjectPath [0x77C57B8E+238]\n",
     "output_type": "error",
     "traceback": [
      "\u001b[1;31m---------------------------------------------------------------------------\u001b[0m",
      "\u001b[1;31mNoSuchElementException\u001b[0m                    Traceback (most recent call last)",
      "Cell \u001b[1;32mIn [20], line 1\u001b[0m\n\u001b[1;32m----> 1\u001b[0m driver\u001b[39m.\u001b[39;49mfind_element(\u001b[39m'\u001b[39;49m\u001b[39mid\u001b[39;49m\u001b[39m'\u001b[39;49m, \u001b[39m'\u001b[39;49m\u001b[39mquicksearch\u001b[39;49m\u001b[39m'\u001b[39;49m)\u001b[39m.\u001b[39mclick()\n",
      "File \u001b[1;32mc:\\Users\\Mathe\\AppData\\Local\\Programs\\Python\\Python310\\lib\\site-packages\\selenium\\webdriver\\remote\\webdriver.py:856\u001b[0m, in \u001b[0;36mWebDriver.find_element\u001b[1;34m(self, by, value)\u001b[0m\n\u001b[0;32m    853\u001b[0m     by \u001b[39m=\u001b[39m By\u001b[39m.\u001b[39mCSS_SELECTOR\n\u001b[0;32m    854\u001b[0m     value \u001b[39m=\u001b[39m \u001b[39m'\u001b[39m\u001b[39m[name=\u001b[39m\u001b[39m\"\u001b[39m\u001b[39m%s\u001b[39;00m\u001b[39m\"\u001b[39m\u001b[39m]\u001b[39m\u001b[39m'\u001b[39m \u001b[39m%\u001b[39m value\n\u001b[1;32m--> 856\u001b[0m \u001b[39mreturn\u001b[39;00m \u001b[39mself\u001b[39;49m\u001b[39m.\u001b[39;49mexecute(Command\u001b[39m.\u001b[39;49mFIND_ELEMENT, {\n\u001b[0;32m    857\u001b[0m     \u001b[39m'\u001b[39;49m\u001b[39musing\u001b[39;49m\u001b[39m'\u001b[39;49m: by,\n\u001b[0;32m    858\u001b[0m     \u001b[39m'\u001b[39;49m\u001b[39mvalue\u001b[39;49m\u001b[39m'\u001b[39;49m: value})[\u001b[39m'\u001b[39m\u001b[39mvalue\u001b[39m\u001b[39m'\u001b[39m]\n",
      "File \u001b[1;32mc:\\Users\\Mathe\\AppData\\Local\\Programs\\Python\\Python310\\lib\\site-packages\\selenium\\webdriver\\remote\\webdriver.py:429\u001b[0m, in \u001b[0;36mWebDriver.execute\u001b[1;34m(self, driver_command, params)\u001b[0m\n\u001b[0;32m    427\u001b[0m response \u001b[39m=\u001b[39m \u001b[39mself\u001b[39m\u001b[39m.\u001b[39mcommand_executor\u001b[39m.\u001b[39mexecute(driver_command, params)\n\u001b[0;32m    428\u001b[0m \u001b[39mif\u001b[39;00m response:\n\u001b[1;32m--> 429\u001b[0m     \u001b[39mself\u001b[39;49m\u001b[39m.\u001b[39;49merror_handler\u001b[39m.\u001b[39;49mcheck_response(response)\n\u001b[0;32m    430\u001b[0m     response[\u001b[39m'\u001b[39m\u001b[39mvalue\u001b[39m\u001b[39m'\u001b[39m] \u001b[39m=\u001b[39m \u001b[39mself\u001b[39m\u001b[39m.\u001b[39m_unwrap_value(\n\u001b[0;32m    431\u001b[0m         response\u001b[39m.\u001b[39mget(\u001b[39m'\u001b[39m\u001b[39mvalue\u001b[39m\u001b[39m'\u001b[39m, \u001b[39mNone\u001b[39;00m))\n\u001b[0;32m    432\u001b[0m     \u001b[39mreturn\u001b[39;00m response\n",
      "File \u001b[1;32mc:\\Users\\Mathe\\AppData\\Local\\Programs\\Python\\Python310\\lib\\site-packages\\selenium\\webdriver\\remote\\errorhandler.py:243\u001b[0m, in \u001b[0;36mErrorHandler.check_response\u001b[1;34m(self, response)\u001b[0m\n\u001b[0;32m    241\u001b[0m         alert_text \u001b[39m=\u001b[39m value[\u001b[39m'\u001b[39m\u001b[39malert\u001b[39m\u001b[39m'\u001b[39m]\u001b[39m.\u001b[39mget(\u001b[39m'\u001b[39m\u001b[39mtext\u001b[39m\u001b[39m'\u001b[39m)\n\u001b[0;32m    242\u001b[0m     \u001b[39mraise\u001b[39;00m exception_class(message, screen, stacktrace, alert_text)  \u001b[39m# type: ignore[call-arg]  # mypy is not smart enough here\u001b[39;00m\n\u001b[1;32m--> 243\u001b[0m \u001b[39mraise\u001b[39;00m exception_class(message, screen, stacktrace)\n",
      "\u001b[1;31mNoSuchElementException\u001b[0m: Message: no such element: Unable to locate element: {\"method\":\"css selector\",\"selector\":\"[id=\"quicksearch\"]\"}\n  (Session info: chrome=108.0.5359.125)\nStacktrace:\nBacktrace:\n\t(No symbol) [0x0047F243]\n\t(No symbol) [0x00407FD1]\n\t(No symbol) [0x002FD04D]\n\t(No symbol) [0x0032C0B0]\n\t(No symbol) [0x0032C22B]\n\t(No symbol) [0x0035E612]\n\t(No symbol) [0x003485D4]\n\t(No symbol) [0x0035C9EB]\n\t(No symbol) [0x00348386]\n\t(No symbol) [0x0032163C]\n\t(No symbol) [0x0032269D]\n\tGetHandleVerifier [0x00719A22+2655074]\n\tGetHandleVerifier [0x0070CA24+2601828]\n\tGetHandleVerifier [0x00528C0A+619850]\n\tGetHandleVerifier [0x00527830+614768]\n\t(No symbol) [0x004105FC]\n\t(No symbol) [0x00415968]\n\t(No symbol) [0x00415A55]\n\t(No symbol) [0x0042051B]\n\tBaseThreadInitThunk [0x764700F9+25]\n\tRtlGetAppContainerNamedObjectPath [0x77C57BBE+286]\n\tRtlGetAppContainerNamedObjectPath [0x77C57B8E+238]\n"
     ]
    }
   ],
   "source": [
    "driver.find_element('xpath', \"//input[@id='quicksearch']\").click()"
   ]
  },
  {
   "cell_type": "code",
   "execution_count": null,
   "metadata": {},
   "outputs": [],
   "source": []
  }
 ],
 "metadata": {
  "kernelspec": {
   "display_name": "Python 3",
   "language": "python",
   "name": "python3"
  },
  "language_info": {
   "codemirror_mode": {
    "name": "ipython",
    "version": 3
   },
   "file_extension": ".py",
   "mimetype": "text/x-python",
   "name": "python",
   "nbconvert_exporter": "python",
   "pygments_lexer": "ipython3",
   "version": "3.10.8"
  },
  "orig_nbformat": 4,
  "vscode": {
   "interpreter": {
    "hash": "4f23259cc4a989149ceb318427fe09b9530d16c787809bc42dd4da82aeda726e"
   }
  }
 },
 "nbformat": 4,
 "nbformat_minor": 2
}
