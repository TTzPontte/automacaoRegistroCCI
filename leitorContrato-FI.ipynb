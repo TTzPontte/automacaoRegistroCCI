{
 "cells": [
  {
   "cell_type": "code",
   "execution_count": 1,
   "metadata": {},
   "outputs": [],
   "source": [
    "# importa as bibliotecas necessárias\n",
    "import PyPDF2\n",
    "import re\n",
    "import pandas as pd"
   ]
  },
  {
   "cell_type": "code",
   "execution_count": null,
   "metadata": {},
   "outputs": [],
   "source": [
    "# Abre o arquivo pdf \n",
    "path = r'C:\\Users\\MatheusPereira\\OneDrive - Pontte\\Área de Trabalho\\automacaoRegistroCCI\\Contratos\\FI_Contrato_Romilton_Assinatura Digital-Manifesto.pdf'\n",
    "pdf_file = open(path, 'rb')\n"
   ]
  },
  {
   "cell_type": "code",
   "execution_count": null,
   "metadata": {},
   "outputs": [],
   "source": [
    "#Faz a leitura usando a biblioteca\n",
    "read_pdf = PyPDF2.PdfFileReader(pdf_file)\n",
    "\n",
    "# pega o numero de páginas\n",
    "number_of_pages = read_pdf.getNumPages()\n",
    "\n",
    "#Extriar Texto Página 1 a 5\n",
    "text=''\n",
    "for i in range(0,4):\n",
    "    #Ler Página PDF\n",
    "    pageObj = read_pdf.getPage(i)\n",
    "    #Extrair Texto\n",
    "    text=text+pageObj.extractText()\n",
    "\n",
    "#Tratar Texto (Remover Quebra de Linhas)\n",
    "text = re.sub('\\r', '', text) \n",
    "text = re.sub('\\n', '', text)"
   ]
  }
 ],
 "metadata": {
  "kernelspec": {
   "display_name": "Python 3.9.7 64-bit",
   "language": "python",
   "name": "python3"
  },
  "language_info": {
   "codemirror_mode": {
    "name": "ipython",
    "version": 3
   },
   "file_extension": ".py",
   "mimetype": "text/x-python",
   "name": "python",
   "nbconvert_exporter": "python",
   "pygments_lexer": "ipython3",
   "version": "3.9.7"
  },
  "orig_nbformat": 4,
  "vscode": {
   "interpreter": {
    "hash": "045832f79490e9a8a037a8f6e1a5c8ec877d805c4de0087de700d9a61e201314"
   }
  }
 },
 "nbformat": 4,
 "nbformat_minor": 2
}
