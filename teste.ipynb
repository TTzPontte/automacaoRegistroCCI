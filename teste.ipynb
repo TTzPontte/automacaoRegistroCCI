{
 "cells": [
  {
   "cell_type": "code",
   "execution_count": 5,
   "metadata": {},
   "outputs": [],
   "source": [
    "participantes = [{'codigo_integracao': '003419552', 'relacao': '1', 'nome': 'IONE EUZEBIO DOS SANTOS AGUIAR', 'email': 'ioneeuzebio@live.com', \n",
    "                'participacao': '59', 'cnpj_cpf': '377.454.096-91', 'pf_pj': 'F', 'sexo': 'F', 'telefone': '(31) 99638-9394', 'data_nascimento': '21/05/1960', \n",
    "                'rua': 'RUA MARTIM AFONSO DE SOUZA', 'numero': '378', 'complemento': 'APTO. 201', 'cidade': 'BELO HORIZONTE', 'bairro': 'GLORIA', 'UF': 'MG', \n",
    "                'cep': '30880-090'}, {'codigo_integracao': '003419552', 'relacao': '15', 'nome': 'IAGO TADEU AUGUSTO DOS SANTOS AGUIAR', \n",
    "                'email': 'ioneeuzebio@live.com', 'participacao': '17', 'cnpj_cpf': '019.661.366-33', 'pf_pj': 'F', 'sexo': 'M', 'telefone': '(31) 99638-9394', \n",
    "                'data_nascimento': '23/01/1997', 'rua': 'RUA MARTIM AFONSO DE SOUZA', 'numero': '378', 'complemento': 'APTO. 201', 'cidade': 'BELO HORIZONTE', \n",
    "                'bairro': 'GLORIA', 'UF': 'MG', 'cep': '30880-090'}]"
   ]
  },
  {
   "cell_type": "code",
   "execution_count": 20,
   "metadata": {},
   "outputs": [
    {
     "name": "stdout",
     "output_type": "stream",
     "text": [
      "IONE EUZEBIO DOS SANTOS AGUIAR\n"
     ]
    }
   ],
   "source": [
    "for item in participantes:\n",
    "    if item['relacao'] == '1':\n",
    "        print(item['nome'])"
   ]
  }
 ],
 "metadata": {
  "kernelspec": {
   "display_name": "Python 3",
   "language": "python",
   "name": "python3"
  },
  "language_info": {
   "codemirror_mode": {
    "name": "ipython",
    "version": 3
   },
   "file_extension": ".py",
   "mimetype": "text/x-python",
   "name": "python",
   "nbconvert_exporter": "python",
   "pygments_lexer": "ipython3",
   "version": "3.10.8 (tags/v3.10.8:aaaf517, Oct 11 2022, 16:50:30) [MSC v.1933 64 bit (AMD64)]"
  },
  "orig_nbformat": 4,
  "vscode": {
   "interpreter": {
    "hash": "4f23259cc4a989149ceb318427fe09b9530d16c787809bc42dd4da82aeda726e"
   }
  }
 },
 "nbformat": 4,
 "nbformat_minor": 2
}
