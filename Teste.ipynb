{
 "cells": [
  {
   "cell_type": "code",
   "execution_count": 1,
   "metadata": {},
   "outputs": [],
   "source": [
    "path = r'G:\\Drives compartilhados\\Pontte Crédito\\0_FINANCIAMENTO\\0_Análises\\ADEMIR PAULO DE OLIVEIRA - 491823906\\KIT QI'"
   ]
  },
  {
   "cell_type": "code",
   "execution_count": 20,
   "metadata": {},
   "outputs": [],
   "source": [
    "localAnalise = path.find('0_Análises') + len('0_Análises')\n",
    "localKit = path.find('KIT QI')"
   ]
  },
  {
   "cell_type": "code",
   "execution_count": 35,
   "metadata": {},
   "outputs": [],
   "source": [
    "nomeCliente = path[localAnalise:localKit].replace(\"\\\\\",\"\")"
   ]
  },
  {
   "cell_type": "code",
   "execution_count": 37,
   "metadata": {},
   "outputs": [
    {
     "data": {
      "text/plain": [
       "'ADEMIR PAULO DE OLIVEIRA'"
      ]
     },
     "execution_count": 37,
     "metadata": {},
     "output_type": "execute_result"
    }
   ],
   "source": [
    "nomeCliente = ''.join([d for d in nomeCliente if d.isdigit() ==False])\n",
    "nomeCliente = nomeCliente.replace(\"-\",\"\").strip()\n",
    "nomeCliente"
   ]
  },
  {
   "cell_type": "code",
   "execution_count": 38,
   "metadata": {},
   "outputs": [],
   "source": [
    "codigoAz = \"123456\""
   ]
  },
  {
   "cell_type": "code",
   "execution_count": null,
   "metadata": {},
   "outputs": [],
   "source": [
    "participantes = {\n",
    "    \"participante\":[\n",
    "         {\n",
    "            \"nome\":\"CARMEN APARECIDA DA SILVA OCAMPOS CHAVES\",\n",
    "            \"email\":\"carmenocampos456@hotmail.com\",\n",
    "            \"participacao\":\"100\",\n",
    "            \"cnpj_cpf\":\"759.550.831-20\",\n",
    "            \"pf_pj\":\"F\",\n",
    "            \"sexo\":\"F\",\n",
    "            \"telefone\":\"(67) 992995844\",\n",
    "            \"data_nascimento\":\"15/03/1976\",\n",
    "            \"rua\":\"RUA VINTE E SEIS DE AGOSTO\",\n",
    "            \"numero\":\"2079\",\n",
    "            \"complemento\":\"N/A\",\n",
    "            \"cidade\":\"CAMPO GRANDE\",\n",
    "            \"bairro\":\"AMAMBAI\",\n",
    "            \"UF\":\"MS\",\n",
    "            \"cep\":\"79005030\"\n",
    "         },\n",
    "         {\n",
    "            \"nome\":\"VICENTE GARCEZ CHAVES\",\n",
    "            \"email\":\"vicentegarcezchaves@icloud.com\",\n",
    "            \"participacao\":\"0\",\n",
    "            \"cnpj_cpf\":\"832.704.261-00\",\n",
    "            \"pf_pj\":\"F\",\n",
    "            \"sexo\":\"M\",\n",
    "            \"telefone\":\"(67) 992104191\",\n",
    "            \"data_nascimento\":\"07/07/1978\",\n",
    "            \"rua\":\"RUA VINTE E SEIS DE AGOSTO\",\n",
    "            \"numero\":\"2079\",\n",
    "            \"complemento\":\"N/A\",\n",
    "            \"cidade\":\"CAMPO GRANDE\",\n",
    "            \"bairro\":\"AMAMBAI\",\n",
    "            \"UF\":\"MS\",\n",
    "            \"cep\":\"79005030\",\n",
    "            \"relacao\":\"2\"\n",
    "         }\n",
    "      ]\n",
    "}"
   ]
  },
  {
   "cell_type": "code",
   "execution_count": 58,
   "metadata": {},
   "outputs": [],
   "source": [
    "import os\n",
    "path = rf'G:\\Drives compartilhados\\Pontte\\Operações\\Implantação\\{nomeCliente+\" - \"+codigoAz}'\n",
    "\n",
    "isExist = os.path.exists(path)\n",
    "if not isExist:\n",
    "   os.makedirs(path)"
   ]
  },
  {
   "cell_type": "code",
   "execution_count": 62,
   "metadata": {},
   "outputs": [],
   "source": [
    "import datetime \n",
    "namePC = os.environ.get(\"USERNAME\")\n",
    "dataHoje = datetime.datetime.today().strftime(\"%d.%m.%y - %Hh%M\")\n",
    "with open(os.path.join(path, f'Requisicao - {dataHoje}.txt'), \"w\") as f:\n",
    "    f.write(f'Realizado por: {namePC} em {dataHoje}\\n'+'\\n'+str(participantes))"
   ]
  }
 ],
 "metadata": {
  "kernelspec": {
   "display_name": "Python 3",
   "language": "python",
   "name": "python3"
  },
  "language_info": {
   "codemirror_mode": {
    "name": "ipython",
    "version": 3
   },
   "file_extension": ".py",
   "mimetype": "text/x-python",
   "name": "python",
   "nbconvert_exporter": "python",
   "pygments_lexer": "ipython3",
   "version": "3.10.8"
  },
  "orig_nbformat": 4,
  "vscode": {
   "interpreter": {
    "hash": "4f23259cc4a989149ceb318427fe09b9530d16c787809bc42dd4da82aeda726e"
   }
  }
 },
 "nbformat": 4,
 "nbformat_minor": 2
}
