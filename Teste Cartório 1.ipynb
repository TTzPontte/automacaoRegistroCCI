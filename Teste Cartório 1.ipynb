{
 "cells": [
  {
   "cell_type": "code",
   "execution_count": 1,
   "metadata": {},
   "outputs": [
    {
     "name": "stdout",
     "output_type": "stream",
     "text": [
      "{'city': 'SÃO PAULO',\n",
      " 'id': 4146224,\n",
      " 'name': '1º OFÍCIO DE REGISTRO DE IMÓVEIS',\n",
      " 'neighborhood': 'CENTRO',\n",
      " 'uf': 'SP'}\n"
     ]
    }
   ],
   "source": [
    "import json\n",
    "from pprint import pprint\n",
    "\n",
    "with open(r\".\\Cartorio\\cartorios.json\", encoding='utf-8') as meu_json:\n",
    "    dados = json.load(meu_json)\n",
    "\n",
    "pprint(dados[0])"
   ]
  },
  {
   "cell_type": "code",
   "execution_count": 2,
   "metadata": {},
   "outputs": [],
   "source": [
    "import pandas as pd \n",
    "df = pd.read_json(r\".\\Cartorio\\cartorios.json\")\n",
    "#df['uf'].value_counts()"
   ]
  },
  {
   "cell_type": "code",
   "execution_count": 3,
   "metadata": {},
   "outputs": [],
   "source": [
    "cartorios= []\n",
    "idLista = []\n",
    "dictCartorio = {}\n",
    "\n",
    "for nomeCartorio in dados:\n",
    "    #if nomeCartorio['uf'] == 'PR':\n",
    "    nomenclaturaCartorio = nomeCartorio['uf']+ \" - \" + nomeCartorio['city'] + \" - \" + nomeCartorio['name'] + ' - ' + nomeCartorio['neighborhood']\n",
    "    id = nomeCartorio['id']\n",
    "    cartorios.append(nomenclaturaCartorio)\n",
    "    \n",
    "    dictCartorio[nomenclaturaCartorio] = id\n",
    "\n",
    "#cartorios = cartorios.sort()\n",
    "cartorios.sort()\n",
    "\n"
   ]
  },
  {
   "cell_type": "code",
   "execution_count": 17,
   "metadata": {},
   "outputs": [],
   "source": [
    "from tkinter import *\n",
    "from tkinter import ttk\n",
    "\n",
    "lst = cartorios\n",
    "\n",
    "\n",
    "def check_input(event):\n",
    "    value = event.widget.get()\n",
    "\n",
    "    if value == '':\n",
    "        combo_box['values'] = lst\n",
    "    else:\n",
    "        data = []\n",
    "        for item in lst:\n",
    "            if value.lower() in item.lower():\n",
    "                data.append(item)\n",
    "\n",
    "        combo_box['values'] = data\n",
    "\n",
    "def gerarID():\n",
    "    textoID = 'ID não encontrado.'\n",
    "    valorCartorio = combo_box.get()\n",
    "    textoID = dictCartorio[valorCartorio]\n",
    "\n",
    "    textBox = Label(root, text=textoID)\n",
    "    textBox.grid(row=2, column=1)\n",
    "\n",
    "\n",
    "root = Tk()\n",
    "\n",
    "root.geometry('800x100')\n",
    "\n",
    "#Botão\n",
    "botao = Button(root, text='Gerar ID', command=lambda:gerarID())\n",
    "botao.grid(row=1, column=2, padx=10)\n",
    "\n",
    "# creating Combobox\n",
    "combo_box = ttk.Combobox(root, values=lst, width=100)\n",
    "combo_box.grid(row=1, column=1)\n",
    "combo_box.bind('<KeyRelease>', check_input)\n",
    "\n",
    "\n",
    "\n",
    "root.mainloop()"
   ]
  }
 ],
 "metadata": {
  "kernelspec": {
   "display_name": "Python 3",
   "language": "python",
   "name": "python3"
  },
  "language_info": {
   "codemirror_mode": {
    "name": "ipython",
    "version": 3
   },
   "file_extension": ".py",
   "mimetype": "text/x-python",
   "name": "python",
   "nbconvert_exporter": "python",
   "pygments_lexer": "ipython3",
   "version": "3.10.8"
  },
  "orig_nbformat": 4,
  "vscode": {
   "interpreter": {
    "hash": "4f23259cc4a989149ceb318427fe09b9530d16c787809bc42dd4da82aeda726e"
   }
  }
 },
 "nbformat": 4,
 "nbformat_minor": 2
}
