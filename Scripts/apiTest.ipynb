{
 "cells": [
  {
   "cell_type": "code",
   "execution_count": 30,
   "metadata": {},
   "outputs": [],
   "source": [
    "listaDePara = {\"codigo_integracao\": 0,\"relacao\": 0,\"nome\": 0,\"email\": 0,\"participacao\": 0,\"cnpj_cpf\": 0,\"pf_pj\": 0,\"sexo\": 0,\"telefone\": 0,\"data_nascimento\": 0,\"rua\": 0,\"numero\": 0,\"complemento\": 0,\n",
    "\"cidade\": 0,\"bairro\": 0,\"UF\": 0,\"cep\": 0\n",
    "            }\n",
    "\n",
    "participantes = {'Quantidade': 2,\n",
    " 'nomeDoP1': 'BRUNA GONÇALVES DA SILVA',\n",
    " 'cpfP1': '456.199.478-58',\n",
    " 'dataNascimentoP1': '21/07/1996',\n",
    " 'endereçoP1': 'AVENIDA DAS AMOREIRAS',\n",
    " 'numeroResidenciaP1':'633',\n",
    " 'complementoP1': 'T1, AP 52',\n",
    " 'bairroP1': 'PQ. ITÁLIA',\n",
    " 'cidadeP1': 'CAMPINAS',\n",
    " 'estadoP1': 'SP',\n",
    " 'cepP1': '13036-225',\n",
    " 'telefoneP1': '(19) 99178-9271',\n",
    " 'emailP1': 'bruna.silva.g@hotmail.com',\n",
    " 'participacaoNaOperacaoP1': '100%',\n",
    " 'tipoOperacaoP1': 'PF',\n",
    " 'relacaoDoP1':'Titular',\n",
    " 'sexoP1':'F',\n",
    "\n",
    " 'nomeDoP2': 'Matheus Pereira',\n",
    " 'cpfP2': '456.199.478-58',\n",
    " 'dataNascimentoP2': '21/07/1996',\n",
    " 'endereçoP2': 'AVENIDA DAS AMOREIRAS, 633',\n",
    " 'numeroResidenciaP2':'020',\n",
    " 'complementoP2': 'T1, AP 52',\n",
    " 'bairroP2': 'PQ. ITÁLIA',\n",
    " 'cidadeP2': 'CAMPINAS',\n",
    " 'estadoP2': 'SP',\n",
    " 'cepP2': '13036-225',\n",
    " 'telefoneP2': '(19) 99178-9271',\n",
    " 'emailP2': 'bruna.silva.g@hotmail.com',\n",
    " 'participacaoNaOperacaoP2': '100%',\n",
    " 'tipoOperacaoP2': 'PF',\n",
    " 'relacaoDoP2':'Parente',\n",
    " 'sexoP2':'M',\n",
    "}"
   ]
  },
  {
   "cell_type": "code",
   "execution_count": 31,
   "metadata": {},
   "outputs": [
    {
     "name": "stdout",
     "output_type": "stream",
     "text": [
      "[{'relacao': 'Titular', 'nome': 'BRUNA GONÇALVES DA SILVA', 'email': 'bruna.silva.g@hotmail.com', 'participacao': '100%', 'cnpj_cpf': '456.199.478-58', 'pf_pj': 'PF', 'sexo': 'F', 'telefone': '(19) 99178-9271', 'data_nascimento': '21/07/1996', 'rua': 'AVENIDA DAS AMOREIRAS', 'numero': '633', 'complemento': 'T1, AP 52', 'cidade': 'CAMPINAS', 'bairro': 'PQ. ITÁLIA', 'UF': 'SP', 'cep': '13036-225'}, {'relacao': 'Parente', 'nome': 'Matheus Pereira', 'email': 'bruna.silva.g@hotmail.com', 'participacao': '100%', 'cnpj_cpf': '456.199.478-58', 'pf_pj': 'PF', 'sexo': 'M', 'telefone': '(19) 99178-9271', 'data_nascimento': '21/07/1996', 'rua': 'AVENIDA DAS AMOREIRAS, 633', 'numero': '020', 'complemento': 'T1, AP 52', 'cidade': 'CAMPINAS', 'bairro': 'PQ. ITÁLIA', 'UF': 'SP', 'cep': '13036-225'}]\n"
     ]
    }
   ],
   "source": [
    "quant = participantes[\"Quantidade\"]\n",
    "dadosParticipantes={}\n",
    "todosParticipantes = []\n",
    "for cont in range(0,quant):\n",
    "    for key in listaDePara.keys():\n",
    "        if key == \"relacao\":\n",
    "            dadosParticipantes[key] = participantes[f\"relacaoDoP{cont+1}\"]\n",
    "        elif key == \"nome\":\n",
    "            dadosParticipantes[key]= participantes[f\"nomeDoP{cont+1}\"]\n",
    "        elif key == \"email\":\n",
    "            dadosParticipantes[key]= participantes[f\"emailP{cont+1}\"]\n",
    "        elif key == \"participacao\":\n",
    "            dadosParticipantes[key]= participantes[f\"participacaoNaOperacaoP{cont+1}\"]\n",
    "        elif key == \"cnpj_cpf\":\n",
    "            dadosParticipantes[key]= participantes[f\"cpfP{cont+1}\"]\n",
    "        elif key == \"pf_pj\":\n",
    "            dadosParticipantes[key]= participantes[f\"tipoOperacaoP{cont+1}\"]\n",
    "        elif key == \"sexo\":\n",
    "            dadosParticipantes[key]= participantes[f\"sexoP{cont+1}\"]\n",
    "        elif key == \"telefone\":\n",
    "            dadosParticipantes[key]= participantes[f\"telefoneP{cont+1}\"]\n",
    "        elif key == \"data_nascimento\":\n",
    "            dadosParticipantes[key]= participantes[f\"dataNascimentoP{cont+1}\"]\n",
    "        elif key == \"rua\":\n",
    "            dadosParticipantes[key]= participantes[f\"endereçoP{cont+1}\"]\n",
    "        elif key == \"numero\":\n",
    "            dadosParticipantes[key]= participantes[f\"numeroResidenciaP{cont+1}\"]\n",
    "        elif key == \"complemento\":\n",
    "            dadosParticipantes[key]= participantes[f\"complementoP{cont+1}\"]\n",
    "        elif key == \"cidade\":\n",
    "            dadosParticipantes[key]= participantes[f\"cidadeP{cont+1}\"]\n",
    "        elif key == \"bairro\":\n",
    "            dadosParticipantes[key]= participantes[f\"bairroP{cont+1}\"]\n",
    "        elif key == \"UF\":\n",
    "            dadosParticipantes[key]= participantes[f\"estadoP{cont+1}\"]\n",
    "        elif key == \"cep\":\n",
    "            dadosParticipantes[key]= participantes[f\"cepP{cont+1}\"]\n",
    "\n",
    "    todosParticipantes.append(dadosParticipantes.copy())\n",
    "print(todosParticipantes)"
   ]
  }
 ],
 "metadata": {
  "kernelspec": {
   "display_name": "Python 3.11.0 64-bit",
   "language": "python",
   "name": "python3"
  },
  "language_info": {
   "codemirror_mode": {
    "name": "ipython",
    "version": 3
   },
   "file_extension": ".py",
   "mimetype": "text/x-python",
   "name": "python",
   "nbconvert_exporter": "python",
   "pygments_lexer": "ipython3",
   "version": "3.11.0"
  },
  "orig_nbformat": 4,
  "vscode": {
   "interpreter": {
    "hash": "afbbe413bbe1111e11a99e2943327bc8d6fc6a8f76f6c26dae3ba60ccec91416"
   }
  }
 },
 "nbformat": 4,
 "nbformat_minor": 2
}
