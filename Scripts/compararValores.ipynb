{
 "cells": [
  {
   "cell_type": "code",
   "execution_count": 9,
   "metadata": {},
   "outputs": [],
   "source": [
    "from lerLaudo import lerLaudo\n",
    "from LerSimuladorExcel import lerSimulador\n",
    "from lerContrato import lerContrato\n"
   ]
  },
  {
   "cell_type": "code",
   "execution_count": 3,
   "metadata": {},
   "outputs": [],
   "source": [
    "contrato = r\"C:\\Users\\Matheus\\Documents\\Git\\Pontte\\automacaoRegistroAztronic\\automacaoRegistroCCI\\Contratos\\HE_Contrato_Agostinho_Assinatura Digital_VFinal.pdf\"\n",
    "laudo = r'C:\\Users\\Matheus\\Documents\\Git\\Pontte\\automacaoRegistroAztronic\\automacaoRegistroCCI\\Laudos\\5. Laudo - Agostinho.pdf'\n",
    "simulador = r'C:\\Users\\Matheus\\Documents\\Git\\Pontte\\automacaoRegistroAztronic\\automacaoRegistroCCI\\Simuladores\\HE Simulador Agostinho.xlsm'\n",
    "import warnings\n",
    "#Remover Avisos\n",
    "warnings.filterwarnings('ignore', category=UserWarning, module='openpyxl')\n"
   ]
  },
  {
   "cell_type": "code",
   "execution_count": 5,
   "metadata": {},
   "outputs": [
    {
     "data": {
      "text/plain": [
       "{'valorTotal': '185236.16',\n",
       " 'tabela': 'SAC',\n",
       " 'registro': '3042.67',\n",
       " 'Taxa ao Mes': 0.1162,\n",
       " 'valorLiquido': '',\n",
       " 'prazoMes': '240',\n",
       " 'valorPrimeiraParcelaComEncargos': '2754.90',\n",
       " 'valorImóvel': '376000.00',\n",
       " 'prazoContrato': '234',\n",
       " 'ultimaParcela': '30/06/2042',\n",
       " 'dataContrato': '08/06/2022',\n",
       " 'valorPrimeiraParcela': '2662.09',\n",
       " 'primeiraParcela': '30/01/2023',\n",
       " 'indice': 'IPCA',\n",
       " 'Matrícula': 'TIMO (MÚTUO) E PACTO ADJETO DE ALIENAÇÃO FIDUCIÁRIA EM GARANTIA  COM EMISSÃO DE CÉDULA DE CRÉDITO IMOBILIÁRIO  - CCI  CONTRATO Nº 0001013447/AFD REFIN – SFI  RUBRICA DAS PARTES  Contrato dEmpréstimo (Mútuo) com Alienação Fiduciária – Pessoa Física Página 1 d36   Pelo presentcontrato celebra',\n",
       " 'Cartório': '02 de Registro Geral do 3º Oficial de Registro de Imóveis da Comarca de  São Paulo/SP'}"
      ]
     },
     "execution_count": 5,
     "metadata": {},
     "output_type": "execute_result"
    }
   ],
   "source": [
    "## Ler Contrato\n",
    "saidaContrato = lerContrato(contrato)\n",
    "saidaContrato"
   ]
  },
  {
   "cell_type": "code",
   "execution_count": 7,
   "metadata": {},
   "outputs": [
    {
     "data": {
      "text/plain": [
       "{'Valor de Mercado: ': '376.000,00',\n",
       " 'Matrícula: ': '141.951',\n",
       " 'Cartório': '3º Ofício de Registro de Imóveis de São Paulo'}"
      ]
     },
     "execution_count": 7,
     "metadata": {},
     "output_type": "execute_result"
    }
   ],
   "source": [
    "saidaLaudo = lerLaudo(laudo)\n",
    "saidaLaudo"
   ]
  },
  {
   "cell_type": "code",
   "execution_count": 10,
   "metadata": {},
   "outputs": [
    {
     "data": {
      "text/plain": [
       "{'valorTotal': 185234.9,\n",
       " 'tabela': 'SAC',\n",
       " 'registro': 3042.67,\n",
       " 'taxaAM': 0.0092,\n",
       " 'valorLiquido': 169200,\n",
       " 'prazoMes': 228,\n",
       " 'valorPrimeiraParcelaComEncargos': 2800.52,\n",
       " 'valorImóvel': 376000,\n",
       " 'prazoContrato': 222,\n",
       " 'ultimaParcela': '30/06/2041',\n",
       " 'dataContrato': '08/06/2022',\n",
       " 'valorPrimeiraParcela': 2707.71,\n",
       " 'primeiraParcela': '30/01/2023',\n",
       " 'indice': 'IPCA'}"
      ]
     },
     "execution_count": 10,
     "metadata": {},
     "output_type": "execute_result"
    }
   ],
   "source": [
    "saidaSimulador = lerSimulador(simulador)\n",
    "saidaSimulador"
   ]
  },
  {
   "cell_type": "code",
   "execution_count": null,
   "metadata": {},
   "outputs": [],
   "source": []
  }
 ],
 "metadata": {
  "kernelspec": {
   "display_name": "Python 3.10.4 64-bit",
   "language": "python",
   "name": "python3"
  },
  "language_info": {
   "codemirror_mode": {
    "name": "ipython",
    "version": 3
   },
   "file_extension": ".py",
   "mimetype": "text/x-python",
   "name": "python",
   "nbconvert_exporter": "python",
   "pygments_lexer": "ipython3",
   "version": "3.10.4"
  },
  "orig_nbformat": 4,
  "vscode": {
   "interpreter": {
    "hash": "9a3b07ba528c89038647187279d5e29ba231df4ea6aa016e93723a294652464d"
   }
  }
 },
 "nbformat": 4,
 "nbformat_minor": 2
}
