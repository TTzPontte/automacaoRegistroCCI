{
 "cells": [
  {
   "cell_type": "code",
   "execution_count": 2,
   "metadata": {},
   "outputs": [],
   "source": [
    "from lerLaudo import lerLaudo\n",
    "from LerSimuladorExcel import lerSimulador\n",
    "from lerContrato import lerContrato"
   ]
  },
  {
   "cell_type": "code",
   "execution_count": null,
   "metadata": {},
   "outputs": [],
   "source": [
    "contrato = r\"C:\\Users\\Matheus\\Documents\\Git\\Pontte\\automacaoRegistroAztronic\\automacaoRegistroCCI\\Contratos\\HE_Contrato_Agostinho_Assinatura Digital_VFinal.pdf\"\n",
    "laudo = r'C:\\Users\\Matheus\\Documents\\Git\\Pontte\\automacaoRegistroAztronic\\automacaoRegistroCCI\\Laudos\\5. Laudo - Agostinho.pdf'\n",
    "simulador = r'C:\\Users\\Matheus\\Documents\\Git\\Pontte\\automacaoRegistroAztronic\\automacaoRegistroCCI\\Simuladores\\HE Simulador Agostinho.xlsm'"
   ]
  }
 ],
 "metadata": {
  "kernelspec": {
   "display_name": "Python 3.10.4 64-bit",
   "language": "python",
   "name": "python3"
  },
  "language_info": {
   "codemirror_mode": {
    "name": "ipython",
    "version": 3
   },
   "file_extension": ".py",
   "mimetype": "text/x-python",
   "name": "python",
   "nbconvert_exporter": "python",
   "pygments_lexer": "ipython3",
   "version": "3.10.4"
  },
  "orig_nbformat": 4,
  "vscode": {
   "interpreter": {
    "hash": "9a3b07ba528c89038647187279d5e29ba231df4ea6aa016e93723a294652464d"
   }
  }
 },
 "nbformat": 4,
 "nbformat_minor": 2
}
