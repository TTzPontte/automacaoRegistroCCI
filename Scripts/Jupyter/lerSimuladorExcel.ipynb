{
 "cells": [
  {
   "cell_type": "code",
   "execution_count": 1,
   "metadata": {},
   "outputs": [],
   "source": [
    "import openpyxl as xl\n",
    "import pandas as pd\n",
    "import os\n",
    "from time import sleep\n"
   ]
  },
  {
   "cell_type": "code",
   "execution_count": 5,
   "metadata": {},
   "outputs": [
    {
     "data": {
      "text/plain": [
       "['FI Simulador Juliana.xlsm',\n",
       " 'FI Simulador Romilton.xlsm',\n",
       " 'HE Simulador Agostinho.xlsm',\n",
       " 'He Simulador Conrado.xlsm',\n",
       " 'HE Simulador Margareide.xlsm',\n",
       " 'HE Simulador Patricia.xlsm']"
      ]
     },
     "execution_count": 5,
     "metadata": {},
     "output_type": "execute_result"
    }
   ],
   "source": [
    "files_dir = r\"C:\\Users\\Matheus\\Documents\\Git\\Pontte\\automacaoRegistroAztronic\\automacaoRegistroCCI\\Simuladores\"\n",
    "simuladorFiles = [f for f in os.listdir(files_dir) if f.endswith(\".xlsm\")]\n",
    "simuladorFiles"
   ]
  },
  {
   "cell_type": "code",
   "execution_count": 73,
   "metadata": {},
   "outputs": [
    {
     "data": {
      "text/plain": [
       "'FI Simulador Juliana.xlsm'"
      ]
     },
     "execution_count": 73,
     "metadata": {},
     "output_type": "execute_result"
    }
   ],
   "source": [
    "path = os.path.join(files_dir, simuladorFiles[0])\n",
    "row2 = 2\n",
    "simuladorFiles[0]"
   ]
  },
  {
   "cell_type": "code",
   "execution_count": 74,
   "metadata": {},
   "outputs": [
    {
     "name": "stderr",
     "output_type": "stream",
     "text": [
      "c:\\Users\\Matheus\\AppData\\Local\\Programs\\Python\\Python310\\lib\\site-packages\\openpyxl\\worksheet\\_reader.py:312: UserWarning: Data Validation extension is not supported and will be removed\n",
      "  warn(msg)\n"
     ]
    }
   ],
   "source": [
    "wb = xl.load_workbook(path, data_only=True)\n",
    "ws3 = wb['Simulador PDF']"
   ]
  },
  {
   "cell_type": "code",
   "execution_count": 102,
   "metadata": {},
   "outputs": [],
   "source": [
    "#Coletar Informações do Quadro Simulação\n",
    "amortizacao = None\n",
    "indexador = None\n",
    "prazo = None\n",
    "carencia = None\n",
    "pularParcela = None\n",
    "diaVencimento = None\n",
    "taxaAM = None\n",
    "CET = None\n",
    "\n",
    "#Coletar Informações do Quadro Resultados\n",
    "LTV = None\n",
    "IOF = None\n",
    "TAC = None\n",
    "registro = None\n",
    "valorBruto = None\n",
    "valorLiquido = None\n",
    "valorAvaliacao = None\n",
    "primeiraParcela = None\n",
    "\n",
    "#Auxiliar Primeira Parcela\n",
    "auxPar = False\n",
    "dataDesembolco = None\n",
    "priParcelaAmortizao = None\n",
    "priParcelaJuros = None\n",
    "dataUltimaParcela = 0\n",
    "\n",
    "for col in ws3.iter_cols(min_col=1,max_col=15, min_row = 1, max_row=100):\n",
    "    for cell in col:\n",
    "        if cell.value == 'Simulação':\n",
    "            #Definir variáveis auxiliares de linha e coluna\n",
    "            rowAux = cell.row + 1\n",
    "            columnAux = cell.column + 3\n",
    "\n",
    "            #Extração da tabela simulação\n",
    "            amortizacao = ws3.cell(row=rowAux, column=columnAux).value\n",
    "            indexador = ws3.cell(row=rowAux+1, column=columnAux).value\n",
    "            prazo = ws3.cell(row=rowAux+2, column=columnAux).value\n",
    "            carencia = ws3.cell(row=rowAux+3, column=columnAux).value\n",
    "            pularParcela = ws3.cell(row=rowAux+4, column=columnAux).value\n",
    "            diaVencimento = ws3.cell(row=rowAux+5, column=columnAux).value\n",
    "            taxaAM = ws3.cell(row=rowAux+6, column=columnAux).value\n",
    "            CET = ws3.cell(row=rowAux+7, column=columnAux).value\n",
    "        \n",
    "        elif cell.value == 'Resultados':\n",
    "            #Definir variáveis auxiliares de linha e coluna\n",
    "            rowAux = cell.row + 1\n",
    "            columnAux = cell.column + 3\n",
    "\n",
    "            #Extralção da tabela Resultados\n",
    "            LTV = ws3.cell(row=rowAux, column=columnAux).value\n",
    "            IOF = ws3.cell(row=rowAux+1, column=columnAux).value\n",
    "            TAC = ws3.cell(row=rowAux+2, column=columnAux).value\n",
    "            registro = ws3.cell(row=rowAux+3, column=columnAux).value\n",
    "            valorBruto = ws3.cell(row=rowAux+4, column=columnAux).value\n",
    "            valorLiquido = ws3.cell(row=rowAux+5, column=columnAux).value\n",
    "            valorAvaliacao = ws3.cell(row=rowAux+6, column=columnAux).value\n",
    "            primeiraParcela = ws3.cell(row=rowAux+7, column=columnAux).value\n",
    "        \n",
    "        elif cell.value == 'Data':\n",
    "            rowAux = cell.row + 1\n",
    "            columnAux = cell.column + 1\n",
    "            dataDesembolco = ws3.cell(row=rowAux, column=cell.column).value\n",
    "            for i in range(1,10):\n",
    "                parcelaMensal = ws3.cell(row=rowAux+i, column=columnAux).value\n",
    "                if parcelaMensal > 0 and auxPar == False:\n",
    "                    priParcelaAmortizao = ws3.cell(row=rowAux+i, column=columnAux+1).value\n",
    "                    priParcelaJuros = ws3.cell(row=rowAux+i, column=columnAux+2).value\n",
    "                    #print(f\"Parcela do mês: {parcelaMensal} \\nAmortização: {priParcelaAmortizao}\\nJuros: {priParcelaJuros}\\nAmortização+Juros: {str(priParcelaJuros+priParcelaAmortizao)}\")\n",
    "                    auxPar = True\n",
    "        \n",
    "        elif cell.value == 'Saldo Devedor':\n",
    "            for i in range(1,400):\n",
    "                saldoDevedor = ws3.cell(row=rowAux+i, column=cell.column).value\n",
    "                if saldoDevedor == None:\n",
    "                    saldoDevedor = 10\n",
    "                if saldoDevedor <= 0:\n",
    "                    dataUltimaParcela = ws3.cell(row=rowAux+i, column=cell.column-4).value\n",
    "\n",
    "amortizacaoEJuros = priParcelaAmortizao + priParcelaJuros\n",
    "prestacoes = prazo - carencia\n",
    "nomeCliente = ws3.cell(row=1, column=7).value\n",
    "wb.close()"
   ]
  },
  {
   "cell_type": "markdown",
   "metadata": {},
   "source": [
    "**Conferência dos Valores Extraídos**"
   ]
  },
  {
   "cell_type": "code",
   "execution_count": 103,
   "metadata": {},
   "outputs": [
    {
     "name": "stdout",
     "output_type": "stream",
     "text": [
      "Valores Extraídos do quado de Simulação\n",
      "Amoritzação: Price \n",
      "Indexador: IPCA \n",
      "Prazo: 360\n",
      "Carência: 1\n",
      "Pular Parcela: Nenhum\n",
      "Dia de Vencimento: 15\n",
      "Taxa ao mês 0.007\n",
      "CET: 0.10564897347453095\n",
      "\n",
      "\n",
      "Valores Extraídos do quado de Resultados\n",
      "Data Desembolço: 2022-07-08 00:00:00\n",
      "LTV: 0.698176581089543\n",
      "IOF: 0\n",
      "TAC: 35000\n",
      "Registro: 79988\n",
      "Valor Bruto: 1114988\n",
      "Valor Líquido: 1000000\n",
      "Valor de Avaliação: 1597000\n",
      "Valor Primeira Parcela: 8948.353998592136\n",
      "\n",
      "\n",
      "Valores Extraídos da Primeira Parcela\n",
      "Valor de Amortização: 700.9358249321394\n",
      "Valor do Juros: 7874.539194352652\n",
      "Amortização+Juros: 8575.475019284791\n",
      "Prazo: 359\n"
     ]
    }
   ],
   "source": [
    "#Printar Informações do Quadro Simulação\n",
    "print(f\"Valores Extraídos do quado de Simulação\")\n",
    "print(f\"Amoritzação: {amortizacao} \\nIndexador: {indexador} \\nPrazo: {prazo}\\nCarência: {carencia}\\nPular Parcela: {pularParcela}\\nDia de Vencimento: {diaVencimento}\\nTaxa ao mês {taxaAM}\\nCET: {CET}\")\n",
    "\n",
    "#Printar Informações do Quadro Resultados\n",
    "print(f\"\\n\\nValores Extraídos do quado de Resultados\")\n",
    "print(f\"Data Desembolço: {dataDesembolco}\\nLTV: {LTV}\\nIOF: {IOF}\\nTAC: {TAC}\\nRegistro: {registro}\\nValor Bruto: {valorBruto}\\nValor Líquido: {valorLiquido}\\nValor de Avaliação: {valorAvaliacao}\\nValor Primeira Parcela: {primeiraParcela}\")\n",
    "\n",
    "#Auxiliar Primeira Parcela\n",
    "print(f\"\\n\\nValores Extraídos da Primeira Parcela\")\n",
    "print(f\"Valor de Amortização: {priParcelaAmortizao}\\nValor do Juros: {priParcelaJuros}\\nAmortização+Juros: {str(priParcelaJuros+priParcelaAmortizao)}\")\n",
    "\n",
    "print(f\"Prazo: {prestacoes}\")"
   ]
  },
  {
   "cell_type": "code",
   "execution_count": null,
   "metadata": {},
   "outputs": [],
   "source": [
    "listaDePara = {'valorTotal':valorBruto,'tabela': amortizacao,'registro': registro,'valorLiquido': valorLiquido,'prazoMes': prazo,'valorPrimeiraParcelaComEncargos':primeiraParcela,\n",
    "                'valorImóvel':valorAvaliacao,'prazoContrato': prestacoes,'ultimaParcela':dataUltimaParcela,'dataContrato': dataDesembolco, 'valorPrimeiraParcela': a\n",
    "                a,'primeiraParcela':'VENCIMENTO DA PRIMEIRA PRESTAÇÃO :','indice':'ÍNDICE: MENSAL do'\n",
    "                }"
   ]
  }
 ],
 "metadata": {
  "kernelspec": {
   "display_name": "Python 3.10.4 64-bit",
   "language": "python",
   "name": "python3"
  },
  "language_info": {
   "codemirror_mode": {
    "name": "ipython",
    "version": 3
   },
   "file_extension": ".py",
   "mimetype": "text/x-python",
   "name": "python",
   "nbconvert_exporter": "python",
   "pygments_lexer": "ipython3",
   "version": "3.10.4"
  },
  "orig_nbformat": 4,
  "vscode": {
   "interpreter": {
    "hash": "9a3b07ba528c89038647187279d5e29ba231df4ea6aa016e93723a294652464d"
   }
  }
 },
 "nbformat": 4,
 "nbformat_minor": 2
}
