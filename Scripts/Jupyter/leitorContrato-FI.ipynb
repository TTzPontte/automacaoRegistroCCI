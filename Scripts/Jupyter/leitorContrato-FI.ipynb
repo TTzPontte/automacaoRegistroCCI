{
 "cells": [
  {
   "cell_type": "code",
   "execution_count": 1,
   "metadata": {},
   "outputs": [],
   "source": [
    "# importa as bibliotecas necessárias\n",
    "import PyPDF2\n",
    "import re\n",
    "import pandas as pd"
   ]
  },
  {
   "cell_type": "code",
   "execution_count": 2,
   "metadata": {},
   "outputs": [],
   "source": [
    "# Abre o arquivo pdf \n",
    "path = r'C:\\Users\\MatheusPereira\\OneDrive - Pontte\\Área de Trabalho\\automacaoRegistroCCI\\Contratos\\FI_Contrato_Romilton_Assinatura Digital-Manifesto.pdf'\n",
    "pdf_file = open(path, 'rb')\n"
   ]
  },
  {
   "cell_type": "code",
   "execution_count": 3,
   "metadata": {},
   "outputs": [],
   "source": [
    "#Faz a leitura usando a biblioteca\n",
    "read_pdf = PyPDF2.PdfFileReader(pdf_file)\n",
    "\n",
    "# pega o numero de páginas\n",
    "number_of_pages = read_pdf.getNumPages()\n",
    "\n",
    "#Extriar Texto Página 1 a 5\n",
    "text=''\n",
    "for i in range(0,6):\n",
    "    #Ler Página PDF\n",
    "    pageObj = read_pdf.getPage(i)\n",
    "    #Extrair Texto\n",
    "    text=text+pageObj.extractText()\n",
    "\n",
    "#Tratar Texto (Remover Quebra de Linhas)\n",
    "text = re.sub('\\r', '', text) \n",
    "text = re.sub('\\n', '', text)"
   ]
  },
  {
   "cell_type": "code",
   "execution_count": 4,
   "metadata": {},
   "outputs": [
    {
     "data": {
      "text/plain": [
       "\"           INSTRUMENTO PARTICULAR  DE COMPRA E VENDA DE IMÓVEL, FINANCIAMENTO COM PACTO  ADJETO  DE  ALIENAÇÃO FIDUCIÁRIA  EM  GARANTIA, EMISSÃO  DE CÉDULA DE CRÉDITO IMOBILIÁRIO  – CCI E OUTRAS AVENÇAS  Nº 0001133420/RC   Esta página é parte integrante e inseparável do Instrumento Particular de Compra e Venda de Imóvel, Financiamento com Pacto Adjeto de Alienação Fiduciária em Garantia, Emissão de Cédula de Crédito Imobiliário – CCI e Outras Avenças nº 0001133420/RC   CAMPO 1 – CREDORA RAZÃO SOCIAL: QI SOCIEDADE DE CRÉDITO DIRETO S.A.    ENDEREÇO COMERCIAL: Avenida Brigadeiro Faria Lima, nº 2.391, 1º andar  COMPLEMENTO: Conjunto 12 BAIRRO: Jardim Paulistano CIDADE: São Paulo UF: SP   CEP: 01452-000  CNPJ: 32.402.502/0001-35  DATA DA CONSTITUIÇÃO: 10/01/2019  REGISTRO JUCESP: 35300530225   REPRESENTANTES: Roberto Amaral Dantas Junior, brasileiro, portador da cédula de identidade RG nº 50.016.943 -3 SSP/SP e inscrito no CPF sob nº 400.516.238 -03, nos termos da Procuração Pública lavrada pelo 1º Tabelião de Notas de São Paulo/SP no livro 4831, página 341  Rogério de Almeida Domingues / CPF: 315.191.258 -36 Lucas de Jesus Clarim / CPF: 109.323.276 -56 Marcelo Buosi Martins / CPF: 380.261.198-51   CAMPO 2 - VENDEDOR (ES/AS)   RAZÃO SOCIAL: CONDOMÍNIO DO EDIFÍCIO LARA ALBERT SPE LTDA.    ENDEREÇO COMERCIAL: Rua Dona Carmem, 89 COMPLEMENTO: N/A BAIRRO: Santa Terezinha CIDADE: Belo Horizonte UF: MG   CEP: 31.360-090  CNPJ: 31.906.180/0001-07  DATA DA CONSTITUIÇÃO: 31/10/2018 REGISTRO JUCEMG: 3121121037-0   REPRESENTANTES: Rodrigo Pimenta Parreira/CPF 790.348.106 -15  TELEFONE(S): (31) 99719-6665, (31)2555-2055 EMAIL: rodrigopparreira@gmail.com  Conta Corrente para Crédito: Titular: CONDOMÍNIO DO EDIFÍCIO LARA ALBERT SPE LTDA.       Banco: SICOOB Conta Corrente Nº: 15602-7       Agência: 4092   Este documento foi assinado digitalmente por Rodrigo Pimenta Parreira, Ana Carolina Resende Gomes Cioletti, Romilton Cioletti, Henrique Cesar Pedroso Scripelliti, Marcelo Buosi Martins, Roberto Amaral Dantas Junior e Gustavo Luis Ciuffa Bertanha. Para verificar as assinaturas vá ao site https://www.portaldeassinaturas.com.br:443 e utilize o código 817F-EAFD-CE4E-1552. Este documento foi assinado digitalmente por Rodrigo Pimenta Parreira, Ana Carolina Resende Gomes Cioletti, Romilton Cioletti, Henrique Cesar Pedroso Scripelliti, Marcelo Buosi Martins, Roberto Amaral Dantas Junior e Gustavo Luis Ciuffa Bertanha. Para verificar as assinaturas vá ao site https://www.portaldeassinaturas.com.br:443 e utilize o código 817F-EAFD-CE4E-1552.           INSTRUMENTO PARTICULAR  DE COMPRA E VENDA DE IMÓVEL, FINANCIAMENTO COM PACTO  ADJETO  DE  ALIENAÇÃO FIDUCIÁRIA  EM  GARANTIA, EMISSÃO  DE CÉDULA DE CRÉDITO IMOBILIÁRIO  – CCI E OUTRAS AVENÇAS  Nº 0001133420/RC   Esta página é parte integrante e inseparável do Instrumento Particular de Compra e Venda de Imóvel, Financiamento com Pacto Adjeto de Alienação Fiduciária em Garantia, Emissão de Cédula de Crédito Imobiliário – CCI e Outras Avenças nº 0001133420/RC  CAMPO 3 - COMPRADOR(ES)/DEVEDOR(ES) E ANUENTE(S)   NOME: ROMILTON CIOLETTI CPF: 001.950.786-08                      DATA DE NASCIMENTO: 17/11/1978 FILIAÇÃO: SEBASTIÃO CIOLETTI e MARIA DAS GRAÇAS SILVA  CIOLETTI IDENTIDADE (tipo/número): RG: M6026437         ÓRGÃO EMISSOR: SSP/MG NACIONALIDADE: BRASILEIRA  PROFISSÃO: EMPRESÁRIO ESTADO CIVIL: CASADO com a Devedora/Compradora desde 31 de outubro de 2008  REGIME DE CASAMENTO (SE FOR CASADO):  COMUNHÃO PARCIAL DE BENS, sob vigên-cia da Lei 6.515/77  ENDEREÇO RESIDENCIAL E DOMICILIAR:  RUA JULITA NOGUEIRA SOARES, 681  COMPLEMENTO: APTO 301 BAIRRO: SANTA TEREZINHA CIDADE: BELO HORIZONTE     UF: MG CEP: 31360-040  TELEFONE(S): (31) 99968-1754 EMAIL: romiltoncioletti@gmail.com  NOME: ANA CAROLINA RESENDE GOMES CIOLETTI  CPF: 012.902.766-92                                                       DATA DE NASCIMENTO: 20/05/1981 FILIAÇÃO: GERALDO EUSTÁQUIO GOMES e MARIA DE FÁTIMA RESENDE A. GOMES  IDENTIDADE (tipo/número): RG: MG11893938  ÓRGÃO EMISSOR: PC/MG NACIONALIDADE: BRASILEIRA PROFISSÃO: ASSISTENTE SOCIAL ESTADO CIVIL: CASADA com o Devedor/Comprador desde 31 de outubro de 2008  REGIME DE CASAMENTO (SE FOR CASADO):  COMUNHÃO PARCIAL DE BENS, sob vigên-cia da Lei 6.515/77  ENDEREÇO RESIDENCIAL E DOMICILIAR:  RUA JULITA NOGUEIRA SOARES, 681  COMPLEMENTO: APTO 301 BAIRRO: SANTA TEREZINHA CIDADE: BELO HORIZONTE     UF: MG CEP: 31360-040  TELEFONE(S): (31) 99888-2179 EMAIL: anacarolrgomes@hotmail.com   IV - CARACTERÍSTICAS DO FINANCIAMENTO 1. Valor do Financiamento: R$ 299.726,00 Este documento foi assinado digitalmente por Rodrigo Pimenta Parreira, Ana Carolina Resende Gomes Cioletti, Romilton Cioletti, Henrique Cesar Pedroso Scripelliti, Marcelo Buosi Martins, Roberto Amaral Dantas Junior e Gustavo Luis Ciuffa Bertanha. Para verificar as assinaturas vá ao site https://www.portaldeassinaturas.com.br:443 e utilize o código 817F-EAFD-CE4E-1552. Este documento foi assinado digitalmente por Rodrigo Pimenta Parreira, Ana Carolina Resende Gomes Cioletti, Romilton Cioletti, Henrique Cesar Pedroso Scripelliti, Marcelo Buosi Martins, Roberto Amaral Dantas Junior e Gustavo Luis Ciuffa Bertanha. Para verificar as assinaturas vá ao site https://www.portaldeassinaturas.com.br:443 e utilize o código 817F-EAFD-CE4E-1552.           INSTRUMENTO PARTICULAR  DE COMPRA E VENDA DE IMÓVEL, FINANCIAMENTO COM PACTO  ADJETO  DE  ALIENAÇÃO FIDUCIÁRIA  EM  GARANTIA, EMISSÃO  DE CÉDULA DE CRÉDITO IMOBILIÁRIO  – CCI E OUTRAS AVENÇAS  Nº 0001133420/RC   Esta página é parte integrante e inseparável do Instrumento Particular de Compra e Venda de Imóvel, Financiamento com Pacto Adjeto de Alienação Fiduciária em Garantia, Emissão de Cédula de Crédito Imobiliário – CCI e Outras Avenças nº 0001133420/RC  2. Condições do Financiamento 2.1. Encargos Remuneratórios  2.1.1. Juros de 0,68% a.m. exponencial ao mês, equivalente a de 8,4722% a.a. exponencial ao ano. 2.1.2. ÍNDICE: MENSAL do IPCA, tomando-se por base a variação do índice do se-gundo mês anterior ao da assinatura deste contrato, inclusive, e o índice relativo ao segundo mês anterior ao do efetivo pagamento de cada encargo.  2.1.3. Sistema de Amortização: SAC                                             VISTO DO(S) DEVEDOR(ES): ____________________________________ 2.2. Custo Efetivo Total (CET): 10,7135% a.a. 2.3. Valor Mensal dos Prêmios de Seguro:  2.3.1. Seguradora MIP: GEO CONVÊNIO DE SEGUROS  – NÚCLEO DE SEGUROS CBIC  2.3.1.1 Alíquota de MIP (%): 0,021% 2.3.1.2 MIP (Morte e Invalidez Permanente ): R$ 63,36 2.3.2 Seguradora DFI: GEO CONVÊNIO DE SEGUROS  – NÚCLEO DE SEGUROS CBIC  2.3.2.1. Alíquota de DFI (%):  0,007% 2.3.2.2. DFI (Danos Físicos do Imóvel):  R$ 34,37 2.3.3. Taxa Mensal de Gestão e Administração do Crédito:  R$ 25,00 2.4. Forma de Pagamento  2.4.1.  PRAZO DE AMORTIZAÇÃO : 360 Meses 2.4.2.  N.º DE PRESTAÇÕES:  359 2.4.3.  PERIODICIDADE  DE VENCIMENTO:  Mensal 2.4.4.  DATA DE VENCIMENTO DA PRIMEIRA PRESTAÇÃO:  15/09/2022 2.4.5.  DATA DE VENCIMENTO DA ÚLTIMA PRESTAÇÃO:  15/07/2052 2.4.6.  MODO DE PAGAMENTO DAS PRESTAÇÕES MENSAIS : Boleto Bancário  2.4.7.  VALOR  DA  PARCELA  MENSAL  (AMORTIZAÇÃO  E  JUROS),  NESTA  DATA: R$ 2.900,07  2.4.8.  VALOR TOTAL DO PRIMEIRO ENCARGO, NESTA DATA:  R$ 3.022,80       2.4.9. PRAÇA DE PAGAMENTO:  Cidade De São Paulo, Estado De São Paulo . 3. Tributos e Contribuições:  Este documento foi assinado digitalmente por Rodrigo Pimenta Parreira, Ana Carolina Resende Gomes Cioletti, Romilton Cioletti, Henrique Cesar Pedroso Scripelliti, Marcelo Buosi Martins, Roberto Amaral Dantas Junior e Gustavo Luis Ciuffa Bertanha. Para verificar as assinaturas vá ao site https://www.portaldeassinaturas.com.br:443 e utilize o código 817F-EAFD-CE4E-1552. Este documento foi assinado digitalmente por Rodrigo Pimenta Parreira, Ana Carolina Resende Gomes Cioletti, Romilton Cioletti, Henrique Cesar Pedroso Scripelliti, Marcelo Buosi Martins, Roberto Amaral Dantas Junior e Gustavo Luis Ciuffa Bertanha. Para verificar as assinaturas vá ao site https://www.portaldeassinaturas.com.br:443 e utilize o código 817F-EAFD-CE4E-1552.           INSTRUMENTO PARTICULAR  DE COMPRA E VENDA DE IMÓVEL, FINANCIAMENTO COM PACTO  ADJETO  DE  ALIENAÇÃO FIDUCIÁRIA  EM  GARANTIA, EMISSÃO  DE CÉDULA DE CRÉDITO IMOBILIÁRIO  – CCI E OUTRAS AVENÇAS  Nº 0001133420/RC   Esta página é parte integrante e inseparável do Instrumento Particular de Compra e Venda de Imóvel, Financiamento com Pacto Adjeto de Alienação Fiduciária em Garantia, Emissão de Cédula de Crédito Imobiliário – CCI e Outras Avenças nº 0001133420/RC  3.1.  IOF: R$ 0,00  4. Despesas 4.1. Abertura de Cadastro : R$ 9.450,00                                          [X] Incluída no Financiamento    4.2.  Tarifa de Avaliação do Imóvel: R$ 0,00                                 [  ] Incluída no Financiamento    4.3. Despesas Cartorárias de Registro: R$ 8.276,00                     [X] Incluída no Financiamento    4.4. ITBI: R$ 12.000,00                                                                   [X] Incluída no Financiamento    5. Valor Destinado ao Pagamento da Interveniente Quitante  - Saldo Devedor do Imóvel  Aplicável: [--]                 Não aplicável:  [X] 6. Valor de Compra e Venda do Imóvel:  R$ 400.000,00 (quatrocentos mil reais ) 6.1.  Valor da Entrada pago com recursos próprios do(s) Comprador(es):  R$ 130.000,00 (cento e trinta  mil  reais),  pagos até  a  data  de  assinatura  deste  Contrato,  estando  o/a(s) VENDEDOR(ES/AS) cientes e DECLARA(M), de acordo com os termos e efeitos previstos no artigo 320 do Código Civil de 2002, a plena e completa quitação a fim de que surta os devidos efeitos, não sendo cabível qualquer cobrança de mesma modalidade, tendo em vista a quitação do quanto devido.  7. Valor Líquido a Liberar do  Financiamento : R$ 270.000,00 (duzentos e setenta mil reais ) 7.1. O Valor Líquido a Liberar do Financiamento será creditado, integralmente, na conta de pagamento de titularidade do(s) COMPRADOR(ES), mantida junto ao CREDOR, abaixo especificada (“ Conta da Operação”), observado o disposto na Cláusula XVI deste Contrato. E, após dedução dos valores de IOF, Estruturação da Operação Despesas e valores devidos ao Interveniente Quitante, serão liberados, mediante débito na Conta da Operação, os recursos destinados  ao  pagamento  do(s)  VENDEDOR(ES),  em  até  5  (cinco)  dias  úteis,  após  a comprovação do registro, deste Contrato, no Serviço de Registro de Imóveis competente, mediante recepção da certidão original e atualizada da matrícula do imóvel com o registro da garantia de alienação fiduciária constituída e averbação da CCI.   Conta da Operação:  TITULAR: ROMILTON CIOLETTI  BANCO: QI SOCIEDADE DE CRÉDITO DIRETO S.A. (329)  C/C: 42808-5 AGÊNCIA: 0001 8. Da Emissão e Liberação   8.1. Data de Emissão dest e CONTRATO: 01/07/2022 8.2. Data de Liberação dos Recursos:  05/07/2022, sujeito às condições da cláusula 3.3.1  abaixo. Este documento foi assinado digitalmente por Rodrigo Pimenta Parreira, Ana Carolina Resende Gomes Cioletti, Romilton Cioletti, Henrique Cesar Pedroso Scripelliti, Marcelo Buosi Martins, Roberto Amaral Dantas Junior e Gustavo Luis Ciuffa Bertanha. Para verificar as assinaturas vá ao site https://www.portaldeassinaturas.com.br:443 e utilize o código 817F-EAFD-CE4E-1552. Este documento foi assinado digitalmente por Rodrigo Pimenta Parreira, Ana Carolina Resende Gomes Cioletti, Romilton Cioletti, Henrique Cesar Pedroso Scripelliti, Marcelo Buosi Martins, Roberto Amaral Dantas Junior e Gustavo Luis Ciuffa Bertanha. Para verificar as assinaturas vá ao site https://www.portaldeassinaturas.com.br:443 e utilize o código 817F-EAFD-CE4E-1552.           INSTRUMENTO PARTICULAR  DE COMPRA E VENDA DE IMÓVEL, FINANCIAMENTO COM PACTO  ADJETO  DE  ALIENAÇÃO FIDUCIÁRIA  EM  GARANTIA, EMISSÃO  DE CÉDULA DE CRÉDITO IMOBILIÁRIO  – CCI E OUTRAS AVENÇAS  Nº 0001133420/RC   Esta página é parte integrante e inseparável do Instrumento Particular de Compra e Venda de Imóvel, Financiamento com Pacto Adjeto de Alienação Fiduciária em Garantia, Emissão de Cédula de Crédito Imobiliário – CCI e Outras Avenças nº 0001133420/RC   V – IMÓVEL(IS) – ALIENAÇÃO FIDUCIÁRIA (“IMÓVEL”)  1. Descrição do Imóvel:  descrito no Anexo II  do presente instrumento  Matriculado sob nº 138.091, no 3º Oficial de Registro de Imóveis de Belo Horizonte/MH  Forma de aquisição: Contrato de Venda e Compra 2. Valor de avaliação do Imóvel para fins de leilão:  R$ 491.000,00.  2.1. Para efeitos de cálculo dos emolumentos de Tabelião e d e Registro, poderá ser considerado, para o Imóvel, o  valor indicado no item 2 acima.   3. Composição da renda para fins de  indenização do Seguro  Nome: ROMILTON CIOLETTI                                                                        Participação:  100%  VI – CLÁUSULA(S) ADICIONAL(IS)  1. As  Cláusulas  Especiais,  contidas  nos  campos  do  Quadro  Resumo  deste instrumento, são adicionais e complementares, as gerais, adiante dispostas, sendo que, naqueles pontos em que houver conflito, estas, especiais, prevalecerão em relação  àquelas, gerais.  2. O(s) VENDEDOR(ES) DECLARA(M), sob responsabilidade civil e  criminal: (i) não está(ão) sujeito(a/s) à apresentação da Certidão Negativa de Débitos Relativos aos Tributos Federais e à Dívida Ativa da União, administrados pela Secretaria da Receita Federal do Brasil (RFB) e pela  Procuradoria-Geral  da  Fazenda  Nacional (PGFN),  inclusive  as  contribuições  sociais previstas nas alíneas 'a' a 'd' do parágrafo único do art. 11 da Lei Federal no 8.212, de 24 de julho de 1991, uma vez que não se enquadra(m) nas hipóteses legais em que se exige, para fins de alienação de imóveis, a apresentação de referida certidão, tampouco está(ão) incurso(s) nas restrições previstas na legislação previdenciária em vigor;    3. O(s) VENDEDOR(ES) e COMPRADOR(ES) DECLARA(M), sob responsabilidade civil e criminal que: (i) o estado civil indicado em sua qualificação, no presente instrumento, foi declarado por ele(s) VENDEDOR(ES) e COMPRADOR(ES), sendo a mais pura expressão da  verdade,  estando  ciente(s)  de  que  a  omissão  ou  a  apresentação  de  informações  e/ou documentos falsos ou divergentes poderão implicar nas medidas administrativas cabíveis; (ii) Não existem processamentos perante a Justiça Brasileira de ações capazes de conduzí-los ao estado de insolvência ou ainda de eventuais empresas das quais seja sócio, tendo em vista que dispõem  e  continuarão  a dispor  de  bens  suficientes  para  garantir  quaisquer  condenações pecuniárias, sendo que a alienação do Imóvel não implicará em fraude de qualquer espécie; ( iii) não há procedimentos judiciais, administrativos, extrajudiciais ou arbitrais em seu nome, de natureza cível, tributária, trabalhista, previdenciária, ambiental e criminal, ou procedimentos judiciais, administrativos ou extrajudiciais relacionados ao Imóvel, em curso ou iminentes, que possam afetar negativamente ou impedir a celebração deste Contrato, caracterizar fraude (à execução ou a credores) ou impedir a assunção dos deveres e obrigações ora assumidos por eles. Este documento foi assinado digitalmente por Rodrigo Pimenta Parreira, Ana Carolina Resende Gomes Cioletti, Romilton Cioletti, Henrique Cesar Pedroso Scripelliti, Marcelo Buosi Martins, Roberto Amaral Dantas Junior e Gustavo Luis Ciuffa Bertanha. Para verificar as assinaturas vá ao site https://www.portaldeassinaturas.com.br:443 e utilize o código 817F-EAFD-CE4E-1552. Este documento foi assinado digitalmente por Rodrigo Pimenta Parreira, Ana Carolina Resende Gomes Cioletti, Romilton Cioletti, Henrique Cesar Pedroso Scripelliti, Marcelo Buosi Martins, Roberto Amaral Dantas Junior e Gustavo Luis Ciuffa Bertanha. Para verificar as assinaturas vá ao site https://www.portaldeassinaturas.com.br:443 e utilize o código 817F-EAFD-CE4E-1552.           INSTRUMENTO PARTICULAR  DE COMPRA E VENDA DE IMÓVEL, FINANCIAMENTO COM PACTO  ADJETO  DE  ALIENAÇÃO FIDUCIÁRIA  EM  GARANTIA, EMISSÃO  DE CÉDULA DE CRÉDITO IMOBILIÁRIO  – CCI E OUTRAS AVENÇAS  Nº 0001133420/RC   Esta página é parte integrante e inseparável do Instrumento Particular de Compra e Venda de Imóvel, Financiamento com Pacto Adjeto de Alienação Fiduciária em Garantia, Emissão de Cédula de Crédito Imobiliário – CCI e Outras Avenças nº 0001133420/RC   As presentes declarações têm  caráter irrevogável e irretratável, sendo condição  do  presente negócio.  VII – CÉDULA DE CRÉDITO IMOBILIÁRIO  – CCI  SÉRIE: 2022   NÚMERO: 0001133420/RC CRÉDITO: o que decorre, do presente instrumento, para a  CREDOR.  INTEGRAL: (X)    FRACIONÁRIA: ( )  PERCENTUAL DO CRÉDITO: 100%   VALOR DA EMISSÃO: R$ 299.726,00                                                   PRAZO (em meses): 360  CREDOR: Conforme indicado no Campo I deste Preâmbulo. DEVEDOR(ES): Conforme indicado no Campo III deste Preâmbulo.  INSTITUIÇÃO CUSTODIANTE: VÓRTX  DISTRIBUIDORA  DE  TÍTULOS  E  VALORES MOBILIÁRIOS LTDA., instituição financeira autorizada pela CVM para administrar fundos de investimentos e carteiras de valores mobiliários, por meio do Ato Declaratório nº 11.784, expedido em 30 de junho de 2011, com sede na Rua Gilberto Sabino, nº 215, conjunto 41, sala 2, Pinheiros, Cidade  de  São  Paulo,  Estado  de  São  Paulo,  CEP  05425-020,  inscrita  no  CNPJ  sob  nº 22.610.500/0001-88.  GARANTIA E IMÓVEL(IS) OBJETO DA GARANTIA: Alienação Fiduciária do(s) IMÓVEL(IS) indicado(s) no Campo V deste Preâmbulo.  N.º(S) DO(S) CADASTRO(S) IMOBILIÁRIA(S) DO(S) IMÓVEL(EIS) OBJETO DA GARANTIA INDICADO(S) NO CAMPO V DO PRÊAMBULO: nº. 3290850040218.  LOCAL DE PAGAMENTO: Conforme previsto neste instrumento.   DEMAIS CONDIÇÕES (data de vencimento, valor das prestações, crité rio de atualização monetária, taxa de juros, encargos e demais características do crédito): São as constantes do presente instrumento.    Este documento foi assinado digitalmente por Rodrigo Pimenta Parreira, Ana Carolina Resende Gomes Cioletti, Romilton Cioletti, Henrique Cesar Pedroso Scripelliti, Marcelo Buosi Martins, Roberto Amaral Dantas Junior e Gustavo Luis Ciuffa Bertanha. Para verificar as assinaturas vá ao site https://www.portaldeassinaturas.com.br:443 e utilize o código 817F-EAFD-CE4E-1552. Este documento foi assinado digitalmente por Rodrigo Pimenta Parreira, Ana Carolina Resende Gomes Cioletti, Romilton Cioletti, Henrique Cesar Pedroso Scripelliti, Marcelo Buosi Martins, Roberto Amaral Dantas Junior e Gustavo Luis Ciuffa Bertanha. Para verificar as assinaturas vá ao site https://www.portaldeassinaturas.com.br:443 e utilize o código 817F-EAFD-CE4E-1552.\""
      ]
     },
     "execution_count": 4,
     "metadata": {},
     "output_type": "execute_result"
    }
   ],
   "source": [
    "text"
   ]
  },
  {
   "cell_type": "code",
   "execution_count": 34,
   "metadata": {},
   "outputs": [],
   "source": [
    "listaDePara = {'valorTotal':'1. Valor do Financiamento: R$','tabela': 'Sistema de Amortização:','Taxa ao Mes':'2.1.1. Juros de','registro': '4.3. Despesas Cartorárias de Registro: R$','valorLiquido': '7. Valor Líquido a Liberar do  Financiamento : R$',\n",
    "                'prazoMes': 'PRAZO DE AMORTIZAÇÃO :','valorPrimeiraParcelaComEncargos':'VALOR TOTAL DO PRIMEIRO ENCARGO, NESTA DATA:  R$',\n",
    "                'valorImóvel':'Imóvel para fins de leilão:  R$','prazoContrato': 'N.º DE PRESTAÇÕES: ','ultimaParcela':'DATA DE VENCIMENTO DA ÚLTIMA PRESTAÇÃO: ','dataContrato': 'Data de Liberação dos Recursos: ',\n",
    "                'valorPrimeiraParcela':'VALOR  DA  PARCELA  MENSAL  (AMORTIZAÇÃO  E  JUROS),  NESTA  DATA: R$','primeiraParcela':'DATA DE VENCIMENTO DA PRIMEIRA PRESTAÇÃO: ','indice':'ÍNDICE: MENSAL do'\n",
    "                }\n",
    "\n",
    "#len(listaHE) # <--- Qtd de Itens na Lista\n",
    "listaKey = []\n",
    "listaValues = []\n",
    "\n",
    "for key, value in listaDePara.items():\n",
    "    inicioFrase = text.find(value,0)\n",
    "    finalFrase = inicioFrase + len(value) + 1\n",
    "    proximoEspaco = text.find(\" \", finalFrase)\n",
    "    valorExtraido = text[finalFrase:proximoEspaco]\n",
    "\n",
    "    #Ajustar Valores Númericos\n",
    "    if '.' in valorExtraido:\n",
    "        valorExtraido = valorExtraido.replace(\".\", \"\")\n",
    "        valorExtraido = valorExtraido.replace(\",\", \".\")\n",
    "    \n",
    "    #Ajustar Valores Percentuais\n",
    "    if '%' in valorExtraido:\n",
    "        valorExtraido = valorExtraido.replace(\",\", \".\")\n",
    "        valorExtraido = valorExtraido.replace(\"%\", \"\")\n",
    "        valorExtraido = round(float(valorExtraido)/100,4)\n",
    "    elif 'IPCA' or 'IGPM' in valorExtraido:\n",
    "        valorExtraido = valorExtraido.replace(\",\", \"\")\n",
    "    \n",
    "    elif key == '4.3. Despesas Cartorárias de Registro: R$':\n",
    "        #Definir Variáveis Auxiliares\n",
    "        topico4 = '4. Despesas'\n",
    "        topico5 = '5. Valor Destinado'\n",
    "\n",
    "        #Pegar posição das variáveis auxiliares no texto\n",
    "        inicioTopico = text.find(topico4, 0)\n",
    "        finalTopico = text.find(topico5, 0)\n",
    "\n",
    "        #Criar Paragráfo Auxiliar (Somente com os sub itens do tópico 4. Despesas)\n",
    "        paragrafo4 = text[inicioTopico+len(topico4)+1:finalTopico-1]\n",
    "        paragrafo4 = re.sub('\\s+',' ', paragrafo4)\n",
    "        paragrafo4\n",
    "\n",
    "        listaChave = ['4.3.','4.4.']\n",
    "        inicioItens = []\n",
    "\n",
    "        for item in listaChave:\n",
    "            inicioP = paragrafo4.find(item,0)\n",
    "            inicioItens.append(inicioP)\n",
    "            \n",
    "        item1 = paragrafo4[inicioItens[0]:inicioItens[1]-1]\n",
    "\n",
    "        listaFinal = [item1]\n",
    "        print(listaFinal)\n",
    "        listaValor = []\n",
    "\n",
    "        for itemAux in listaFinal:\n",
    "            if '[X]' in itemAux:\n",
    "                inicioAux = itemAux.find('R$ ', 0)\n",
    "                fimAux = itemAux.find(\",\", inicioAux) + 3\n",
    "                valorExtraido = itemAux[inicioAux+3:fimAux]\n",
    "            else:\n",
    "                valorExtraido = '0,00'\n",
    "    listaKey.append(key)\n",
    "    listaValues.append(valorExtraido)\n"
   ]
  },
  {
   "cell_type": "code",
   "execution_count": 35,
   "metadata": {},
   "outputs": [
    {
     "data": {
      "text/plain": [
       "{'valorTotal': '299726.00',\n",
       " 'tabela': 'SAC',\n",
       " 'Taxa ao Mes': 0.0068,\n",
       " 'registro': '8276.00',\n",
       " 'valorLiquido': '270000.00',\n",
       " 'prazoMes': '360',\n",
       " 'valorPrimeiraParcelaComEncargos': '3022.80',\n",
       " 'valorImóvel': '491000.00',\n",
       " 'prazoContrato': '359',\n",
       " 'ultimaParcela': '15/07/2052',\n",
       " 'dataContrato': '05/07/2022',\n",
       " 'valorPrimeiraParcela': '2900.07',\n",
       " 'primeiraParcela': '15/09/2022',\n",
       " 'indice': 'IPCA'}"
      ]
     },
     "execution_count": 35,
     "metadata": {},
     "output_type": "execute_result"
    }
   ],
   "source": [
    "#Criar Dicionario das duas Listas\n",
    "dict_keyValue = dict(zip(listaKey,listaValues))\n",
    "dict_keyValue"
   ]
  }
 ],
 "metadata": {
  "kernelspec": {
   "display_name": "Python 3.9.7 64-bit",
   "language": "python",
   "name": "python3"
  },
  "language_info": {
   "codemirror_mode": {
    "name": "ipython",
    "version": 3
   },
   "file_extension": ".py",
   "mimetype": "text/x-python",
   "name": "python",
   "nbconvert_exporter": "python",
   "pygments_lexer": "ipython3",
   "version": "3.9.7"
  },
  "orig_nbformat": 4,
  "vscode": {
   "interpreter": {
    "hash": "045832f79490e9a8a037a8f6e1a5c8ec877d805c4de0087de700d9a61e201314"
   }
  }
 },
 "nbformat": 4,
 "nbformat_minor": 2
}
