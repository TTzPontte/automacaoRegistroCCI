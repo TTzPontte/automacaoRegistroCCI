{
 "cells": [
  {
   "cell_type": "code",
   "execution_count": 1,
   "metadata": {},
   "outputs": [],
   "source": [
    "# importa as bibliotecas necessárias\n",
    "import PyPDF2\n",
    "import re\n",
    "import pandas as pd\n",
    "import os"
   ]
  },
  {
   "cell_type": "code",
   "execution_count": 2,
   "metadata": {},
   "outputs": [],
   "source": [
    "\n",
    "path = r'C:\\Users\\MatheusPereira\\OneDrive - Pontte\\Área de Trabalho\\automacaoRegistroCCI\\Contratos\\FI_Contrato_RNContabil_Assinatura Digital_172464-Manifesto1.pdf'\n"
   ]
  },
  {
   "cell_type": "code",
   "execution_count": 3,
   "metadata": {},
   "outputs": [
    {
     "data": {
      "text/plain": [
       "['FI_Contrato_Cristiano_Assinatura Digital-Manifesto.pdf',\n",
       " 'FI_Contrato_Fabiana_Assinatura Digital.pdf',\n",
       " 'FI_Contrato_Jonathan_Assinatura Digital-Assinado.pdf',\n",
       " 'FI_Contrato_Juliana_Assinatura Digital.pdf',\n",
       " 'FI_Contrato_RNContabil_Assinatura Digital_172464-Manifesto1.pdf',\n",
       " 'FI_Contrato_Romilton_Assinatura Digital-Manifesto.pdf',\n",
       " 'HE_Contrato_Agostinho_Assinatura Digital_VFinal.pdf',\n",
       " 'HE_Contrato_Conrado_Assinatura Digital_VFinal - Conrado.pdf',\n",
       " 'HE_Contrato_HU YAN_Cambuci_Assinatura Digital_VFinal.pdf',\n",
       " 'HE_Contrato_HU YAN_Se_Assinatura Digital_VFinal.pdf',\n",
       " 'HE_Contrato_Margareide_Assinatura Digital_VFinal.pdf',\n",
       " 'HE_Contrato_Oliboni _Assinatura Digital_VFinal.pdf',\n",
       " 'HE_Contrato_PatriciaMarcondes_Assinatura Digital_VFinal.pdf',\n",
       " 'HE_Contrato_Vagner_Assinatura Digital_VFinal-Manifesto.pdf']"
      ]
     },
     "execution_count": 3,
     "metadata": {},
     "output_type": "execute_result"
    }
   ],
   "source": [
    "# Teste de criação de lista de arquivos\n",
    "\n",
    "files_dir = r\"C:\\Users\\MatheusPereira\\OneDrive - Pontte\\Área de Trabalho\\automacaoRegistroCCI\\Contratos\"\n",
    "contratoFiles = [f for f in os.listdir(files_dir) if f.endswith(\".pdf\")]\n",
    "contratoFiles"
   ]
  },
  {
   "cell_type": "code",
   "execution_count": 4,
   "metadata": {},
   "outputs": [],
   "source": [
    "# Abre o arquivo pdf \n",
    "i = 2\n",
    "pdf_file = os.path.join(files_dir, contratoFiles[i])\n"
   ]
  },
  {
   "cell_type": "code",
   "execution_count": 5,
   "metadata": {},
   "outputs": [],
   "source": [
    "#Faz a leitura usando a biblioteca\n",
    "read_pdf = PyPDF2.PdfFileReader(pdf_file)\n",
    "\n",
    "# pega o numero de páginas\n",
    "number_of_pages = read_pdf.getNumPages()\n",
    "\n",
    "#Extriar Texto Página 1 a 5\n",
    "text=''\n",
    "for i in range(0,6):\n",
    "    #Ler Página PDF\n",
    "    pageObj = read_pdf.getPage(i)\n",
    "    #Extrair Texto\n",
    "    text=text+pageObj.extractText()\n",
    "\n",
    "#Tratar Texto (Remover Quebra de Linhas)\n",
    "text = re.sub('\\r', '', text) \n",
    "text = re.sub('\\n', '', text)\n",
    "text = re.sub(' {2,}', ' ', text).strip(' ')\n",
    "text = re.sub(' :', ':', text)"
   ]
  },
  {
   "cell_type": "code",
   "execution_count": 6,
   "metadata": {},
   "outputs": [
    {
     "data": {
      "text/plain": [
       "\"INSTRUMENTO PARTICULAR DE COMPRA E VENDA DE IMÓVEL, FINANCIAMENTO COM PACTO ADJETO DE ALIENAÇÃO FIDUCIÁRIA EM GARANTI A, EMISSÃO DE CÉDULA DE CRÉDITO IMOBILIÁRIO – CCI E OUTRAS AVENÇAS Nº 0001787130/JJH Esta página é parte integrante e inseparável do Instrumento Particular de Compra e Ven da de Imóvel, Financiamento com Pacto Adjeto de Alienação Fiduciária em Garantia, Emissão de Cédula de Crédito Imobiliário – CCI e Outras Avenças nº 0001787130/JJH Página1 CAMPO 1 – CREDORA RAZÃO SOCIAL: QI SOCIEDADE DE CRÉDITO DIRETO S.A. ENDEREÇO COMERCIAL: Avenida Brigadeiro Faria Lima, nº 2.391, 1º andar COMPLEMENTO: Conjunto 12 BAIRRO: Jardim Paulistano CIDADE: São Paulo UF: SP CEP: 01452-000 CNPJ: 32.402.502/0001-35 DATA DA CONSTITUIÇÃO: 10/01/2019 REGISTRO JUCESP: 35300530225 REPRESENTANTES: Roberto Amaral Dantas Junior, brasileiro, portador da cédula de identidade RG nº 50.016.943-3 SSP/SP e inscrito no CPF sob nº 400.516.238-03, nos termos da Procuração Pública lavrada pelo 1º Tabelião de Notas de São Paulo/SP no livro 4831, página 341 Rogério de Almeida Domingues / CPF: 315.191.258-36 Lucas de Jesus Clarim / CPF: 109.323.276-56 Marcelo Buosi Martins / CPF: 380.261.198-51 CAMPO 2 - VENDEDOR (ES/AS) NOME: GUSTAVO BRAGA MERCHER COUTINHO CPF: 091.264.797-37 DATA DE NASCIMENTO: 02/10/2981 FILIAÇÃO: ALCEDO MERCHER COUTINHO e JOSELIA BRAGA COUTINHO IDENTIDADE (tipo/número): RG: 114197221 ÓRGÃO EMISSOR: IFPRJ NACIONALIDADE: BRASILEIRA PROFISSÃO: ECONOMISTA ESTADO CIVIL: CASADO com a Vendedora REGIME DE CASAMENTO (SE FOR CASADO): COMUNHÃO PARCIAL DE BENS, sob vigên-cia da Lei 6.515/77 NOME: JULIANA DA ROSA MONTEIRO MERCHER CPF: 095.826.567-43 DATA DE NASCIMENTO: 04/08/1983 FILIAÇÃO: PAULO ROBERTO SIQUEIRA e VIRGINIA LUCIA DA ROSA MONTEIRO IDENTIDADE (tipo/número): RG: 13.313.521-0 ÓRGÃO EMISSOR: SECC/RJ NACIONALIDADE: BRASILEIRA PROFISSÃO: JORNALISTA ESTADO CIVIL: CASADA com o Vendedor REGIME DE CASAMENTO (SE FOR CASADO): COMUNHÃO PARCIAL DE BENS, sob vigên-cia da Lei 6.515/77 ENDEREÇO RESIDENCIAL E DOMICILIAR: AV DR CARDOSO DE MELO, 841 COMPLEMENTO: APTO 132 BAIRRO: VILA OLÍMPIA CIDADE: SÃO PAULO UF: SP CEP: 04548-003 Documento assinado no Assinador Registro de Imóveis. Para validar o documento e suas assinaturas acesse https://assinador.registrodeimoveis.org.br/validate/DG3HF-M7UJD-XSY38-42S9Q. INSTRUMENTO PARTICULAR DE COMPRA E VENDA DE IMÓVEL, FINANCIAMENTO COM PACTO ADJETO DE ALIENAÇÃO FIDUCIÁRIA EM GARANTI A, EMISSÃO DE CÉDULA DE CRÉDITO IMOBILIÁRIO – CCI E OUTRAS AVENÇAS Nº 0001787130/JJH Esta página é parte integrante e inseparável do Instrumento Particular de Compra e Ven da de Imóvel, Financiamento com Pacto Adjeto de Alienação Fiduciária em Garantia, Emissão de Cédula de Crédito Imobiliário – CCI e Outras Avenças nº 0001787130/JJH Página2 TELEFONE(S): (21) 98118-0175 e (21) 98604-5144 EMAIL: julinha_rosa@yahoo.com.br e gustavo.coutinho@agnet.com.br Conta Corrente para Crédito: Titular: GUSTAVO BRAGA MERCHER COUTINHO Banco: SANTANDER Conta Corrente Nº: 01001506-2 Agência: 4207 CAMPO 3 - COMPRADOR(ES)/DEVEDOR(ES) E ANUENTE(S) NOME: JONATHAN JIN HYUK KIM CPF: 470.330.088-56 DATA DE NASCIMENTO: 09/02/1997 FILIAÇÃO: WON SUK KIM e YOO SUN YUN IDENTIDADE (tipo/número): RG: 35.698.836-3 ÓRGÃO EMISSOR: SSP/SP NACIONALIDADE: BRASILEIRA PROFISSÃO: ADMINISTRADOR ESTADO CIVIL: SOLTEIRO REGIME DE CASAMENTO (SE FOR CASADO): N/A ENDEREÇO RESIDENCIAL E DOMICILIAR: RUA PRINCESA ISABEL, 17 COMPLEMENTO: APTO. 84, BL A BAIRRO: BROOKLIN CIDADE: SÃO PAULO UF: SP CEP: 04601-000 TELEFONE(S): (11) 99949-1159 EMAIL: jonaak097@gmail.com IV - CARACTERÍSTICAS DO FINANCIAMENTO 1. Valor do Financiamento: R$ 873.064,00 2. Condições do Financiamento 2.1. Encargos Remuneratórios 2.1.1. Juros de 0,7600% a.m. exponencial ao mês, equivalente a de 9,5110% a.a. exponencial ao ano. 2.1.2. ÍNDICE: MENSAL do IPCA, tomando-se por base a variação do índice do segundo mês anterior ao da assinatura deste contrato, inclusive, e o índice relativo ao segundo mês anterior ao do efetivo pagamento de cada encargo. 2.1.3. Sistema de Amortização: SAC VISTO DO(S) DEVEDOR(ES): _______________________________ _____ 2.2. Custo Efetivo Total (CET): 11,7152% a.a. Documento assinado no Assinador Registro de Imóveis. Para validar o documento e suas assinaturas acesse https://assinador.registrodeimoveis.org.br/validate/DG3HF-M7UJD-XSY38-42S9Q. INSTRUMENTO PARTICULAR DE COMPRA E VENDA DE IMÓVEL, FINANCIAMENTO COM PACTO ADJETO DE ALIENAÇÃO FIDUCIÁRIA EM GARANTI A, EMISSÃO DE CÉDULA DE CRÉDITO IMOBILIÁRIO – CCI E OUTRAS AVENÇAS Nº 0001787130/JJH Esta página é parte integrante e inseparável do Instrumento Particular de Compra e Ven da de Imóvel, Financiamento com Pacto Adjeto de Alienação Fiduciária em Garantia, Emissão de Cédula de Crédito Imobiliário – CCI e Outras Avenças nº 0001787130/JJH Página3 2.3. Valor Mensal dos Prêmios de Seguro: 2.3.1. Seguradora MIP: GEO CONVÊNIO DE SEGUROS – NÚCLEO DE SEGUROS CBIC 2.3.1.1 Alíquota de MIP (%): 0,021% 2.3.1.2 MIP (Morte e Invalidez Permanente): R$ 183,85 2.3.2 Seguradora DFI: GEO CONVÊNIO DE SEGUROS – NÚCLEO DE SEGUROS CBIC 2.3.2.1. Alíquota de DFI (%): 0,007% 2.3.2.2. DFI (Danos Físicos do Imóvel): R$ 78,33 2.3.3. Taxa Mensal de Gestão e Administração do Crédito: R$ 25,00 2.4. Forma de Pagamento 2.4.1 . PRAZO DE AMORTIZAÇÃO: 360 Meses 2.4.2. N.º DE PRESTAÇÕES: 360 2.4.3. PERIODICIDADE DE VENCIMENTO: Mensal 2.4.4. DATA DE VENCIMENTO DA PRIMEIRA PRESTAÇÃO: 01/11/2022 2.4.5. DATA DE VENCIMENTO DA ÚLTIMA PRESTAÇÃO: 01/ 10/2052 2.4.6. MODO DE PAGAMENTO DAS PRESTAÇÕES MENSAIS: Boleto Bancário 2.4.7. VALOR DA PARCELA MENSAL (AMORTIZAÇÃO E JUROS), NES TA DATA: R$ 9.110,91 2.4.8. VALOR TOTAL DO PRIMEIRO ENCARGO, NESTA DATA: R$ 9.398,09 2.4. 9. PRAÇA DE PAGAMENTO: Cidade De São Paulo, Estado De São Paulo. 3. Tributos e Contribuições: 3.1. IOF: R$ 0,00 4. Despesas 4.1. Abertura de Cadastro: R$ 27.650,00 [X] Incluída no Financiamento 4.2. Tarifa de Avaliação do Imóvel: R$ 0,00 [ ] Incluída no Financiamento 4.3. Despesas Cartorárias de Registro: R$ 22.414,00 [X] Incluída no Financiamento 4.4. ITBI: R$ 33.000,00 [X] Incluída no Financiamen to 5. Valor Destinado ao Pagamento da Interveniente Quita nte - Saldo Devedor do Imóvel Aplicável: [X] Não aplicável: [ ] Documento assinado no Assinador Registro de Imóveis. Para validar o documento e suas assinaturas acesse https://assinador.registrodeimoveis.org.br/validate/DG3HF-M7UJD-XSY38-42S9Q. INSTRUMENTO PARTICULAR DE COMPRA E VENDA DE IMÓVEL, FINANCIAMENTO COM PACTO ADJETO DE ALIENAÇÃO FIDUCIÁRIA EM GARANTI A, EMISSÃO DE CÉDULA DE CRÉDITO IMOBILIÁRIO – CCI E OUTRAS AVENÇAS Nº 0001787130/JJH Esta página é parte integrante e inseparável do Instrumento Particular de Compra e Ven da de Imóvel, Financiamento com Pacto Adjeto de Alienação Fiduciária em Garantia, Emissão de Cédula de Crédito Imobiliário – CCI e Outras Avenças nº 0001787130/JJH Página4 O(s) VENDEDOR(ES), qualificados no Quadro II do preâ mbulo, DECLARA(M) estar ciente(s) de que o CREDOR quitará o saldo devedor de seu financiamen to, junto ao Banco Santander (Brasil) S.A. CNPJ/MF sob nº 90.400.888/0001- 42 (“Interveniente Quitante”), registrado sob o n.º 11, da matrícula nº. 189.204 do Livro 2 de Registro Geral do 4º Oficial de Registro de Imóv eis de São Paulo/SP, no valor de R$ 133.764,30 (cento e trinta e três mil, setece ntos e sessenta e quatro reais e trinta centavos). 6. Valor de Compra e Venda do Imóvel: R$ 1.100.000,00 (um milhão e cem mil reais) 6.1. Valor da Entrada pago com recursos próprios do(s) Comprador(es): R$ 310.000 ,00 (trezentos e dez mil reais ), sendo em 2 (duas) parcelas: (i) R$ 280.000,00 (duzentos e oitenta mil reais) pagos até a data de assinatura deste Contrato , estando o/a(s) VENDEDOR(ES/AS) cientes e DECLARA(M), de acordo com os termos e efeitos previ stos no artigo 320 do Código Civil de 2002, a plena e completa quitação a fim de que s urta os devidos efeitos, não sendo cabível qualquer cobrança de mesma modalidade, tendo em vis ta a quitação do quanto devido e (ii) R$ 30.000,00 (trinta mil reais) a serem pagos a prazo, conforme acordo estabelecido entre os Vendedores e o Comprador. 7. Valor Líquido a Liberar do Financiamento: R$ 790.000,00 (setecentos e noventa mil reais) 7.1. O Valor Líquido a Liberar do Financiamento será cre ditado, integralmente, na conta de pagamento de titularidade do(s) COMPRADOR(ES), mant ida junto ao CREDOR, abaixo especificada (“ Conta da Operação ”), observado o disposto na Cláusula XVI deste Cont rato. E, após dedução dos valores de IOF, Estruturação da Operação Despesas e valores devidos ao Interveniente Quitante, serão liberados, mediante d ébito na Conta da Operação, os recursos destinados ao pagamento do(s) VENDEDOR(ES), em até 5 (cinco) dias úteis, após a comprovação do registro, deste Contrato, no Serviço de Registro de Imóveis competente, mediante recepção da certidão original e atualizada da matrícula do imóvel com o registro da garantia de alienação fiduciária constituída e aver bação da CCI. Conta da Operação: TITULAR: JONATHAN JIN HYUK KIM BANCO: QI SOCIEDADE DE CRÉDITO DIRETO S.A. (329) C/C: 56930 -0 AGÊNCIA:0001 8. Da Emissão e Liberação 8.1. Data de Emissão deste CONTRATO: 06/09/2022 8.2. Data de Liberação dos Recursos: 09/09/2022 , sujeito às cláusulas 3.3.1 abaixo. V – IMÓVEL(IS) – ALIENAÇÃO FIDUCIÁRIA (“IMÓVEL”) Documento assinado no Assinador Registro de Imóveis. Para validar o documento e suas assinaturas acesse https://assinador.registrodeimoveis.org.br/validate/DG3HF-M7UJD-XSY38-42S9Q. INSTRUMENTO PARTICULAR DE COMPRA E VENDA DE IMÓVEL, FINANCIAMENTO COM PACTO ADJETO DE ALIENAÇÃO FIDUCIÁRIA EM GARANTI A, EMISSÃO DE CÉDULA DE CRÉDITO IMOBILIÁRIO – CCI E OUTRAS AVENÇAS Nº 0001787130/JJH Esta página é parte integrante e inseparável do Instrumento Particular de Compra e Ven da de Imóvel, Financiamento com Pacto Adjeto de Alienação Fiduciária em Garantia, Emissão de Cédula de Crédito Imobiliário – CCI e Outras Avenças nº 0001787130/JJH Página5 1. Descrição do Imóvel: descrito no Anexo II do presen te instrumento Matriculado sob nº 189.204, no 4º Oficial de Registro de Imóveis de São Paulo/SP Forma de aquisição: Contrato de Venda e Compra 2. Valor de avaliação do Imóvel para fins de leilão: R$ 1.119.000,00 . 2.1. Para efeitos de cálculo dos emolumentos de Tabelião e de Registro, poderá ser considerado, para o Imóvel, o valor indicado no item 2 acima. 3. Composição da renda para fins de indenização do Seg uro Nome: JONATHAN JIN HYUK KIM Participação: 100% VI – CLÁUSULA(S) ADICIONAL(IS) 1. As Cláusulas Especiais, contidas nos campos do Quadro Resumo deste instrumento, são adicionais e complementares, as gerais, adiante dispostas, sendo que, naqueles pontos em que houver conflito, estas, especiais, prevalecerão em relação àquelas, gerais. 2. O(s) VENDEDOR(ES) DECLARA(M) , sob responsabilidade civil e criminal: (i) não está(ão) sujeito(a/s) à apresentação da Certidão Negativa de Débitos Relativos aos Tributos Federais e à Dívida Ativa da União, administrados pela Secretaria da Receita Federal do Brasil (RFB) e pela Procuradoria-Geral da Fazenda Nacional (PGFN), inclusive as contribuições sociais previstas nas alíneas 'a' a 'd' do parágrafo único do art. 11 da Lei Federal no 8.212, de 24 de julho de 1991, uma vez que não se enquadra(m) nas hipóteses legais em que se exige, para fins de alienação de imóveis, a apresentação de referida certidão, tampouco está(ão) incurso(s) nas restrições previstas na legislação previdenciária em vigor; 3. O(s) VENDEDOR(ES) e COMPRADOR(ES) DECLARA(M) , sob responsabilidade civil e criminal que: ( i) o estado civil indicado em sua qualificação, no presente instrumento, foi declarado por ele(s) VENDEDOR(ES) e COMPRADOR(ES), sendo a mais pura expressão da verdade, estando ciente(s) de que a omissão ou a apresentação de informações e/ou documentos falsos ou divergentes poderão implicar nas medidas administrativas cabíveis; (ii) Não existem processamentos perante a Justiça Brasileira de ações capazes de conduzí-los ao estado de insolvência ou ainda de eventuais empresas das quais seja sócio, tendo em vista que dispõem e continuarão a dispor de bens suficientes para garantir quaisquer condenações pecuniárias, sendo que a alienação do Imóvel não implicará em fraude de qualquer espécie; ( iii) não há procedimentos judiciais, administrativos, extrajudiciais ou arbitrais em seu nome, de natureza cível, tributária, trabalhista, previdenciária, ambiental e criminal, ou procedimentos judiciais, administrativos ou extrajudiciais relacionados ao Imóvel, em curso ou iminentes, que possam afetar negativamente ou impedir a celebração deste Contrato, caracterizar fraude (à execução ou a credores) ou impedir a assunção dos deveres e obrigações ora assumidos por eles. Documento assinado no Assinador Registro de Imóveis. Para validar o documento e suas assinaturas acesse https://assinador.registrodeimoveis.org.br/validate/DG3HF-M7UJD-XSY38-42S9Q. INSTRUMENTO PARTICULAR DE COMPRA E VENDA DE IMÓVEL, FINANCIAMENTO COM PACTO ADJETO DE ALIENAÇÃO FIDUCIÁRIA EM GARANTI A, EMISSÃO DE CÉDULA DE CRÉDITO IMOBILIÁRIO – CCI E OUTRAS AVENÇAS Nº 0001787130/JJH Esta página é parte integrante e inseparável do Instrumento Particular de Compra e Ven da de Imóvel, Financiamento com Pacto Adjeto de Alienação Fiduciária em Garantia, Emissão de Cédula de Crédito Imobiliário – CCI e Outras Avenças nº 0001787130/JJH Página6 As presentes declarações têm caráter irrevogável e irretratável, sendo condição do presente negócio . VII – CÉDULA DE CRÉDITO IMOBILIÁRIO – CCI SÉRIE: 2022 NÚMERO: 0001787130/JJH CRÉDITO: o que decorre, do presente instrumento, para a CREDOR. INTEGRAL: (X) FRACIONÁRIA: ( ) PERCENTUAL DO CRÉDITO: 100% VALOR DA EMISSÃO: R$ 873.064,00 PRAZO (em meses): 360 CREDOR: Conforme indicado no Campo I deste Preâmbulo. DEVEDOR(ES): Conforme indicado no Campo III deste Preâmbulo. INSTITUIÇÃO CUSTODIANTE: VÓRTX DISTRIBUIDORA DE TÍTULOS E VALORES MOBILIÁRIOS LTDA. , instituição financeira autorizada pela CVM para administrar fundos de investimentos e carteiras de valores mobiliários, por meio do Ato Declaratório nº 11.784, expedido em 30 de junho de 2011, com sede na Rua Gilberto Sabino, nº 215, conjunto 41, sala 2, Pinheiros, Cidade de São Paulo, Estado de São Paulo, CEP 05425-020, inscrita no CNPJ sob nº 22.610.500/0001-88. GARANTIA E IMÓVEL(IS) OBJETO DA GARANTIA: Alienação Fiduciária do(s) IMÓVEL(IS) indicado(s) no Campo V deste Preâmbulo. N.º(S) DO(S) CADASTRO(S) IMOBILIÁRIA(S) DO(S) IMÓVEL(EIS) OBJETO DA GARANTIA INDICADO(S) NO CAMPO V DO PRÊAMBULO: nº. 299.100.0271-8. LOCAL DE PAGAMENTO: Conforme previsto neste instrumento. DEMAIS CONDIÇÕES (data de vencimento, valor das pre stações, critério de atualização monetária, taxa de juros, encargos e demais características do crédito): São as constantes do presente instrument o. Documento assinado no Assinador Registro de Imóveis. Para validar o documento e suas assinaturas acesse https://assinador.registrodeimoveis.org.br/validate/DG3HF-M7UJD-XSY38-42S9Q.\""
      ]
     },
     "execution_count": 6,
     "metadata": {},
     "output_type": "execute_result"
    }
   ],
   "source": [
    "text"
   ]
  },
  {
   "cell_type": "code",
   "execution_count": 7,
   "metadata": {},
   "outputs": [],
   "source": [
    "listaDePara = {'valorTotal':'1. Valor do Financiamento: R$','tabela': 'Sistema de Amortização:','Taxa ao Mes':'2.1.1. Juros de','registro':'4.3. Despesas','valorLiquido': '7. Valor Líquido a Liberar do Financiamento: R$',\n",
    "                'prazoMes': 'PRAZO DE AMORTIZAÇÃO:','valorPrimeiraParcelaComEncargos':'VALOR TOTAL DO PRIMEIRO ENCARGO, NESTA DATA: R$',\n",
    "                'valorImóvel':'Imóvel para fins de leilão: R$','prazoContrato': 'N.º DE PRESTAÇÕES:','ultimaParcela':'DATA DE VENCIMENTO DA ÚLTIMA PRESTAÇÃO:','dataContrato': 'Data de Liberação dos Recursos:',\n",
    "                'valorPrimeiraParcela':'), NESTA DATA: R$','primeiraParcela':'DATA DE VENCIMENTO DA PRIMEIRA PRESTAÇÃO:','indice':'ÍNDICE: MENSAL do'\n",
    "                }\n",
    "\n",
    "listaKey = []\n",
    "listaValues = []\n",
    "\n",
    "for key, value in listaDePara.items():\n",
    "    if key == 'registro':\n",
    "\n",
    "        inicFrase = '4.3. Despesas'\n",
    "        fimFrase = 'Registro: R$'\n",
    "\n",
    "        #Pegar posição das variáveis auxiliares no texto\n",
    "        inicioTopico = text.find(inicFrase, 0)\n",
    "        finalTopico = text.find(fimFrase, 0)\n",
    "\n",
    "        #Criar Paragráfo Auxiliar (Somente com os sub itens do tópico 4. Despesas)\n",
    "        paragrafo4 = text[inicioTopico+len(inicFrase)+1:finalTopico-1]\n",
    "        value = f'{inicFrase} {paragrafo4} {fimFrase}'\n",
    "        \n",
    "        \n",
    "\n",
    "  \n",
    "    inicioFrase = text.find(value,0)\n",
    "    finalFrase = inicioFrase + len(value) + 1\n",
    "    proximoEspaco = text.find(\" \", finalFrase)\n",
    "    valorExtraido = text[finalFrase:proximoEspaco]\n",
    "\n",
    "    #Ajustar Valores Númericos\n",
    "    if '.' in valorExtraido:\n",
    "        valorExtraido = valorExtraido.replace(\".\", \"\")\n",
    "        valorExtraido = valorExtraido.replace(\",\", \".\")\n",
    "    \n",
    "    #Ajustar Valores Percentuais\n",
    "    if '%' in valorExtraido:\n",
    "        valorExtraido = valorExtraido.replace(\",\", \".\")\n",
    "        valorExtraido = valorExtraido.replace(\"%\", \"\")\n",
    "        valorExtraido = round(float(valorExtraido)/100,4)\n",
    "    elif 'IPCA' or 'IGPM' in valorExtraido:\n",
    "        valorExtraido = valorExtraido.replace(\",\", \"\")\n",
    "    \n",
    "    elif key == 'registro':\n",
    "        #Definir Variáveis Auxiliares\n",
    "        topico4 = '4. Despesas'\n",
    "        topico5 = '5. Valor Destinado'\n",
    "\n",
    "        #Pegar posição das variáveis auxiliares no texto\n",
    "        inicioTopico = text.find(topico4, 0)\n",
    "        finalTopico = text.find(topico5, 0)\n",
    "\n",
    "        #Criar Paragráfo Auxiliar (Somente com os sub itens do tópico 4. Despesas)\n",
    "        paragrafo4 = text[inicioTopico+len(topico4)+1:finalTopico-1]\n",
    "        paragrafo4 = re.sub('\\s+',' ', paragrafo4)\n",
    "\n",
    "        listaChave = ['4.3.','4.4.']\n",
    "        inicioItens = []\n",
    "\n",
    "        for item in listaChave:\n",
    "            inicioP = paragrafo4.find(item,0)\n",
    "            inicioItens.append(inicioP)\n",
    "            \n",
    "        item1 = paragrafo4[inicioItens[0]:inicioItens[1]-1]\n",
    "\n",
    "        listaFinal = [item1]\n",
    "        print(listaFinal)\n",
    "        listaValor = []\n",
    "\n",
    "        for itemAux in listaFinal:\n",
    "            if '[X]' in itemAux:\n",
    "                inicioAux = itemAux.find('R$ ', 0)\n",
    "                fimAux = itemAux.find(\",\", inicioAux) + 3\n",
    "                valorExtraido = itemAux[inicioAux+3:fimAux]\n",
    "            else:\n",
    "                valorExtraido = '0,00'\n",
    "    listaKey.append(key)\n",
    "    listaValues.append(valorExtraido)\n"
   ]
  },
  {
   "cell_type": "code",
   "execution_count": 8,
   "metadata": {},
   "outputs": [
    {
     "data": {
      "text/plain": [
       "'189.204'"
      ]
     },
     "execution_count": 8,
     "metadata": {},
     "output_type": "execute_result"
    }
   ],
   "source": [
    "# Extraindo numero da matricula\n",
    "inicioFrase = text.find('Matriculado sob nº ',0)\n",
    "finalFrase = inicioFrase + len('Matriculado sob nº') + 1\n",
    "ultimaMatricula = text.find(\"no\", finalFrase)\n",
    "valorExtraido = text[finalFrase:ultimaMatricula]\n",
    "valorExtraido = valorExtraido.replace(\",\", \"\")\n",
    "valorExtraido = valorExtraido.replace(\" \", \"\")\n",
    "\n",
    "listaKey.append('Matrícula')\n",
    "listaValues.append(valorExtraido)\n",
    "valorExtraido"
   ]
  },
  {
   "cell_type": "code",
   "execution_count": 9,
   "metadata": {},
   "outputs": [
    {
     "data": {
      "text/plain": [
       "'4º Oficial de Registro de Imóveis de São Paulo/S'"
      ]
     },
     "execution_count": 9,
     "metadata": {},
     "output_type": "execute_result"
    }
   ],
   "source": [
    "# Extraindo cartório\n",
    "inicioFrase = text.find(f'Matriculado sob nº {valorExtraido}, no',0)\n",
    "finalFrase = inicioFrase + len(f'Matriculado sob nº {valorExtraido}, no') + 1\n",
    "ultimaMatricula = text.find(\"Forma de aquisição\", finalFrase)\n",
    "valorExtraido = text[finalFrase:ultimaMatricula-2]\n",
    "\n",
    "listaKey.append('Cartório')\n",
    "listaValues.append(valorExtraido)\n",
    "valorExtraido"
   ]
  },
  {
   "cell_type": "code",
   "execution_count": 10,
   "metadata": {},
   "outputs": [],
   "source": [
    " # Extraindo Titular\n",
    "inicioFrase = text.find('COMPRADOR(ES)/DEVEDOR(ES) E ANUENTE(S) NOME: ',0)\n",
    "finalFrase = inicioFrase + len('COMPRADOR(ES)/DEVEDOR(ES) E ANUENTE(S) NOME: ')\n",
    "ultimaMatricula = text.find(\"CPF: \", finalFrase)\n",
    "valorExtraido = text[finalFrase:ultimaMatricula]\n",
    "listaKey.append('Titular do Contrato')\n",
    "listaValues.append(valorExtraido.strip())"
   ]
  },
  {
   "cell_type": "code",
   "execution_count": 11,
   "metadata": {},
   "outputs": [
    {
     "name": "stdout",
     "output_type": "stream",
     "text": [
      "JONATHAN JIN HYUK KIM \n"
     ]
    }
   ],
   "source": [
    "# Extraindo titular\n",
    "campo3 = 'CAMPO 3 -'        # intervalo de extração \n",
    "campo4 = 'CARACTERÍSTICAS DO FINANCIAMENTO'\n",
    "operacao = 'PF'\n",
    "# Pegar posição das variáveis auxiliares no texto\n",
    "inicioTopico = text.find(campo3, 0)\n",
    "finalTopico = text.find(campo4, 0)\n",
    "\n",
    "# Criar Paragráfo Auxiliar (Somente com os sub itens do tópico 4. Despesas)\n",
    "campoTitular= text[inicioTopico+len(campo3)+1:finalTopico-1]\n",
    "campoTitular = re.sub('\\s+',' ', campoTitular)\n",
    "if 'RAZÃO SOCIAL' in campoTitular:\n",
    "    operacao = 'PJ'\n",
    "    inicioFrase = campoTitular.find('RAZÃO SOCIAL: ',0)\n",
    "    finalFrase = inicioFrase + len('RAZÃO SOCIAL: ')\n",
    "    fimTitular = campoTitular.find(\"ENDEREÇO\", finalFrase)\n",
    "    valorExtraido = campoTitular[finalFrase:fimTitular]\n",
    "    print(valorExtraido)\n",
    "    listaKey.append('Titular')\n",
    "    listaValues.append(valorExtraido)\n",
    "elif 'FIDUCIANTE NOME:':\n",
    "    operacao = 'PF'\n",
    "    inicioFrase = campoTitular.find('ANUENTE(S) NOME: ',0)\n",
    "    finalFrase = inicioFrase + len('ANUENTE(S) NOME: ')\n",
    "    fimTitular = campoTitular.find(\"CPF\", finalFrase)\n",
    "    valorExtraido = campoTitular[finalFrase:fimTitular]\n",
    "    print(valorExtraido)\n",
    "    listaKey.append('Titular')\n",
    "    listaValues.append(valorExtraido)\n"
   ]
  },
  {
   "cell_type": "code",
   "execution_count": 12,
   "metadata": {},
   "outputs": [
    {
     "data": {
      "text/plain": [
       "'PRA E VENDA DE IMÓVEL, FINANCIAMENTO COM PACTO ADJETO DE ALIENAÇÃO FIDUCIÁRIA EM GARANTI A, EMISSÃO DE CÉDULA DE CRÉDITO IMOBILIÁRIO – CCI E OUTRAS AVENÇAS Nº 0001787130/JJH Esta página é parte integrante e inseparável do Instrumento Particular de Compra e Ven da de Imóvel, Financiamento com Pacto Adjeto de Alienação Fiduciária em Garantia, Emissão de Cédula de Crédito Imobiliário – CCI e Outras Avenças nº 0001787130/JJH Página1 CAMPO 1 – CREDORA RAZÃO SOCIAL: QI SOCIEDADE DE CRÉDITO DIRETO S.A. ENDEREÇO COMERCIAL: Avenida Brigadeiro Faria Lima, nº 2.391, 1º andar COMPLEMENTO: Conjunto 12 BAIRRO: Jardim Paulistano CIDADE: São Paulo UF: SP CEP: 01452-000 CNPJ: 32.402.502/0001-35 DATA DA CONSTITUIÇÃO: 10/01/2019 REGISTRO JUCESP: 35300530225 REPRESENTANTES: Roberto Amaral Dantas Junior, brasileiro, portador da cédula de identidade RG nº 50.016.943-3 SSP/SP e inscrito no CPF sob nº 400.516.238-03, nos termos da Procuração Pública lavrada pelo 1º Tabelião de Notas de São Paulo/SP no livro 4831, página 341 Rogério de Almeida Domingues / CPF: 315.191.258-36 Lucas de Jesus Clarim / CPF: 109.323.276-56 Marcelo Buosi Martins / CPF: 380.261.198-51 CAMPO 2 - VENDEDOR (ES/AS) NOME: GUSTAVO BRAGA MERCHER COUTINHO CPF: 091.264.797-37 DATA DE NASCIMENTO: 02/10/2981 FILIAÇÃO: ALCEDO MERCHER COUTINHO e JOSELIA BRAGA COUTINHO IDENTIDADE (tipo/número): RG: 114197221 ÓRGÃO EMISSOR: IFPRJ NACIONALIDADE: BRASILEIRA PROFISSÃO: ECONOMISTA ESTADO CIVIL: CASADO com a Vendedora REGIME DE CASAMENTO (SE FOR CASADO): COMUNHÃO PARCIAL DE BENS, sob vigên-cia da Lei 6.515/77 NOME: JULIANA DA ROSA MONTEIRO MERCHER CPF: 095.826.567-43 DATA DE NASCIMENTO: 04/08/1983 FILIAÇÃO: PAULO ROBERTO SIQUEIRA e VIRGINIA LUCIA DA ROSA MONTEIRO IDENTIDADE (tipo/número): RG: 13.313.521-0 ÓRGÃO EMISSOR: SECC/RJ NACIONALIDADE: BRASILEIRA PROFISSÃO: JORNALISTA ESTADO CIVIL: CASADA com o Vendedor REGIME DE CASAMENTO (SE FOR CASADO): COMUNHÃO PARCIAL DE BENS, sob vigên-cia da Lei 6.515/77 ENDEREÇO RESIDENCIAL E DOMICILIAR: AV DR CARDOSO DE MELO, 841 COMPLEMENTO: APTO 132 BAIRRO: VILA OLÍMPIA CIDADE: SÃO PAULO UF: SP CEP: 04548-003 Documento assinado no Assinador Registro de Imóveis. Para validar o documento e suas assinaturas acesse https://assinador.registrodeimoveis.org.br/validate/DG3HF-M7UJD-XSY38-42S9Q. INSTRUMENTO PARTICULAR DE COMPRA E VENDA DE IMÓVEL, FINANCIAMENTO COM PACTO ADJETO DE ALIENAÇÃO FIDUCIÁRIA EM GARANTI A, EMISSÃO DE CÉDULA DE CRÉDITO IMOBILIÁRIO – CCI E OUTRAS AVENÇAS Nº 0001787130/JJH Esta página é parte integrante e inseparável do Instrumento Particular de Compra e Ven da de Imóvel, Financiamento com Pacto Adjeto de Alienação Fiduciária em Garantia, Emissão de Cédula de Crédito Imobiliário – CCI e Outras Avenças nº 0001787130/JJH Página2 TELEFONE(S): (21) 98118-0175 e (21) 98604-5144 EMAIL: julinha_rosa@yahoo.com.br e gustavo.coutinho@agnet.com.br Conta Corrente para Crédito: Titular: GUSTAVO BRAGA MERCHER COUTINHO Banco: SANTANDER Conta Corrente Nº: 01001506-2 Agência: 4207 CAMPO 3 - COMPRADOR(ES)/DEVEDOR(ES) E ANUENTE(S) NOME: JONATHAN JIN HYUK KIM CPF: 470.330.088-56 DATA DE NASCIMENTO: 09/02/1997 FILIAÇÃO: WON SUK KIM e YOO SUN YUN IDENTIDADE (tipo/número): RG: 35.698.836-3 ÓRGÃO EMISSOR: SSP/SP NACIONALIDADE: BRASILEIRA PROFISSÃO: ADMINISTRADOR ESTADO CIVIL: SOLTEIRO REGIME DE CASAMENTO (SE FOR CASADO): N/A ENDEREÇO RESIDENCIAL E DOMICILIAR: RUA PRINCESA ISABEL, 17 COMPLEMENTO: APTO. 84, BL A BAIRRO: BROOKLIN CIDADE: SÃO PAULO UF: SP CEP: 04601-000 TELEFONE(S): (11) 99949-1159 EMAIL: jonaak097@gmail.com IV - CARACTERÍSTICAS DO FINANCIAMENTO 1. Valor do Financiamento: R$ 873.064,00 2. Condições do Financiamento 2.1. Encargos Remuneratórios 2.1.1. Juros de 0,7600% a.m. exponencial ao mês, equivalente a de 9,5110% a.a. exponencial ao ano. 2.1.2. ÍNDICE: MENSAL do IPCA, tomando-se por base a variação do índice do segundo mês anterior ao da assinatura deste contrato, inclusive, e o índice relativo ao segundo mês anterior ao do efetivo pagamento de cada encargo. 2.1.3. Sistema de Amortização: SAC VISTO DO(S) DEVEDOR(ES): _______________________________ _____ 2.2. Custo Efetivo Total (CET): 11,7152% a.a. Documento assinado no Assinador Registro de Imóveis. Para validar o documento e suas assinaturas acesse https://assinador.registrodeimoveis.org.br/validate/DG3HF-M7UJD-XSY38-42S9Q. INSTRUMENTO PARTICULAR DE COMPRA E VENDA DE IMÓVEL, FINANCIAMENTO COM PACTO ADJETO DE ALIENAÇÃO FIDUCIÁRIA EM GARANTI A, EMISSÃO DE CÉDULA DE CRÉDITO IMOBILIÁRIO – CCI E OUTRAS AVENÇAS Nº 0001787130/JJH Esta página é parte integrante e inseparável do Instrumento Particular de Compra e Ven da de Imóvel, Financiamento com Pacto Adjeto de Alienação Fiduciária em Garantia, Emissão de Cédula de Crédito Imobiliário – CCI e Outras Avenças nº 0001787130/JJH Página3 2.3. Valor Mensal dos Prêmios de Seguro: 2.3.1. Seguradora MIP: GEO CONVÊNIO DE SEGUROS – NÚCLEO DE SEGUROS CBIC 2.3.1.1 Alíquota de MIP (%): 0,021% 2.3.1.2 MIP (Morte e Invalidez Permanente): R$ 183,85 2.3.2 Seguradora DFI: GEO CONVÊNIO DE SEGUROS – NÚCLEO DE SEGUROS CBIC 2.3.2.1. Alíquota de DFI (%): 0,007% 2.3.2.2. DFI (Danos Físicos do Imóvel): R$ 78,33 2.3.3. Taxa Mensal de Gestão e Administração do Crédito: R$ 25,00 2.4. Forma de Pagamento 2.4.1 . PRAZO DE AMORTIZAÇÃO: 360 Meses 2.4.2. N.º DE PRESTAÇÕES: 360 2.4.3. PERIODICIDADE DE VENCIMENTO: Mensal 2.4.4. DATA DE VENCIMENTO DA PRIMEIRA PRESTAÇÃO: 01/11/2022 2.4.5. DATA DE VENCIMENTO DA ÚLTIMA PRESTAÇÃO: 01/ 10/2052 2.4.6. MODO DE PAGAMENTO DAS PRESTAÇÕES MENSAIS: Boleto Bancário 2.4.7. VALOR DA PARCELA MENSAL (AMORTIZAÇÃO E JUROS), NES TA DATA: R$ 9.110,91 2.4.8. VALOR TOTAL DO PRIMEIRO ENCARGO, NESTA DATA: R$ 9.398,09 2.4. 9. PRAÇA DE PAGAMENTO: Cidade De São Paulo, Estado De São Paulo. 3. Tributos e Contribuições: 3.1. IOF: R$ 0,00 4. Despesas 4.1. Abertura de Cadastro: R$ 27.650,00 [X] Incluída no Financiamento 4.2. Tarifa de Avaliação do Imóvel: R$ 0,00 [ ] Incluída no Financiamento 4.3. Despesas Cartorárias de Registro: R$ 22.414,00 [X] Incluída no Financiamento 4.4. ITBI: R$ 33.000,00 [X] Incluída no Financiamen to 5. Valor Destinado ao Pagamento da Interveniente Quita nte - Saldo Devedor do Imóvel Aplicável: [X] Não aplicável: [ ] Documento assinado no Assinador Registro de Imóveis. Para validar o documento e suas assinaturas acesse https://assinador.registrodeimoveis.org.br/validate/DG3HF-M7UJD-XSY38-42S9Q. INSTRUMENTO PARTICULAR DE COMPRA E VENDA DE IMÓVEL, FINANCIAMENTO COM PACTO ADJETO DE ALIENAÇÃO FIDUCIÁRIA EM GARANTI A, EMISSÃO DE CÉDULA DE CRÉDITO IMOBILIÁRIO – CCI E OUTRAS AVENÇAS Nº 0001787130/JJH Esta página é parte integrante e inseparável do Instrumento Particular de Compra e Ven da de Imóvel, Financiamento com Pacto Adjeto de Alienação Fiduciária em Garantia, Emissão de Cédula de Crédito Imobiliário – CCI e Outras Avenças nº 0001787130/JJH Página4 O(s) VENDEDOR(ES), qualificados no Quadro II do preâ mbulo, DECLARA(M) estar ciente(s) de que o CREDOR quitará o saldo devedor de seu financiamen to, junto ao Banco Santander (Brasil) S.A. CNPJ/MF sob nº 90.400.888/0001- 42 (“Interveniente Quitante”), registrado sob o n.º 11, da matrícula nº. 189.204 do Livro 2 de Registro Geral do 4º Oficial de Registro de Imóv eis de São Paulo/SP, no valor de R$ 133.764,30 (cento e trinta e três mil, setece ntos e sessenta e quatro reais e trinta centavos). 6. Valor de Compra e Venda do Imóvel: R$ 1.100.000,00 (um milhão e cem mil reais) 6.1. Valor da Entrada pago com recursos próprios do(s) Comprador(es): R$ 310.000 ,00 (trezentos e dez mil reais ), sendo em 2 (duas) parcelas: (i) R$ 280.000,00 (duzentos e oitenta mil reais) pagos até a data de assinatura deste Contrato , estando o/a(s) VENDEDOR(ES/AS) cientes e DECLARA(M), de acordo com os termos e efeitos previ stos no artigo 320 do Código Civil de 2002, a plena e completa quitação a fim de que s urta os devidos efeitos, não sendo cabível qualquer cobrança de mesma modalidade, tendo em vis ta a quitação do quanto devido e (ii) R$ 30.000,00 (trinta mil reais) a serem pagos a prazo, conforme acordo estabelecido entre os Vendedores e o Comprador. 7. Valor Líquido a Liberar do Financiamento: R$ 790.000,00 (setecentos e noventa mil reais) 7.1. O Valor Líquido a Liberar do Financiamento será cre ditado, integralmente, na conta de pagamento de titularidade do(s) COMPRADOR(ES), mant ida junto ao CREDOR, abaixo especificada (“ Conta da Operação ”), observado o disposto na Cláusula XVI deste Cont rato. E, após dedução dos valores de IOF, Estruturação da Operação Despesas e valores devidos ao Interveniente Quitante, serão liberados, mediante d ébito na Conta da Operação, os recursos destinados ao pagamento do(s) VENDEDOR(ES), em até 5 (cinco) dias úteis, após a comprovação do registro, deste Contrato, no Serviço de Registro de Imóveis competente, mediante recepção da certidão original e atualizada da matrícula do imóvel com o registro da garantia de alienação fiduciária constituída e aver bação da CCI. Conta da Operação: TITULAR: JONATHAN JIN HYUK KIM BANCO: QI SOCIEDADE DE CRÉDITO DIRETO S.A. (329) C/C: 56930 -0 AGÊNCIA:0001 8. Da Emissão e Liberação 8.1. Data de Emissão deste CONTRATO: 06/09/2022 8.2. Data de Liberação dos Recursos: 09/09/2022 , sujeito às cláusulas 3.3.1 abaixo. V – IMÓVEL(IS) – ALIENAÇÃO FIDUCIÁRIA (“IMÓVEL”) Documento assinado no Assinador Registro de Imóveis. Para validar o documento e suas assinaturas acesse https://assinador.registrodeimoveis.org.br/validate/DG3HF-M7UJD-XSY38-42S9Q. INSTRUMENTO PARTICULAR DE COMPRA E VENDA DE IMÓVEL, FINANCIAMENTO COM PACTO ADJETO DE ALIENAÇÃO FIDUCIÁRIA EM GARANTI A, EMISSÃO DE CÉDULA DE CRÉDITO IMOBILIÁRIO – CCI E OUTRAS AVENÇAS Nº 0001787130/JJH Esta página é parte integrante e inseparável do Instrumento Particular de Compra e Ven da de Imóvel, Financiamento com Pacto Adjeto de Alienação Fiduciária em Garantia, Emissão de Cédula de Crédito Imobiliário – CCI e Outras Avenças nº 0001787130/JJH Página5 1. Descrição do Imóvel: descrito no Anexo II do presen te instrumento Matriculado sob nº 189.204, no 4º Oficial de Registro de Imóveis de São Paulo/SP Forma de aquisição: Contrato de Venda e Compra 2. Valor de avaliação do Imóvel para fins de leilão: R$ 1.119.000,00 . 2.1. Para efeitos de cálculo dos emolumentos de Tabelião e de Registro, poderá ser considerado, para o Imóvel, o valor indicado no item 2 acima. 3. Composição da renda para fins de indenização do Seg uro Nome: JONATHAN JIN HYUK KIM Participação: 100%'"
      ]
     },
     "execution_count": 12,
     "metadata": {},
     "output_type": "execute_result"
    }
   ],
   "source": [
    "# Extraindo participantes da operação \n",
    "campo5 = 'fins de indenização do Seguro'                         #inicio e fim da extração\n",
    "campo6 = 'VI – CLÁUSULA(S)'\n",
    "\n",
    "#Pegar posição das variáveis auxiliares no texto\n",
    "inicioTopico = text.find(campo5, 0)\n",
    "finalTopico = text.find(campo6, 0)\n",
    "\n",
    "#Criar Paragráfo Auxiliar\n",
    "paragrafoAux = 0\n",
    "paragrafoAux = text[inicioTopico+len(campo5)+1:finalTopico-1]\n",
    "paragrafoAux = re.sub('\\s+',' ', paragrafoAux)\n",
    "totalParticipantes = paragrafoAux.count('Nome: ')\n",
    "\n",
    "paragrafoAux"
   ]
  },
  {
   "cell_type": "code",
   "execution_count": 13,
   "metadata": {},
   "outputs": [
    {
     "name": "stdout",
     "output_type": "stream",
     "text": [
      "{'Participante1': 'JONATHAN JIN HYUK KIM', 'Participação1': '100%'}\n"
     ]
    }
   ],
   "source": [
    "participantesKey = []\n",
    "participantesValues = []\n",
    "\n",
    "# Extraindo participantes\n",
    "fimValor = 0\n",
    "\n",
    "for num in range(0, totalParticipantes):\n",
    "    paragrafoAux = paragrafoAux[fimValor:]\n",
    "    inicioFrase = paragrafoAux.find('Nome: ',0)\n",
    "    finalFrase = inicioFrase + len('Nome: ') \n",
    "    ultimoNome = paragrafoAux.find(\"Participação: \", finalFrase)\n",
    "    nomeExtraido = paragrafoAux[finalFrase:ultimoNome]\n",
    "    participantesKey.append(f'Participante{num+1}')\n",
    "    participantesKey.append(f'Participação{num+1}')\n",
    "    participantesValues.append(nomeExtraido.strip())\n",
    "    inicioFrase = paragrafoAux.find('Participação:',0)\n",
    "    finalFrase = inicioFrase + len('Participação:') \n",
    "    fimValor = paragrafoAux.find(\"%\", finalFrase)\n",
    "    participacaoExtraido = paragrafoAux[finalFrase:fimValor+1]\n",
    "    participantesValues.append(participacaoExtraido.strip())\n",
    "    dict_participantes = dict(zip(participantesKey,participantesValues))\n",
    "    print(dict_participantes)"
   ]
  },
  {
   "cell_type": "code",
   "execution_count": 14,
   "metadata": {},
   "outputs": [
    {
     "data": {
      "text/plain": [
       "{'valorTotal': '873064.00',\n",
       " 'tabela': 'SAC',\n",
       " 'Taxa ao Mes': 0.0076,\n",
       " 'registro': '22414.00',\n",
       " 'valorLiquido': '790000.00',\n",
       " 'prazoMes': '360',\n",
       " 'valorPrimeiraParcelaComEncargos': '9398.09',\n",
       " 'valorImóvel': '1119000.00',\n",
       " 'prazoContrato': '360',\n",
       " 'ultimaParcela': '01/',\n",
       " 'dataContrato': '09/09/2022',\n",
       " 'valorPrimeiraParcela': 'CULAR',\n",
       " 'primeiraParcela': '01/11/2022',\n",
       " 'indice': 'IPCA',\n",
       " 'Matrícula': '189.204',\n",
       " 'Cartório': '4º Oficial de Registro de Imóveis de São Paulo/S',\n",
       " 'Titular do Contrato': 'JONATHAN JIN HYUK KIM',\n",
       " 'Titular': 'JONATHAN JIN HYUK KIM ',\n",
       " 'Participante1': 'JONATHAN JIN HYUK KIM',\n",
       " 'Participação1': '100%'}"
      ]
     },
     "execution_count": 14,
     "metadata": {},
     "output_type": "execute_result"
    }
   ],
   "source": [
    "#Criar Dicionario das duas Listas\n",
    "dict_keyValue = dict(zip(listaKey,listaValues))\n",
    "dict_keyValue.update(dict_participantes)\n",
    "dict_keyValue"
   ]
  },
  {
   "cell_type": "code",
   "execution_count": 15,
   "metadata": {},
   "outputs": [],
   "source": [
    "# Extraindo data do contrato\n",
    "\n",
    "text=''\n",
    "#Ler Página PDF\n",
    "pageObj = read_pdf.getPage(number_of_pages-2)\n",
    "text=text+pageObj.extractText()\n",
    "pageObj = read_pdf.getPage(number_of_pages-1)\n",
    "text=text+pageObj.extractText()\n",
    "#Tratar Texto (Remover Quebra de Linhas e espaços duplos)\n",
    "text = re.sub('\\r', '', text) \n",
    "text = re.sub('\\n', '', text)\n",
    "text = re.sub(' {2,}', ' ', text).strip(' ')\n",
    "inicioFrase = text.find('SÃO PAULO, ',0)\n",
    "finalFrase = inicioFrase + len('SÃO PAULO, ')\n",
    "ultimaMatricula = text.find(\".\", finalFrase)\n",
    "valorExtraido = text[finalFrase:ultimaMatricula]\n",
    "valorExtraido = valorExtraido.replace(' DE ','/').strip()\n",
    "if 'JANEIRO' in valorExtraido:\n",
    "    dict_keyValue['dataContrato'] = valorExtraido.replace('JANEIRO','01')\n",
    "elif 'FEVEREIRO' in valorExtraido:\n",
    "    dict_keyValue['dataContrato'] = valorExtraido.replace('FEVEREIRO','02')\n",
    "elif 'MARÇO' in valorExtraido:\n",
    "    dict_keyValue['dataContrato'] = valorExtraido.replace('MARÇO','03')\n",
    "elif 'ABRIL' in valorExtraido:\n",
    "    dict_keyValue['dataContrato'] = valorExtraido.replace('ABRIL','04')\n",
    "elif 'MAIO' in valorExtraido:\n",
    "    dict_keyValue['dataContrato'] = valorExtraido.replace('MAIO','05')\n",
    "elif 'JUNHO' in valorExtraido:\n",
    "    dict_keyValue['dataContrato'] = valorExtraido.replace('JUNHO','06')\n",
    "elif 'JULHO' in valorExtraido:\n",
    "    dict_keyValue['dataContrato'] = valorExtraido.replace('JULHO','07')\n",
    "elif 'AGOSTO' in valorExtraido:\n",
    "    dict_keyValue['dataContrato'] = valorExtraido.replace('AGOSTO','08')\n",
    "elif 'SETEMBRO' in valorExtraido:\n",
    "    dict_keyValue['dataContrato'] = valorExtraido.replace('SETEMBRO','09')\n",
    "elif 'OUTUBRO' in valorExtraido:\n",
    "    dict_keyValue['dataContrato'] = valorExtraido.replace('OUTUBRO','10')\n",
    "elif 'NOVEMBRO' in valorExtraido:\n",
    "    dict_keyValue['dataContrato'] = valorExtraido.replace('NOVEMBRO','11')\n",
    "elif 'DEZEMBRO' in valorExtraido:\n",
    "    dict_keyValue['dataContrato'] = valorExtraido.replace('DEZEMBRO','12')"
   ]
  },
  {
   "cell_type": "code",
   "execution_count": 16,
   "metadata": {},
   "outputs": [
    {
     "data": {
      "text/plain": [
       "{'valorTotal': '873064.00',\n",
       " 'tabela': 'SAC',\n",
       " 'Taxa ao Mes': 0.0076,\n",
       " 'registro': '22414.00',\n",
       " 'valorLiquido': '790000.00',\n",
       " 'prazoMes': '360',\n",
       " 'valorPrimeiraParcelaComEncargos': '9398.09',\n",
       " 'valorImóvel': '1119000.00',\n",
       " 'prazoContrato': '360',\n",
       " 'ultimaParcela': '01/',\n",
       " 'dataContrato': '06/09/2022',\n",
       " 'valorPrimeiraParcela': 'CULAR',\n",
       " 'primeiraParcela': '01/11/2022',\n",
       " 'indice': 'IPCA',\n",
       " 'Matrícula': '189.204',\n",
       " 'Cartório': '4º Oficial de Registro de Imóveis de São Paulo/S',\n",
       " 'Titular do Contrato': 'JONATHAN JIN HYUK KIM',\n",
       " 'Titular': 'JONATHAN JIN HYUK KIM ',\n",
       " 'Participante1': 'JONATHAN JIN HYUK KIM',\n",
       " 'Participação1': '100%'}"
      ]
     },
     "execution_count": 16,
     "metadata": {},
     "output_type": "execute_result"
    }
   ],
   "source": [
    "dict_keyValue"
   ]
  }
 ],
 "metadata": {
  "kernelspec": {
   "display_name": "Python 3.9.7 64-bit",
   "language": "python",
   "name": "python3"
  },
  "language_info": {
   "codemirror_mode": {
    "name": "ipython",
    "version": 3
   },
   "file_extension": ".py",
   "mimetype": "text/x-python",
   "name": "python",
   "nbconvert_exporter": "python",
   "pygments_lexer": "ipython3",
   "version": "3.9.7"
  },
  "orig_nbformat": 4,
  "vscode": {
   "interpreter": {
    "hash": "045832f79490e9a8a037a8f6e1a5c8ec877d805c4de0087de700d9a61e201314"
   }
  }
 },
 "nbformat": 4,
 "nbformat_minor": 2
}
