{
 "cells": [
  {
   "cell_type": "code",
   "execution_count": 163,
   "metadata": {},
   "outputs": [],
   "source": [
    "# importa as bibliotecas necessárias\n",
    "import PyPDF2\n",
    "import re\n",
    "import pandas as pd\n",
    "import os"
   ]
  },
  {
   "cell_type": "code",
   "execution_count": 164,
   "metadata": {},
   "outputs": [],
   "source": [
    "\n",
    "path = r'C:\\Users\\MatheusPereira\\OneDrive - Pontte\\Área de Trabalho\\automacaoRegistroCCI\\Contratos\\FI_Contrato_RNContabil_Assinatura Digital_172464-Manifesto1.pdf'\n"
   ]
  },
  {
   "cell_type": "code",
   "execution_count": 165,
   "metadata": {},
   "outputs": [
    {
     "data": {
      "text/plain": [
       "['FI_Contrato_Juliana_Assinatura Digital.pdf',\n",
       " 'FI_Contrato_RNContabil_Assinatura Digital_172464-Manifesto1.pdf',\n",
       " 'FI_Contrato_Romilton_Assinatura Digital-Manifesto.pdf',\n",
       " 'HE_Contrato_Agostinho_Assinatura Digital_VFinal.pdf',\n",
       " 'HE_Contrato_Conrado_Assinatura Digital_VFinal - Conrado.pdf',\n",
       " 'HE_Contrato_Margareide_Assinatura Digital_VFinal.pdf',\n",
       " 'HE_Contrato_Oliboni _Assinatura Digital_VFinal.pdf',\n",
       " 'HE_Contrato_PatriciaMarcondes_Assinatura Digital_VFinal.pdf']"
      ]
     },
     "execution_count": 165,
     "metadata": {},
     "output_type": "execute_result"
    }
   ],
   "source": [
    "# Teste de criação de lista de arquivos\n",
    "\n",
    "files_dir = r\"C:\\Users\\MatheusPereira\\OneDrive - Pontte\\Área de Trabalho\\automacaoRegistroCCI\\Contratos\"\n",
    "contratoFiles = [f for f in os.listdir(files_dir) if f.endswith(\".pdf\")]\n",
    "contratoFiles"
   ]
  },
  {
   "cell_type": "code",
   "execution_count": 166,
   "metadata": {},
   "outputs": [],
   "source": [
    "# Abre o arquivo pdf \n",
    "i = 1\n",
    "pdf_file = os.path.join(files_dir, contratoFiles[i])\n"
   ]
  },
  {
   "cell_type": "code",
   "execution_count": 167,
   "metadata": {},
   "outputs": [],
   "source": [
    "#Faz a leitura usando a biblioteca\n",
    "read_pdf = PyPDF2.PdfFileReader(pdf_file)\n",
    "\n",
    "# pega o numero de páginas\n",
    "number_of_pages = read_pdf.getNumPages()\n",
    "\n",
    "#Extriar Texto Página 1 a 5\n",
    "text=''\n",
    "for i in range(0,6):\n",
    "    #Ler Página PDF\n",
    "    pageObj = read_pdf.getPage(i)\n",
    "    #Extrair Texto\n",
    "    text=text+pageObj.extractText()\n",
    "\n",
    "#Tratar Texto (Remover Quebra de Linhas)\n",
    "text = re.sub('\\r', '', text) \n",
    "text = re.sub('\\n', '', text)\n",
    "text = re.sub(' {2,}', ' ', text).strip(' ')\n",
    "text = re.sub(' :', ':', text)"
   ]
  },
  {
   "cell_type": "code",
   "execution_count": 168,
   "metadata": {},
   "outputs": [
    {
     "data": {
      "text/plain": [
       "\"INSTRUMENTO PARTICULAR DE COMPRA E VENDA DE IMÓVEL, FINANCIAMENTO COM PACTO ADJETO DE ALIENAÇÃO FIDUCIÁRIA EM GARANTI A, EMISSÃO DE CÉDULA DE CRÉDITO IMOBILIÁRIO – CCI E OUTRAS AVENÇAS Nº 2205055482/RNR Esta página é parte integrante e inseparável do Instrumento Particular de Compra e Ven da de Imóvel, Financiamento com Pacto Adjeto de Alienação Fiduciária em Garantia, Emissão de Cédula de Crédito Imobiliário – CCI e Outras Avenças nº 2205055482/RNR CAMPO 1 – CREDORA RAZÃO SOCIAL: QI SOCIEDADE DE CRÉDITO DIRETO S.A. ENDEREÇO COMERCIAL: Avenida Brigadeiro Faria Lima, nº 2.391, 1º andar COMPLEMENTO: Conjunto 12 BAIRRO: Jardim Paulistano CIDADE: São Paulo UF: SP CEP: 01452-000 CNPJ: 32.402.502/0001-35 DATA DA CONSTITUIÇÃO: 10/01/2019 REGISTRO JUCESP: 35300530225 REPRESENTANTES: Roberto Amaral Dantas Junior, brasileiro, portador da cédula de identidade RG nº 50.016.943-3 SSP/SP e inscrito no CPF sob nº 400.516.238-03, nos termos da Procuração Pública lavrada pelo 1º Tabelião de Notas de São Paulo/SP no livro 4831, página 341 Rogério de Almeida Domingues / CPF: 315.191.258-36 Lucas de Jesus Clarim / CPF: 109.323.276-56 Marcelo Buosi Martins / CPF: 380.261.198-51 CAMPO 2 - VENDEDOR (ES/AS) RAZÃO SOCIAL: ESSENCE ASSESSORIA E CONSULTORIA EMPRESARIAL LTDA. ENDEREÇO COMERCIAL: Avenida Brigadeiro Faria Lima, nº 3.729 COMPLEMENTO: 5º andar BAIRRO: Itaim Bibi CIDADE: São Paulo UF: SP CEP: 04.538-905 CNPJ: 28.927.485/0001-82 DATA DA CONSTITUIÇÃO: 24/10/2017 REGISTRO JUCESP: 35230754979 REPRESENTANTES: Amauri Jacintho Baragatti Junior / CPF: 464.375.958-50 TELEFONE(S): (11) 97440-3503 EMAIL: amaurijr@karebank.com.br Conta Corrente para Crédito: Titular: ESSENCE ASSESSORIA E CONSULTORIA EMPRESARIAL LTDA. Banco: BRADESCO Conta Corrente Nº: 35226-8 Agência: 1382 Este documento foi assinado digitalmente por Marcelo Buosi Martins, Roberto Amaral Dantas Junior, Henrique Cesar Pedroso Scripelliti, Renan Da Silva Rodrigues, Amauri Jacintho Baragatti Junior e Gustavo Luis Ciuffa Bertanha. Para verificar as assinaturas vá ao site https://www.portaldeassinaturas.com.br:443 e utilize o código 2408-B438-D4CF-F798. Este documento foi assinado digitalmente por Marcelo Buosi Martins, Roberto Amaral Dantas Junior, Henrique Cesar Pedroso Scripelliti, Renan Da Silva Rodrigues, Amauri Jacintho Baragatti Junior e Gustavo Luis Ciuffa Bertanha. Para verificar as assinaturas vá ao site https://www.portaldeassinaturas.com.br:443 e utilize o código 2408-B438-D4CF-F798. INSTRUMENTO PARTICULAR DE COMPRA E VENDA DE IMÓVEL, FINANCIAMENTO COM PACTO ADJETO DE ALIENAÇÃO FIDUCIÁRIA EM GARANTI A, EMISSÃO DE CÉDULA DE CRÉDITO IMOBILIÁRIO – CCI E OUTRAS AVENÇAS Nº 2205055482/RNR Esta página é parte integrante e inseparável do Instrumento Particular de Compra e Ven da de Imóvel, Financiamento com Pacto Adjeto de Alienação Fiduciária em Garantia, Emissão de Cédula de Crédito Imobiliário – CCI e Outras Avenças nº 2205055482/RNR CAMPO 3 - COMPRADOR(ES)/DEVEDOR(ES) E ANUENTE(S) COMPRADORA/DEVEDORA FIDUCIANTE RAZÃO SOCIAL: R.N. RODRIGUES CONTÁBIL - EIRELI ENDEREÇO COMERCIAL: Alameda Rio Negro, nº 1.030 COMPLEMENTO: Sala 1303 A BAIRRO: Alphaville Centro Industrial e Empresarial CIDADE: Barueri UF: SP CEP: 06.454-000 CNPJ: 20.896.434/0001-29 DATA DA CONSTITUIÇÃO: 25/08/2014 REGISTRO JUCESP: 35600721824 REPRESENTANTES: Renan da Silva Rodrigues / CPF: 318.555.418-31 DEVEDOR SOLIDÁRIO NOME: RENAN DA SILVA RODRIGUES CPF: 318.555.418-31 DATA DE NASCIMENTO: 06/06/1984 FILIAÇÃO: JOSÉ OTÁVIO RODIRGUES e MARIA AUXILIADORA GUIMARÃES DA SILVA RODRIGUES IDENTIDADE (tipo/número): RG: 33.401.476-1 ÓRGÃO EMISSOR: SSP/SP NACIONALIDADE: BRASILEIRA PROFISSÃO: TÉCNICO EM CONTABILIDADE ESTADO CIVIL: SOLTEIRO REGIME DE CASAMENTO (SE FOR CASADO): N/A ENDEREÇO RESIDENCIAL E DOMICILIAR: ALAMEDA ITANHAÉM, 03 COMPLEMENTO: CASA 122 BAIRRO: ALPHAVILLE CIDADE: SANTANA DE PARNAÍBA UF: SP CEP: 06542-140 TELEFONE(S): (11) 98551-9225 EMAIL: financeiro@ronaconsultoria.com.br CAMPO 4 - CARACTERÍSTICAS DO FINANCIAMENTO 1. Valor do Financiamento: R$ 512.304,23 Este documento foi assinado digitalmente por Marcelo Buosi Martins, Roberto Amaral Dantas Junior, Henrique Cesar Pedroso Scripelliti, Renan Da Silva Rodrigues, Amauri Jacintho Baragatti Junior e Gustavo Luis Ciuffa Bertanha. Para verificar as assinaturas vá ao site https://www.portaldeassinaturas.com.br:443 e utilize o código 2408-B438-D4CF-F798. Este documento foi assinado digitalmente por Marcelo Buosi Martins, Roberto Amaral Dantas Junior, Henrique Cesar Pedroso Scripelliti, Renan Da Silva Rodrigues, Amauri Jacintho Baragatti Junior e Gustavo Luis Ciuffa Bertanha. Para verificar as assinaturas vá ao site https://www.portaldeassinaturas.com.br:443 e utilize o código 2408-B438-D4CF-F798. INSTRUMENTO PARTICULAR DE COMPRA E VENDA DE IMÓVEL, FINANCIAMENTO COM PACTO ADJETO DE ALIENAÇÃO FIDUCIÁRIA EM GARANTI A, EMISSÃO DE CÉDULA DE CRÉDITO IMOBILIÁRIO – CCI E OUTRAS AVENÇAS Nº 2205055482/RNR Esta página é parte integrante e inseparável do Instrumento Particular de Compra e Ven da de Imóvel, Financiamento com Pacto Adjeto de Alienação Fiduciária em Garantia, Emissão de Cédula de Crédito Imobiliário – CCI e Outras Avenças nº 2205055482/RNR 2. Condições do Financiamento 2.1. Encargos Remuneratórios 2.1.1. Juros de 0,70% a.m. exponencial ao mês, equivalente a de 8,7311% a.a. exponencial ao ano. 2.1.2. ÍNDICE: MENSAL do IPCA, tomando-se por base a variação do índice do segundo mês anterior ao da assinatura deste contrato, inclusive, e o índice relativo ao segundo mês anterior ao do efetivo pagamento de cada encargo. 2.1.3. Sistema de Amortização: SAC VISTO DO(S) DEVEDOR(ES): _______________________________ _____ 2.2. Custo Efetivo Total (CET): 11,2882% a.a. 2.3. Valor Mensal dos Prêmios de Seguro: 2.3.1. Seguradora MIP: GEO CONVÊNIO DE SEGUROS – NÚCLEO DE SEGUROS CBIC 2.3.1.1 Alíquota de MIP (%): 0,021% 2.3.1.2 MIP (Morte e Invalidez Permanente): R$ 109,92 2.3.2 Seguradora DFI: GEO CONVÊNIO DE SEGUROS – NÚCLEO DE SEGUROS CBIC 2.3.2.1. Alíquota de DFI (%): 0,007% 2.3.2.2. DFI (Danos Físicos do Imóvel): R$ 53,10 2.3.3. Taxa Mensal de Gestão e Administração do Crédito: R$ 25,00 2.4. Forma de Pagamento 2.4.1. PRAZO DE AMORTIZAÇÃO: 360 Meses 2.4.2. N.º DE PRESTAÇÕES: 357 2.4.3. PERIODICIDADE DE VENCIMENTO: Mensal 2.4.4. DATA DE VENCIMENTO DA PRIMEIRA PRESTAÇÃO: 15/09/2022 2.4.5. DATA DE VENCIMENTO DA ÚLTIMA PRESTAÇÃO: 15/05/2052 2.4.6. MODO DE PAGAMENTO DAS PRESTAÇÕES MENSAIS: Boleto Bancário 2.4.7. VALOR DA PARCELA MENSAL (AMORTIZAÇÃO E JURO S), NESTA DATA: R$ 5.144,42 2.4.8. VALOR TOTAL DO PRIMEIRO ENCARGO, NESTA DATA: R$ 5.332,43 2.4.9. PRAÇA DE PAGAMENTO: Cidade De São Paulo, Estado De São Paulo . 3. Tributos e Contribuições: Este documento foi assinado digitalmente por Marcelo Buosi Martins, Roberto Amaral Dantas Junior, Henrique Cesar Pedroso Scripelliti, Renan Da Silva Rodrigues, Amauri Jacintho Baragatti Junior e Gustavo Luis Ciuffa Bertanha. Para verificar as assinaturas vá ao site https://www.portaldeassinaturas.com.br:443 e utilize o código 2408-B438-D4CF-F798. Este documento foi assinado digitalmente por Marcelo Buosi Martins, Roberto Amaral Dantas Junior, Henrique Cesar Pedroso Scripelliti, Renan Da Silva Rodrigues, Amauri Jacintho Baragatti Junior e Gustavo Luis Ciuffa Bertanha. Para verificar as assinaturas vá ao site https://www.portaldeassinaturas.com.br:443 e utilize o código 2408-B438-D4CF-F798. INSTRUMENTO PARTICULAR DE COMPRA E VENDA DE IMÓVEL, FINANCIAMENTO COM PACTO ADJETO DE ALIENAÇÃO FIDUCIÁRIA EM GARANTI A, EMISSÃO DE CÉDULA DE CRÉDITO IMOBILIÁRIO – CCI E OUTRAS AVENÇAS Nº 2205055482/RNR Esta página é parte integrante e inseparável do Instrumento Particular de Compra e Ven da de Imóvel, Financiamento com Pacto Adjeto de Alienação Fiduciária em Garantia, Emissão de Cédula de Crédito Imobiliário – CCI e Outras Avenças nº 2205055482/RNR 3.1. IOF: R$ 9.571,73 4. Despesas 4.1. Análise de Garantia: R$ 15.732,50 [X] Incluída no Financiamento 4.2. Tarifa de Avaliação do Imóvel: R$ 0,00 [ ] Incluída no Financiamento 4.3. Despesas Cartorárias de Registro: R$ 15.000,00 [X] Incluída no Financiamento 4.4. ITBI: R$ 22.500,00 [X] Incluída no Financiamento 5. Valor Destinado ao Pagamento da Interveniente Quita nte - Saldo Devedor do Imóvel Aplicável: [X] Não aplicável: [--] O(s) VENDEDOR(ES), qualificados no Quadro II do preâ mbulo, DECLARA(M) estar ciente(s) de que o CREDOR quitará o saldo devedor de seu financiamen to, junto à Caixa Econômica Federal CNPJ/MF sob nº 00.360.305/0001-04 (“Interveniente Quitante”), registrado sob o n.º 08, da matrícula nº. 172.464 do Livro 02 de Registro Geral do Oficial de Registro de Imóvei s de Barueri/SP, no valor de R$ 299.417,86 (duzentos e noventa e nove mil, quatrocentos e dez essete reais e oitenta e seis centavos). 6. Valor de Compra e Venda do Imóvel: R$ 750.000,00 (setecentos e cinquenta mil reais) 6.1. Valor da Entrada pago com recursos próprios do(s) Comprador(es): R$ 300.500,00 (trezentos mil e quinhentos reais), pagos até a data de assinatur a deste Contrato, estando o/a(s) VENDEDOR(ES/AS) cientes e DECLARA(M), de acordo com os termos e efeitos previstos no artigo 320 do Código Civil de 2002, a plena e co mpleta quitação a fim de que surta os devidos efeitos, não sendo cabível qualquer cobranç a de mesma modalidade, tendo em vista a quitação do quanto devido. 7. Valor Líquido a Liberar do Financiamento: R$ 449.500,00 (quatrocentos e quarenta e nove mil e quinhentos reais) 7.1. O (A/S) VENDEDOR(ES/AS) E COMPRADOR(ES/AS)/DEVEDOR( ES/AS) DECLARAM que, estão cientes que será abatido do valor líquid o do financiamento o valor total aproximado de R$ 9.968,95, referente a Débitos Condominiais relativos ao imóvel objeto deste instrumento particular, sendo que as c ondições de quitação destes débitos encontram-se dispostas no item 2 da cláusula VI aba ixo. 7.2. O Valor Líquido a Liberar do Financiamento será cre ditado, integralmente, na conta de pagamento de titularidade do(s) COMPRADOR(ES), mant ida junto ao CREDOR, abaixo especificada (“Conta da Operação”), observado o disposto na Cláusula XVI deste Cont rato. E, após dedução dos valores de IOF, Estruturação da Operação Despesas e valores devidos ao Interveniente Quitante, serão liberados, mediante d ébito na Conta da Operação, os recursos destinados ao pagamento do(s) VENDEDOR(ES), em até 5 (cinco) dias úteis, após a comprovação do registro, deste Contrato, no Serviço de Registro de Imóveis competente, mediante recepção da certidão original e atualizada da matrícula do imóvel com o registro da garantia de alienação fiduciária constituída e aver bação da CCI. Este documento foi assinado digitalmente por Marcelo Buosi Martins, Roberto Amaral Dantas Junior, Henrique Cesar Pedroso Scripelliti, Renan Da Silva Rodrigues, Amauri Jacintho Baragatti Junior e Gustavo Luis Ciuffa Bertanha. Para verificar as assinaturas vá ao site https://www.portaldeassinaturas.com.br:443 e utilize o código 2408-B438-D4CF-F798. Este documento foi assinado digitalmente por Marcelo Buosi Martins, Roberto Amaral Dantas Junior, Henrique Cesar Pedroso Scripelliti, Renan Da Silva Rodrigues, Amauri Jacintho Baragatti Junior e Gustavo Luis Ciuffa Bertanha. Para verificar as assinaturas vá ao site https://www.portaldeassinaturas.com.br:443 e utilize o código 2408-B438-D4CF-F798. INSTRUMENTO PARTICULAR DE COMPRA E VENDA DE IMÓVEL, FINANCIAMENTO COM PACTO ADJETO DE ALIENAÇÃO FIDUCIÁRIA EM GARANTI A, EMISSÃO DE CÉDULA DE CRÉDITO IMOBILIÁRIO – CCI E OUTRAS AVENÇAS Nº 2205055482/RNR Esta página é parte integrante e inseparável do Instrumento Particular de Compra e Ven da de Imóvel, Financiamento com Pacto Adjeto de Alienação Fiduciária em Garantia, Emissão de Cédula de Crédito Imobiliário – CCI e Outras Avenças nº 2205055482/RNR Conta da Operação: TITULAR: R.N. RODRIGUES CONTÁBIL - EIRELI BANCO: QI SOCIEDADE DE CRÉDITO DIRETO S.A. (329) C/C: 47345-3 AGÊNCIA:0001 8. Da Emissão e Liberação 8.1. Data de Emissão deste CONTRATO: 03/05/2022 8.2. Data de Liberação dos Recursos: 05/05/2022, sujeito às condições da cláusula 3.3.1 abaixo. CAMPO 5 – IMÓVEL(IS) – ALIENAÇÃO FIDUCIÁRIA (“IMÓVEL”) 1. Descrição do Imóvel: descrito no Anexo II do presen te instrumento Matriculado sob nº 172.464, no Oficial de Registro de Imóveis de Barueri/SP Forma de aquisição: Contrato de Venda e Compra 2. Valor de avaliação do Imóvel para fins de leilão: R$ 758.500,00. 2.1. Para efeitos de cálculo dos emolumentos de Tabelião e de Registro, poderá ser considerado, para o Imóvel, o valor indicado no item 2 acima. 3. Composição da renda para fins de indenização do Seg uro Nome: RENAN DA SILVA RODRIGUES Participação: 100% CAMPO 6 – CLÁUSULA(S) ADICIONAL(IS) 1. As Cláusulas Especiais, contidas nos campos do Quadro Resumo deste instrumento, são adicionais e complementares, as gerais, adiante dispostas, sendo que, naqueles pontos em que houver conflito, estas, especiais, prevalecerão em relação àquelas, gerais. 2. O (A/S) VENDEDOR(ES/AS) E COMPRADOR(ES/AS)/DEVEDOR(ES/AS) DECLARAM que, para efetivar o regular registro do presente contrato, se comprometem a entregar o boleto referente aos débitos referentes aos Débitos Condominiais relativos ao imóvel objeto deste instrumento particular, perfazendo o valor total aproximado de R$ 9.968,95, para que os pagamentos sejam realizados pela QI SOCIEDADE DE CRÉDITO DIRETO S.A., ora Credora, em até 3 (três) dias úteis. 3. O(s) VENDEDOR(ES) DECLARA(M), sob responsabilidade civil e criminal: (i) não está(ão) sujeito(a/s) à apresentação da Certidão Negativa de Débitos Relativos aos Tributos Federais e à Dívida Ativa da União, administrados pela Secretaria da Receita Federal do Brasil (RFB) e pela Procuradoria-Geral da Fazenda Nacional (PGFN), inclusive as contribuições sociais previstas nas alíneas 'a' a 'd' do parágrafo único do art. 11 da Lei Federal no 8.212, de 24 de julho de 1991, uma vez que não se enquadra(m) nas hipóteses legais em que se exige, para fins Este documento foi assinado digitalmente por Marcelo Buosi Martins, Roberto Amaral Dantas Junior, Henrique Cesar Pedroso Scripelliti, Renan Da Silva Rodrigues, Amauri Jacintho Baragatti Junior e Gustavo Luis Ciuffa Bertanha. Para verificar as assinaturas vá ao site https://www.portaldeassinaturas.com.br:443 e utilize o código 2408-B438-D4CF-F798. Este documento foi assinado digitalmente por Marcelo Buosi Martins, Roberto Amaral Dantas Junior, Henrique Cesar Pedroso Scripelliti, Renan Da Silva Rodrigues, Amauri Jacintho Baragatti Junior e Gustavo Luis Ciuffa Bertanha. Para verificar as assinaturas vá ao site https://www.portaldeassinaturas.com.br:443 e utilize o código 2408-B438-D4CF-F798. INSTRUMENTO PARTICULAR DE COMPRA E VENDA DE IMÓVEL, FINANCIAMENTO COM PACTO ADJETO DE ALIENAÇÃO FIDUCIÁRIA EM GARANTI A, EMISSÃO DE CÉDULA DE CRÉDITO IMOBILIÁRIO – CCI E OUTRAS AVENÇAS Nº 2205055482/RNR Esta página é parte integrante e inseparável do Instrumento Particular de Compra e Ven da de Imóvel, Financiamento com Pacto Adjeto de Alienação Fiduciária em Garantia, Emissão de Cédula de Crédito Imobiliário – CCI e Outras Avenças nº 2205055482/RNR de alienação de imóveis, a apresentação de referida certidão, tampouco está(ão) incurso(s) nas restrições previstas na legislação previdenciária em vigor; 4. O(s) VENDEDOR(ES) e COMPRADOR(ES) DECLARA(M), sob responsabilidade civil e criminal que: (i) o estado civil indicado em sua qualificação, no presente instrumento, foi declarado por ele(s) VENDEDOR(ES) e COMPRADOR(ES), sendo a mais pura expressão da verdade, estando ciente(s) de que a omissão ou a apresentação de informações e/ou documentos falsos ou divergentes poderão implicar nas medidas administrativas cabíveis; (ii) Não existem processamentos perante a Justiça Brasileira de ações capazes de conduzí-los ao estado de insolvência ou ainda de eventuais empresas das quais seja sócio, tendo em vista que dispõem e continuarão a dispor de bens suficientes para garantir quaisquer condenações pecuniárias, sendo que a alienação do Imóvel não implicará em fraude de qualquer espécie; ( iii) não há procedimentos judiciais, administrativos, extrajudiciais ou arbitrais em seu nome, de natureza cível, tributária, trabalhista, previdenciária, ambiental e criminal, ou procedimentos judiciais, administrativos ou extrajudiciais relacionados ao Imóvel, em curso ou iminentes, que possam afetar negativamente ou impedir a celebração deste Contrato, caracterizar fraude (à execução ou a credores) ou impedir a assunção dos deveres e obrigações ora assumidos por eles. As presentes declarações têm caráter irrevogável e irretratável, sendo condição do presente negócio. CAMPO 7 – CÉDULA DE CRÉDITO IMOBILIÁRIO – CCI SÉRIE: 2022 NÚMERO: 2205055482/RNR CRÉDITO: o que decorre, do presente instrumento, para a CREDOR. INTEGRAL: (X) FRACIONÁRIA: ( ) PERCENTUAL DO CRÉDITO: 100% VALOR DA EMISSÃO: R$ 512.304,23 PRAZO (em meses): 360 CREDOR: Conforme indicado no Campo I deste Preâmbulo. DEVEDOR(ES): Conforme indicado no Campo III deste Preâmbulo. INSTITUIÇÃO CUSTODIANTE: VÓRTX DISTRIBUIDORA DE TÍTULOS E VALORES MOBILIÁRIOS LTDA., instituição financeira autorizada pela CVM para administrar fundos de investimentos e carteiras de valores mobiliários, por meio do Ato Declaratório nº 11.784, expedido em 30 de junho de 2011, com sede na Rua Gilberto Sabino, nº 215, conjunto 41, sala 2, Pinheiros, Cidade de São Paulo, Estado de São Paulo, CEP 05425-020, inscrita no CNPJ sob nº 22.610.500/0001-88. Este documento foi assinado digitalmente por Marcelo Buosi Martins, Roberto Amaral Dantas Junior, Henrique Cesar Pedroso Scripelliti, Renan Da Silva Rodrigues, Amauri Jacintho Baragatti Junior e Gustavo Luis Ciuffa Bertanha. Para verificar as assinaturas vá ao site https://www.portaldeassinaturas.com.br:443 e utilize o código 2408-B438-D4CF-F798. Este documento foi assinado digitalmente por Marcelo Buosi Martins, Roberto Amaral Dantas Junior, Henrique Cesar Pedroso Scripelliti, Renan Da Silva Rodrigues, Amauri Jacintho Baragatti Junior e Gustavo Luis Ciuffa Bertanha. Para verificar as assinaturas vá ao site https://www.portaldeassinaturas.com.br:443 e utilize o código 2408-B438-D4CF-F798.\""
      ]
     },
     "execution_count": 168,
     "metadata": {},
     "output_type": "execute_result"
    }
   ],
   "source": [
    "text"
   ]
  },
  {
   "cell_type": "code",
   "execution_count": 169,
   "metadata": {},
   "outputs": [],
   "source": [
    "listaDePara = {'valorTotal':'1. Valor do Financiamento: R$','tabela': 'Sistema de Amortização:','Taxa ao Mes':'2.1.1. Juros de','registro':'4.3. Despesas','valorLiquido': '7. Valor Líquido a Liberar do Financiamento: R$',\n",
    "                'prazoMes': 'PRAZO DE AMORTIZAÇÃO:','valorPrimeiraParcelaComEncargos':'VALOR TOTAL DO PRIMEIRO ENCARGO, NESTA DATA: R$',\n",
    "                'valorImóvel':'Imóvel para fins de leilão: R$','prazoContrato': 'N.º DE PRESTAÇÕES:','ultimaParcela':'DATA DE VENCIMENTO DA ÚLTIMA PRESTAÇÃO:','dataContrato': 'Data de Liberação dos Recursos: ',\n",
    "                'valorPrimeiraParcela':'), NESTA DATA: R$','primeiraParcela':'DATA DE VENCIMENTO DA PRIMEIRA PRESTAÇÃO: ','indice':'ÍNDICE: MENSAL do'\n",
    "                }\n",
    "\n",
    "listaKey = []\n",
    "listaValues = []\n",
    "\n",
    "for key, value in listaDePara.items():\n",
    "    if key == 'registro':\n",
    "\n",
    "        inicFrase = '4.3. Despesas'\n",
    "        fimFrase = 'Registro: R$'\n",
    "\n",
    "        #Pegar posição das variáveis auxiliares no texto\n",
    "        inicioTopico = text.find(inicFrase, 0)\n",
    "        finalTopico = text.find(fimFrase, 0)\n",
    "\n",
    "        #Criar Paragráfo Auxiliar (Somente com os sub itens do tópico 4. Despesas)\n",
    "        paragrafo4 = text[inicioTopico+len(inicFrase)+1:finalTopico-1]\n",
    "        value = f'{inicFrase} {paragrafo4} {fimFrase}'\n",
    "        \n",
    "        \n",
    "\n",
    "  \n",
    "    inicioFrase = text.find(value,0)\n",
    "    finalFrase = inicioFrase + len(value) + 1\n",
    "    proximoEspaco = text.find(\" \", finalFrase)\n",
    "    valorExtraido = text[finalFrase:proximoEspaco]\n",
    "\n",
    "    #Ajustar Valores Númericos\n",
    "    if '.' in valorExtraido:\n",
    "        valorExtraido = valorExtraido.replace(\".\", \"\")\n",
    "        valorExtraido = valorExtraido.replace(\",\", \".\")\n",
    "    \n",
    "    #Ajustar Valores Percentuais\n",
    "    if '%' in valorExtraido:\n",
    "        valorExtraido = valorExtraido.replace(\",\", \".\")\n",
    "        valorExtraido = valorExtraido.replace(\"%\", \"\")\n",
    "        valorExtraido = round(float(valorExtraido)/100,4)\n",
    "    elif 'IPCA' or 'IGPM' in valorExtraido:\n",
    "        valorExtraido = valorExtraido.replace(\",\", \"\")\n",
    "    \n",
    "    elif key == 'registro':\n",
    "        #Definir Variáveis Auxiliares\n",
    "        topico4 = '4. Despesas'\n",
    "        topico5 = '5. Valor Destinado'\n",
    "\n",
    "        #Pegar posição das variáveis auxiliares no texto\n",
    "        inicioTopico = text.find(topico4, 0)\n",
    "        finalTopico = text.find(topico5, 0)\n",
    "\n",
    "        #Criar Paragráfo Auxiliar (Somente com os sub itens do tópico 4. Despesas)\n",
    "        paragrafo4 = text[inicioTopico+len(topico4)+1:finalTopico-1]\n",
    "        paragrafo4 = re.sub('\\s+',' ', paragrafo4)\n",
    "\n",
    "        listaChave = ['4.3.','4.4.']\n",
    "        inicioItens = []\n",
    "\n",
    "        for item in listaChave:\n",
    "            inicioP = paragrafo4.find(item,0)\n",
    "            inicioItens.append(inicioP)\n",
    "            \n",
    "        item1 = paragrafo4[inicioItens[0]:inicioItens[1]-1]\n",
    "\n",
    "        listaFinal = [item1]\n",
    "        print(listaFinal)\n",
    "        listaValor = []\n",
    "\n",
    "        for itemAux in listaFinal:\n",
    "            if '[X]' in itemAux:\n",
    "                inicioAux = itemAux.find('R$ ', 0)\n",
    "                fimAux = itemAux.find(\",\", inicioAux) + 3\n",
    "                valorExtraido = itemAux[inicioAux+3:fimAux]\n",
    "            else:\n",
    "                valorExtraido = '0,00'\n",
    "    listaKey.append(key)\n",
    "    listaValues.append(valorExtraido)\n"
   ]
  },
  {
   "cell_type": "code",
   "execution_count": 170,
   "metadata": {},
   "outputs": [
    {
     "data": {
      "text/plain": [
       "'172.464'"
      ]
     },
     "execution_count": 170,
     "metadata": {},
     "output_type": "execute_result"
    }
   ],
   "source": [
    "# Extraindo numero da matricula\n",
    "inicioFrase = text.find('Matriculado sob nº ',0)\n",
    "finalFrase = inicioFrase + len('Matriculado sob nº') + 1\n",
    "ultimaMatricula = text.find(\"no\", finalFrase)\n",
    "valorExtraido = text[finalFrase:ultimaMatricula]\n",
    "valorExtraido = valorExtraido.replace(\",\", \"\")\n",
    "valorExtraido = valorExtraido.replace(\" \", \"\")\n",
    "\n",
    "listaKey.append('Matrícula')\n",
    "listaValues.append(valorExtraido)\n",
    "valorExtraido"
   ]
  },
  {
   "cell_type": "code",
   "execution_count": 171,
   "metadata": {},
   "outputs": [
    {
     "data": {
      "text/plain": [
       "'Oficial de Registro de Imóveis de Barueri/S'"
      ]
     },
     "execution_count": 171,
     "metadata": {},
     "output_type": "execute_result"
    }
   ],
   "source": [
    "# Extraindo cartório\n",
    "inicioFrase = text.find(f'Matriculado sob nº {valorExtraido}, no',0)\n",
    "finalFrase = inicioFrase + len(f'Matriculado sob nº {valorExtraido}, no') + 1\n",
    "ultimaMatricula = text.find(\"Forma de aquisição\", finalFrase)\n",
    "valorExtraido = text[finalFrase:ultimaMatricula-2]\n",
    "\n",
    "listaKey.append('Cartório')\n",
    "listaValues.append(valorExtraido)\n",
    "valorExtraido"
   ]
  },
  {
   "cell_type": "code",
   "execution_count": 172,
   "metadata": {},
   "outputs": [
    {
     "data": {
      "text/plain": [
       "\"PRA E VENDA DE IMÓVEL, FINANCIAMENTO COM PACTO ADJETO DE ALIENAÇÃO FIDUCIÁRIA EM GARANTI A, EMISSÃO DE CÉDULA DE CRÉDITO IMOBILIÁRIO – CCI E OUTRAS AVENÇAS Nº 2205055482/RNR Esta página é parte integrante e inseparável do Instrumento Particular de Compra e Ven da de Imóvel, Financiamento com Pacto Adjeto de Alienação Fiduciária em Garantia, Emissão de Cédula de Crédito Imobiliário – CCI e Outras Avenças nº 2205055482/RNR CAMPO 1 – CREDORA RAZÃO SOCIAL: QI SOCIEDADE DE CRÉDITO DIRETO S.A. ENDEREÇO COMERCIAL: Avenida Brigadeiro Faria Lima, nº 2.391, 1º andar COMPLEMENTO: Conjunto 12 BAIRRO: Jardim Paulistano CIDADE: São Paulo UF: SP CEP: 01452-000 CNPJ: 32.402.502/0001-35 DATA DA CONSTITUIÇÃO: 10/01/2019 REGISTRO JUCESP: 35300530225 REPRESENTANTES: Roberto Amaral Dantas Junior, brasileiro, portador da cédula de identidade RG nº 50.016.943-3 SSP/SP e inscrito no CPF sob nº 400.516.238-03, nos termos da Procuração Pública lavrada pelo 1º Tabelião de Notas de São Paulo/SP no livro 4831, página 341 Rogério de Almeida Domingues / CPF: 315.191.258-36 Lucas de Jesus Clarim / CPF: 109.323.276-56 Marcelo Buosi Martins / CPF: 380.261.198-51 CAMPO 2 - VENDEDOR (ES/AS) RAZÃO SOCIAL: ESSENCE ASSESSORIA E CONSULTORIA EMPRESARIAL LTDA. ENDEREÇO COMERCIAL: Avenida Brigadeiro Faria Lima, nº 3.729 COMPLEMENTO: 5º andar BAIRRO: Itaim Bibi CIDADE: São Paulo UF: SP CEP: 04.538-905 CNPJ: 28.927.485/0001-82 DATA DA CONSTITUIÇÃO: 24/10/2017 REGISTRO JUCESP: 35230754979 REPRESENTANTES: Amauri Jacintho Baragatti Junior / CPF: 464.375.958-50 TELEFONE(S): (11) 97440-3503 EMAIL: amaurijr@karebank.com.br Conta Corrente para Crédito: Titular: ESSENCE ASSESSORIA E CONSULTORIA EMPRESARIAL LTDA. Banco: BRADESCO Conta Corrente Nº: 35226-8 Agência: 1382 Este documento foi assinado digitalmente por Marcelo Buosi Martins, Roberto Amaral Dantas Junior, Henrique Cesar Pedroso Scripelliti, Renan Da Silva Rodrigues, Amauri Jacintho Baragatti Junior e Gustavo Luis Ciuffa Bertanha. Para verificar as assinaturas vá ao site https://www.portaldeassinaturas.com.br:443 e utilize o código 2408-B438-D4CF-F798. Este documento foi assinado digitalmente por Marcelo Buosi Martins, Roberto Amaral Dantas Junior, Henrique Cesar Pedroso Scripelliti, Renan Da Silva Rodrigues, Amauri Jacintho Baragatti Junior e Gustavo Luis Ciuffa Bertanha. Para verificar as assinaturas vá ao site https://www.portaldeassinaturas.com.br:443 e utilize o código 2408-B438-D4CF-F798. INSTRUMENTO PARTICULAR DE COMPRA E VENDA DE IMÓVEL, FINANCIAMENTO COM PACTO ADJETO DE ALIENAÇÃO FIDUCIÁRIA EM GARANTI A, EMISSÃO DE CÉDULA DE CRÉDITO IMOBILIÁRIO – CCI E OUTRAS AVENÇAS Nº 2205055482/RNR Esta página é parte integrante e inseparável do Instrumento Particular de Compra e Ven da de Imóvel, Financiamento com Pacto Adjeto de Alienação Fiduciária em Garantia, Emissão de Cédula de Crédito Imobiliário – CCI e Outras Avenças nº 2205055482/RNR CAMPO 3 - COMPRADOR(ES)/DEVEDOR(ES) E ANUENTE(S) COMPRADORA/DEVEDORA FIDUCIANTE RAZÃO SOCIAL: R.N. RODRIGUES CONTÁBIL - EIRELI ENDEREÇO COMERCIAL: Alameda Rio Negro, nº 1.030 COMPLEMENTO: Sala 1303 A BAIRRO: Alphaville Centro Industrial e Empresarial CIDADE: Barueri UF: SP CEP: 06.454-000 CNPJ: 20.896.434/0001-29 DATA DA CONSTITUIÇÃO: 25/08/2014 REGISTRO JUCESP: 35600721824 REPRESENTANTES: Renan da Silva Rodrigues / CPF: 318.555.418-31 DEVEDOR SOLIDÁRIO NOME: RENAN DA SILVA RODRIGUES CPF: 318.555.418-31 DATA DE NASCIMENTO: 06/06/1984 FILIAÇÃO: JOSÉ OTÁVIO RODIRGUES e MARIA AUXILIADORA GUIMARÃES DA SILVA RODRIGUES IDENTIDADE (tipo/número): RG: 33.401.476-1 ÓRGÃO EMISSOR: SSP/SP NACIONALIDADE: BRASILEIRA PROFISSÃO: TÉCNICO EM CONTABILIDADE ESTADO CIVIL: SOLTEIRO REGIME DE CASAMENTO (SE FOR CASADO): N/A ENDEREÇO RESIDENCIAL E DOMICILIAR: ALAMEDA ITANHAÉM, 03 COMPLEMENTO: CASA 122 BAIRRO: ALPHAVILLE CIDADE: SANTANA DE PARNAÍBA UF: SP CEP: 06542-140 TELEFONE(S): (11) 98551-9225 EMAIL: financeiro@ronaconsultoria.com.br CAMPO 4 - CARACTERÍSTICAS DO FINANCIAMENTO 1. Valor do Financiamento: R$ 512.304,23 Este documento foi assinado digitalmente por Marcelo Buosi Martins, Roberto Amaral Dantas Junior, Henrique Cesar Pedroso Scripelliti, Renan Da Silva Rodrigues, Amauri Jacintho Baragatti Junior e Gustavo Luis Ciuffa Bertanha. Para verificar as assinaturas vá ao site https://www.portaldeassinaturas.com.br:443 e utilize o código 2408-B438-D4CF-F798. Este documento foi assinado digitalmente por Marcelo Buosi Martins, Roberto Amaral Dantas Junior, Henrique Cesar Pedroso Scripelliti, Renan Da Silva Rodrigues, Amauri Jacintho Baragatti Junior e Gustavo Luis Ciuffa Bertanha. Para verificar as assinaturas vá ao site https://www.portaldeassinaturas.com.br:443 e utilize o código 2408-B438-D4CF-F798. INSTRUMENTO PARTICULAR DE COMPRA E VENDA DE IMÓVEL, FINANCIAMENTO COM PACTO ADJETO DE ALIENAÇÃO FIDUCIÁRIA EM GARANTI A, EMISSÃO DE CÉDULA DE CRÉDITO IMOBILIÁRIO – CCI E OUTRAS AVENÇAS Nº 2205055482/RNR Esta página é parte integrante e inseparável do Instrumento Particular de Compra e Ven da de Imóvel, Financiamento com Pacto Adjeto de Alienação Fiduciária em Garantia, Emissão de Cédula de Crédito Imobiliário – CCI e Outras Avenças nº 2205055482/RNR 2. Condições do Financiamento 2.1. Encargos Remuneratórios 2.1.1. Juros de 0,70% a.m. exponencial ao mês, equivalente a de 8,7311% a.a. exponencial ao ano. 2.1.2. ÍNDICE: MENSAL do IPCA, tomando-se por base a variação do índice do segundo mês anterior ao da assinatura deste contrato, inclusive, e o índice relativo ao segundo mês anterior ao do efetivo pagamento de cada encargo. 2.1.3. Sistema de Amortização: SAC VISTO DO(S) DEVEDOR(ES): _______________________________ _____ 2.2. Custo Efetivo Total (CET): 11,2882% a.a. 2.3. Valor Mensal dos Prêmios de Seguro: 2.3.1. Seguradora MIP: GEO CONVÊNIO DE SEGUROS – NÚCLEO DE SEGUROS CBIC 2.3.1.1 Alíquota de MIP (%): 0,021% 2.3.1.2 MIP (Morte e Invalidez Permanente): R$ 109,92 2.3.2 Seguradora DFI: GEO CONVÊNIO DE SEGUROS – NÚCLEO DE SEGUROS CBIC 2.3.2.1. Alíquota de DFI (%): 0,007% 2.3.2.2. DFI (Danos Físicos do Imóvel): R$ 53,10 2.3.3. Taxa Mensal de Gestão e Administração do Crédito: R$ 25,00 2.4. Forma de Pagamento 2.4.1. PRAZO DE AMORTIZAÇÃO: 360 Meses 2.4.2. N.º DE PRESTAÇÕES: 357 2.4.3. PERIODICIDADE DE VENCIMENTO: Mensal 2.4.4. DATA DE VENCIMENTO DA PRIMEIRA PRESTAÇÃO: 15/09/2022 2.4.5. DATA DE VENCIMENTO DA ÚLTIMA PRESTAÇÃO: 15/05/2052 2.4.6. MODO DE PAGAMENTO DAS PRESTAÇÕES MENSAIS: Boleto Bancário 2.4.7. VALOR DA PARCELA MENSAL (AMORTIZAÇÃO E JURO S), NESTA DATA: R$ 5.144,42 2.4.8. VALOR TOTAL DO PRIMEIRO ENCARGO, NESTA DATA: R$ 5.332,43 2.4.9. PRAÇA DE PAGAMENTO: Cidade De São Paulo, Estado De São Paulo . 3. Tributos e Contribuições: Este documento foi assinado digitalmente por Marcelo Buosi Martins, Roberto Amaral Dantas Junior, Henrique Cesar Pedroso Scripelliti, Renan Da Silva Rodrigues, Amauri Jacintho Baragatti Junior e Gustavo Luis Ciuffa Bertanha. Para verificar as assinaturas vá ao site https://www.portaldeassinaturas.com.br:443 e utilize o código 2408-B438-D4CF-F798. Este documento foi assinado digitalmente por Marcelo Buosi Martins, Roberto Amaral Dantas Junior, Henrique Cesar Pedroso Scripelliti, Renan Da Silva Rodrigues, Amauri Jacintho Baragatti Junior e Gustavo Luis Ciuffa Bertanha. Para verificar as assinaturas vá ao site https://www.portaldeassinaturas.com.br:443 e utilize o código 2408-B438-D4CF-F798. INSTRUMENTO PARTICULAR DE COMPRA E VENDA DE IMÓVEL, FINANCIAMENTO COM PACTO ADJETO DE ALIENAÇÃO FIDUCIÁRIA EM GARANTI A, EMISSÃO DE CÉDULA DE CRÉDITO IMOBILIÁRIO – CCI E OUTRAS AVENÇAS Nº 2205055482/RNR Esta página é parte integrante e inseparável do Instrumento Particular de Compra e Ven da de Imóvel, Financiamento com Pacto Adjeto de Alienação Fiduciária em Garantia, Emissão de Cédula de Crédito Imobiliário – CCI e Outras Avenças nº 2205055482/RNR 3.1. IOF: R$ 9.571,73 4. Despesas 4.1. Análise de Garantia: R$ 15.732,50 [X] Incluída no Financiamento 4.2. Tarifa de Avaliação do Imóvel: R$ 0,00 [ ] Incluída no Financiamento 4.3. Despesas Cartorárias de Registro: R$ 15.000,00 [X] Incluída no Financiamento 4.4. ITBI: R$ 22.500,00 [X] Incluída no Financiamento 5. Valor Destinado ao Pagamento da Interveniente Quita nte - Saldo Devedor do Imóvel Aplicável: [X] Não aplicável: [--] O(s) VENDEDOR(ES), qualificados no Quadro II do preâ mbulo, DECLARA(M) estar ciente(s) de que o CREDOR quitará o saldo devedor de seu financiamen to, junto à Caixa Econômica Federal CNPJ/MF sob nº 00.360.305/0001-04 (“Interveniente Quitante”), registrado sob o n.º 08, da matrícula nº. 172.464 do Livro 02 de Registro Geral do Oficial de Registro de Imóvei s de Barueri/SP, no valor de R$ 299.417,86 (duzentos e noventa e nove mil, quatrocentos e dez essete reais e oitenta e seis centavos). 6. Valor de Compra e Venda do Imóvel: R$ 750.000,00 (setecentos e cinquenta mil reais) 6.1. Valor da Entrada pago com recursos próprios do(s) Comprador(es): R$ 300.500,00 (trezentos mil e quinhentos reais), pagos até a data de assinatur a deste Contrato, estando o/a(s) VENDEDOR(ES/AS) cientes e DECLARA(M), de acordo com os termos e efeitos previstos no artigo 320 do Código Civil de 2002, a plena e co mpleta quitação a fim de que surta os devidos efeitos, não sendo cabível qualquer cobranç a de mesma modalidade, tendo em vista a quitação do quanto devido. 7. Valor Líquido a Liberar do Financiamento: R$ 449.500,00 (quatrocentos e quarenta e nove mil e quinhentos reais) 7.1. O (A/S) VENDEDOR(ES/AS) E COMPRADOR(ES/AS)/DEVEDOR( ES/AS) DECLARAM que, estão cientes que será abatido do valor líquid o do financiamento o valor total aproximado de R$ 9.968,95, referente a Débitos Condominiais relativos ao imóvel objeto deste instrumento particular, sendo que as c ondições de quitação destes débitos encontram-se dispostas no item 2 da cláusula VI aba ixo. 7.2. O Valor Líquido a Liberar do Financiamento será cre ditado, integralmente, na conta de pagamento de titularidade do(s) COMPRADOR(ES), mant ida junto ao CREDOR, abaixo especificada (“Conta da Operação”), observado o disposto na Cláusula XVI deste Cont rato. E, após dedução dos valores de IOF, Estruturação da Operação Despesas e valores devidos ao Interveniente Quitante, serão liberados, mediante d ébito na Conta da Operação, os recursos destinados ao pagamento do(s) VENDEDOR(ES), em até 5 (cinco) dias úteis, após a comprovação do registro, deste Contrato, no Serviço de Registro de Imóveis competente, mediante recepção da certidão original e atualizada da matrícula do imóvel com o registro da garantia de alienação fiduciária constituída e aver bação da CCI. Este documento foi assinado digitalmente por Marcelo Buosi Martins, Roberto Amaral Dantas Junior, Henrique Cesar Pedroso Scripelliti, Renan Da Silva Rodrigues, Amauri Jacintho Baragatti Junior e Gustavo Luis Ciuffa Bertanha. Para verificar as assinaturas vá ao site https://www.portaldeassinaturas.com.br:443 e utilize o código 2408-B438-D4CF-F798. Este documento foi assinado digitalmente por Marcelo Buosi Martins, Roberto Amaral Dantas Junior, Henrique Cesar Pedroso Scripelliti, Renan Da Silva Rodrigues, Amauri Jacintho Baragatti Junior e Gustavo Luis Ciuffa Bertanha. Para verificar as assinaturas vá ao site https://www.portaldeassinaturas.com.br:443 e utilize o código 2408-B438-D4CF-F798. INSTRUMENTO PARTICULAR DE COMPRA E VENDA DE IMÓVEL, FINANCIAMENTO COM PACTO ADJETO DE ALIENAÇÃO FIDUCIÁRIA EM GARANTI A, EMISSÃO DE CÉDULA DE CRÉDITO IMOBILIÁRIO – CCI E OUTRAS AVENÇAS Nº 2205055482/RNR Esta página é parte integrante e inseparável do Instrumento Particular de Compra e Ven da de Imóvel, Financiamento com Pacto Adjeto de Alienação Fiduciária em Garantia, Emissão de Cédula de Crédito Imobiliário – CCI e Outras Avenças nº 2205055482/RNR Conta da Operação: TITULAR: R.N. RODRIGUES CONTÁBIL - EIRELI BANCO: QI SOCIEDADE DE CRÉDITO DIRETO S.A. (329) C/C: 47345-3 AGÊNCIA:0001 8. Da Emissão e Liberação 8.1. Data de Emissão deste CONTRATO: 03/05/2022 8.2. Data de Liberação dos Recursos: 05/05/2022, sujeito às condições da cláusula 3.3.1 abaixo. CAMPO 5 – IMÓVEL(IS) – ALIENAÇÃO FIDUCIÁRIA (“IMÓVEL”) 1. Descrição do Imóvel: descrito no Anexo II do presen te instrumento Matriculado sob nº 172.464, no Oficial de Registro de Imóveis de Barueri/SP Forma de aquisição: Contrato de Venda e Compra 2. Valor de avaliação do Imóvel para fins de leilão: R$ 758.500,00. 2.1. Para efeitos de cálculo dos emolumentos de Tabelião e de Registro, poderá ser considerado, para o Imóvel, o valor indicado no item 2 acima. 3. Composição da renda para fins de indenização do Seg uro Nome: RENAN DA SILVA RODRIGUES Participação: 100% CAMPO 6 – CLÁUSULA(S) ADICIONAL(IS) 1. As Cláusulas Especiais, contidas nos campos do Quadro Resumo deste instrumento, são adicionais e complementares, as gerais, adiante dispostas, sendo que, naqueles pontos em que houver conflito, estas, especiais, prevalecerão em relação àquelas, gerais. 2. O (A/S) VENDEDOR(ES/AS) E COMPRADOR(ES/AS)/DEVEDOR(ES/AS) DECLARAM que, para efetivar o regular registro do presente contrato, se comprometem a entregar o boleto referente aos débitos referentes aos Débitos Condominiais relativos ao imóvel objeto deste instrumento particular, perfazendo o valor total aproximado de R$ 9.968,95, para que os pagamentos sejam realizados pela QI SOCIEDADE DE CRÉDITO DIRETO S.A., ora Credora, em até 3 (três) dias úteis. 3. O(s) VENDEDOR(ES) DECLARA(M), sob responsabilidade civil e criminal: (i) não está(ão) sujeito(a/s) à apresentação da Certidão Negativa de Débitos Relativos aos Tributos Federais e à Dívida Ativa da União, administrados pela Secretaria da Receita Federal do Brasil (RFB) e pela Procuradoria-Geral da Fazenda Nacional (PGFN), inclusive as contribuições sociais previstas nas alíneas 'a' a 'd' do parágrafo único do art. 11 da Lei Federal no 8.212, de 24 de julho de 1991, uma vez que não se enquadra(m) nas hipóteses legais em que se exige, para fins Este documento foi assinado digitalmente por Marcelo Buosi Martins, Roberto Amaral Dantas Junior, Henrique Cesar Pedroso Scripelliti, Renan Da Silva Rodrigues, Amauri Jacintho Baragatti Junior e Gustavo Luis Ciuffa Bertanha. Para verificar as assinaturas vá ao site https://www.portaldeassinaturas.com.br:443 e utilize o código 2408-B438-D4CF-F798. Este documento foi assinado digitalmente por Marcelo Buosi Martins, Roberto Amaral Dantas Junior, Henrique Cesar Pedroso Scripelliti, Renan Da Silva Rodrigues, Amauri Jacintho Baragatti Junior e Gustavo Luis Ciuffa Bertanha. Para verificar as assinaturas vá ao site https://www.portaldeassinaturas.com.br:443 e utilize o código 2408-B438-D4CF-F798. INSTRUMENTO PARTICULAR DE COMPRA E VENDA DE IMÓVEL, FINANCIAMENTO COM PACTO ADJETO DE ALIENAÇÃO FIDUCIÁRIA EM GARANTI A, EMISSÃO DE CÉDULA DE CRÉDITO IMOBILIÁRIO – CCI E OUTRAS AVENÇAS Nº 2205055482/RNR Esta página é parte integrante e inseparável do Instrumento Particular de Compra e Ven da de Imóvel, Financiamento com Pacto Adjeto de Alienação Fiduciária em Garantia, Emissão de Cédula de Crédito Imobiliário – CCI e Outras Avenças nº 2205055482/RNR de alienação de imóveis, a apresentação de referida certidão, tampouco está(ão) incurso(s) nas restrições previstas na legislação previdenciária em vigor; 4. O(s) VENDEDOR(ES) e COMPRADOR(ES) DECLARA(M), sob responsabilidade civil e criminal que: (i) o estado civil indicado em sua qualificação, no presente instrumento, foi declarado por ele(s) VENDEDOR(ES) e COMPRADOR(ES), sendo a mais pura expressão da verdade, estando ciente(s) de que a omissão ou a apresentação de informações e/ou documentos falsos ou divergentes poderão implicar nas medidas administrativas cabíveis; (ii) Não existem processamentos perante a Justiça Brasileira de ações capazes de conduzí-los ao estado de insolvência ou ainda de eventuais empresas das quais seja sócio, tendo em vista que dispõem e continuarão a dispor de bens suficientes para garantir quaisquer condenações pecuniárias, sendo que a alienação do Imóvel não implicará em fraude de qualquer espécie; ( iii) não há procedimentos judiciais, administrativos, extrajudiciais ou arbitrais em seu nome, de natureza cível, tributária, trabalhista, previdenciária, ambiental e criminal, ou procedimentos judiciais, administrativos ou extrajudiciais relacionados ao Imóvel, em curso ou iminentes, que possam afetar negativamente ou impedir a celebração deste Contrato, caracterizar fraude (à execução ou a credores) ou impedir a assunção dos deveres e obrigações ora assumidos por eles. As presentes declarações têm caráter irrevogável e irretratável, sendo condição do presente negócio. CAMPO 7 – CÉDULA DE CRÉDITO IMOBILIÁRIO – CCI SÉRIE: 2022 NÚMERO: 2205055482/RNR CRÉDITO: o que decorre, do presente instrumento, para a CREDOR. INTEGRAL: (X) FRACIONÁRIA: ( ) PERCENTUAL DO CRÉDITO: 100% VALOR DA EMISSÃO: R$ 512.304,23 PRAZO (em meses): 360 CREDOR: Conforme indicado no Campo I deste Preâmbulo. DEVEDOR(ES): Conforme indicado no Campo III deste Preâmbulo. INSTITUIÇÃO CUSTODIANTE: VÓRTX DISTRIBUIDORA DE TÍTULOS E VALORES MOBILIÁRIOS LTDA., instituição financeira autorizada pela CVM para administrar fundos de investimentos e carteiras de valores mobiliários, por meio do Ato Declaratório nº 11.784, expedido em 30 de junho de 2011, com sede na Rua Gilberto Sabino, nº 215, conjunto 41, sala 2, Pinheiros, Cidade de São Paulo, Estado de São Paulo, CEP 05425-020, inscrita no CNPJ sob nº 22.610.500/0001-88. Este documento foi assinado digitalmente por Marcelo Buosi Martins, Roberto Amaral Dantas Junior, Henrique Cesar Pedroso Scripelliti, Renan Da Silva Rodrigues, Amauri Jacintho Baragatti Junior e Gustavo Luis Ciuffa Bertanha. Para verificar as assinaturas vá ao site https://www.portaldeassinaturas.com.br:443 e utilize o código 2408-B438-D4CF-F798. Este documento foi assinado digitalmente por Marcelo Buosi Martins, Roberto Amaral Dantas Junior, Henrique Cesar Pedroso Scripelliti, Renan Da Silva Rodrigues, Amauri Jacintho Baragatti Junior e Gustavo Luis Ciuffa Bertanha. Para verificar as assinaturas vá ao site https://www.portaldeassinaturas.com.br:443 e utilize o código 2408-B438-D4CF-F79\""
      ]
     },
     "execution_count": 172,
     "metadata": {},
     "output_type": "execute_result"
    }
   ],
   "source": [
    "# Extraindo participantes da operação \n",
    "campo5 = 'fins de indenização do Seguro'                         #inicio e fim da extração\n",
    "campo6 = 'VI – CLÁUSULA(S)'\n",
    "\n",
    "#Pegar posição das variáveis auxiliares no texto\n",
    "inicioTopico = text.find(campo5, 0)\n",
    "finalTopico = text.find(campo6, 0)\n",
    "\n",
    "#Criar Paragráfo Auxiliar\n",
    "paragrafoAux = 0\n",
    "paragrafoAux = text[inicioTopico+len(campo5)+1:finalTopico-1]\n",
    "paragrafoAux = re.sub('\\s+',' ', paragrafoAux)\n",
    "totalParticipantes = paragrafoAux.count('Nome: ')\n",
    "\n",
    "paragrafoAux"
   ]
  },
  {
   "cell_type": "code",
   "execution_count": 173,
   "metadata": {},
   "outputs": [
    {
     "name": "stdout",
     "output_type": "stream",
     "text": [
      "{'Participante1': 'RENAN DA SILVA RODRIGUES', 'Participação1': '100%'}\n"
     ]
    }
   ],
   "source": [
    "participantesKey = []\n",
    "participantesValues = []\n",
    "\n",
    "# Extraindo participantes\n",
    "fimValor = 0\n",
    "\n",
    "for num in range(0, totalParticipantes):\n",
    "    paragrafoAux = paragrafoAux[fimValor:]\n",
    "    inicioFrase = paragrafoAux.find('Nome: ',0)\n",
    "    finalFrase = inicioFrase + len('Nome: ') \n",
    "    ultimoNome = paragrafoAux.find(\"Participação: \", finalFrase)\n",
    "    nomeExtraido = paragrafoAux[finalFrase:ultimoNome]\n",
    "    participantesKey.append(f'Participante{num+1}')\n",
    "    participantesKey.append(f'Participação{num+1}')\n",
    "    participantesValues.append(nomeExtraido.strip())\n",
    "    inicioFrase = paragrafoAux.find('Participação:',0)\n",
    "    finalFrase = inicioFrase + len('Participação:') \n",
    "    fimValor = paragrafoAux.find(\"%\", finalFrase)\n",
    "    participacaoExtraido = paragrafoAux[finalFrase:fimValor+1]\n",
    "    participantesValues.append(participacaoExtraido.strip())\n",
    "    dict_participantes = dict(zip(participantesKey,participantesValues))\n",
    "    print(dict_participantes)"
   ]
  },
  {
   "cell_type": "code",
   "execution_count": 174,
   "metadata": {},
   "outputs": [
    {
     "data": {
      "text/plain": [
       "{'valorTotal': '512304.23',\n",
       " 'tabela': 'SAC',\n",
       " 'Taxa ao Mes': 0.007,\n",
       " 'registro': '15000.00',\n",
       " 'valorLiquido': '449500.00',\n",
       " 'prazoMes': '360',\n",
       " 'valorPrimeiraParcelaComEncargos': '5332.43',\n",
       " 'valorImóvel': '758500.00',\n",
       " 'prazoContrato': '357',\n",
       " 'ultimaParcela': '15/05/2052',\n",
       " 'dataContrato': '5/05/2022',\n",
       " 'valorPrimeiraParcela': '5144.42',\n",
       " 'primeiraParcela': '5/09/2022',\n",
       " 'indice': 'IPCA',\n",
       " 'Matrícula': '172.464',\n",
       " 'Cartório': 'Oficial de Registro de Imóveis de Barueri/S',\n",
       " 'Participante1': 'RENAN DA SILVA RODRIGUES',\n",
       " 'Participação1': '100%'}"
      ]
     },
     "execution_count": 174,
     "metadata": {},
     "output_type": "execute_result"
    }
   ],
   "source": [
    "#Criar Dicionario das duas Listas\n",
    "dict_keyValue = dict(zip(listaKey,listaValues))\n",
    "dict_keyValue.update(dict_participantes)\n",
    "dict_keyValue"
   ]
  }
 ],
 "metadata": {
  "kernelspec": {
   "display_name": "Python 3.9.7 64-bit",
   "language": "python",
   "name": "python3"
  },
  "language_info": {
   "codemirror_mode": {
    "name": "ipython",
    "version": 3
   },
   "file_extension": ".py",
   "mimetype": "text/x-python",
   "name": "python",
   "nbconvert_exporter": "python",
   "pygments_lexer": "ipython3",
   "version": "3.9.7"
  },
  "orig_nbformat": 4,
  "vscode": {
   "interpreter": {
    "hash": "045832f79490e9a8a037a8f6e1a5c8ec877d805c4de0087de700d9a61e201314"
   }
  }
 },
 "nbformat": 4,
 "nbformat_minor": 2
}
