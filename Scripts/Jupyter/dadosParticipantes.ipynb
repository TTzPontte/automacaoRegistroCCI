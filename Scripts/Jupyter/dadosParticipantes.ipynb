{
 "cells": [
  {
   "cell_type": "code",
   "execution_count": 4,
   "metadata": {},
   "outputs": [],
   "source": [
    "# importar bibliotecas\n",
    "\n",
    "import PyPDF2\n",
    "import re\n",
    "import sys\n",
    "sys.path.insert(0, 'C:\\\\Users\\\\MatheusPereira\\\\OneDrive - Pontte\\\\Área de Trabalho\\\\automacaoRegistroCCI\\\\Scripts')\n",
    "from lerContrato import lerContrato\n",
    "import lerContrato as lc"
   ]
  },
  {
   "cell_type": "code",
   "execution_count": 5,
   "metadata": {},
   "outputs": [],
   "source": [
    "contratoPath = r'C:\\Users\\MatheusPereira\\OneDrive - Pontte\\Área de Trabalho\\automacaoRegistroCCI\\Contratos\\FI_Contrato_Cristiano_Assinatura Digital-Manifesto.pdf'"
   ]
  },
  {
   "cell_type": "code",
   "execution_count": 6,
   "metadata": {},
   "outputs": [
    {
     "data": {
      "text/plain": [
       "{'valorTotal': '498038.00',\n",
       " 'tabela': 'SAC',\n",
       " 'Taxa ao Mes': 0.008,\n",
       " 'registro': 42638.0,\n",
       " 'valorLiquido': '440000.00',\n",
       " 'prazoMes': '360',\n",
       " 'valorPrimeiraParcelaComEncargos': '5542.62',\n",
       " 'valorImóvel': '631000.00',\n",
       " 'prazoContrato': '360',\n",
       " 'ultimaParcela': '18/08/2052',\n",
       " 'dataContrato': '',\n",
       " 'valorPrimeiraParcela': '5369.12',\n",
       " 'primeiraParcela': '8/09/2022',\n",
       " 'indice': 'IPCA',\n",
       " 'Matrícula': 'ULARDECOMPRAEVENDADEIMÓVELFINANCIAMENTOCOMPACTOADJETODEALIENAÇÃOFIDUCIÁRIAEMGARANTIAEMISSÃODECÉDULADECRÉDITOIMOBILIÁRIO–CCIEOUTRASAVENÇASNº0001537769/CMAEstapáginaéparteintegranteeinseparáveldoInstrumentoParticulardeCompraeVendadeImóvelFinanciamentocomPactoAdjetodeAlienaçãoFiduciáriaemGarantiaEmissãodeCéduladeCréditoImobiliário–CCIeOutrasAvençasnº0001537769/CMAPágina1CAMPO1–CREDORARAZÃOSOCIAL:QISOCIEDADEDECRÉDITODIRETOS.A.ENDEREÇOCOMERCIAL:AvenidaBrigadeiroFariaLimanº2.3911ºandarCOMPLEMENTO:Conjunto12BAIRRO:JardimPaulista',\n",
       " 'Cartório': 'NTO PARTICULAR DE COMPRA E VENDA DE IMÓVEL, FINANCIAMENTO COM PACTO ADJETO DE ALIENAÇÃO FIDUCIÁRIA EM GARANTIA, EMISSÃO DE CÉDULA DE CRÉDITO IMOBILIÁRIO – CCI E OUTRAS AVENÇAS Nº 0001537769/CMA Esta página é parte integrante e inseparável do Instrumento Particular de Compra e Venda de Imóvel, Financiamento com Pacto Adjeto de Alienação Fiduciária em Garantia, Emissão de Cédula de Crédito Imobiliário – CCI e Outras Avenças nº 0001537769/CMA Página1 CAMPO 1 – CREDORA RAZÃO SOCIAL: QI SOCIEDADE DE CRÉDITO DIRETO S.A. ENDEREÇO COMERCIAL: Avenida Brigadeiro Faria Lima, nº 2.391, 1º andar COMPLEMENTO: Conjunto 12 BAIRRO: Jardim Paulistano CIDADE: São Paulo UF: SP CEP: 01452-000 CNPJ: 32.402.502/0001-35 DATA DA CONSTITUIÇÃO: 10/01/2019 REGISTRO JUCESP: 35300530225 REPRESENTANTES: Roberto Amaral Dantas Junior, brasileiro, portador da cédula de identidade RG nº 50.016.943 -3 SSP/SP e inscrito no CPF sob nº 400.516.238 -03, nos termos da Procuração Pública lavrada pelo 1º Tabelião de Notas de São Paulo/SP no livro 4831, página 341 Rogério de Almeida Domingues / CPF: 315.191.258 -36 Lucas de Jesus Clarim / CPF: 109.323.276 -56 Marcelo Buosi Martins / CPF: 380.261.198-51 CAMPO 2 - VENDEDOR (ES/AS) RAZÃO SOCIAL: R SILVA INCORPORAÇÕES IMOBILIÁRIAS LTDA. ENDEREÇO COMERCIAL: Rua Rio Amazonas, 279 COMPLEMENTO: Sala 03 BAIRRO: Rio Pequeno CIDADE: Camboriú UF: SC CEP: 88.343-400 CNPJ: 12.842.388/0001-57 DATA DA CONSTITUIÇÃO: 11/11/2010 REGISTRO JUCESC: 42204589198 REPRESENTANTES: Renato da Silva/CPF: 006.962.299-00 TELEFONE(S): (47) 99614-9414 EMAIL: rsilvaempreendimentos@hotmail.com Conta Corrente para Crédito: Titular: R SILVA INCORPORAÇÕES IMOBILIÁRIAS LTDA. Banco: CAIXA ECONÔMICA FEDERAL Conta Corrente Nº: 850-5 Operação: 003 Agência: 3569 INSTRUMENTO PARTICULAR DE COMPRA E VENDA DE IMÓVEL, FINANCIAMENTO COM PACTO ADJETO DE ALIENAÇÃO FIDUCIÁRIA EM GARANTIA, EMISSÃO DE CÉDULA DE CRÉDITO IMOBILIÁRIO – CCI E OUTRAS AVENÇAS Nº 0001537769/CMA Esta página é parte integrante e inseparável do Instrumento Particular de Compra e Venda de Imóvel, Financiamento com Pacto Adjeto de Alienação Fiduciária em Garantia, Emissão de Cédula de Crédito Imobiliário – CCI e Outras Avenças nº 0001537769/CMA Página2 CAMPO 3 - COMPRADOR(ES)/DEVEDOR(ES) E ANUENTE(S) NOME: CRISTIANO MINZON AZAMBUJA CPF: 037.460.269-70 DATA DE NASCIMENTO: 28/04/1982 FILIAÇÃO: MAURO CASTRO DE AZAMBUJA e ADRIANA MINZON AZAMBUJA IDENTIDADE (tipo/número): RG: 5060918751 ÓRGÃO EMISSOR: SSP/RS NACIONALIDADE: BRASILERA PROFISSÃO: REPRESENTANTE COMERCIAL ESTADO CIVIL: SOLTEIRO REGIME DE CASAMENTO (SE FOR CASADO): N/A ENDEREÇO RESIDENCIAL E DOMICILIAR: RUA LIMA, 105 COMPLEMENTO: CASA 4 BAIRRO: SANTA REGINA CIDADE: CAMBORIÚ UF: SC CEP: 88345-659 TELEFONE(S): (47) 98833-4315 EMAIL: cristiano_azambuja@hotmail.com IV - CARACTERÍSTICAS DO FINANCIAMENTO 1. Valor do Financiamento: R$ 498.038,00 2. Condições do Financiamento 2.1. Encargos Remuneratórios 2.1.1. Juros de 0,80% a.m. exponencial ao mês, equivalente a de 10,0339% a.a. exponencial ao ano. 2.1.2. ÍNDICE: MENSAL do IPCA, tomando-se por base a variação do índice do se-gundo mês anterior ao da assinatura deste contrato, inclusive, e o índice relativo ao segundo mês anterior ao do efetivo pagamento de cada encargo. 2.1.3. Sistema de Amortização: SAC VISTO DO(S) DEVEDOR(ES): ____________________________________ 2.2. Custo Efetivo Total (CET): 12,6731% a.a. 2.3. Valor Mensal dos Prêmios de Seguro: 2.3.1. Seguradora MIP: GEO CONVÊNIO DE SEGUROS – NÚCLEO DE SEGUROS CBIC 2.3.1.1 Alíquota de MIP (%): 0,021% 2.3.1.2 MIP (Morte e Invalidez Permanente ): R$ 104,32 2.3.2 Seguradora DFI: GEO CONVÊNIO DE SEGUROS – NÚCLEO DE SEGUROS CBIC 2.3.2.1. Alíquota de DFI (%): 0,007% INSTRUMENTO PARTICULAR DE COMPRA E VENDA DE IMÓVEL, FINANCIAMENTO COM PACTO ADJETO DE ALIENAÇÃO FIDUCIÁRIA EM GARANTIA, EMISSÃO DE CÉDULA DE CRÉDITO IMOBILIÁRIO – CCI E OUTRAS AVENÇAS Nº 0001537769/CMA Esta página é parte integrante e inseparável do Instrumento Particular de Compra e Venda de Imóvel, Financiamento com Pacto Adjeto de Alienação Fiduciária em Garantia, Emissão de Cédula de Crédito Imobiliário – CCI e Outras Avenças nº 0001537769/CMA Página3 2.3.2.2. DFI (Danos Físicos do Imóvel): R$ 44,17 2.3.3. Taxa Mensal de Gestão e Administração do Crédito: R$ 25,00 2.4. Forma de Pagamento 2.4.1. PRAZO DE AMORTIZAÇÃO: 360 Meses 2.4.2. N.º DE PRESTAÇÕES: 360 2.4.3. PERIODICIDADE DE VENCIMENTO: Mensal 2.4.4. DATA DE VENCIMENTO DA PRIMEIRA PRESTAÇÃO: 18/09/2022 2.4.5. DATA DE VENCIMENTO DA ÚLTIMA PRESTAÇÃO: 18/08/2052 2.4.6. MODO DE PAGAMENTO DAS PRESTAÇÕES MENSAIS: Boleto Bancário 2.4.7. VALOR DA PARCELA MENSAL (AMORTIZAÇÃO E JUROS), NESTA DATA: R$ 5.369,12 2.4.8. VALOR TOTAL DO PRIMEIRO ENCARGO, NESTA DATA: R$ 5.542,62 2.4.9. PRAÇA DE PAGAMENTO: Cidade De São Paulo, Estado De São Paulo . 3. Tributos e Contribuições: 3.1. IOF: R$ 0,00 4. Despesas 4.1. Abertura de Cadastro: R$ 15.400,00 [X] Incluída no Financiamento 4.2. Tarifa de Avaliação do Imóvel: R$ 0,00 [ ] Incluída no Financiamento 4.3. Despesas Cartorárias de Registro: R$ 17.138,00 [X] Incluída no Financiamento 4.4. ITBI: R$ 25.500,00 [X] Incluída no Financiamento 5. Valor Destinado ao Pagamento da Interveniente Quitante - Saldo Devedor do Imóvel Aplicável: [--] Não aplicável: [X] 6. Valor de Compra e Venda Total dos Imóveis: R$ 631.000,00 (seiscentos e trinta e um mil reais) a) Valor de Compra e Venda – Matrícula 35.409: R$ 563.000,00 (quinhentos e sessenta e três mil reais) b) Valor de Compra e Venda – Matrícula 35.441: R$ 34.000,00 (trinta e quatro mil reais) c) Valor de Compra e venda – Matrícula 35.442: R$ 34.000,00 (trinta e quatro mil reais) INSTRUMENTO PARTICULAR DE COMPRA E VENDA DE IMÓVEL, FINANCIAMENTO COM PACTO ADJETO DE ALIENAÇÃO FIDUCIÁRIA EM GARANTIA, EMISSÃO DE CÉDULA DE CRÉDITO IMOBILIÁRIO – CCI E OUTRAS AVENÇAS Nº 0001537769/CMA Esta página é parte integrante e inseparável do Instrumento Particular de Compra e Venda de Imóvel, Financiamento com Pacto Adjeto de Alienação Fiduciária em Garantia, Emissão de Cédula de Crédito Imobiliário – CCI e Outras Avenças nº 0001537769/CMA Página4 6.1. Valor da Entrada pago com recursos próprios do(s) Comprador(es): R$ 191.000,00 (cento e noventa e um mil reais), pagos até a data de assinatura deste Contrato, estando o/a(s) VENDEDOR(ES/AS) cientes e DECLARA(M), de acordo com os termos e efeitos previstos no artigo 320 do Código Civil de 2002, a plena e completa quitação a fim de que surta os devidos efeitos, não sendo cabível qualquer cobrança de mesma modalidade, tendo em vista a quitação do quanto devido. 7. Valor Líquido a Liberar do Financiamento: R$ 440.000,00 (quatrocentos e quarenta mil reais ) 7.1. O Valor Líquido a Liberar do Financiamento será creditado, integralmente, na conta de pagamento de titularidade do(s) COMPRADOR(ES), mantida junto ao CREDOR, abaixo especificada (“ Conta da Operação ”), observado o disposto na Cláusula XVI deste Contrato. E, após dedução dos valores de IOF, Estruturação da Operação Despesas e valores devidos ao Interveniente Quitante, serão liberados, mediante débito na Conta da Operação, os recursos destinados ao pagamento do(s) VENDEDOR(ES), em até 5 (cinco) dias úteis, após a comprovação do registro, deste Contrato, no Serviço de Registro de Imóveis competente, mediante recepção da certidão original e atualizada da matrícula do imóvel com o registro da garantia de aliena ção fiduciária constituída e averbação da CCI. Conta da Operação: TITULAR: CRISTIANO MINZON AZAMBUJA BANCO: QI SOCIEDADE DE CRÉDITO DIRETO S.A. (329) C/C: 19855-5 AGÊNCIA: 0001 8. Da Emissão e Liberação 8.1. Data de Emissão dest e CONTRATO: 15/08/2022 8.2. Data de Desembolso: 17/08/2022 V – IMÓVEL(IS) – ALIENAÇÃO FIDUCIÁRIA (“IMÓVEL”) 1. Descrição dos Imóveis: descritos no Anexo II do presente instrumento Matriculados sob nºs 35.409, 35.441 e 35.442, no Oficial de Registro de Imóveis de Camboriú',\n",
       " 'CCI': '001537769/CMA',\n",
       " 'Titular': 'CRISTIANO MINZON AZAMBUJA ',\n",
       " 'Participante1': 'CRISTIANO MINZON AZAMBUJA',\n",
       " 'Participação1': '100%'}"
      ]
     },
     "execution_count": 6,
     "metadata": {},
     "output_type": "execute_result"
    }
   ],
   "source": [
    "contrato = lerContrato(contratoPath)\n",
    "quantidade = lc.numParticipantes(contratoPath)\n",
    "contrato"
   ]
  },
  {
   "cell_type": "code",
   "execution_count": 15,
   "metadata": {},
   "outputs": [
    {
     "data": {
      "text/plain": [
       "'CPF: 337.550.780-15 DATA DE NASCIMENTO: 18/06/1961 FILIAÇÃO: MOSE OLIBONI e IDALINA SCORTEGAGNA IDENTIDADE (tipo/número): RG: 5013209563 ÓRGÃO EMISSOR: SSP/RS NACIONALIDADE: BRASILEIRA PROFISSÃO: EMPRESÁRIA ESTADO CIVIL: CASADO com a Cônjuge Anuente desde 09 de janeiro de 1985 REGIME DE CASAMENTO (SE FOR CASADO): COMUNHÃO UNIVERSAL DE BENS, conforme registro nº 2.580, livro nº 03 do Oficial de Registro de Imóveis da Comarca de Flores da Cunha (RS) ENDEREÇO RESIDENCIAL E DOMICILIAR: AVENIDA RUI BARBOSA, 12 COMPLEMENTO: APTO 501 BAIRRO: SÃO FRANCISCO CIDADE: NITERÓI UF: RJ CEP: 24360-440 TELEFONE(S): (21) 99983 2620 EMAIL: alencaroliboni@terra.com.br NOME: LEONARDO COLODA OLIBONI CPF: 128.225.257-73 DATA DE NASCIMENTO: 05/03/1990 FILIAÇÃO: ALENCAR LUIZ OLIBONI e MARISTELA DE FÁTIMA COLODA OLIBONI IDENTIDADE (tipo/número): RG: 12.608.269-2 ÓRGÃO EMISSOR: DETRAN/RJ NACIONALIDADE: BRASILEIRA PROFISSÃO: ADMINISTRADOR ESTADO CIVIL: CASADO, desde 01 de junho de 2019, com Elisa Oberlaender Garcia de Freitas, brasileira, nascida no dia 30/07/1989, administradora, portadora da carteira de identidade nº 24.296.372-6 (DETRAN/RJ), inscrita no CPF/ME sob nº 128.769.537 -06 REGIME DE CASAMENTO (SE FOR CASADO): SEPARAÇÃO TOTAL DE BENS, conforme Escritura de Convenção Antenupcial, lavrado no livro nº 555, fls. 128/128v do 4º Ofício de Notas da Comarca de Niterói (RJ) ENDEREÇO RESIDENCIAL E DOMICILIAR: RUA EURICO MANUEL DO CARMO, 02 COMPLEMENTO: BL. 2, AP 304 BAIRRO: CHARITAS CIDADE: NITERÓI UF: RJ CEP: 24370090 CONTRATO DE EMPRÉSTIMO (MÚTUO) E PACTO ADJETO DE ALIENAÇÃO FIDUCIÁRIA EM GARANTIA COM EMISSÃO DE CÉDULA DE CRÉDITO IMOBILIÁRIO - CCI CONTRATO Nº 0001114017/OPS REFIN – SFI RUBRICA DAS PARTES Contrato de Empréstimo (Mútuo) com Alienação Fiduciária – Pessoa Física Página 3 de 37 TELEFONE(S): (21) 99983 2620 EMAIL: alencaroliboni@terra.com.br NOME: MARINA COLODA OLIBONI CPF: 124.246.777-78 DATA DE NASCIMENTO: 08/12/1988 FILIAÇÃO: ALENCAR LUIZ OLIBONI e MARISTELA DE FÁTIMA COLODA OLIBONI IDENTIDADE (tipo/número): RG: 126082684 ÓRGÃO EMISSOR: DETRAN/RJ NACIONALIDADE: BRASILEIRA PROFISSÃO: UNIVERSITÁRIA ESTADO CIVIL: SOLTEIRA REGIME DE CASAMENTO (SE FOR CASADO): N/A ENDEREÇO RESIDENCIAL E DOMICILIAR: RUA AMORA, 501 COMPLEMENTO: CASA G17 BAIRRO: PIRATININGA CIDADE: NITERÓI UF: RJ CEP: 24350-590 TELEFONE(S): (21) 99983 2620 EMAIL: alencaroliboni@terra.com.br CÔNJUGE ANUENTE NOME: MARISTELA DE FÁTIMA COLODA OLIBONI CPF: 421.088.370-00 DATA DE NASCIMENTO: 28/04/1962 FILIAÇÃO: PLINIO COLODA e MARIA TEREZINHA SCOPEL COLODA IDENTIDADE (tipo/número): RG: 6027211355 ÓRGÃO EMISSOR: SSP/RS NACIONALIDADE: BRASILEIRA PROFISSÃO: EMPRESÁRIA ESTADO CIVIL: CASADA com o Devedor Solidário Alencar Luiz Oliboni desde 09 de janeiro de 1985 REGIME DE CASAMENTO (SE FOR CASADO): COMUNHÃO UNIVERSAL DE BENS, conforme registro nº 2.580, livro nº 03 do Oficial de Registro de Imóveis da Comarca de Flores da Cunha (RS) ENDEREÇO RESIDENCIAL E DOMICILIAR: AVENIDA RUI BARBOSA, 12 COMPLEMENTO: APTO 501 BAIRRO: SÃO FRANCISCO CIDADE: NITERÓI UF: RJ CEP: 24360-440 TELEFONE(S): (21) 99983 2620 EMAIL: alencaroliboni@terra.com.br CONTRATO DE EMPRÉSTIMO (MÚTUO) E PACTO ADJETO DE ALIENAÇÃO FIDUCIÁRIA EM GARANTIA COM EMISSÃO DE CÉDULA DE CRÉDITO IMOBILIÁRIO - CCI CONTRATO Nº 0001114017/OPS REFIN – SFI RUBRICA DAS PARTES Contrato de Empréstimo (Mútuo) com Alienação Fiduciária – Pessoa Física Página 4 de 37'"
      ]
     },
     "execution_count": 15,
     "metadata": {},
     "output_type": "execute_result"
    }
   ],
   "source": [
    "#Faz a leitura usando a biblioteca\n",
    "\n",
    "pdf_file = open(contratoPath, 'rb')\n",
    "read_pdf = PyPDF2.PdfFileReader(pdf_file)\n",
    "\n",
    "#Extriar Texto Página 1 a 5\n",
    "text=''\n",
    "for i in range(0,9):\n",
    "    #Ler Página PDF\n",
    "    pageObj = read_pdf.getPage(i)\n",
    "    #Extrair Texto\n",
    "    text=text+pageObj.extractText()\n",
    "\n",
    "#Tratar Texto (Remover Quebra de Linhas e espaços duplos)\n",
    "text = re.sub('\\r', '', text) \n",
    "text = re.sub('\\n', '', text)\n",
    "text = re.sub(' {2,}', ' ', text).strip(' ')\n"
   ]
  },
  {
   "cell_type": "code",
   "execution_count": 34,
   "metadata": {},
   "outputs": [
    {
     "name": "stdout",
     "output_type": "stream",
     "text": [
      "ALENCAR LUIZ OLIBONI\n",
      "LEONARDO COLODA OLIBONI\n",
      "MARINA COLODA OLIBONI\n"
     ]
    },
    {
     "data": {
      "text/plain": [
       "{'cpf1': '337.550.780-15',\n",
       " 'data de nascimento1': '18/06/1961',\n",
       " 'endereço1': 'AVENIDA RUI BARBOSA, 12',\n",
       " 'complemento1': 'APTO 501',\n",
       " 'bairro1': 'SÃO FRANCISCO',\n",
       " 'cidade1': 'NITERÓI',\n",
       " 'uf1': 'RJ',\n",
       " 'cep1': '24360-440',\n",
       " 'telefone1': '(21) 99983 2620',\n",
       " 'email1': 'alencaroliboni@terra.com.br',\n",
       " 'cpf2': '128.225.257-73',\n",
       " 'data de nascimento2': '05/03/1990',\n",
       " 'endereço2': 'RUA EURICO MANUEL DO CARMO, 02',\n",
       " 'complemento2': 'BL. 2, AP 304',\n",
       " 'bairro2': 'CHARITAS',\n",
       " 'cidade2': 'NITERÓI',\n",
       " 'uf2': 'RJ',\n",
       " 'cep2': '24370090',\n",
       " 'telefone2': '(21) 99983 2620',\n",
       " 'email2': 'alencaroliboni@terra.com.br',\n",
       " 'cpf3': '124.246.777-78',\n",
       " 'data de nascimento3': '08/12/1988',\n",
       " 'endereço3': 'RUA AMORA, 501',\n",
       " 'complemento3': 'CASA G17',\n",
       " 'bairro3': 'PIRATININGA',\n",
       " 'cidade3': 'NITERÓI',\n",
       " 'uf3': 'RJ',\n",
       " 'cep3': '24350-590',\n",
       " 'telefone3': '(21) 99983 2620',\n",
       " 'email3': 'alencaroliboni@terra.com.br'}"
      ]
     },
     "execution_count": 34,
     "metadata": {},
     "output_type": "execute_result"
    }
   ],
   "source": [
    "if \"HE_\" in contratoPath:\n",
    "    listaDePara = {'cpf':'CPF:','data de nascimento':'DATA DE NASCIMENTO:','endereço':'ENDEREÇO RESIDENCIAL E DOMICILIAR:','complemento':'COMPLEMENTO:','bairro':'BAIRRO:','cidade':'CIDADE:','uf':'UF:','cep':'CEP:',\n",
    "                'telefone':'TELEFONE(S)','email':'EMAIL:'}\n",
    "\n",
    "    #len(listaHE) # <--- Qtd de Itens na Lista\n",
    "    listaKey = []\n",
    "    listaValues = []\n",
    "    for qtdParticipantes in range(0, quantidade):\n",
    "        # Extraindo participantes da operação \n",
    "        começo = contrato[f'Participante{qtdParticipantes+1}']                        #inicio e fim da extração\n",
    "        fim = 'CAMPO 3 -'\n",
    "        #Pegar posição das variáveis auxiliares no texto\n",
    "        inicioTopico = text.find(começo, 0)\n",
    "        finalTopico = text.find(fim, 0)\n",
    "\n",
    "        #Criar Paragráfo Auxiliar\n",
    "        paragrafoAux = text[inicioTopico+len(começo)+1:finalTopico-1]\n",
    "        paragrafoAux = re.sub('\\s+',' ', paragrafoAux)\n",
    "        paragrafoAux\n",
    "        print(contrato[f'Participante{qtdParticipantes+1}'])\n",
    "        for key, value in listaDePara.items():\n",
    "            if key == 'endereço':\n",
    "                inicioFrase = paragrafoAux.find(value,0)\n",
    "                finalFrase = inicioFrase + len(value) + 1\n",
    "                proximoEspaco = paragrafoAux.find(\"COMPLEMENTO:\", finalFrase)\n",
    "                valorExtraido = paragrafoAux[finalFrase:proximoEspaco]\n",
    "            elif key == 'complemento':\n",
    "                inicioFrase = paragrafoAux.find(value,0)\n",
    "                finalFrase = inicioFrase + len(value) + 1\n",
    "                proximoEspaco = paragrafoAux.find(\"BAIRRO:\", finalFrase)\n",
    "                valorExtraido = paragrafoAux[finalFrase:proximoEspaco]\n",
    "            elif key == 'bairro':\n",
    "                inicioFrase = paragrafoAux.find(value,0)\n",
    "                finalFrase = inicioFrase + len(value) + 1\n",
    "                proximoEspaco = paragrafoAux.find(\"CIDADE:\", finalFrase)\n",
    "                valorExtraido = paragrafoAux[finalFrase:proximoEspaco]\n",
    "            elif key == 'cidade':\n",
    "                inicioFrase = paragrafoAux.find(value,0)\n",
    "                finalFrase = inicioFrase + len(value) + 1\n",
    "                proximoEspaco = paragrafoAux.find(\"UF:\", finalFrase)\n",
    "                valorExtraido = paragrafoAux[finalFrase:proximoEspaco]\n",
    "            elif key == 'telefone':\n",
    "                inicioFrase = paragrafoAux.find(value,0)\n",
    "                finalFrase = inicioFrase + len(value) + 1\n",
    "                proximoEspaco = paragrafoAux.find(\"EMAIL:\", finalFrase)\n",
    "                valorExtraido = paragrafoAux[finalFrase:proximoEspaco].strip()\n",
    "            else:\n",
    "                inicioFrase = paragrafoAux.find(value,0)\n",
    "                finalFrase = inicioFrase + len(value) + 1\n",
    "                proximoEspaco = paragrafoAux.find(\" \", finalFrase)\n",
    "                valorExtraido = paragrafoAux[finalFrase:proximoEspaco]\n",
    "\n",
    "            listaKey.append(f'{key}{qtdParticipantes+1}')\n",
    "            listaValues.append(valorExtraido.strip())\n",
    "elif \"FI_\" in contratoPath:\n",
    "    listaDePara = {'cpf':'CPF:','data de nascimento':'DATA DE NASCIMENTO:','endereço':'ENDEREÇO RESIDENCIAL E DOMICILIAR:','complemento':'COMPLEMENTO:','bairro':'BAIRRO:','cidade':'CIDADE:','uf':'UF:','cep':'CEP:',\n",
    "                'telefone':'TELEFONE(S)','email':'EMAIL:'}\n",
    "\n",
    "    #len(listaHE) # <--- Qtd de Itens na Lista\n",
    "    listaKey = []\n",
    "    listaValues = []\n",
    "    for qtdParticipantes in range(0, quantidade):\n",
    "        # Extraindo participantes da operação \n",
    "        começo = contrato[f'Participante{qtdParticipantes+1}']                        #inicio e fim da extração\n",
    "        fim = 'CAMPO 3 -'\n",
    "        #Pegar posição das variáveis auxiliares no texto\n",
    "        inicioTopico = text.find(começo, 0)\n",
    "        finalTopico = text.find(fim, 0)\n",
    "\n",
    "        #Criar Paragráfo Auxiliar\n",
    "        paragrafoAux = text[inicioTopico+len(começo)+1:finalTopico-1]\n",
    "        paragrafoAux = re.sub('\\s+',' ', paragrafoAux)\n",
    "        paragrafoAux\n",
    "        print(contrato[f'Participante{qtdParticipantes+1}'])\n",
    "#Criar Dicionario das duas Listas\n",
    "dict_keyValue = dict(zip(listaKey,listaValues))\n",
    "dict_keyValue"
   ]
  }
 ],
 "metadata": {
  "kernelspec": {
   "display_name": "Python 3.9.7 64-bit",
   "language": "python",
   "name": "python3"
  },
  "language_info": {
   "codemirror_mode": {
    "name": "ipython",
    "version": 3
   },
   "file_extension": ".py",
   "mimetype": "text/x-python",
   "name": "python",
   "nbconvert_exporter": "python",
   "pygments_lexer": "ipython3",
   "version": "3.9.7"
  },
  "orig_nbformat": 4,
  "vscode": {
   "interpreter": {
    "hash": "045832f79490e9a8a037a8f6e1a5c8ec877d805c4de0087de700d9a61e201314"
   }
  }
 },
 "nbformat": 4,
 "nbformat_minor": 2
}
