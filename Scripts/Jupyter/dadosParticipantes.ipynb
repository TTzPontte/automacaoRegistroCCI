{
 "cells": [
  {
   "cell_type": "code",
   "execution_count": 1,
   "metadata": {},
   "outputs": [],
   "source": [
    "# importar bibliotecas\n",
    "\n",
    "import PyPDF2\n",
    "import re\n",
    "import sys\n",
    "sys.path.insert(0, 'C:\\\\Users\\\\MatheusPereira\\\\OneDrive - Pontte\\\\Área de Trabalho\\\\automacaoRegistroCCI\\\\Scripts')\n",
    "from lerContrato import lerContrato\n",
    "import lerContrato as lc"
   ]
  },
  {
   "cell_type": "code",
   "execution_count": 2,
   "metadata": {},
   "outputs": [],
   "source": [
    "contratoPath = r'C:\\Users\\MatheusPereira\\OneDrive - Pontte\\Área de Trabalho\\automacaoRegistroCCI\\Contratos\\FI_Contrato_Cristiano_Assinatura Digital-Manifesto.pdf'"
   ]
  },
  {
   "cell_type": "code",
   "execution_count": 3,
   "metadata": {},
   "outputs": [
    {
     "data": {
      "text/plain": [
       "{'valorTotal': '498038.00',\n",
       " 'tabela': 'SAC',\n",
       " 'Taxa ao Mes': 0.008,\n",
       " 'registro': 42638.0,\n",
       " 'valorLiquido': '440000.00',\n",
       " 'prazoMes': '360',\n",
       " 'valorPrimeiraParcelaComEncargos': '5542.62',\n",
       " 'valorImóvel': '631000.00',\n",
       " 'prazoContrato': '360',\n",
       " 'ultimaParcela': '18/08/2052',\n",
       " 'dataContrato': '',\n",
       " 'valorPrimeiraParcela': '5369.12',\n",
       " 'primeiraParcela': '8/09/2022',\n",
       " 'indice': 'IPCA',\n",
       " 'Matrícula': '35.409 35.441 35.442 ',\n",
       " 'Cartório': 'Oficial de Registro de Imóveis de Camboriú',\n",
       " 'CCI': '001537769/CMA',\n",
       " 'Titular': 'CRISTIANO MINZON AZAMBUJA ',\n",
       " 'Participante1': 'CRISTIANO MINZON AZAMBUJA',\n",
       " 'Participação1': '100%'}"
      ]
     },
     "execution_count": 3,
     "metadata": {},
     "output_type": "execute_result"
    }
   ],
   "source": [
    "contrato = lerContrato(contratoPath)\n",
    "quantidade = lc.numParticipantes(contratoPath)\n",
    "contrato"
   ]
  },
  {
   "cell_type": "code",
   "execution_count": 4,
   "metadata": {},
   "outputs": [],
   "source": [
    "#Faz a leitura usando a biblioteca\n",
    "\n",
    "pdf_file = open(contratoPath, 'rb')\n",
    "read_pdf = PyPDF2.PdfFileReader(pdf_file)\n",
    "\n",
    "#Extriar Texto Página 1 a 5\n",
    "text=''\n",
    "for i in range(0,9):\n",
    "    #Ler Página PDF\n",
    "    pageObj = read_pdf.getPage(i)\n",
    "    #Extrair Texto\n",
    "    text=text+pageObj.extractText()\n",
    "\n",
    "#Tratar Texto (Remover Quebra de Linhas e espaços duplos)\n",
    "text = re.sub('\\r', '', text) \n",
    "text = re.sub('\\n', '', text)\n",
    "text = re.sub(' {2,}', ' ', text).strip(' ')\n"
   ]
  },
  {
   "cell_type": "code",
   "execution_count": 8,
   "metadata": {},
   "outputs": [
    {
     "name": "stdout",
     "output_type": "stream",
     "text": [
      "CRISTIANO MINZON AZAMBUJA\n"
     ]
    },
    {
     "data": {
      "text/plain": [
       "{'cpf1': '037.460.269-70',\n",
       " 'data de nascimento1': '28/04/1982',\n",
       " 'endereço1': 'RUA LIMA, 105',\n",
       " 'complemento1': 'CASA 4',\n",
       " 'bairro1': 'SANTA REGINA',\n",
       " 'cidade1': 'CAMBORIÚ',\n",
       " 'uf1': 'SC',\n",
       " 'cep1': '88345-659',\n",
       " 'telefone1': '(47) 98833-4315',\n",
       " 'email1': 'cristiano_azambuja@hotmail.com'}"
      ]
     },
     "execution_count": 8,
     "metadata": {},
     "output_type": "execute_result"
    }
   ],
   "source": [
    "if \"HE_\" in contratoPath:\n",
    "    listaDePara = {'cpf':'CPF:','data de nascimento':'DATA DE NASCIMENTO:','endereço':'ENDEREÇO RESIDENCIAL E DOMICILIAR:','complemento':'COMPLEMENTO:','bairro':'BAIRRO:','cidade':'CIDADE:','uf':'UF:','cep':'CEP:',\n",
    "                'telefone':'TELEFONE(S)','email':'EMAIL:'}\n",
    "\n",
    "    #len(listaHE) # <--- Qtd de Itens na Lista\n",
    "    listaKey = []\n",
    "    listaValues = []\n",
    "    for qtdParticipantes in range(0, quantidade):\n",
    "        # Extraindo participantes da operação \n",
    "        começo = contrato[f'Participante{qtdParticipantes+1}']                        #inicio e fim da extração\n",
    "        fim = 'CAMPO 3 -'\n",
    "        #Pegar posição das variáveis auxiliares no texto\n",
    "        inicioTopico = text.find(começo, 0)\n",
    "        finalTopico = text.find(fim, 0)\n",
    "\n",
    "        #Criar Paragráfo Auxiliar\n",
    "        paragrafoAux = text[inicioTopico+len(começo)+1:finalTopico-1]\n",
    "        paragrafoAux = re.sub('\\s+',' ', paragrafoAux)\n",
    "        print(paragrafoAux)\n",
    "        print(contrato[f'Participante{qtdParticipantes+1}'])\n",
    "        for key, value in listaDePara.items():\n",
    "            if key == 'endereço':\n",
    "                inicioFrase = paragrafoAux.find(value,0)\n",
    "                finalFrase = inicioFrase + len(value) + 1\n",
    "                proximoEspaco = paragrafoAux.find(\"COMPLEMENTO:\", finalFrase)\n",
    "                valorExtraido = paragrafoAux[finalFrase:proximoEspaco]\n",
    "            elif key == 'complemento':\n",
    "                inicioFrase = paragrafoAux.find(value,0)\n",
    "                finalFrase = inicioFrase + len(value) + 1\n",
    "                proximoEspaco = paragrafoAux.find(\"BAIRRO:\", finalFrase)\n",
    "                valorExtraido = paragrafoAux[finalFrase:proximoEspaco]\n",
    "            elif key == 'bairro':\n",
    "                inicioFrase = paragrafoAux.find(value,0)\n",
    "                finalFrase = inicioFrase + len(value) + 1\n",
    "                proximoEspaco = paragrafoAux.find(\"CIDADE:\", finalFrase)\n",
    "                valorExtraido = paragrafoAux[finalFrase:proximoEspaco]\n",
    "            elif key == 'cidade':\n",
    "                inicioFrase = paragrafoAux.find(value,0)\n",
    "                finalFrase = inicioFrase + len(value) + 1\n",
    "                proximoEspaco = paragrafoAux.find(\"UF:\", finalFrase)\n",
    "                valorExtraido = paragrafoAux[finalFrase:proximoEspaco]\n",
    "            elif key == 'telefone':\n",
    "                inicioFrase = paragrafoAux.find(value,0)\n",
    "                finalFrase = inicioFrase + len(value) + 1\n",
    "                proximoEspaco = paragrafoAux.find(\"EMAIL:\", finalFrase)\n",
    "                valorExtraido = paragrafoAux[finalFrase:proximoEspaco].strip()\n",
    "            else:\n",
    "                inicioFrase = paragrafoAux.find(value,0)\n",
    "                finalFrase = inicioFrase + len(value) + 1\n",
    "                proximoEspaco = paragrafoAux.find(\" \", finalFrase)\n",
    "                valorExtraido = paragrafoAux[finalFrase:proximoEspaco]\n",
    "\n",
    "            listaKey.append(f'{key}{qtdParticipantes+1}')\n",
    "            listaValues.append(valorExtraido.strip())\n",
    "elif \"FI_\" in contratoPath:\n",
    "    listaDePara = {'cpf':'CPF:','data de nascimento':'DATA DE NASCIMENTO:','endereço':'ENDEREÇO RESIDENCIAL E DOMICILIAR:','complemento':'COMPLEMENTO:','bairro':'BAIRRO:','cidade':'CIDADE:','uf':'UF:','cep':'CEP:',\n",
    "                'telefone':'TELEFONE(S)','email':'EMAIL:'}\n",
    "\n",
    "    #len(listaHE) # <--- Qtd de Itens na Lista\n",
    "    listaKey = []\n",
    "    listaValues = []\n",
    "    for qtdParticipantes in range(0, quantidade):\n",
    "        # Extraindo participantes da operação \n",
    "        começo = contrato[f'Participante{qtdParticipantes+1}']                        #inicio e fim da extração\n",
    "        fim = 'CARACTERÍSTICAS DO FINANCIAMENTO'\n",
    "        #Pegar posição das variáveis auxiliares no texto\n",
    "        inicioTopico = text.find(começo, 0)\n",
    "        finalTopico = text.find(fim, 0)\n",
    "\n",
    "        #Criar Paragráfo Auxiliar\n",
    "        paragrafoAux = text[inicioTopico+len(começo)+1:finalTopico-1]\n",
    "        paragrafoAux = re.sub('\\s+',' ', paragrafoAux)\n",
    "        paragrafoAux\n",
    "        print(contrato[f'Participante{qtdParticipantes+1}'])\n",
    "        for key, value in listaDePara.items():\n",
    "            if key == 'endereço':\n",
    "                inicioFrase = paragrafoAux.find(value,0)\n",
    "                finalFrase = inicioFrase + len(value) + 1\n",
    "                proximoEspaco = paragrafoAux.find(\"COMPLEMENTO:\", finalFrase)\n",
    "                valorExtraido = paragrafoAux[finalFrase:proximoEspaco]\n",
    "            elif key == 'complemento':\n",
    "                inicioFrase = paragrafoAux.find(value,0)\n",
    "                finalFrase = inicioFrase + len(value) + 1\n",
    "                proximoEspaco = paragrafoAux.find(\"BAIRRO:\", finalFrase)\n",
    "                valorExtraido = paragrafoAux[finalFrase:proximoEspaco]\n",
    "            elif key == 'bairro':\n",
    "                inicioFrase = paragrafoAux.find(value,0)\n",
    "                finalFrase = inicioFrase + len(value) + 1\n",
    "                proximoEspaco = paragrafoAux.find(\"CIDADE:\", finalFrase)\n",
    "                valorExtraido = paragrafoAux[finalFrase:proximoEspaco]\n",
    "            elif key == 'cidade':\n",
    "                inicioFrase = paragrafoAux.find(value,0)\n",
    "                finalFrase = inicioFrase + len(value) + 1\n",
    "                proximoEspaco = paragrafoAux.find(\"UF:\", finalFrase)\n",
    "                valorExtraido = paragrafoAux[finalFrase:proximoEspaco]\n",
    "            elif key == 'telefone':\n",
    "                inicioFrase = paragrafoAux.find(value,0)\n",
    "                finalFrase = inicioFrase + len(value) + 1\n",
    "                proximoEspaco = paragrafoAux.find(\"EMAIL:\", finalFrase)\n",
    "                valorExtraido = paragrafoAux[finalFrase:proximoEspaco].strip()\n",
    "            else:\n",
    "                inicioFrase = paragrafoAux.find(value,0)\n",
    "                finalFrase = inicioFrase + len(value) + 1\n",
    "                proximoEspaco = paragrafoAux.find(\" \", finalFrase)\n",
    "                valorExtraido = paragrafoAux[finalFrase:proximoEspaco]\n",
    "\n",
    "            listaKey.append(f'{key}{qtdParticipantes+1}')\n",
    "            listaValues.append(valorExtraido.strip())\n",
    "#Criar Dicionario das duas Listas\n",
    "dict_keyValue = dict(zip(listaKey,listaValues))\n",
    "dict_keyValue"
   ]
  }
 ],
 "metadata": {
  "kernelspec": {
   "display_name": "Python 3.9.7 64-bit",
   "language": "python",
   "name": "python3"
  },
  "language_info": {
   "codemirror_mode": {
    "name": "ipython",
    "version": 3
   },
   "file_extension": ".py",
   "mimetype": "text/x-python",
   "name": "python",
   "nbconvert_exporter": "python",
   "pygments_lexer": "ipython3",
   "version": "3.9.7"
  },
  "orig_nbformat": 4,
  "vscode": {
   "interpreter": {
    "hash": "045832f79490e9a8a037a8f6e1a5c8ec877d805c4de0087de700d9a61e201314"
   }
  }
 },
 "nbformat": 4,
 "nbformat_minor": 2
}
