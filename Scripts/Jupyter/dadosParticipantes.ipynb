{
 "cells": [
  {
   "cell_type": "code",
   "execution_count": 4,
   "metadata": {},
   "outputs": [],
   "source": [
    "# importar bibliotecas\n",
    "\n",
    "import PyPDF2\n",
    "import re\n",
    "import sys\n",
    "sys.path.insert(0, 'C:\\\\Users\\\\MatheusPereira\\\\OneDrive - Pontte\\\\Área de Trabalho\\\\automacaoRegistroCCI\\\\Scripts')\n",
    "from lerContrato import lerContrato\n",
    "import lerContrato as lc"
   ]
  },
  {
   "cell_type": "code",
   "execution_count": 5,
   "metadata": {},
   "outputs": [],
   "source": [
    "contratoPath = r'C:\\Users\\MatheusPereira\\OneDrive - Pontte\\Área de Trabalho\\automacaoRegistroCCI\\Contratos\\HE_Contrato_Oliboni _Assinatura Digital_VFinal.pdf'"
   ]
  },
  {
   "cell_type": "code",
   "execution_count": 6,
   "metadata": {},
   "outputs": [
    {
     "data": {
      "text/plain": [
       "{'valorTotal': '3201801.53',\n",
       " 'tabela': 'SAC',\n",
       " 'registro': '10554.15',\n",
       " 'Taxa ao Mes': 0.1268,\n",
       " 'valorLiquido': '2981000.00',\n",
       " 'prazoMes': '228',\n",
       " 'valorPrimeiraParcelaComEncargos': '48642.95',\n",
       " 'valorImóvel': '6188000.00',\n",
       " 'prazoContrato': '225',\n",
       " 'ultimaParcela': '15/06/2041',\n",
       " 'dataContrato': '28/06/2022',\n",
       " 'valorPrimeiraParcela': '47494.30',\n",
       " 'primeiraParcela': '15/10/2022',\n",
       " 'indice': 'IPCA',\n",
       " 'Matrícula': '24515',\n",
       " 'Cartório': '02 de Registro Geral do 9º Oficial de Registro de Imóveis da Comarca de Niterói/RJ',\n",
       " 'CCI': '0001114017/OPS',\n",
       " 'Titular': 'OLIBONI PARTICIPAÇÕES S/A ',\n",
       " 'Participante1': 'ALENCAR LUIZ OLIBONI',\n",
       " 'Participação1': '33%',\n",
       " 'Participante2': 'LEONARDO COLODA OLIBONI',\n",
       " 'Participação2': '33%',\n",
       " 'Participante3': 'MARINA COLODA OLIBONI',\n",
       " 'Participação3': '33%'}"
      ]
     },
     "execution_count": 6,
     "metadata": {},
     "output_type": "execute_result"
    }
   ],
   "source": [
    "contrato = lerContrato(contratoPath)\n",
    "quantidade = lc.numParticipantes(contratoPath)\n",
    "contrato"
   ]
  },
  {
   "cell_type": "code",
   "execution_count": 15,
   "metadata": {},
   "outputs": [
    {
     "data": {
      "text/plain": [
       "'CPF: 337.550.780-15 DATA DE NASCIMENTO: 18/06/1961 FILIAÇÃO: MOSE OLIBONI e IDALINA SCORTEGAGNA IDENTIDADE (tipo/número): RG: 5013209563 ÓRGÃO EMISSOR: SSP/RS NACIONALIDADE: BRASILEIRA PROFISSÃO: EMPRESÁRIA ESTADO CIVIL: CASADO com a Cônjuge Anuente desde 09 de janeiro de 1985 REGIME DE CASAMENTO (SE FOR CASADO): COMUNHÃO UNIVERSAL DE BENS, conforme registro nº 2.580, livro nº 03 do Oficial de Registro de Imóveis da Comarca de Flores da Cunha (RS) ENDEREÇO RESIDENCIAL E DOMICILIAR: AVENIDA RUI BARBOSA, 12 COMPLEMENTO: APTO 501 BAIRRO: SÃO FRANCISCO CIDADE: NITERÓI UF: RJ CEP: 24360-440 TELEFONE(S): (21) 99983 2620 EMAIL: alencaroliboni@terra.com.br NOME: LEONARDO COLODA OLIBONI CPF: 128.225.257-73 DATA DE NASCIMENTO: 05/03/1990 FILIAÇÃO: ALENCAR LUIZ OLIBONI e MARISTELA DE FÁTIMA COLODA OLIBONI IDENTIDADE (tipo/número): RG: 12.608.269-2 ÓRGÃO EMISSOR: DETRAN/RJ NACIONALIDADE: BRASILEIRA PROFISSÃO: ADMINISTRADOR ESTADO CIVIL: CASADO, desde 01 de junho de 2019, com Elisa Oberlaender Garcia de Freitas, brasileira, nascida no dia 30/07/1989, administradora, portadora da carteira de identidade nº 24.296.372-6 (DETRAN/RJ), inscrita no CPF/ME sob nº 128.769.537 -06 REGIME DE CASAMENTO (SE FOR CASADO): SEPARAÇÃO TOTAL DE BENS, conforme Escritura de Convenção Antenupcial, lavrado no livro nº 555, fls. 128/128v do 4º Ofício de Notas da Comarca de Niterói (RJ) ENDEREÇO RESIDENCIAL E DOMICILIAR: RUA EURICO MANUEL DO CARMO, 02 COMPLEMENTO: BL. 2, AP 304 BAIRRO: CHARITAS CIDADE: NITERÓI UF: RJ CEP: 24370090 CONTRATO DE EMPRÉSTIMO (MÚTUO) E PACTO ADJETO DE ALIENAÇÃO FIDUCIÁRIA EM GARANTIA COM EMISSÃO DE CÉDULA DE CRÉDITO IMOBILIÁRIO - CCI CONTRATO Nº 0001114017/OPS REFIN – SFI RUBRICA DAS PARTES Contrato de Empréstimo (Mútuo) com Alienação Fiduciária – Pessoa Física Página 3 de 37 TELEFONE(S): (21) 99983 2620 EMAIL: alencaroliboni@terra.com.br NOME: MARINA COLODA OLIBONI CPF: 124.246.777-78 DATA DE NASCIMENTO: 08/12/1988 FILIAÇÃO: ALENCAR LUIZ OLIBONI e MARISTELA DE FÁTIMA COLODA OLIBONI IDENTIDADE (tipo/número): RG: 126082684 ÓRGÃO EMISSOR: DETRAN/RJ NACIONALIDADE: BRASILEIRA PROFISSÃO: UNIVERSITÁRIA ESTADO CIVIL: SOLTEIRA REGIME DE CASAMENTO (SE FOR CASADO): N/A ENDEREÇO RESIDENCIAL E DOMICILIAR: RUA AMORA, 501 COMPLEMENTO: CASA G17 BAIRRO: PIRATININGA CIDADE: NITERÓI UF: RJ CEP: 24350-590 TELEFONE(S): (21) 99983 2620 EMAIL: alencaroliboni@terra.com.br CÔNJUGE ANUENTE NOME: MARISTELA DE FÁTIMA COLODA OLIBONI CPF: 421.088.370-00 DATA DE NASCIMENTO: 28/04/1962 FILIAÇÃO: PLINIO COLODA e MARIA TEREZINHA SCOPEL COLODA IDENTIDADE (tipo/número): RG: 6027211355 ÓRGÃO EMISSOR: SSP/RS NACIONALIDADE: BRASILEIRA PROFISSÃO: EMPRESÁRIA ESTADO CIVIL: CASADA com o Devedor Solidário Alencar Luiz Oliboni desde 09 de janeiro de 1985 REGIME DE CASAMENTO (SE FOR CASADO): COMUNHÃO UNIVERSAL DE BENS, conforme registro nº 2.580, livro nº 03 do Oficial de Registro de Imóveis da Comarca de Flores da Cunha (RS) ENDEREÇO RESIDENCIAL E DOMICILIAR: AVENIDA RUI BARBOSA, 12 COMPLEMENTO: APTO 501 BAIRRO: SÃO FRANCISCO CIDADE: NITERÓI UF: RJ CEP: 24360-440 TELEFONE(S): (21) 99983 2620 EMAIL: alencaroliboni@terra.com.br CONTRATO DE EMPRÉSTIMO (MÚTUO) E PACTO ADJETO DE ALIENAÇÃO FIDUCIÁRIA EM GARANTIA COM EMISSÃO DE CÉDULA DE CRÉDITO IMOBILIÁRIO - CCI CONTRATO Nº 0001114017/OPS REFIN – SFI RUBRICA DAS PARTES Contrato de Empréstimo (Mútuo) com Alienação Fiduciária – Pessoa Física Página 4 de 37'"
      ]
     },
     "execution_count": 15,
     "metadata": {},
     "output_type": "execute_result"
    }
   ],
   "source": [
    "#Faz a leitura usando a biblioteca\n",
    "\n",
    "pdf_file = open(contratoPath, 'rb')\n",
    "read_pdf = PyPDF2.PdfFileReader(pdf_file)\n",
    "\n",
    "#Extriar Texto Página 1 a 5\n",
    "text=''\n",
    "for i in range(0,9):\n",
    "    #Ler Página PDF\n",
    "    pageObj = read_pdf.getPage(i)\n",
    "    #Extrair Texto\n",
    "    text=text+pageObj.extractText()\n",
    "\n",
    "#Tratar Texto (Remover Quebra de Linhas e espaços duplos)\n",
    "text = re.sub('\\r', '', text) \n",
    "text = re.sub('\\n', '', text)\n",
    "text = re.sub(' {2,}', ' ', text).strip(' ')\n",
    "\n",
    "# Extraindo participantes da operação \n",
    "começo = contrato['Participante1']                        #inicio e fim da extração\n",
    "fim = 'CAMPO 3 -'\n",
    "#Pegar posição das variáveis auxiliares no texto\n",
    "inicioTopico = text.find(começo, 0)\n",
    "finalTopico = text.find(fim, 0)\n",
    "\n",
    "#Criar Paragráfo Auxiliar\n",
    "paragrafoAux = text[inicioTopico+len(começo)+1:finalTopico-1]\n",
    "paragrafoAux = re.sub('\\s+',' ', paragrafoAux)\n",
    "paragrafoAux"
   ]
  },
  {
   "cell_type": "code",
   "execution_count": 33,
   "metadata": {},
   "outputs": [
    {
     "name": "stdout",
     "output_type": "stream",
     "text": [
      "ALENCAR LUIZ OLIBONI\n",
      "LEONARDO COLODA OLIBONI\n",
      "MARINA COLODA OLIBONI\n"
     ]
    },
    {
     "data": {
      "text/plain": [
       "{'cpf1': '337.550.780-15',\n",
       " 'data de nascimento1': '18/06/1961',\n",
       " 'endereço1': 'AVENIDA RUI BARBOSA, 12 ',\n",
       " 'complemento1': 'APTO 501 ',\n",
       " 'bairro1': 'SÃO FRANCISCO ',\n",
       " 'cidade1': 'NITERÓI ',\n",
       " 'uf1': 'RJ',\n",
       " 'cep1': '24360-440',\n",
       " 'telefone1': '(21) 99983 2620',\n",
       " 'email1': 'alencaroliboni@terra.com.br',\n",
       " 'cpf2': '128.225.257-73',\n",
       " 'data de nascimento2': '05/03/1990',\n",
       " 'endereço2': 'RUA EURICO MANUEL DO CARMO, 02 ',\n",
       " 'complemento2': 'BL. 2, AP 304 ',\n",
       " 'bairro2': 'CHARITAS ',\n",
       " 'cidade2': 'NITERÓI ',\n",
       " 'uf2': 'RJ',\n",
       " 'cep2': '24370090',\n",
       " 'telefone2': '(21) 99983 2620',\n",
       " 'email2': 'alencaroliboni@terra.com.br',\n",
       " 'cpf3': '124.246.777-78',\n",
       " 'data de nascimento3': '08/12/1988',\n",
       " 'endereço3': 'RUA AMORA, 501 ',\n",
       " 'complemento3': 'CASA G17 ',\n",
       " 'bairro3': 'PIRATININGA ',\n",
       " 'cidade3': 'NITERÓI ',\n",
       " 'uf3': 'RJ',\n",
       " 'cep3': '24350-590',\n",
       " 'telefone3': '(21) 99983 2620',\n",
       " 'email3': 'alencaroliboni@terra.com.br'}"
      ]
     },
     "execution_count": 33,
     "metadata": {},
     "output_type": "execute_result"
    }
   ],
   "source": [
    "listaDePara = {'cpf':'CPF:','data de nascimento':'DATA DE NASCIMENTO:','endereço':'ENDEREÇO RESIDENCIAL E DOMICILIAR:','complemento':'COMPLEMENTO:','bairro':'BAIRRO:','cidade':'CIDADE:','uf':'UF:','cep':'CEP:',\n",
    "               'telefone':'TELEFONE(S)','email':'EMAIL:'}\n",
    "\n",
    "#len(listaHE) # <--- Qtd de Itens na Lista\n",
    "listaKey = []\n",
    "listaValues = []\n",
    "for qtdParticipantes in range(0, quantidade):\n",
    "    # Extraindo participantes da operação \n",
    "    começo = contrato[f'Participante{qtdParticipantes+1}']                        #inicio e fim da extração\n",
    "    fim = 'CAMPO 3 -'\n",
    "    #Pegar posição das variáveis auxiliares no texto\n",
    "    inicioTopico = text.find(começo, 0)\n",
    "    finalTopico = text.find(fim, 0)\n",
    "\n",
    "    #Criar Paragráfo Auxiliar\n",
    "    paragrafoAux = text[inicioTopico+len(começo)+1:finalTopico-1]\n",
    "    paragrafoAux = re.sub('\\s+',' ', paragrafoAux)\n",
    "    paragrafoAux\n",
    "    print(contrato[f'Participante{qtdParticipantes+1}'])\n",
    "    for key, value in listaDePara.items():\n",
    "        if key == 'endereço':\n",
    "            inicioFrase = paragrafoAux.find(value,0)\n",
    "            finalFrase = inicioFrase + len(value) + 1\n",
    "            proximoEspaco = paragrafoAux.find(\"COMPLEMENTO:\", finalFrase)\n",
    "            valorExtraido = paragrafoAux[finalFrase:proximoEspaco]\n",
    "        elif key == 'complemento':\n",
    "            inicioFrase = paragrafoAux.find(value,0)\n",
    "            finalFrase = inicioFrase + len(value) + 1\n",
    "            proximoEspaco = paragrafoAux.find(\"BAIRRO:\", finalFrase)\n",
    "            valorExtraido = paragrafoAux[finalFrase:proximoEspaco]\n",
    "        elif key == 'bairro':\n",
    "            inicioFrase = paragrafoAux.find(value,0)\n",
    "            finalFrase = inicioFrase + len(value) + 1\n",
    "            proximoEspaco = paragrafoAux.find(\"CIDADE:\", finalFrase)\n",
    "            valorExtraido = paragrafoAux[finalFrase:proximoEspaco]\n",
    "        elif key == 'cidade':\n",
    "            inicioFrase = paragrafoAux.find(value,0)\n",
    "            finalFrase = inicioFrase + len(value) + 1\n",
    "            proximoEspaco = paragrafoAux.find(\"UF:\", finalFrase)\n",
    "            valorExtraido = paragrafoAux[finalFrase:proximoEspaco]\n",
    "        elif key == 'telefone':\n",
    "            inicioFrase = paragrafoAux.find(value,0)\n",
    "            finalFrase = inicioFrase + len(value) + 1\n",
    "            proximoEspaco = paragrafoAux.find(\"EMAIL:\", finalFrase)\n",
    "            valorExtraido = paragrafoAux[finalFrase:proximoEspaco].strip()\n",
    "        else:\n",
    "            inicioFrase = paragrafoAux.find(value,0)\n",
    "            finalFrase = inicioFrase + len(value) + 1\n",
    "            proximoEspaco = paragrafoAux.find(\" \", finalFrase)\n",
    "            valorExtraido = paragrafoAux[finalFrase:proximoEspaco]\n",
    "\n",
    "        listaKey.append(f'{key}{qtdParticipantes+1}')\n",
    "        listaValues.append(valorExtraido)\n",
    "\n",
    "#Criar Dicionario das duas Listas\n",
    "dict_keyValue = dict(zip(listaKey,listaValues))\n",
    "dict_keyValue"
   ]
  }
 ],
 "metadata": {
  "kernelspec": {
   "display_name": "Python 3.9.7 64-bit",
   "language": "python",
   "name": "python3"
  },
  "language_info": {
   "codemirror_mode": {
    "name": "ipython",
    "version": 3
   },
   "file_extension": ".py",
   "mimetype": "text/x-python",
   "name": "python",
   "nbconvert_exporter": "python",
   "pygments_lexer": "ipython3",
   "version": "3.9.7"
  },
  "orig_nbformat": 4,
  "vscode": {
   "interpreter": {
    "hash": "045832f79490e9a8a037a8f6e1a5c8ec877d805c4de0087de700d9a61e201314"
   }
  }
 },
 "nbformat": 4,
 "nbformat_minor": 2
}
