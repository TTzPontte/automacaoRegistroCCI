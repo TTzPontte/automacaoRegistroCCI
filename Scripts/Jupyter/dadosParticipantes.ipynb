{
 "cells": [
  {
   "cell_type": "code",
   "execution_count": 2,
   "metadata": {},
   "outputs": [],
   "source": [
    "# importar bibliotecas\n",
    "\n",
    "import PyPDF2\n",
    "import re\n",
    "import sys\n",
    "sys.path.insert(0, 'C:\\\\Users\\\\MatheusPereira\\\\OneDrive - Pontte\\\\Área de Trabalho\\\\automacaoRegistroCCI\\\\Scripts')\n",
    "from lerContrato import lerContrato"
   ]
  },
  {
   "cell_type": "code",
   "execution_count": null,
   "metadata": {},
   "outputs": [],
   "source": []
  }
 ],
 "metadata": {
  "kernelspec": {
   "display_name": "Python 3.9.7 64-bit",
   "language": "python",
   "name": "python3"
  },
  "language_info": {
   "codemirror_mode": {
    "name": "ipython",
    "version": 3
   },
   "file_extension": ".py",
   "mimetype": "text/x-python",
   "name": "python",
   "nbconvert_exporter": "python",
   "pygments_lexer": "ipython3",
   "version": "3.9.7"
  },
  "orig_nbformat": 4,
  "vscode": {
   "interpreter": {
    "hash": "045832f79490e9a8a037a8f6e1a5c8ec877d805c4de0087de700d9a61e201314"
   }
  }
 },
 "nbformat": 4,
 "nbformat_minor": 2
}
