{
 "cells": [
  {
   "cell_type": "code",
   "execution_count": 1,
   "metadata": {},
   "outputs": [],
   "source": [
    "# importa as bibliotecas necessárias\n",
    "import PyPDF2\n",
    "import re\n",
    "import pandas as pd"
   ]
  },
  {
   "cell_type": "code",
   "execution_count": 2,
   "metadata": {},
   "outputs": [],
   "source": [
    "# Abre o arquivo pdf \n",
    "path = r'C:\\Users\\MatheusPereira\\OneDrive - Pontte\\Área de Trabalho\\automacaoRegistroCCI\\Contratos\\HE_Contrato_Agostinho_Assinatura Digital_VFinal.pdf'\n",
    "pdf_file = open(path, 'rb')\n"
   ]
  },
  {
   "cell_type": "code",
   "execution_count": 3,
   "metadata": {},
   "outputs": [],
   "source": [
    "#Faz a leitura usando a biblioteca\n",
    "read_pdf = PyPDF2.PdfFileReader(pdf_file)\n",
    "\n",
    "# pega o numero de páginas\n",
    "number_of_pages = read_pdf.getNumPages()\n",
    "\n",
    "#Extriar Texto Página 1 a 5\n",
    "text=''\n",
    "for i in range(0,4):\n",
    "    #Ler Página PDF\n",
    "    pageObj = read_pdf.getPage(i)\n",
    "    #Extrair Texto\n",
    "    text=text+pageObj.extractText()\n",
    "\n",
    "#Tratar Texto (Remover Quebra de Linhas)\n",
    "text = re.sub('\\r', '', text) \n",
    "text = re.sub('\\n', '', text)"
   ]
  },
  {
   "cell_type": "code",
   "execution_count": 4,
   "metadata": {},
   "outputs": [
    {
     "data": {
      "text/plain": [
       "'CONTRATO DE EMPRÉSTIMO (MÚTUO) E PACTO ADJETO DE ALIENAÇÃO FIDUCIÁRIA EM GARANTIA  COM EMISSÃO DE CÉDULA DE CRÉDITO IMOBILIÁRIO  - CCI  CONTRATO Nº 0001013447/AFD REFIN – SFI  RUBRICA DAS PARTES  Contrato de Empréstimo (Mútuo) com Alienação Fiduciária – Pessoa Física Página 1 de 36   Pelo presente contrato, celebrado nos termos do artigo 38 da Lei 9.514/97, de acordo com a redação  que  lhe  deu  o  artigo  57  da  Lei  10.931/2004, as  partes  a  seguir  enunciadas  e qualificadas  formalizam  este  CONTRATO  DE EMPRÉSTIMO (MÚTUO)  E  PACTO ADJETO DE ALIENAÇÃO FIDUCIÁRIA EM GARANTIA  COM EMISSÃO DE CÉDULA DE CRÉDITO IMOBILIÁRIO - CCI, tendo por objeto o imóvel identificado no campo 5 a seguir, e consoante cláusulas e condições adiante estipuladas :  CAMPO 1 – CREDORA RAZÃO SOCIAL: QI SOCIEDADE DE CRÉDITO DIRETO S.A.    ENDEREÇO COMERCIAL: Avenida Brigadeiro Faria Lima, nº 2.391, 1º andar  COMPLEMENTO: Conjunto 12 BAIRRO: Jardim Paulistano CIDADE: São Paulo UF: SP   CEP: 01452-000  CNPJ: 32.402.502/0001-35  DATA DA CONSTITUIÇÃO: 10/01/2019 REGISTRO JUCESP: 35300530225   REPRESENTANTES: Roberto Amaral Dantas Junior, brasileiro, portador da cédula de identidade RG nº 50.016.943-3 SSP/SP e inscrito no CPF sob nº 400.516.238 -03, nos termos da Procuração Pública lavrada pelo 1º Tabelião de Notas de São Paulo/SP no livro 4831, página 341  Rogério de Almeida Domingues / CPF: 315.191.258 -36 Lucas de Jesus Clarim / CPF: 109.323.276-56 Marcelo Buosi Martins / CPF: 380.261.198-51   CAMPO 2 - DEVEDOR(ES/AS)  DEVEDORES FIDUCIANTES  NOME: AGOSTINHO FRANCISCO DE SOUZA  CPF: 011.615.038-62                      DATA DE NASCIMENTO: 31/05/1963 FILIAÇÃO: VICENTE FRANCISCO DE SOUZA e  BENEDITA MARIA DE SOUZA IDENTIDADE (tipo/número): RG: 11.682.193-0         ÓRGÃO EMISSOR: SSP/SP NACIONALIDADE: BRASILEIRA  PROFISSÃO: CORRETOR DE IMÓVEIS ESTADO CIVIL: CASADO com a Devedora Fiduciante desde 19 de fevereiro de 1983  REGIME DE CASAMENTO (SE FOR CASADO): COMUNHÃO PARCIAL DE BENS, sob vigência da Lei 6.515/77  ENDEREÇO RESIDENCIAL E DOMICILIAR:  RUA SALES, 427 CONTRATO DE EMPRÉSTIMO (MÚTUO) E PACTO ADJETO DE ALIENAÇÃO FIDUCIÁRIA EM GARANTIA  COM EMISSÃO DE CÉDULA DE CRÉDITO IMOBILIÁRIO  - CCI  CONTRATO Nº 0001013447/AFD REFIN – SFI  RUBRICA DAS PARTES  Contrato de Empréstimo (Mútuo) com Alienação Fiduciária – Pessoa Física Página 2 de 36   COMPLEMENTO: N/A BAIRRO: CABUÇU CIDADE: GUARULHOS     UF: SP  CEP: 07144-260  TELEFONE(S): (11) 96321-4563 EMAIL: consultor.agostinho@gmail.com  NOME: MARIETE DIEGUES DE SOUZA CPF: 040.429.738-25                                                       DATA DE NASCIMENTO: 25/09/1962 FILIAÇÃO: ARMANDO DIEGUES e MARIA JOSE DA SILVA DIEGUES  IDENTIDADE (tipo/número): RG: 16.269.646-2  ÓRGÃO EMISSOR: SSP/SP NACIONALIDADE: BRASILEIRA PROFISSÃO: ENFERMEIRA ESTADO CIVIL: CASADA com o Devedor Fiduciante desde 19 de fevereiro de 1983  REGIME DE CASAMENTO (SE FOR CASADO): COMUNHÃO PARCIAL DE BENS, sob vigência da Lei 6.515/77  ENDEREÇO RESIDENCIAL E DOMICILIAR:  RUA SALES, 427 COMPLEMENTO: N/A BAIRRO: CABUÇU CIDADE: GUARULHOS     UF: SP  CEP: 07144-260  TELEFONE(S): (11) 96321-4563 EMAIL: consultor.agostinho@gmail.com    CAMPO 3 - COMPOSIÇÃO DE VALORES E PRINCIPAIS CONDIÇÕES DO EMPRÉSTIMO A. VALOR DO EMPRÉSTIMO: R$ 185.236,16 B. DATA DE DESEMBOLSO: 08/06/2022  C. PRAZO DE AMORTIZAÇÃO: 240 D. N.º DE PRESTAÇÕES: 234 E. DATA DO TÉRMINO DO PRAZO CONTRATUAL:  30/06/2042 F. PERIODICIDADE DE VENCIMENTO : mensal G. VENCIMENTO DA PRIMEIRA PRESTAÇÃO : 30/01/2023  H. TAXA DE JUROS (%)  H.1. NOMINAL: 11,6161%  H.2. EFETIVA: 12,2799% I. SISTEMA DE AMORTIZAÇÃO: SAC J. TARIFA DE ANÁLISE DE GARANTIAS: R$ 6.768,00 K. TARIFA DE ABERTURA DE CADASTRO: R$ 0,00 L. TARIFA DE AVALIAÇÃO DO IMÓVEL:  R$ 0,00 M. IOF: R$ 6.225,49 CONTRATO DE EMPRÉSTIMO (MÚTUO) E PACTO ADJETO DE ALIENAÇÃO FIDUCIÁRIA EM GARANTIA  COM EMISSÃO DE CÉDULA DE CRÉDITO IMOBILIÁRIO  - CCI  CONTRATO Nº 0001013447/AFD REFIN – SFI  RUBRICA DAS PARTES  Contrato de Empréstimo (Mútuo) com Alienação Fiduciária – Pessoa Física Página 3 de 36   N. DESPESAS DE REGISTRO: R$ 3.042,67 O. VALOR LÍQUIDO DO EMPRÉSTIMO (A -J-K-L-M-N): R$ 169.200,00 P. SALDO DEVEDOR DO IMÓVEL: R$ 2.160,71  P.1. Imposto Predial Territorial Urbano (IPTU) : R$ 2.160,71 Q. VALOR DISPONÍVEL AO CLIENTE, NESTA DATA (O-P): R$ 167.039,29 R. VALOR DA PARCELA MENSAL (AMORTIZAÇÃO E JUROS), NESTA DATA:  R$ 2.662,09 S. DEMAIS VALORES QUE COMPÕEM O ENCARGO MENSAL  S.1.VALOR DOS PREMIOS DE SEGURO    S.1.1. DE MORTE E INVALIDEZ PERMANENTE:  R$ 41,49  S.1.2. DE DANOS FÍSICOS AO IMÓVEL: R$ 26,32 S.2. TARIFA DE GESTÃO: R$ 25,00 T. VALOR TOTAL DO PRIMEIRO ENCARGO, NESTA DATA:  R$ 2.754,90  U. CUSTO EFETIVO TOTAL (CET): 14,3588%  O Valor Disponível ao Cliente (Q), deduzido das demais dívidas informadas no CAMPO 8, caso aplicável  e não  tenham  sido pagas pelo(a/s)  DEVEDOR(ES/AS) até esta data, conforme especificado neste Campo, será liberado ao(a/s) DEVEDOR(ES/AS), mediante débito da conta de pagamento de titularidade do DEVEDOR(ES /AS) mantida junto ao CREDOR, abaixo especificada (“Conta da Operação”), no último dos seguintes prazos: i) em 20 (vinte) dias úteis a contar desta data, desde que tenha(m) sido entregue a via original  à CREDORA, antes deste prazo, da matr ícula do imóvel e do presente instrumento com os registros do empréstimo e da alienação fiduciária através dele contratadas; ou  ii) em até 10 (dez) dias úteis, contados a partir da entrega  à CREDORA, da(s) via(s) original(is)  da(s) matricula(s) do(s) imóvel(is) e do presente instrumento,  com  os registros do empréstimo e da alienação fiduciária através dele contratadas.  TITULAR: AGOSTINHO FRANCISCO DE SOUZA  BANCO: QI SOCIEDADE DE CRÉDITO DIRETO S.A. (329)  C/C: 30592-9 AGÊNCIA:0001  O(A/S) DEVEDOR(ES/AS) autoriza(m) expressamente,  de  modo  irretratável  e  irrevogável,  o CREDOR, quando das respectivas Datas de Vencimento, a debitar a Conta da Operação todo e qualquer valor disponível até o limite dos valores cujo pagamento ou reembolso for devido no âmbito ou por efeito do presente CONTRATO. Sobre o valor ou a parcela do valor a debitar para o qual não houver fundos disponíveis na Conta da Operação, incidirão, desde a respectiva Data de Vencimento, os encargos moratórios, conforme previstos neste CONTRATO.   CONTRATO DE EMPRÉSTIMO (MÚTUO) E PACTO ADJETO DE ALIENAÇÃO FIDUCIÁRIA EM GARANTIA  COM EMISSÃO DE CÉDULA DE CRÉDITO IMOBILIÁRIO  - CCI  CONTRATO Nº 0001013447/AFD REFIN – SFI  RUBRICA DAS PARTES  Contrato de Empréstimo (Mútuo) com Alienação Fiduciária – Pessoa Física Página 4 de 36   CAMPO 4 - ÍNDICE DO CONTRATO ÍNDICE: MENSAL do IPCA, tomando-se por base a variação do índice do segundo mês anterior ao da assinatura deste contrato, inclusive, e o índice relativo ao segundo mês anterior ao do efetivo pagamento de cada encargo.  VISTO DO(S) DEVEDOR(ES): ____________________________________   CAMPO 5 - IMÓVEL (IS) Imóvel: descrito no Anexo IV do presente instrumento  Origem: O referido imóvel foi havido pelos devedores por força do registro R. 03, na matrícula nº 141.951, do Livro N° 02 de Registro Geral do 3º Oficial de Registro de Imóveis da Comarca de  São Paulo/SP.    CAMPO 6 – VALOR DE AVALIAÇÃO PARA FINS DE LEILÃO PÚBLICO   Valor de avaliação do Imóvel para fins de leilão:  R$ 376.000,00.  Para efeitos de cálculo dos emolumentos de Tabelião e de Registro, poderá ser considerado, para o Imóvel, o valor de avaliação acima.    CAMPO 7 – COMPOSIÇÃO DA RENDA PARA FINS DE INDENIZAÇÃO   NOME: AGOSTINHO FRANCISCO DE SOUZA   PARTICIPAÇÃO: 100%  CAMPO 8 – CLÁUSULA(S) ADICIONAL(AIS) 1.  As  Cláusulas  Especiais,  contidas  nos  campos  do  Quadro  Resumo  deste instrumento, são adicionais e complementares, as gerais, adiante dispostas, sendo que, naqueles pontos em que houver conflito, estas, especiais, prevalecer ão em relação aquelas, gerais.  2. Foram apresentadas e encontram-se arquivadas junto a CREDORA as Certidões Negativas de Débitos Trabalhistas em nome dos(as) DEVEDOR(ES/AS).  3. O(A/S) DEVEDOR(ES/AS) DECLARA(M) que, para efetivar o regular registro do presente contrato, se comprometem a entregar o boleto referente às dívidas mencionadas abaixo, para que os  pagamentos sejam realizados pela QI SOCIEDADE DE CRÉD ITO DIRETO S.A., ora Credora, em  até 3 (três) dias úteis, quais sejam: '"
      ]
     },
     "execution_count": 4,
     "metadata": {},
     "output_type": "execute_result"
    }
   ],
   "source": [
    "text"
   ]
  },
  {
   "cell_type": "code",
   "execution_count": 9,
   "metadata": {},
   "outputs": [],
   "source": [
    "listaDePara = {'valorTotal':'VALOR DO EMPRÉSTIMO: R$','tabela': 'SISTEMA DE AMORTIZAÇÃO:','registro': 'DESPESAS DE REGISTRO: R$','Taxa ao Mes':'H.1. NOMINAL:','valorLiquido': '-J-K-L-M-N): R$',\n",
    "                'prazoMes': 'PRAZO DE AMORTIZAÇÃO:','valorPrimeiraParcelaComEncargos':'VALOR TOTAL DO PRIMEIRO ENCARGO, NESTA DATA:  R$',\n",
    "                'valorImóvel':'Valor de avaliação do Imóvel para fins de leilão:  R$','prazoContrato': 'N.º DE PRESTAÇÕES:','ultimaParcela':'DATA DO TÉRMINO DO PRAZO CONTRATUAL: ','dataContrato': 'DATA DE DESEMBOLSO:',\n",
    "                'valorPrimeiraParcela':'VALOR DA PARCELA MENSAL (AMORTIZAÇÃO E JUROS), NESTA DATA:  R$','primeiraParcela':'VENCIMENTO DA PRIMEIRA PRESTAÇÃO :','indice':'ÍNDICE: MENSAL do'\n",
    "                }\n",
    "\n",
    "#len(listaHE) # <--- Qtd de Itens na Lista\n",
    "listaKey = []\n",
    "listaValues = []\n",
    "\n",
    "for key, value in listaDePara.items():\n",
    "    inicioFrase = text.find(value,0)\n",
    "    finalFrase = inicioFrase + len(value) + 1\n",
    "    proximoEspaco = text.find(\" \", finalFrase)\n",
    "    valorExtraido = text[finalFrase:proximoEspaco]\n",
    "\n",
    "    #Ajustar Valores Númericos\n",
    "    if '.' in valorExtraido:\n",
    "        valorExtraido = valorExtraido.replace(\".\", \"\")\n",
    "        valorExtraido = valorExtraido.replace(\",\", \".\")\n",
    "    \n",
    "    #Ajustar Valores Percentuais\n",
    "    if '%' in valorExtraido:\n",
    "        valorExtraido = valorExtraido.replace(\",\", \".\")\n",
    "        valorExtraido = valorExtraido.replace(\"%\", \"\")\n",
    "        valorExtraido = round(float(valorExtraido)/100,4)\n",
    "    elif 'IPCA' or 'IGPM' in valorExtraido:\n",
    "        valorExtraido = valorExtraido.replace(\",\", \"\")\n",
    "    \n",
    "    listaKey.append(key)\n",
    "    listaValues.append(valorExtraido)"
   ]
  },
  {
   "cell_type": "code",
   "execution_count": 10,
   "metadata": {},
   "outputs": [
    {
     "data": {
      "text/plain": [
       "'141.951 '"
      ]
     },
     "execution_count": 10,
     "metadata": {},
     "output_type": "execute_result"
    }
   ],
   "source": [
    "# Extraindo numero da matricula\n",
    "inicioFrase = text.find('matrícula nº',0)\n",
    "finalFrase = inicioFrase + len('matrícula nº') + 1\n",
    "ultimaMatricula = text.find(\"do\", finalFrase)\n",
    "valorExtraido = text[finalFrase:ultimaMatricula]\n",
    "valorExtraido = valorExtraido.replace(\",\", \"\")\n",
    "if len(valorExtraido) > 9:\n",
    "    valorExtraido = 0\n",
    "    inicioFrase = text.find('nas matrículas nºs',0)\n",
    "    finalFrase = inicioFrase + len('nas matrículas nºs') + 1\n",
    "    ultimaMatricula = text.find(\"do\", finalFrase)\n",
    "    valorExtraido = text[finalFrase:ultimaMatricula]\n",
    "    valorExtraido = valorExtraido.replace(\",\", \"\")\n",
    "    valorExtraido = valorExtraido.replace(\"e \", \"\")\n",
    "\n",
    "listaKey.append('Matrícula')\n",
    "listaValues.append(valorExtraido)\n",
    "valorExtraido"
   ]
  },
  {
   "cell_type": "code",
   "execution_count": 11,
   "metadata": {},
   "outputs": [],
   "source": [
    "# Extraindo cartório\n",
    "inicioFrase = text.find(' do Livro N°',0)\n",
    "finalFrase = inicioFrase + len(' do Livro N°') + 1\n",
    "ultimaMatricula = text.find(\".\", finalFrase)\n",
    "valorExtraido = text[finalFrase:ultimaMatricula]\n",
    "\n",
    "listaKey.append('Cartório')\n",
    "listaValues.append(valorExtraido)"
   ]
  },
  {
   "cell_type": "code",
   "execution_count": 12,
   "metadata": {},
   "outputs": [
    {
     "data": {
      "text/plain": [
       "{'valorTotal': '185236.16',\n",
       " 'tabela': 'SAC',\n",
       " 'registro': '3042.67',\n",
       " 'Taxa ao Mes': 0.1162,\n",
       " 'valorLiquido': '169200.00',\n",
       " 'prazoMes': '240',\n",
       " 'valorPrimeiraParcelaComEncargos': '2754.90',\n",
       " 'valorImóvel': '376000.00',\n",
       " 'prazoContrato': '234',\n",
       " 'ultimaParcela': '30/06/2042',\n",
       " 'dataContrato': '08/06/2022',\n",
       " 'valorPrimeiraParcela': '2662.09',\n",
       " 'primeiraParcela': '30/01/2023',\n",
       " 'indice': 'IPCA',\n",
       " 'Matrícula': '141.951 ',\n",
       " 'Cartório': '02 de Registro Geral do 3º Oficial de Registro de Imóveis da Comarca de  São Paulo/SP'}"
      ]
     },
     "execution_count": 12,
     "metadata": {},
     "output_type": "execute_result"
    }
   ],
   "source": [
    "#Criar Dicionario das duas Listas\n",
    "dict_keyValue = dict(zip(listaKey,listaValues))\n",
    "dict_keyValue"
   ]
  }
 ],
 "metadata": {
  "kernelspec": {
   "display_name": "Python 3.9.7 64-bit",
   "language": "python",
   "name": "python3"
  },
  "language_info": {
   "codemirror_mode": {
    "name": "ipython",
    "version": 3
   },
   "file_extension": ".py",
   "mimetype": "text/x-python",
   "name": "python",
   "nbconvert_exporter": "python",
   "pygments_lexer": "ipython3",
   "version": "3.9.7"
  },
  "orig_nbformat": 4,
  "vscode": {
   "interpreter": {
    "hash": "045832f79490e9a8a037a8f6e1a5c8ec877d805c4de0087de700d9a61e201314"
   }
  }
 },
 "nbformat": 4,
 "nbformat_minor": 2
}
