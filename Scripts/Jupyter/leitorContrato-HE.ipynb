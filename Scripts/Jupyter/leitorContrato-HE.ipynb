{
 "cells": [
  {
   "cell_type": "code",
   "execution_count": 2,
   "metadata": {},
   "outputs": [],
   "source": [
    "# importa as bibliotecas necessárias\n",
    "import PyPDF2\n",
    "import re\n",
    "import pandas as pd"
   ]
  },
  {
   "cell_type": "code",
   "execution_count": 3,
   "metadata": {},
   "outputs": [],
   "source": [
    "# Abre o arquivo pdf \n",
    "path = r'C:\\Users\\MatheusPereira\\OneDrive - Pontte\\Área de Trabalho\\automacaoRegistroCCI\\Contratos\\HE_Contrato_Conrado_Assinatura Digital_VFinal - Conrado.pdf'\n",
    "pdf_file = open(path, 'rb')\n"
   ]
  },
  {
   "cell_type": "code",
   "execution_count": 4,
   "metadata": {},
   "outputs": [],
   "source": [
    "#Faz a leitura usando a biblioteca\n",
    "read_pdf = PyPDF2.PdfFileReader(pdf_file)\n",
    "\n",
    "# pega o numero de páginas\n",
    "number_of_pages = read_pdf.getNumPages()\n",
    "\n",
    "#Extriar Texto Página 1 a 5\n",
    "text=''\n",
    "for i in range(0,4):\n",
    "    #Ler Página PDF\n",
    "    pageObj = read_pdf.getPage(i)\n",
    "    #Extrair Texto\n",
    "    text=text+pageObj.extractText()\n",
    "\n",
    "#Tratar Texto (Remover Quebra de Linhas)\n",
    "text = re.sub('\\r', '', text) \n",
    "text = re.sub('\\n', '', text)"
   ]
  },
  {
   "cell_type": "code",
   "execution_count": 5,
   "metadata": {},
   "outputs": [
    {
     "data": {
      "text/plain": [
       "'CONTRATO DE EMPRÉSTIMO (MÚTUO) E PACTO ADJETO DE ALIENAÇÃO FIDUCIÁRIA EM GARANTIA  COM EMISSÃO DE CÉDULA DE CRÉDITO IMOBILIÁRIO  - CCI  CONTRATO Nº 0001149323/CFD REFIN – SFI  RUBRICA DAS PARTES  Contrato de Empréstimo (Mútuo) com Alienação Fiduciária – Pessoa Física Página 1 de 35   Pelo presente contrato, celebrado nos termos do artigo 38 da Lei 9.514/97, de acordo com a redação  que  lhe  deu  o  artigo  57  da  Lei  10.931/2004, as  partes  a  seguir  enunciadas  e qualificadas  formalizam  este  CONTRATO  DE EMPRÉSTIMO (MÚTUO)  E  PACTO ADJETO DE ALIENAÇÃO FIDUCIÁRIA EM GARANTIA  COM EMISSÃO DE CÉDULA DE CRÉDITO IMOBILIÁRIO - CCI, tendo por objeto o imóvel identificado no campo 5 a seguir, e consoante cláusulas e condições adiante estipuladas :  CAMPO 1 – CREDORA RAZÃO SOCIAL: QI SOCIEDADE DE CRÉDITO DIRETO S.A.    ENDEREÇO COMERCIAL: Avenida Brigadeiro Faria Lima, nº 2.391, 1º andar  COMPLEMENTO: Conjunto 12 BAIRRO: Jardim Paulistano CIDADE: São Paulo UF: SP   CEP: 01452-000  CNPJ: 32.402.502/0001-35  DATA DA CONSTITUIÇÃO: 10/01/2019 REGISTRO JUCESP: 35300530225   REPRESENTANTES: Roberto Amaral Dantas Junior, brasileiro, portador da cédula de identidade RG nº 50.016.943-3 SSP/SP e inscrito no CPF sob nº 400.516.238 -03, nos termos da Procuração Pública lavrada pelo 1º Tabelião de Notas de São Paulo/SP no livro 4831, página 341  Rogério de Almeida Domingues / CPF: 315.191.258 -36 Lucas de Jesus Clarim / CPF: 109.323.276-56 Marcelo Buosi Martins / CPF: 380.261.198-51   CAMPO 2 - DEVEDOR(ES/AS)  DEVEDOR FIDUCIANTE  NOME: CONRADO FARIA DE ALBUQUERQUE  CPF: 615.314.729-15                      DATA DE NASCIMENTO: 06/01/1962 FILIAÇÃO: FLÁVIO FARIA DE ALBUQUERQUE e MARIA CÂNDIDA DE ALMEIDA ALBUQUERQUE IDENTIDADE (tipo/número): RG: 2096643-2         ÓRGÃO EMISSOR: SESP/PR NACIONALIDADE: BRASILEIRA  PROFISSÃO: ENGENHEIRO CIVIL ESTADO CIVIL: DIVORCIADO REGIME DE CASAMENTO (SE FOR CASADO):  N/A   CONTRATO DE EMPRÉSTIMO (MÚTUO) E PACTO ADJETO DE ALIENAÇÃO FIDUCIÁRIA EM GARANTIA  COM EMISSÃO DE CÉDULA DE CRÉDITO IMOBILIÁRIO  - CCI  CONTRATO Nº 0001149323/CFD REFIN – SFI  RUBRICA DAS PARTES  Contrato de Empréstimo (Mútuo) com Alienação Fiduciária – Pessoa Física Página 2 de 35   ENDEREÇO RESIDENCIAL E DOMICILIAR:  RUA AMAZONAS, 1167 COMPLEMENTO: APTO 601 BAIRRO: ÁGUA VERDE CIDADE: CURITIBA     UF: PR CEP: 80610-030  TELEFONE(S): (42) 99102-9218 EMAIL: cfalbuquerque@klabin.com.br   CAMPO 3 - COMPOSIÇÃO DE VALORES E PRINCIPAIS CONDIÇÕES DO EMPRÉSTIMO A. VALOR DO EMPRÉSTIMO: R$ 325.649,38 B. DATA DE DESEMBOLSO: 08/07/2022  C. PRAZO DE AMORTIZAÇÃO: 60 D. N.º DE PRESTAÇÕES: 59 E. DATA DO TÉRMINO DO PRAZO CONTRATUAL:  10/07/2027 F. PERIODICIDADE DE VENCIMENTO : mensal G. VENCIMENTO DA PRIMEIRA PRESTAÇÃO : 10/09/2022  H. TAXA DE JUROS (%)  H.1. NOMINAL: 12,0149% H.2. EFETIVA: 12,6064% I. SISTEMA DE AMORTIZAÇÃO: PRICE J. TARIFA DE ANÁLISE DE GARANTIAS: R$ 0,00 K. TARIFA DE ABERTURA DE CADASTRO: R$ 12.000,00 L. TARIFA DE AVALIAÇÃO DO IMÓVEL:  R$ 0,00 M. IOF: R$ 10.409,33 N. DESPESAS DE REGISTRO: R$ 3.240,05 O. VALOR LÍQUIDO DO EMPRÉSTIMO (A-J-K-L-M-N): R$ 300.000,00 P. SALDO DEVEDOR DO IMÓVEL: R$ 0,00 Q. VALOR DISPONÍVEL AO CLIENTE, NESTA DATA (O-P): R$ 300.000,00 R. VALOR DA PARCELA MENSAL (AMORTIZAÇÃO E JUROS), NESTA DATA:  R$ 7.311,89 S. DEMAIS VALORES QUE COMPÕEM O  ENCARGO MENSAL S.1.VALOR DOS PREMIOS DE SEGURO    S.1.1. DE MORTE E INVALIDEZ PERMANENTE:  R$ 69,11  S.1.2. DE DANOS FÍSICOS AO IMÓVEL: R$ 47,11 S.2. TARIFA DE GESTÃO: R$ 25,00 T. VALOR TOTAL DO PRIMEIRO ENCARGO, NESTA DATA:  R$ 7.453,10  U. CUSTO EFETIVO TOTAL (CET): 16,8936%  O Valor Disponível ao Cliente (Q), deduzido das demais dívidas informadas no CAMPO 8, caso aplicável  e não  tenham  sido pagas pelo(a/s)  DEVEDOR(ES/AS) até esta data, conforme CONTRATO DE EMPRÉSTIMO (MÚTUO) E PACTO ADJETO DE ALIENAÇÃO FIDUCIÁRIA EM GARANTIA  COM EMISSÃO DE CÉDULA DE CRÉDITO IMOBILIÁRIO  - CCI  CONTRATO Nº 0001149323/CFD REFIN – SFI  RUBRICA DAS PARTES  Contrato de Empréstimo (Mútuo) com Alienação Fiduciária – Pessoa Física Página 3 de 35   especificado neste Campo, será liberado ao(a/s) DEVEDOR(ES/AS), mediante débito da conta de pagamento de titularidade do DEVEDOR(ES /AS) mantida junto ao CREDOR, abaixo especificada (“Conta da Operação”), no último dos seguintes prazos: i) em 20 (vinte) dias úteis a contar desta data, desde que tenha(m) sido entregue a via original  à CREDORA, antes deste prazo, da matr ícula do imóvel e do presente instrumento com os registros do empréstimo e da alienação fiduciária através dele contratadas; ou  ii) em até 10 (dez) dias úteis, contados a partir da entrega  à CREDORA, da(s) via(s) original(is)  da(s) matricula(s) do(s) imóvel(is) e do presente instrumento,  com  os registros do empréstimo e da alienação fiduciária através dele contratadas.  TITULAR: CONRADO FARIA DE ALBUQUERQUE  BANCO: QI SOCIEDADE DE CRÉDITO DIRETO S.A. (329)  C/C: 13200-0 AGÊNCIA:0001  O(A/S) DEVEDOR(ES/AS) autoriza(m) expressamente,  de  modo  irretratável  e  irrevogável,  o CREDOR, quando das respectivas Datas de Vencimento, a debitar a Conta da Operação todo e qualquer valor disponível até o limite dos valores cujo pagamento ou reembolso for devido no âmbito ou por efeito do presente CONTRATO. Sobre o valor ou a parcela do valor a debitar para o qual não houver fundos disponíveis na Conta da Operação, incidirão, desde a respectiva Data de Vencimento, os encargos moratórios, conforme previstos neste CONTRATO.   CAMPO 4 - ÍNDICE DO CONTRATO ÍNDICE: MENSAL do IPCA, tomando-se por base a variação do índice do segundo mês anterior ao da assinatura deste contrato, inclusive, e o índice relativo ao segundo mês anterior ao do efetivo pagamento de cada encargo.  VISTO DO(S) DEVEDOR(ES): ____________________________________   CAMPO 5 - IMÓVEL (IS) Imóveis: descritos no Anexo IV do presente instrumento  Origem: Os referidos imóveis foram havidos pelos devedores por força dos registros R. 01, nas matrículas nºs 76.635, 76.636 e 76.637, do Livro N° 02 de Registro Geral do 5º Oficial de Registro de Imóveis da Comarca de Curitiba/PR.    CAMPO 6 – VALOR DE AVALIAÇÃO PARA FINS DE LEILÃO PÚBLICO   Valor de avaliação do Imóvel para fins de leilão:  R$ 673.000,00. CONTRATO DE EMPRÉSTIMO (MÚTUO) E PACTO ADJETO DE ALIENAÇÃO FIDUCIÁRIA EM GARANTIA  COM EMISSÃO DE CÉDULA DE CRÉDITO IMOBILIÁRIO  - CCI  CONTRATO Nº 0001149323/CFD REFIN – SFI  RUBRICA DAS PARTES  Contrato de Empréstimo (Mútuo) com Alienação Fiduciária – Pessoa Física Página 4 de 35    Com  base no disposto acima, para fins de leilão, deverão ser considerados,  para cada imóvel, individualmente, os seguintes valores:  a) – Matrícula 76.635 (apartamento) .............. R$ 591.000,00   b) – Matrícula 76.636 (vaga 01) .............. R$ 41.000,00     c) – Matrícula 76.637 (vaga 02) .............. R$ 41.000,00  Para efeitos de cálculo dos emolumentos de Tabelião e de Registro, poderá ser considerado, para o Imóvel, o valor total de avaliação acima.   CAMPO 7 – COMPOSIÇÃO DA RENDA PARA FINS DE INDENIZAÇÃO   NOME: CONRADO FARIA DE ALBUQUERQUE   PARTICIPAÇÃO: 100%   CAMPO 8 – CLÁUSULA(S) ADICIONAL(AIS) 1.  As  Cláusulas  Especiais,  contidas  nos  campos  do  Quadro  Resumo  deste instrumento, são adicionais e complementares, as gerais, adiante dispostas, sendo que, naqueles pontos em que houver conflito, estas, especiais, prevalecer ão em relação aquelas, gerais.  2. Foram apresentadas e encontram-se arquivadas junto a CREDORA as Certidões Negativas de Débitos Trabalhistas em nome dos(as) DEVEDOR(ES/AS).  3. O(A/S) DEVEDOR(ES/AS) DECLARA(M) que, para efetivar o regular registro do presente contrato, se comprometem a entregar o boleto referente às dívidas mencionadas abaixo, para que os  pagamentos sejam realizados pela QI SOCIEDADE DE CRÉD ITO DIRETO S.A., ora Credora, em  até 3 (três) dias úteis, quais sejam:  3.1. 100% (cem por cento) da dívida proveniente de  Dívidas Fiscais Federais, no total aproximado de R$ 1.899,34, em nome do Devedor Fiduciante, devendo ser quitada perante o atual  credor;  3.2. Após a quitação da dívida elencada acima e em posse do respectivo comprovante de quitação, será efetivado o registro da garantia objeto do presente contrato.   4. O(A/S) DEVEDOR(ES/AS) DECLARA(M)  que, caso o imóvel objeto do presente instrumen to seja pertencente às circunscrições imobiliárias das comarcas localizadas nos Estados de Minas Gerais, Espírito Santo, Rio de Janeiro, Mato Grosso do Sul ou Distrito Federal, os custos de registro '"
      ]
     },
     "execution_count": 5,
     "metadata": {},
     "output_type": "execute_result"
    }
   ],
   "source": [
    "text"
   ]
  },
  {
   "cell_type": "code",
   "execution_count": 13,
   "metadata": {},
   "outputs": [],
   "source": [
    "listaDePara = {'valorTotal':'VALOR DO EMPRÉSTIMO: R$','tabela': 'SISTEMA DE AMORTIZAÇÃO:','registro': 'DESPESAS DE REGISTRO: R$','Taxa ao Mes':'H.1. NOMINAL:','valorLiquido': 'VALOR LÍQUIDO DO EMPRÉSTIMO (A-J-K-L-M-N): R$',\n",
    "                'prazoMes': 'PRAZO DE AMORTIZAÇÃO:','valorPrimeiraParcelaComEncargos':'VALOR TOTAL DO PRIMEIRO ENCARGO, NESTA DATA:  R$',\n",
    "                'valorImóvel':'Valor de avaliação do Imóvel para fins de leilão:  R$','prazoContrato': 'N.º DE PRESTAÇÕES:','ultimaParcela':'DATA DO TÉRMINO DO PRAZO CONTRATUAL: ','dataContrato': 'DATA DE DESEMBOLSO:',\n",
    "                'valorPrimeiraParcela':'VALOR DA PARCELA MENSAL (AMORTIZAÇÃO E JUROS), NESTA DATA:  R$','primeiraParcela':'VENCIMENTO DA PRIMEIRA PRESTAÇÃO :','indice':'ÍNDICE: MENSAL do'\n",
    "                }\n",
    "\n",
    "#len(listaHE) # <--- Qtd de Itens na Lista\n",
    "listaKey = []\n",
    "listaValues = []\n",
    "\n",
    "for key, value in listaDePara.items():\n",
    "    inicioFrase = text.find(value,0)\n",
    "    finalFrase = inicioFrase + len(value) + 1\n",
    "    proximoEspaco = text.find(\" \", finalFrase)\n",
    "    valorExtraido = text[finalFrase:proximoEspaco]\n",
    "\n",
    "    #Ajustar Valores Númericos\n",
    "    if '.' in valorExtraido:\n",
    "        valorExtraido = valorExtraido.replace(\".\", \"\")\n",
    "        valorExtraido = valorExtraido.replace(\",\", \".\")\n",
    "    \n",
    "    #Ajustar Valores Percentuais\n",
    "    if '%' in valorExtraido:\n",
    "        valorExtraido = valorExtraido.replace(\",\", \".\")\n",
    "        valorExtraido = valorExtraido.replace(\"%\", \"\")\n",
    "        valorExtraido = round(float(valorExtraido)/100,4)\n",
    "    elif 'IPCA' or 'IGPM' in valorExtraido:\n",
    "        valorExtraido = valorExtraido.replace(\",\", \"\")\n",
    "    \n",
    "    listaKey.append(key)\n",
    "    listaValues.append(valorExtraido)"
   ]
  },
  {
   "cell_type": "code",
   "execution_count": 14,
   "metadata": {},
   "outputs": [
    {
     "data": {
      "text/plain": [
       "'76.635 76.636 76.637 '"
      ]
     },
     "execution_count": 14,
     "metadata": {},
     "output_type": "execute_result"
    }
   ],
   "source": [
    "# Extraindo numero da matricula\n",
    "inicioFrase = text.find('na matrícula nº',0)\n",
    "finalFrase = inicioFrase + len('na matrícula nº') + 1\n",
    "ultimaMatricula = text.find(\"do\", finalFrase)\n",
    "valorExtraido = text[finalFrase:ultimaMatricula]\n",
    "valorExtraido = valorExtraido.replace(\",\", \"\")\n",
    "if 3 <= len(valorExtraido) > 6:\n",
    "    valorExtraido = 0\n",
    "    inicioFrase = text.find('nas matrículas nºs',0)\n",
    "    finalFrase = inicioFrase + len('nas matrículas nºs') + 1\n",
    "    ultimaMatricula = text.find(\"do\", finalFrase)\n",
    "    valorExtraido = text[finalFrase:ultimaMatricula]\n",
    "    valorExtraido = valorExtraido.replace(\",\", \"\")\n",
    "    valorExtraido = valorExtraido.replace(\"e \", \"\")\n",
    "\n",
    "listaKey.append('Matrícula')\n",
    "listaValues.append(valorExtraido)\n",
    "valorExtraido"
   ]
  },
  {
   "cell_type": "code",
   "execution_count": 15,
   "metadata": {},
   "outputs": [],
   "source": [
    "# Extraindo cartório\n",
    "inicioFrase = text.find(' do Livro N°',0)\n",
    "finalFrase = inicioFrase + len(' do Livro N°') + 1\n",
    "ultimaMatricula = text.find(\".\", finalFrase)\n",
    "valorExtraido = text[finalFrase:ultimaMatricula]\n",
    "\n",
    "listaKey.append('Cartório')\n",
    "listaValues.append(valorExtraido)"
   ]
  },
  {
   "cell_type": "code",
   "execution_count": 16,
   "metadata": {},
   "outputs": [
    {
     "data": {
      "text/plain": [
       "{'valorTotal': '325649.38',\n",
       " 'tabela': 'PRICE',\n",
       " 'registro': '3240.05',\n",
       " 'Taxa ao Mes': 0.1201,\n",
       " 'valorLiquido': '300000.00',\n",
       " 'prazoMes': '60',\n",
       " 'valorPrimeiraParcelaComEncargos': '7453.10',\n",
       " 'valorImóvel': '673000.00',\n",
       " 'prazoContrato': '59',\n",
       " 'ultimaParcela': '10/07/2027',\n",
       " 'dataContrato': '08/07/2022',\n",
       " 'valorPrimeiraParcela': '7311.89',\n",
       " 'primeiraParcela': '10/09/2022',\n",
       " 'indice': 'IPCA',\n",
       " 'Matrícula': '76.635 76.636 76.637 ',\n",
       " 'Cartório': '02 de Registro Geral do 5º Oficial de Registro de Imóveis da Comarca de Curitiba/PR'}"
      ]
     },
     "execution_count": 16,
     "metadata": {},
     "output_type": "execute_result"
    }
   ],
   "source": [
    "#Criar Dicionario das duas Listas\n",
    "dict_keyValue = dict(zip(listaKey,listaValues))\n",
    "dict_keyValue"
   ]
  }
 ],
 "metadata": {
  "kernelspec": {
   "display_name": "Python 3.9.7 64-bit",
   "language": "python",
   "name": "python3"
  },
  "language_info": {
   "codemirror_mode": {
    "name": "ipython",
    "version": 3
   },
   "file_extension": ".py",
   "mimetype": "text/x-python",
   "name": "python",
   "nbconvert_exporter": "python",
   "pygments_lexer": "ipython3",
   "version": "3.9.7"
  },
  "orig_nbformat": 4,
  "vscode": {
   "interpreter": {
    "hash": "045832f79490e9a8a037a8f6e1a5c8ec877d805c4de0087de700d9a61e201314"
   }
  }
 },
 "nbformat": 4,
 "nbformat_minor": 2
}
