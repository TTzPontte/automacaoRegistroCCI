{
 "cells": [
  {
   "cell_type": "code",
   "execution_count": 42,
   "metadata": {},
   "outputs": [],
   "source": [
    "# importa as bibliotecas necessárias\n",
    "import PyPDF2\n",
    "import re\n",
    "import string"
   ]
  },
  {
   "cell_type": "code",
   "execution_count": 43,
   "metadata": {},
   "outputs": [],
   "source": [
    "# Abre o arquivo pdf \n",
    "path = r'C:\\Users\\MatheusPereira\\OneDrive - Pontte\\Área de Trabalho\\automacaoRegistroCCI\\Arquivos Simulação\\HE_Contrato_Agostinho_Assinatura Digital_VFinal.pdf'\n",
    "pdf_file = open(path, 'rb')\n"
   ]
  },
  {
   "cell_type": "code",
   "execution_count": 44,
   "metadata": {},
   "outputs": [],
   "source": [
    "#Faz a leitura usando a biblioteca\n",
    "read_pdf = PyPDF2.PdfFileReader(pdf_file)\n",
    "\n",
    "# pega o numero de páginas\n",
    "number_of_pages = read_pdf.getNumPages()\n",
    "\n",
    "#Extriar Texto \n",
    "text=''\n",
    "for i in range(0,9):\n",
    "    #Ler Página PDF\n",
    "    pageObj = read_pdf.getPage(i)\n",
    "    #Extrair Texto\n",
    "    text=text+pageObj.extractText()\n",
    "\n",
    "#Tratar Texto (Remover Quebra de Linhas e espaços duplos)\n",
    "text = re.sub('\\r', '', text) \n",
    "text = re.sub('\\n', '', text)\n",
    "text = re.sub(' {2,}', ' ', text).strip(' ')"
   ]
  },
  {
   "cell_type": "code",
   "execution_count": 45,
   "metadata": {},
   "outputs": [
    {
     "data": {
      "text/plain": [
       "36"
      ]
     },
     "execution_count": 45,
     "metadata": {},
     "output_type": "execute_result"
    }
   ],
   "source": [
    "number_of_pages"
   ]
  },
  {
   "cell_type": "code",
   "execution_count": 46,
   "metadata": {},
   "outputs": [
    {
     "data": {
      "text/plain": [
       "\"CONTRATO DE EMPRÉSTIMO (MÚTUO) E PACTO ADJETO DE ALIENAÇÃO FIDUCIÁRIA EM GARANTIA COM EMISSÃO DE CÉDULA DE CRÉDITO IMOBILIÁRIO - CCI CONTRATO Nº 0001013447/AFD REFIN – SFI RUBRICA DAS PARTES Contrato de Empréstimo (Mútuo) com Alienação Fiduciária – Pessoa Física Página 1 de 36 Pelo presente contrato, celebrado nos termos do artigo 38 da Lei 9.514/97, de acordo com a redação que lhe deu o artigo 57 da Lei 10.931/2004, as partes a seguir enunciadas e qualificadas formalizam este CONTRATO DE EMPRÉSTIMO (MÚTUO) E PACTO ADJETO DE ALIENAÇÃO FIDUCIÁRIA EM GARANTIA COM EMISSÃO DE CÉDULA DE CRÉDITO IMOBILIÁRIO - CCI, tendo por objeto o imóvel identificado no campo 5 a seguir, e consoante cláusulas e condições adiante estipuladas : CAMPO 1 – CREDORA RAZÃO SOCIAL: QI SOCIEDADE DE CRÉDITO DIRETO S.A. ENDEREÇO COMERCIAL: Avenida Brigadeiro Faria Lima, nº 2.391, 1º andar COMPLEMENTO: Conjunto 12 BAIRRO: Jardim Paulistano CIDADE: São Paulo UF: SP CEP: 01452-000 CNPJ: 32.402.502/0001-35 DATA DA CONSTITUIÇÃO: 10/01/2019 REGISTRO JUCESP: 35300530225 REPRESENTANTES: Roberto Amaral Dantas Junior, brasileiro, portador da cédula de identidade RG nº 50.016.943-3 SSP/SP e inscrito no CPF sob nº 400.516.238 -03, nos termos da Procuração Pública lavrada pelo 1º Tabelião de Notas de São Paulo/SP no livro 4831, página 341 Rogério de Almeida Domingues / CPF: 315.191.258 -36 Lucas de Jesus Clarim / CPF: 109.323.276-56 Marcelo Buosi Martins / CPF: 380.261.198-51 CAMPO 2 - DEVEDOR(ES/AS) DEVEDORES FIDUCIANTES NOME: AGOSTINHO FRANCISCO DE SOUZA CPF: 011.615.038-62 DATA DE NASCIMENTO: 31/05/1963 FILIAÇÃO: VICENTE FRANCISCO DE SOUZA e BENEDITA MARIA DE SOUZA IDENTIDADE (tipo/número): RG: 11.682.193-0 ÓRGÃO EMISSOR: SSP/SP NACIONALIDADE: BRASILEIRA PROFISSÃO: CORRETOR DE IMÓVEIS ESTADO CIVIL: CASADO com a Devedora Fiduciante desde 19 de fevereiro de 1983 REGIME DE CASAMENTO (SE FOR CASADO): COMUNHÃO PARCIAL DE BENS, sob vigência da Lei 6.515/77 ENDEREÇO RESIDENCIAL E DOMICILIAR: RUA SALES, 427 CONTRATO DE EMPRÉSTIMO (MÚTUO) E PACTO ADJETO DE ALIENAÇÃO FIDUCIÁRIA EM GARANTIA COM EMISSÃO DE CÉDULA DE CRÉDITO IMOBILIÁRIO - CCI CONTRATO Nº 0001013447/AFD REFIN – SFI RUBRICA DAS PARTES Contrato de Empréstimo (Mútuo) com Alienação Fiduciária – Pessoa Física Página 2 de 36 COMPLEMENTO: N/A BAIRRO: CABUÇU CIDADE: GUARULHOS UF: SP CEP: 07144-260 TELEFONE(S): (11) 96321-4563 EMAIL: consultor.agostinho@gmail.com NOME: MARIETE DIEGUES DE SOUZA CPF: 040.429.738-25 DATA DE NASCIMENTO: 25/09/1962 FILIAÇÃO: ARMANDO DIEGUES e MARIA JOSE DA SILVA DIEGUES IDENTIDADE (tipo/número): RG: 16.269.646-2 ÓRGÃO EMISSOR: SSP/SP NACIONALIDADE: BRASILEIRA PROFISSÃO: ENFERMEIRA ESTADO CIVIL: CASADA com o Devedor Fiduciante desde 19 de fevereiro de 1983 REGIME DE CASAMENTO (SE FOR CASADO): COMUNHÃO PARCIAL DE BENS, sob vigência da Lei 6.515/77 ENDEREÇO RESIDENCIAL E DOMICILIAR: RUA SALES, 427 COMPLEMENTO: N/A BAIRRO: CABUÇU CIDADE: GUARULHOS UF: SP CEP: 07144-260 TELEFONE(S): (11) 96321-4563 EMAIL: consultor.agostinho@gmail.com CAMPO 3 - COMPOSIÇÃO DE VALORES E PRINCIPAIS CONDIÇÕES DO EMPRÉSTIMO A. VALOR DO EMPRÉSTIMO: R$ 185.236,16 B. DATA DE DESEMBOLSO: 08/06/2022 C. PRAZO DE AMORTIZAÇÃO: 240 D. N.º DE PRESTAÇÕES: 234 E. DATA DO TÉRMINO DO PRAZO CONTRATUAL: 30/06/2042 F. PERIODICIDADE DE VENCIMENTO : mensal G. VENCIMENTO DA PRIMEIRA PRESTAÇÃO : 30/01/2023 H. TAXA DE JUROS (%) H.1. NOMINAL: 11,6161% H.2. EFETIVA: 12,2799% I. SISTEMA DE AMORTIZAÇÃO: SAC J. TARIFA DE ANÁLISE DE GARANTIAS: R$ 6.768,00 K. TARIFA DE ABERTURA DE CADASTRO: R$ 0,00 L. TARIFA DE AVALIAÇÃO DO IMÓVEL: R$ 0,00 M. IOF: R$ 6.225,49 CONTRATO DE EMPRÉSTIMO (MÚTUO) E PACTO ADJETO DE ALIENAÇÃO FIDUCIÁRIA EM GARANTIA COM EMISSÃO DE CÉDULA DE CRÉDITO IMOBILIÁRIO - CCI CONTRATO Nº 0001013447/AFD REFIN – SFI RUBRICA DAS PARTES Contrato de Empréstimo (Mútuo) com Alienação Fiduciária – Pessoa Física Página 3 de 36 N. DESPESAS DE REGISTRO: R$ 3.042,67 O. VALOR LÍQUIDO DO EMPRÉSTIMO (A -J-K-L-M-N): R$ 169.200,00 P. SALDO DEVEDOR DO IMÓVEL: R$ 2.160,71 P.1. Imposto Predial Territorial Urbano (IPTU) : R$ 2.160,71 Q. VALOR DISPONÍVEL AO CLIENTE, NESTA DATA (O-P): R$ 167.039,29 R. VALOR DA PARCELA MENSAL (AMORTIZAÇÃO E JUROS), NESTA DATA: R$ 2.662,09 S. DEMAIS VALORES QUE COMPÕEM O ENCARGO MENSAL S.1.VALOR DOS PREMIOS DE SEGURO S.1.1. DE MORTE E INVALIDEZ PERMANENTE: R$ 41,49 S.1.2. DE DANOS FÍSICOS AO IMÓVEL: R$ 26,32 S.2. TARIFA DE GESTÃO: R$ 25,00 T. VALOR TOTAL DO PRIMEIRO ENCARGO, NESTA DATA: R$ 2.754,90 U. CUSTO EFETIVO TOTAL (CET): 14,3588% O Valor Disponível ao Cliente (Q), deduzido das demais dívidas informadas no CAMPO 8, caso aplicável e não tenham sido pagas pelo(a/s) DEVEDOR(ES/AS) até esta data, conforme especificado neste Campo, será liberado ao(a/s) DEVEDOR(ES/AS), mediante débito da conta de pagamento de titularidade do DEVEDOR(ES /AS) mantida junto ao CREDOR, abaixo especificada (“Conta da Operação”), no último dos seguintes prazos: i) em 20 (vinte) dias úteis a contar desta data, desde que tenha(m) sido entregue a via original à CREDORA, antes deste prazo, da matr ícula do imóvel e do presente instrumento com os registros do empréstimo e da alienação fiduciária através dele contratadas; ou ii) em até 10 (dez) dias úteis, contados a partir da entrega à CREDORA, da(s) via(s) original(is) da(s) matricula(s) do(s) imóvel(is) e do presente instrumento, com os registros do empréstimo e da alienação fiduciária através dele contratadas. TITULAR: AGOSTINHO FRANCISCO DE SOUZA BANCO: QI SOCIEDADE DE CRÉDITO DIRETO S.A. (329) C/C: 30592-9 AGÊNCIA:0001 O(A/S) DEVEDOR(ES/AS) autoriza(m) expressamente, de modo irretratável e irrevogável, o CREDOR, quando das respectivas Datas de Vencimento, a debitar a Conta da Operação todo e qualquer valor disponível até o limite dos valores cujo pagamento ou reembolso for devido no âmbito ou por efeito do presente CONTRATO. Sobre o valor ou a parcela do valor a debitar para o qual não houver fundos disponíveis na Conta da Operação, incidirão, desde a respectiva Data de Vencimento, os encargos moratórios, conforme previstos neste CONTRATO. CONTRATO DE EMPRÉSTIMO (MÚTUO) E PACTO ADJETO DE ALIENAÇÃO FIDUCIÁRIA EM GARANTIA COM EMISSÃO DE CÉDULA DE CRÉDITO IMOBILIÁRIO - CCI CONTRATO Nº 0001013447/AFD REFIN – SFI RUBRICA DAS PARTES Contrato de Empréstimo (Mútuo) com Alienação Fiduciária – Pessoa Física Página 4 de 36 CAMPO 4 - ÍNDICE DO CONTRATO ÍNDICE: MENSAL do IPCA, tomando-se por base a variação do índice do segundo mês anterior ao da assinatura deste contrato, inclusive, e o índice relativo ao segundo mês anterior ao do efetivo pagamento de cada encargo. VISTO DO(S) DEVEDOR(ES): ____________________________________ CAMPO 5 - IMÓVEL (IS) Imóvel: descrito no Anexo IV do presente instrumento Origem: O referido imóvel foi havido pelos devedores por força do registro R. 03, na matrícula nº 141.951, do Livro N° 02 de Registro Geral do 3º Oficial de Registro de Imóveis da Comarca de São Paulo/SP. CAMPO 6 – VALOR DE AVALIAÇÃO PARA FINS DE LEILÃO PÚBLICO Valor de avaliação do Imóvel para fins de leilão: R$ 376.000,00. Para efeitos de cálculo dos emolumentos de Tabelião e de Registro, poderá ser considerado, para o Imóvel, o valor de avaliação acima. CAMPO 7 – COMPOSIÇÃO DA RENDA PARA FINS DE INDENIZAÇÃO NOME: AGOSTINHO FRANCISCO DE SOUZA PARTICIPAÇÃO: 100% CAMPO 8 – CLÁUSULA(S) ADICIONAL(AIS) 1. As Cláusulas Especiais, contidas nos campos do Quadro Resumo deste instrumento, são adicionais e complementares, as gerais, adiante dispostas, sendo que, naqueles pontos em que houver conflito, estas, especiais, prevalecer ão em relação aquelas, gerais. 2. Foram apresentadas e encontram-se arquivadas junto a CREDORA as Certidões Negativas de Débitos Trabalhistas em nome dos(as) DEVEDOR(ES/AS). 3. O(A/S) DEVEDOR(ES/AS) DECLARA(M) que, para efetivar o regular registro do presente contrato, se comprometem a entregar o boleto referente às dívidas mencionadas abaixo, para que os pagamentos sejam realizados pela QI SOCIEDADE DE CRÉD ITO DIRETO S.A., ora Credora, em até 3 (três) dias úteis, quais sejam: CONTRATO DE EMPRÉSTIMO (MÚTUO) E PACTO ADJETO DE ALIENAÇÃO FIDUCIÁRIA EM GARANTIA COM EMISSÃO DE CÉDULA DE CRÉDITO IMOBILIÁRIO - CCI CONTRATO Nº 0001013447/AFD REFIN – SFI RUBRICA DAS PARTES Contrato de Empréstimo (Mútuo) com Alienação Fiduciária – Pessoa Física Página 5 de 36 3.1. 100% (cem por cento) da dívida relativa à dívida de IPTU referente ao imóvel objeto do presente instrumento, perfazendo o valor total aproximado de R$ 2.160,71, devendo ser quitada perante o atual credor; 3.2. Após a quitação das dívidas elencadas acima e em posse dos respectivos termos de quitação, será efetivado o registro da garantia objeto do presente contrato. 4. O(A/S) DEVEDOR(ES/AS) DECLARA(M) que, caso o imóvel objeto do presente instrumento seja pertencente às circunscrições imobiliárias das comarcas localizadas nos Estados de Minas Gerais, Espírito Santo, Rio de Janeiro, Mato Grosso do Sul ou Distrito Federal, os custos de registro expressos no Campo 3, item “N” podem sofrer um acréscimo no valor discriminado devido à adoção de tabelas de emolumentos diferenciadas nas mencionadas unidades federativas. 5. O(A/S) DEVEDOR(ES/AS) DECLARA(M) ter plena ciência que, no prazo de até 3 (três) dias úteis, após o registro regular do contrato, a QI SOCIEDADE DE CRÉDITO DIRETO S.A., ora Credora, liberará, o valor do empréstimo, com o que, desde já, concorda(m). DECLARA(M), ainda, sob responsabilidade civil e criminal: (i) não está(ão) sujeito(a/s) à apresentação da Certidão Negativa de Débitos Relativos aos Tributos Federais e à Dívida Ativa da União, administrados pela Secretaria da Receita Federal do Brasil (RFB) e pela Pr ocuradoria-Geral da Fazenda Nacional (PGFN), inclusive as contribuições sociais previstas nas alíneas 'a' a 'd' do parágrafo único do art. 11 da Lei Federal no 8.212, de 24 de julho de 1991, uma vez que não se enquadra(m) nas hipóteses legais em que se exige, para fins de alienação de imóveis, a apresentação de referida certidão, tampouco está(ão) incurso(s) nas restrições previstas na legislação previdenciária em vigor; (ii) que o estado civil indicado em sua qualificação, no presente instrumento, foi declarado por ele(a/s) DEVEDOR(ES/AS), sendo a mais pura expressão da verdade, estando ciente(s) de que a omissão ou a apresentação de informações e/ou documentos falsos ou divergentes poderão implicar nas medidas administrativas cabíveis; (iii) Não existem processamentos perante a Justiça Brasileira de ações capazes de conduzí-los ao estado de insolvência ou ainda de eventuais empresas das quais seja sócio, tendo em vista que dispõem e continuarão a dispor de bens suficientes para garantir quaisquer condenaçõe s pecuniárias, sendo que a alienação do Imóvel não implicará em fraude de qualquer espécie; (iv) não há procedimentos judiciais, administrativos, extrajudiciais ou arbitrais em seu nome, de natureza cível, tributária, trabalhista, previdenciária, ambiental e criminal, ou procedimentos judiciais, administrativos ou extrajudiciais relacionados ao Imóvel, em curso ou iminentes, que possam afetar negativamente ou impedir a celebração deste Contrato, caracterizar fraude (à execução ou a credores) ou impedir a assunção dos deveres e obrigações ora assumidos por ele(a/s) DEVEDOR(ES/AS), (v) estar ciente(s) de que o não cumprimento das condições estabelecidas para aprovação de seu crédito, poderá acarretar o vencimento antecipado da dívida, bem como a retenção do valor remanescente, tendo em vista que o presente empréstimo (mútuo), ora concedido pela Credora, mediante pacto CONTRATO DE EMPRÉSTIMO (MÚTUO) E PACTO ADJETO DE ALIENAÇÃO FIDUCIÁRIA EM GARANTIA COM EMISSÃO DE CÉDULA DE CRÉDITO IMOBILIÁRIO - CCI CONTRATO Nº 0001013447/AFD REFIN – SFI RUBRICA DAS PARTES Contrato de Empréstimo (Mútuo) com Alienação Fiduciária – Pessoa Física Página 6 de 36 adjeto de alienação fiduciária do(s) imóvel(is) descrito(s) e caracterizado(s) no campo 5 do quadro resumo do instrumento já mencionado, tem por finalidade o saneamento de referida(s) dívida(s) contraída(s), visando a quitação da(s) mesma(s) com o produto do crédito ora contratado. A presente declaração tem caráter irrevogável e irretratável, sendo condição do presente negócio . CAMPO 9 – CÉDULA DE CRÉDITO IMOBILIÁRIO - CCI SÉRIE: 2022 NÚMERO: 0001013447/AFD CRÉDITO: o que decorre, do presente instrumento, para a CREDORA. INTEGRAL: (X) FRACIONÁRIA: ( ) PERCENTUAL DO CRÉDITO: 100% VALOR DA EMISSÃO: R$ 185.236,16 PRAZO (em meses): 240 CREDORA: Conforme indicado no Campo 1 deste Quadro Resumo. DEVEDOR(ES/AS): Conforme indicado no Campo 2 deste Quadro Resumo. AGENTE CUSTODIANTE: VÓRTX DISTRIBUIDORA DE TÍTULOS E VALORES MOBILIÁRIOS LTDA., instituição financeira autorizada pela CVM para administrar fundos de investimentos e carteiras de valores mobiliários, por meio do Ato Declaratório nº 11.784, expedido em 30 de junho de 2011, com sede na Rua Gilberto Sabino, nº 215, conjunto 41, sala 2, Pinheiros, Cidade de São Paulo, Estado de São Paulo, CEP 05425-020, inscrita no CNPJ sob nº 22.610.500/0001-88. GARANTIA E IMÓVEL(IS) OBJETO DA GARANTIA: Alienação Fiduciária do(s) imóvel(is) indicado(s) no Campo 5 deste Quadro Resumo. N.º(S) DO(S) CADASTRO(S) IMOBILIÁRIA(S) DO(S) IMÓVEL(EIS) OBJETO DA GARANTIA INDICADO(S) NO CAMPO 5 DESTE QUADRO RESUMO: nº. 073.157.0463-9 LOCAL DE PAGAMENTO: Conforme previsto neste instrumento. DEMAIS CONDIÇÕES (data de vencimento, valor das prestações, critério de atualização monetária, taxa de juros, encargos e demais características do crédito): São as constantes do presente instrumento. CAPÍTULO I CONTRATO DE EMPRÉSTIMO (MÚTUO) E PACTO ADJETO DE ALIENAÇÃO FIDUCIÁRIA EM GARANTIA COM EMISSÃO DE CÉDULA DE CRÉDITO IMOBILIÁRIO - CCI CONTRATO Nº 0001013447/AFD REFIN – SFI RUBRICA DAS PARTES Contrato de Empréstimo (Mútuo) com Alienação Fiduciária – Pessoa Física Página 7 de 36 DOS MOTIVOS DO CONTRATO DE EMPRÉSTIMO (MÚTUO) E DE ALIENAÇÃO FIDUCIÁRIA EM GARANTIA COM EMISSÃO DE CÉDULA DE CRÉDITO IMOBILIÁRIO – CCI E DA TERMINOLOGIA ADOTADA 1.1. Através do presente instrumento, as PARTES formalizam um conjunto de contratos coligados, tendo por objeto empréstimo (mútuo) e uma alienação fiduciária em garantia, de acordo com as regras do Sistema de Financiamento Imobiliário instituído pela Lei n.º 9.514, de 20.11.97, sendo firmado, portanto, sob os seguintes pressupostos: a) o crédito imobiliário adiante constituído, doravante denominado simplesmente crédito, resultante do empréstimo concedido ao(a/s) DEVEDOR(ES/AS), poderá destinar-se à negociação no mercado secundário de créditos imobiliários e, para tanto, poderá ser cedido a instituição financeira ou companhia securitizadora e lastrear títulos de crédito, seja Certificado de Recebíveis Imobiliários, debênture ou qualquer outro título, que poderá ser livremente negociado através de sistemas centralizados de custódia e liquidação financeira de títulos privados; b) o empréstimo, com os recursos dele resultante, a emissão de cédula de crédito Imobiliários – CCI, a cessão do crédito e sua respectiva securitização constituem negócios coligados, destinando-se a cessão e a securitização, precipuamente, à captação dos recursos necessários à sustentação do empréstimo ora concedido ao(a/s) DEVEDOR(ES/AS); c) a viabilização jurídica e econômico -financeira da securitização do crédito e sua respectiva securitização decorre da rigorosa observância das condições contratuais, definidas n o art. 5\\uf0b0 da citada Lei 9.514/97, a saber: (c.1) reposição do capital financiado no seu valor integral, incluindo a reposição de diferenças decorrentes de depreciação monetária ou de custo de captação de recursos no mercado financeiro; (c.2) remuneração do capital financiado às taxas aqui convencion adas; (c.3) capitalização mensal dos juros; (c.4) contratação, pelo(a/s) DEVEDOR(ES/AS), de seguros contra os riscos de morte e invalidez permanente, na forma da resolução BACEN n.º 3811/2009 e de acordo com o Anexo I do presente instrumento, caso seja(m) física(s) e de danos físicos ao imóvel, em qualquer caso; 1.2. Nos termos da Lei 9.514/97, as partes reiteram os conceitos aplicáveis aos negócios decorrentes do presente instrumento, a saber: a) securitização de créditos imobiliários é a operação pela qual uma companhia especializada compra créditos imobiliários e emite títulos lastreados nesses créditos; b) alienação fiduciária imobiliária é um contrato de garantia, pelo qual: (b.1) a propriedade do imóvel permanece com a CREDORA até que o(a/s) DEVEDOR(ES/AS) complete(m) o pagamento da dívida, com seus encargos, CONTRATO DE EMPRÉSTIMO (MÚTUO) E PACTO ADJETO DE ALIENAÇÃO FIDUCIÁRIA EM GARANTIA COM EMISSÃO DE CÉDULA DE CRÉDITO IMOBILIÁRIO - CCI CONTRATO Nº 0001013447/AFD REFIN – SFI RUBRICA DAS PARTES Contrato de Empréstimo (Mútuo) com Alienação Fiduciária – Pessoa Física Página 8 de 36 (b.2) o(a/s) DEVEDOR(ES/AS) obtém(êm) a propriedade plena e definitiva do imóvel ao concluir esses pagamentos, ocasião em que a CREDORA lhe entregará “termo de quitação”, bem como o termo de liberação de Regime Fiduciário, se for o caso, a ser apresentado ao Serviço de Registro de Imóveis para registro da propriedade em nome do(a/s) DEVEDOR(ES/AS); (b.3) a posse direta do imóvel alienado fiduciariamente permanece com o(s) DEVEDOR(ES/AS), desde que este(s) esteja(m) em dia com suas obrigações, estando o(s) DEVEDOR(ES/AS) sujeito(s) a perder(em) essa posse caso se torne(m) inadimplente(s), de acordo com o art. 27 da Lei 9.514/97; c) pelo contrato de alienação fiduciária, se o(s) DEVEDOR(ES/AS) deixar(em) de pagar a dívida, o imóvel será vendido em leilão público, devendo o financiador, depois de de duzidas as despesas, entregar ao(s) DEVEDOR(ES /AS) o saldo que for apurado, esclarecido que: (c.1) dívida é o saldo devedor do empréstimo, na data do leilão, acrescido dos juros convencionais, das penalidades e dos demais encargos contratuais; (c.2) despesas correspondem à soma dos valores dos encargos e custas de intimação e das quantias despendidas para a realização do leilão, nestas compreendidas, entre outras, as dos anúncios e a comissão do leiloeiro; (c.3) para fins de leilão o valor do imóvel é aquele que as partes estabelecem neste instrumento, observada sua revisão pelos critérios aqui estabelecidos, bem como a ressalva feita abaixo, no item “c.4”; (c.4) caso o valor do imóvel estabelecido pelas partes seja inferior ao utilizado pela Municipalidade como base de cálculo para a apuração do ITBI, exigível por força da consolidação da propriedade em nome da CREDORA, dito valor será o valor mínimo para efeito de venda do imóvel no primeiro leilão. 1.3. O(A/s) DEVEDOR(ES/AS) estão cientes de que a assinatura deste Contrato não assegura aos mesmos a imediata disponibilidade dos recursos objeto do mútuo que lhe(s) está sendo concedido, uma vez que a efetiva liberação dos recursos estará condicionada ao cumprimento das condições e prazos estabelecidos neste Contrato, em especial a completa e correta formalização da garantia real imobiliária. Os encargos contratuais, todavia, são devidos a partir da presente data, na medida em que já se acham devidamente compromissados os recursos objeto do mútuo, o que é uma condição do presente negócio, aceita neste ato, em caráter irrevogável e irretratável, pelas Partes. CAPÍTULO II DO EMPRÉSTIMO COM ALIENAÇÃO FIDUCIÁRIA DE IMÓVEL EM GARANTIA (MÚTUO) 2.1. O(A/s) DEVEDOR(ES/AS) obtiveram da CREDORA um empréstimo com alienação fiduciária de imóvel em garantia nos termos da Lei n.º 9.514/97, empréstimo esse que será CONTRATO DE EMPRÉSTIMO (MÚTUO) E PACTO ADJETO DE ALIENAÇÃO FIDUCIÁRIA EM GARANTIA COM EMISSÃO DE CÉDULA DE CRÉDITO IMOBILIÁRIO - CCI CONTRATO Nº 0001013447/AFD REFIN – SFI RUBRICA DAS PARTES Contrato de Empréstimo (Mútuo) com Alienação Fiduciária – Pessoa Física Página 9 de 36 pago pelo(s) DEVEDOR(ES/AS), com todos os seus encargos, nas condições adiante estipuladas e observadas aquelas constantes dos Campos que int egram o Quadro Resumo. 2.2. O(A/s) DEVEDOR(ES/AS), tendo recebido o empréstimo objeto do presente instrumento, se reconhece(m) e se confessa(m) DEVEDOR(ES/AS) da CREDORA da quantia concernente ao empréstimo, indicada no Quadro Resumo, e se obriga(m) a pagar essa quantia à CREDORA ou a quem este indicar, com os reajustes e os encargos convencionados, na sede da CREDORA ou onde este indicar, inclusive em agências de instituições às quais o crédito venha a ser cedido, em prestações que observarão a periodicidade, prazo, valores e demais condições especificadas no Quadro Resumo. 2.2.1. Figurando no Quadro Resumo dois ou mais DEVEDOR(ES/AS), todos esses declaram-se solidariamente responsáveis por todas as obrigações assumidas perante a CREDORA e decorrentes do presente instrumento, de modo a que o mesmo poderá exigi -las de todos em conjunto ou, à integralidade, de quaisquer deles, ou mesmo de um só, a seu exclusivo critério. Ademais, neste ato, mútua e reciprocamente se constituem eles procuradores uns dos outros, para fins de receber citações, intimações e interpelações de qualquer procedimento, judicial ou extrajudicial decorrente do presente contrato, de modo que, realizada a citação, intimação ou interpelação na pessoa de qualquer um deles, estará completo o quadro citatório. 2.3. O valor das prestações compreende a quantia destinada à reposição do capital financiado e ao pagamento dos juros remuneratórios, da Tarifa de Gestão, dos prêmios dos seguros e dos demais encargos contratuais e legais, tudo conforme indicado no Quadro Resumo. 2.4. Durante a vigência deste contrato e até a liquidação total do saldo devedor do empréstimo imobiliário, o(a/s) DEVEDOR(ES/AS) manterá(ão) seguro para riscos de morte e invalidez permanente e danos físicos no imóvel, sendo que o primeiro período anual está r epresentado por apólice mencionada no Anexo I ao presente contrato, que admitirá sucessivas renovações. Esta apólice contempla as coberturas e regras especificadas no Anexo I, as quais são, neste ato, aceitas por aquele(s) que figura(m) como DEVEDOR(ES/AS), que a elas aderem como se as mesmas estivessem inseridas no corpo deste contrato. Caso, em algum período, não seja possível a renovação da apólice mencionada no Anexo I, então, deverá ser contratado outro seguro, junto a seguradora de primeira linha, com cobertura no mínimo igual àquela até então vigente. Em caso de sinistro, a CREDORA receberá diretamente da companhia seguradora o valor da indenização, que será utilizado da seguinte forma: a) indenização de natureza pessoal: a quantia paga a título de indenização de natureza pessoal será destinada à amortização ou liquidação total do saldo devedor, devidamente atualizado e acrescido dos juros contratados, observada a proporção referida no cláusula\""
      ]
     },
     "execution_count": 46,
     "metadata": {},
     "output_type": "execute_result"
    }
   ],
   "source": [
    "text"
   ]
  },
  {
   "cell_type": "code",
   "execution_count": 47,
   "metadata": {},
   "outputs": [],
   "source": [
    "listaDePara = {'valorTotal':'VALOR DO EMPRÉSTIMO: R$','tabela': 'SISTEMA DE AMORTIZAÇÃO:','registro': 'DESPESAS DE REGISTRO: R$','Taxa ao Mes':'H.1. NOMINAL:','valorLiquido': '-J-K-L-M-N): R$',\n",
    "                'prazoMes': 'PRAZO DE AMORTIZAÇÃO:','valorPrimeiraParcelaComEncargos':'VALOR TOTAL DO PRIMEIRO ENCARGO, NESTA DATA: R$',\n",
    "                'valorImóvel':'Valor de avaliação do Imóvel para fins de leilão: R$','prazoContrato': 'N.º DE PRESTAÇÕES:','ultimaParcela':'DATA DO TÉRMINO DO PRAZO CONTRATUAL:','dataContrato': 'DATA DE DESEMBOLSO:',\n",
    "                'valorPrimeiraParcela':'VALOR DA PARCELA MENSAL (AMORTIZAÇÃO E JUROS), NESTA DATA: R$','primeiraParcela':'VENCIMENTO DA PRIMEIRA PRESTAÇÃO :','indice':'ÍNDICE: MENSAL do'\n",
    "                }\n",
    "\n",
    "#len(listaHE) # <--- Qtd de Itens na Lista\n",
    "listaKey = []\n",
    "listaValues = []\n",
    "\n",
    "for key, value in listaDePara.items():\n",
    "    inicioFrase = text.find(value,0)\n",
    "    finalFrase = inicioFrase + len(value) + 1\n",
    "    proximoEspaco = text.find(\" \", finalFrase)\n",
    "    valorExtraido = text[finalFrase:proximoEspaco]\n",
    "\n",
    "    #Ajustar Valores Númericos\n",
    "    if '.' in valorExtraido:\n",
    "        valorExtraido = valorExtraido.replace(\".\", \"\")\n",
    "        valorExtraido = valorExtraido.replace(\",\", \".\")\n",
    "    \n",
    "    #Ajustar Valores Percentuais\n",
    "    if '%' in valorExtraido:\n",
    "        valorExtraido = valorExtraido.replace(\",\", \".\")\n",
    "        valorExtraido = valorExtraido.replace(\"%\", \"\")\n",
    "        valorExtraido = round(float(valorExtraido)/100,4)\n",
    "    elif 'IPCA' or 'IGPM' in valorExtraido:\n",
    "        valorExtraido = valorExtraido.replace(\",\", \"\")\n",
    "    \n",
    "    listaKey.append(key)\n",
    "    listaValues.append(valorExtraido)"
   ]
  },
  {
   "cell_type": "code",
   "execution_count": 48,
   "metadata": {},
   "outputs": [],
   "source": [
    "# Extraindo numero da matricula\n",
    "inicioFrase = text.find('matrícula nº',0)\n",
    "finalFrase = inicioFrase + len('matrícula nº') + 1\n",
    "ultimaMatricula = text.find(\"do\", finalFrase)\n",
    "valorExtraido = text[finalFrase:ultimaMatricula]\n",
    "valorExtraido = valorExtraido.replace(\",\", \"\")\n",
    "if len(valorExtraido) > 9:\n",
    "    valorExtraido = 0\n",
    "    inicioFrase = text.find('nas matrículas nºs',0)\n",
    "    finalFrase = inicioFrase + len('nas matrículas nºs') + 1\n",
    "    ultimaMatricula = text.find(\"do\", finalFrase)\n",
    "    valorExtraido = text[finalFrase:ultimaMatricula]\n",
    "    valorExtraido = valorExtraido.replace(\",\", \"\")\n",
    "    valorExtraido = valorExtraido.replace(\"e \", \"\")\n",
    "\n",
    "listaKey.append('Matrícula')\n",
    "listaValues.append(valorExtraido)\n"
   ]
  },
  {
   "cell_type": "code",
   "execution_count": 49,
   "metadata": {},
   "outputs": [],
   "source": [
    "# Extraindo cartório\n",
    "inicioFrase = text.find(' do Livro N°',0)\n",
    "finalFrase = inicioFrase + len(' do Livro N°') + 1\n",
    "ultimaMatricula = text.find(\".\", finalFrase)\n",
    "valorExtraido = text[finalFrase:ultimaMatricula]\n",
    "\n",
    "listaKey.append('Cartório')\n",
    "listaValues.append(valorExtraido)"
   ]
  },
  {
   "cell_type": "code",
   "execution_count": 50,
   "metadata": {},
   "outputs": [
    {
     "name": "stdout",
     "output_type": "stream",
     "text": [
      "– COMPOSIÇÃO DA RENDA PARA FINS DE INDENIZAÇÃO NOME: AGOSTINHO FRANCISCO DE SOUZA PARTICIPAÇÃO: 100%\n"
     ]
    }
   ],
   "source": [
    "# Extraindo participantes da operação \n",
    "\n",
    "campo7 = 'CAMPO 7'                         #Definir Variáveis Auxiliares\n",
    "campo8 = 'CAMPO 8 – CLÁUSULA(S)'\n",
    "\n",
    "#Pegar posição das variáveis auxiliares no texto\n",
    "inicioTopico = text.find(campo7, 0)\n",
    "finalTopico = text.find(campo8, 0)\n",
    "\n",
    "#Criar Paragráfo Auxiliar\n",
    "paragrafoAux = text[inicioTopico+len(campo7)+1:finalTopico-1]\n",
    "paragrafoAux = re.sub('\\s+',' ', paragrafoAux)\n",
    "print(paragrafoAux)\n",
    "\n",
    "participantesKey = []\n",
    "participantesValues = []"
   ]
  },
  {
   "cell_type": "code",
   "execution_count": 51,
   "metadata": {},
   "outputs": [],
   "source": [
    "\n",
    "\n",
    "totalParticipantes = paragrafoAux.count('NOME: ')\n",
    "# Extraindo participantes\n",
    "fimValor = 0\n",
    "\n",
    "for num in range(0, totalParticipantes):\n",
    "    paragrafoAux = paragrafoAux[fimValor:]\n",
    "    inicioFrase = paragrafoAux.find('NOME: ',0)\n",
    "    finalFrase = inicioFrase + len('NOME: ') \n",
    "    ultimoNome = paragrafoAux.find(\"PARTICIPAÇÃO: \", finalFrase)\n",
    "    nomeExtraido = paragrafoAux[finalFrase:ultimoNome]\n",
    "    participantesKey.append(f'Participante{num+1}')\n",
    "    participantesKey.append(f'Participação{num+1}')\n",
    "    participantesValues.append(nomeExtraido)\n",
    "    inicioFrase = paragrafoAux.find('PARTICIPAÇÃO:',0)\n",
    "    finalFrase = inicioFrase + len('PARTICIPAÇÃO:') \n",
    "    fimValor = paragrafoAux.find(\"%\", finalFrase)\n",
    "    participacaoExtraido = paragrafoAux[finalFrase:fimValor+1]\n",
    "    participantesValues.append(participacaoExtraido)\n",
    "    dict_participantes = dict(zip(participantesKey,participantesValues))\n",
    "    dict_participantes"
   ]
  },
  {
   "cell_type": "code",
   "execution_count": 52,
   "metadata": {},
   "outputs": [
    {
     "name": "stdout",
     "output_type": "stream",
     "text": [
      "0001013447/AFD\n"
     ]
    }
   ],
   "source": [
    "# Extraindo CCI\n",
    "inicioFrase = text.find('NÚMERO: ',0)\n",
    "finalFrase = inicioFrase + len('NÚMERO: ')\n",
    "ultimaMatricula = text.find(\" \", finalFrase)\n",
    "valorExtraido = text[finalFrase:ultimaMatricula]\n",
    "valorExtraido\n",
    "listaKey.append('CCI')\n",
    "listaValues.append(valorExtraido)\n",
    "print(valorExtraido)"
   ]
  },
  {
   "cell_type": "code",
   "execution_count": 53,
   "metadata": {},
   "outputs": [],
   "source": [
    "# Extraindo titular\n",
    "# Definir Variáveis Auxiliares\n",
    "campo2 = 'CAMPO 2 -'\n",
    "campo3 = 'CAMPO 3 -'\n",
    "operacao = 'PF'\n",
    "# Pegar posição das variáveis auxiliares no texto\n",
    "inicioTopico = text.find(campo2, 0)\n",
    "finalTopico = text.find(campo3, 0)\n",
    "\n",
    "# Criar Paragráfo Auxiliar (Somente com os sub itens do tópico 4. Despesas)\n",
    "campoTitular= text[inicioTopico+len(campo2)+1:finalTopico-1]\n",
    "campoTitular = re.sub('\\s+',' ', campoTitular)\n",
    "if 'RAZÃO SOCIAL' in campoTitular:\n",
    "    operacao = 'PJ'\n",
    "    inicioFrase = campoTitular.find('RAZÃO SOCIAL: ',0)\n",
    "    finalFrase = inicioFrase + len('RAZÃO SOCIAL: ')\n",
    "    fimTitular = campoTitular.find(\"ENDEREÇO\", finalFrase)\n",
    "    valorExtraido = campoTitular[finalFrase:fimTitular]\n",
    "    valorExtraido\n",
    "    listaKey.append('Titular')\n",
    "    listaValues.append(valorExtraido)\n",
    "elif 'FIDUCIANTE NOME:':\n",
    "    operacao = 'PF'\n",
    "    inicioFrase = campoTitular.find('FIDUCIANTE NOME: ',0)\n",
    "    finalFrase = inicioFrase + len('FIDUCIANTE NOME: ')\n",
    "    fimTitular = campoTitular.find(\"CPF\", finalFrase)\n",
    "    valorExtraido = campoTitular[finalFrase:fimTitular]\n",
    "    valorExtraido\n",
    "    listaKey.append('Titular')\n",
    "    listaValues.append(valorExtraido)\n",
    "\n"
   ]
  },
  {
   "cell_type": "code",
   "execution_count": 54,
   "metadata": {},
   "outputs": [],
   "source": [
    "#Criar Dicionario das duas Listas\n",
    "dict_keyValue = dict(zip(listaKey,listaValues))\n",
    "dict_keyValue.update(dict_participantes)"
   ]
  },
  {
   "cell_type": "code",
   "execution_count": 55,
   "metadata": {},
   "outputs": [],
   "source": [
    "# Extraindo data do contrato\n",
    "\n",
    "\n",
    "text=''\n",
    "\n",
    "#Ler Página PDF\n",
    "pageObj = read_pdf.getPage(number_of_pages-2)\n",
    "#Extrair Texto\n",
    "text=text+pageObj.extractText()\n",
    "\n",
    "#Tratar Texto (Remover Quebra de Linhas e espaços duplos)\n",
    "text = re.sub('\\r', '', text) \n",
    "text = re.sub('\\n', '', text)\n",
    "text = re.sub(' {2,}', ' ', text).strip(' ')\n",
    "\n",
    "# Extraindo CCI\n",
    "inicioFrase = text.find('SÃO PAULO, ',0)\n",
    "finalFrase = inicioFrase + len('SÃO PAULO, ')\n",
    "ultimaMatricula = text.find(\".\", finalFrase)\n",
    "valorExtraido = text[finalFrase:ultimaMatricula]\n",
    "valorExtraido = valorExtraido.replace(' DE ','/').strip()\n",
    "if 'JANEIRO' in valorExtraido:\n",
    "    dict_keyValue['dataContrato'] = valorExtraido.replace('JANEIRO','01')\n",
    "elif 'FEVEREIRO' in valorExtraido:\n",
    "    dict_keyValue['dataContrato'] = valorExtraido.replace('FEVEREIRO','02')\n",
    "elif 'MARÇO' in valorExtraido:\n",
    "    dict_keyValue['dataContrato'] = valorExtraido.replace('MARÇO','03')\n",
    "elif 'ABRIL' in valorExtraido:\n",
    "    dict_keyValue['dataContrato'] = valorExtraido.replace('ABRIL','04')\n",
    "elif 'MAIO' in valorExtraido:\n",
    "    dict_keyValue['dataContrato'] = valorExtraido.replace('MAIO','05')\n",
    "elif 'JUNHO' in valorExtraido:\n",
    "    dict_keyValue['dataContrato'] = valorExtraido.replace('JUNHO','06')\n",
    "elif 'JULHO' in valorExtraido:\n",
    "    dict_keyValue['dataContrato'] = valorExtraido.replace('JULHO','07')\n",
    "elif 'AGOSTO' in valorExtraido:\n",
    "    dict_keyValue['dataContrato'] = valorExtraido.replace('AGOSTO','08')\n",
    "elif 'SETEMBRO' in valorExtraido:\n",
    "    dict_keyValue['dataContrato'] = valorExtraido.replace('SETEMBRO','09')\n",
    "elif 'OUTUBRO' in valorExtraido:\n",
    "    dict_keyValue['dataContrato'] = valorExtraido.replace('OUTUBRO','10')\n",
    "elif 'NOVEMBRO' in valorExtraido:\n",
    "    dict_keyValue['dataContrato'] = valorExtraido.replace('NOVEMBRO','11')\n",
    "elif 'DEZEMBRO' in valorExtraido:\n",
    "    dict_keyValue['dataContrato'] = valorExtraido.replace('DEZEMBRO','12')\n",
    "\n",
    "\n"
   ]
  },
  {
   "cell_type": "code",
   "execution_count": 56,
   "metadata": {},
   "outputs": [
    {
     "data": {
      "text/plain": [
       "{'valorTotal': '185236.16',\n",
       " 'tabela': 'SAC',\n",
       " 'registro': '3042.67',\n",
       " 'Taxa ao Mes': 0.1162,\n",
       " 'valorLiquido': '169200.00',\n",
       " 'prazoMes': '240',\n",
       " 'valorPrimeiraParcelaComEncargos': '2754.90',\n",
       " 'valorImóvel': '376000.00',\n",
       " 'prazoContrato': '234',\n",
       " 'ultimaParcela': '30/06/2042',\n",
       " 'dataContrato': '06/06/2022',\n",
       " 'valorPrimeiraParcela': '2662.09',\n",
       " 'primeiraParcela': '30/01/2023',\n",
       " 'indice': 'IPCA',\n",
       " 'Matrícula': '141.951 ',\n",
       " 'Cartório': '02 de Registro Geral do 3º Oficial de Registro de Imóveis da Comarca de São Paulo/SP',\n",
       " 'CCI': '0001013447/AFD',\n",
       " 'Titular': 'EVEDORES FIDUCIANTES NOME: AGOSTINHO FRANCISCO DE SOUZA ',\n",
       " 'Participante1': 'AGOSTINHO FRANCISCO DE SOUZA ',\n",
       " 'Participação1': ' 100%'}"
      ]
     },
     "execution_count": 56,
     "metadata": {},
     "output_type": "execute_result"
    }
   ],
   "source": [
    "dict_keyValue"
   ]
  },
  {
   "cell_type": "markdown",
   "metadata": {},
   "source": [
    "## Def de contagem de participantes"
   ]
  },
  {
   "cell_type": "code",
   "execution_count": 14,
   "metadata": {},
   "outputs": [
    {
     "data": {
      "text/plain": [
       "'– COMPOSIÇÃO DA RENDA PARA FINS DE INDENIZAÇÃO NOME: ALENCAR LUIZ OLIBONI PARTICIPAÇÃO: 33% NOME: LEONARDO COLODA OLIBONI PARTICIPAÇÃO: 33% NOME: MARINA COLODA OLIBONI PARTICIPAÇÃO: 33%'"
      ]
     },
     "execution_count": 14,
     "metadata": {},
     "output_type": "execute_result"
    }
   ],
   "source": [
    "#Faz a leitura usando a biblioteca\n",
    "pdf_file = open(path, 'rb')\n",
    "read_pdf = PyPDF2.PdfFileReader(pdf_file)\n",
    "\n",
    "# pega o numero de páginas\n",
    "number_of_pages = read_pdf.getNumPages()\n",
    "\n",
    "#Extriar Texto Página 1 a 5\n",
    "text=''\n",
    "for i in range(0,9):\n",
    "    #Ler Página PDF\n",
    "    pageObj = read_pdf.getPage(i)\n",
    "    #Extrair Texto\n",
    "    text=text+pageObj.extractText()\n",
    "\n",
    "#Tratar Texto (Remover Quebra de Linhas e espaços duplos)\n",
    "text = re.sub('\\r', '', text) \n",
    "text = re.sub('\\n', '', text)\n",
    "text = re.sub(' {2,}', ' ', text).strip(' ')\n",
    "\n",
    "# Extraindo participantes da operação \n",
    "campo7 = 'CAMPO 7'                         #inicio e fim da extração\n",
    "campo8 = 'CAMPO 8 – CLÁUSULA(S)'\n",
    "\n",
    "#Pegar posição das variáveis auxiliares no texto\n",
    "inicioTopico = text.find(campo7, 0)\n",
    "finalTopico = text.find(campo8, 0)\n",
    "\n",
    "#Criar Paragráfo Auxiliar\n",
    "paragrafoAux = text[inicioTopico+len(campo7)+1:finalTopico-1]\n",
    "paragrafoAux = re.sub('\\s+',' ', paragrafoAux)\n",
    "totalParticipantes = paragrafoAux.count('NOME: ')\n",
    "\n",
    "paragrafoAux"
   ]
  }
 ],
 "metadata": {
  "kernelspec": {
   "display_name": "Python 3.9.7 64-bit",
   "language": "python",
   "name": "python3"
  },
  "language_info": {
   "codemirror_mode": {
    "name": "ipython",
    "version": 3
   },
   "file_extension": ".py",
   "mimetype": "text/x-python",
   "name": "python",
   "nbconvert_exporter": "python",
   "pygments_lexer": "ipython3",
   "version": "3.9.7"
  },
  "orig_nbformat": 4,
  "vscode": {
   "interpreter": {
    "hash": "045832f79490e9a8a037a8f6e1a5c8ec877d805c4de0087de700d9a61e201314"
   }
  }
 },
 "nbformat": 4,
 "nbformat_minor": 2
}
