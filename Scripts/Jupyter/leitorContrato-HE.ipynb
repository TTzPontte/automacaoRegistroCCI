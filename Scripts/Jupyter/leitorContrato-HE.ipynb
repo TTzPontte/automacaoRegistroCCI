{
 "cells": [
  {
   "cell_type": "code",
   "execution_count": 167,
   "metadata": {},
   "outputs": [],
   "source": [
    "# importa as bibliotecas necessárias\n",
    "import PyPDF2\n",
    "import re\n",
    "import string"
   ]
  },
  {
   "cell_type": "code",
   "execution_count": 168,
   "metadata": {},
   "outputs": [],
   "source": [
    "# Abre o arquivo pdf \n",
    "path = r'C:\\Users\\MatheusPereira\\OneDrive - Pontte\\Área de Trabalho\\automacaoRegistroCCI\\Contratos\\HE_Contrato_Oliboni _Assinatura Digital_VFinal.pdf'\n",
    "pdf_file = open(path, 'rb')\n"
   ]
  },
  {
   "cell_type": "code",
   "execution_count": 169,
   "metadata": {},
   "outputs": [],
   "source": [
    "#Faz a leitura usando a biblioteca\n",
    "read_pdf = PyPDF2.PdfFileReader(pdf_file)\n",
    "\n",
    "# pega o numero de páginas\n",
    "number_of_pages = read_pdf.getNumPages()\n",
    "\n",
    "#Extriar Texto Página 1 a 5\n",
    "text=''\n",
    "for i in range(0,6):\n",
    "    #Ler Página PDF\n",
    "    pageObj = read_pdf.getPage(i)\n",
    "    #Extrair Texto\n",
    "    text=text+pageObj.extractText()\n",
    "\n",
    "#Tratar Texto (Remover Quebra de Linhas)\n",
    "text = re.sub('\\r', '', text) \n",
    "text = re.sub('\\n', '', text)"
   ]
  },
  {
   "cell_type": "code",
   "execution_count": 170,
   "metadata": {},
   "outputs": [
    {
     "data": {
      "text/plain": [
       "'CONTRATO DE EMPRÉSTIMO (MÚTUO) E PACTO ADJETO DE ALIENAÇÃO FIDUCIÁRIA EM GARANTIA  COM EMISSÃO DE CÉDULA DE CRÉDITO IMOBILIÁRIO  - CCI  CONTRATO Nº 0001114017/OPS REFIN – SFI  RUBRICA DAS PARTES  Contrato de Empréstimo (Mútuo) com Alienação Fiduciária – Pessoa Física Página 1 de 37   Pelo presente contrato, celebrado nos termos do artigo 38 da Lei 9.514/97, de acordo com a redação  que  lhe  deu  o  artigo  57  da  Lei  10.931/2004, as  partes  a  seguir  enunciadas  e qualificadas  formalizam  este  CONTRATO  DE EMPRÉSTIMO (MÚTUO)  E  PACTO ADJETO DE ALIENAÇÃO FIDUCIÁRIA EM GARANTIA  COM EMISSÃO DE CÉDULA DE CRÉDITO IMOBILIÁRIO - CCI, tendo por objeto o imóvel identificado no campo 5 a seguir, e consoante cláusulas e condições adiante estipuladas :  CAMPO 1 – CREDORA RAZÃO SOCIAL: QI SOCIEDADE DE CRÉDITO DIRETO S.A.    ENDEREÇO COMERCIAL: Avenida Brigadeiro Faria Lima, nº 2.391, 1º andar  COMPLEMENTO: Conjunto 12 BAIRRO: Jardim Paulistano CIDADE: São Paulo UF: SP   CEP: 01452-000  CNPJ: 32.402.502/0001-35  DATA DA CONSTITUIÇÃO: 10/01/2019 REGISTRO JUCESP: 35300530225   REPRESENTANTES: Roberto Amaral Dantas Junior, brasileiro, portador da cédula de identidade RG nº 50.016.943-3 SSP/SP e inscrito no CPF sob nº 400.516.238 -03, nos termos da Procuração Pública lavrada pelo 1º Tabelião de Notas de São Paulo/SP no livro 4831, página 341  Rogério de Almeida Domingues / CPF: 315.191.258 -36 Lucas de Jesus Clarim / CPF: 109.323.276-56 Marcelo Buosi Martins / CPF: 380.261.198-51   CAMPO 2 - DEVEDOR(ES/AS)  DEVEDORA FIDUCIANTE  RAZÃO SOCIAL: OLIBONI PARTICIPAÇÕES S/A   ENDEREÇO COMERCIAL: Avenida Rui Barbosa, nº 158 COMPLEMENTO: Loja Parte BAIRRO: São Francisco CIDADE: Niterói UF: RJ  CEP: 24.360-440  CNPJ: 08.949.251/0001-29  DATA DA CONSTITUIÇÃO: 02/07/2007 REGISTRO JUCERJA: 3330028275-1   REPRESENTANTES: CONTRATO DE EMPRÉSTIMO (MÚTUO) E PACTO ADJETO DE ALIENAÇÃO FIDUCIÁRIA EM GARANTIA  COM EMISSÃO DE CÉDULA DE CRÉDITO IMOBILIÁRIO  - CCI  CONTRATO Nº 0001114017/OPS REFIN – SFI  RUBRICA DAS PARTES  Contrato de Empréstimo (Mútuo) com Alienação Fiduciária – Pessoa Física Página 2 de 37   Alencar Luiz Oliboni/CPF: 337.550.780 -15 Marina Coloda Oliboni / CPF: 124.246.777-78 Leonardo Coloda Oliboni / CPF: 128.225.257-73  DEVEDORES SOLIDÁRIOS  NOME: ALENCAR LUIZ OLIBONI CPF: 337.550.780-15                      DATA DE NASCIMENTO: 18/06/1961 FILIAÇÃO: MOSE OLIBONI e IDALINA SCORTEGAGNA  IDENTIDADE (tipo/número): RG: 5013209563         ÓRGÃO EMISSOR: SSP/RS NACIONALIDADE: BRASILEIRA  PROFISSÃO: EMPRESÁRIA ESTADO CIVIL: CASADO com a Cônjuge Anuente desde 09 de janeiro de 1985  REGIME DE CASAMENTO (SE FOR CASADO): COMUNHÃO UNIVERSAL DE BENS, conforme registro nº 2.580, livro nº 03 do Oficial de  Registro de Imóveis da Comarca de Flores da Cunha (RS)  ENDEREÇO RESIDENCIAL E DOMICILIAR:  AVENIDA RUI BARBOSA, 12 COMPLEMENTO: APTO 501 BAIRRO: SÃO FRANCISCO CIDADE: NITERÓI     UF: RJ CEP: 24360-440  TELEFONE(S): (21) 99983 2620 EMAIL: alencaroliboni@terra.com.br  NOME: LEONARDO COLODA OLIBONI CPF: 128.225.257-73                                                       DATA DE NASCIMENTO: 05/03/1990 FILIAÇÃO: ALENCAR LUIZ OLIBONI e MARISTELA DE FÁTIMA COLODA OLIBONI  IDENTIDADE (tipo/número): RG: 12.608.269-2         ÓRGÃO EMISSOR: DETRAN/RJ NACIONALIDADE: BRASILEIRA PROFISSÃO: ADMINISTRADOR ESTADO CIVIL: CASADO, desde 01 de junho de 2019, com Elisa Oberlaender Garcia de Freitas,  brasileira,  nascida  no  dia  30/07/1989,  administradora,  portadora  da  carteira  de identidade nº 24.296.372-6 (DETRAN/RJ), inscrita no CPF/ME sob nº 128.769.537 -06 REGIME DE CASAMENTO (SE FOR CASADO):  SEPARAÇÃO TOTAL DE BENS,  conforme Escritura de Convenção Antenupcial, lavrado no livro nº 555, fls. 128/128v do 4º Ofício de Notas da Comarca de Niterói (RJ)  ENDEREÇO RESIDENCIAL E DOMICILIAR:  RUA EURICO MANUEL DO CARMO, 02  COMPLEMENTO: BL. 2, AP 304 BAIRRO: CHARITAS CIDADE: NITERÓI     UF: RJ CEP: 24370090  CONTRATO DE EMPRÉSTIMO (MÚTUO) E PACTO ADJETO DE ALIENAÇÃO FIDUCIÁRIA EM GARANTIA  COM EMISSÃO DE CÉDULA DE CRÉDITO IMOBILIÁRIO  - CCI  CONTRATO Nº 0001114017/OPS REFIN – SFI  RUBRICA DAS PARTES  Contrato de Empréstimo (Mútuo) com Alienação Fiduciária – Pessoa Física Página 3 de 37   TELEFONE(S): (21) 99983 2620 EMAIL: alencaroliboni@terra.com.br   NOME: MARINA COLODA OLIBONI CPF: 124.246.777-78                                                       DATA DE NASCIMENTO: 08/12/1988 FILIAÇÃO: ALENCAR LUIZ OLIBONI e MARISTELA DE FÁTIMA COLODA OLIBONI  IDENTIDADE (tipo/número): RG: 126082684                   ÓRGÃO EMISSOR: DETRAN/RJ NACIONALIDADE: BRASILEIRA PROFISSÃO: UNIVERSITÁRIA ESTADO CIVIL: SOLTEIRA REGIME DE CASAMENTO (SE FOR CASADO):  N/A  ENDEREÇO RESIDENCIAL E DOMICILIAR:  RUA AMORA, 501 COMPLEMENTO: CASA G17 BAIRRO: PIRATININGA CIDADE: NITERÓI     UF: RJ CEP: 24350-590  TELEFONE(S): (21) 99983 2620 EMAIL: alencaroliboni@terra.com.br  CÔNJUGE ANUENTE  NOME: MARISTELA DE FÁTIMA COLODA OLIBONI  CPF: 421.088.370-00                                                       DATA DE NASCIMENTO: 28/04/1962 FILIAÇÃO: PLINIO COLODA e MARIA TEREZINHA SCOPEL COLODA  IDENTIDADE (tipo/número): RG: 6027211355  ÓRGÃO EMISSOR: SSP/RS NACIONALIDADE: BRASILEIRA PROFISSÃO: EMPRESÁRIA ESTADO CIVIL: CASADA com o Devedor Solidário Alencar Luiz Oliboni desde 09 de janeiro de 1985 REGIME DE CASAMENTO (SE FOR CASADO): COMUNHÃO UNIVERSAL DE BENS, conforme registro nº 2.580, livro nº 03 do Oficial de Registro de Imóveis da Comarca de Flores da Cunha (RS)  ENDEREÇO RESIDENCIAL E DOMICILIAR:  AVENIDA RUI BARBOSA, 12 COMPLEMENTO: APTO 501 BAIRRO: SÃO FRANCISCO CIDADE: NITERÓI     UF: RJ CEP: 24360-440  TELEFONE(S): (21) 99983 2620 EMAIL: alencaroliboni@terra.com.br   CONTRATO DE EMPRÉSTIMO (MÚTUO) E PACTO ADJETO DE ALIENAÇÃO FIDUCIÁRIA EM GARANTIA  COM EMISSÃO DE CÉDULA DE CRÉDITO IMOBILIÁRIO  - CCI  CONTRATO Nº 0001114017/OPS REFIN – SFI  RUBRICA DAS PARTES  Contrato de Empréstimo (Mútuo) com Alienação Fiduciária – Pessoa Física Página 4 de 37   CAMPO 3 - COMPOSIÇÃO DE VALORES E PRINCIPAIS CONDIÇÕES DO EMPRÉSTIMO A. VALOR DO EMPRÉSTIMO: R$ 3.201.801,53 B. DATA DE DESEMBOLSO: 28/06/2022  C. PRAZO DE AMORTIZAÇÃO: 228 D. N.º DE PRESTAÇÕES: 225 E. DATA DO TÉRMINO DO PRAZO CONTRATUAL:  15/06/2041 F. PERIODICIDADE DE VENCIMENTO : mensal G. VENCIMENTO DA PRIMEIRA PRESTAÇÃO : 15/10/2022  H. TAXA DE JUROS (%)  H.1. NOMINAL: 12,6825% H.2. EFETIVA: 13,4740% I. SISTEMA DE AMORTIZAÇÃO: SAC J. TARIFA DE ANÁLISE DE GARANTIAS: R$ 50.870,95 K. TARIFA DE ABERTURA DE CADASTRO: R$ 100.000,00 L. TARIFA DE AVALIAÇÃO DO IMÓVEL:  R$ 0,00 M. IOF: R$ 59.376,43 N. DESPESAS DE REGISTRO: R$ 10.554,15 O. VALOR LÍQUIDO DO EMPRÉSTIMO (A-J-K-L-M-N): R$ 2.981.000,00 P. SALDO DEVEDOR DO IMÓVEL: R$ 0,00 Q. VALOR DISPONÍVEL AO CLIENTE, NESTA DATA (O-P): R$ 2.981.000,00 R. VALOR  DA  PARCELA  MENSAL  (AMORTIZAÇÃO  E  JUROS),  NESTA  DATA: R$ 47.494,30 S. DEMAIS VALORES QUE COMPÕEM O ENCARGO MENSAL S.1.VALOR DOS PREMIOS DE SEGURO    S.1.1. DE MORTE E INVALIDEZ PERMANENTE:  R$ 690,49  S.1.2. DE DANOS FÍSICOS AO IMÓVEL: R$ 433,16 S.2. TARIFA DE GESTÃO: R$ 25,00 T. VALOR TOTAL DO PRIMEIRO ENCARGO, NESTA DATA:  R$ 48.642,95  U. CUSTO EFETIVO TOTAL (CET): 14,7269%  O Valor Disponível ao Cliente (Q), deduzido das demais dívidas informadas no CAMPO 8, caso aplicável  e não  tenham  sido pagas pelo(a/s)  DEVEDOR(ES/AS) até esta data, conforme especificado neste Campo, será liberado ao(a/s) DEVEDOR(ES/AS), mediante débito da conta de pagamento de titularidade do DEVEDOR(ES /AS) mantida junto ao CREDOR, abaixo especificada (“Conta da Operação”), no último dos seguintes prazos: i) em 20 (vinte) dias úteis a contar desta data, desde que tenha(m) sido entregue a via original  à CREDORA, antes deste prazo, da matr ícula do imóvel e do presente instrumento com os registros do empréstimo e da alienação fiduciária através dele contratadas; ou  ii) em até 10 (dez) dias úteis, contados a partir da entrega  à CREDORA, CONTRATO DE EMPRÉSTIMO (MÚTUO) E PACTO ADJETO DE ALIENAÇÃO FIDUCIÁRIA EM GARANTIA  COM EMISSÃO DE CÉDULA DE CRÉDITO IMOBILIÁRIO  - CCI  CONTRATO Nº 0001114017/OPS REFIN – SFI  RUBRICA DAS PARTES  Contrato de Empréstimo (Mútuo) com Alienação Fiduciária – Pessoa Física Página 5 de 37   da(s) via(s) original(is)  da(s) matricula(s) do(s) imóvel(is) e do presente instrumento,  com  os registros do empréstimo e da alienação fiduciária através dele contratadas.  TITULAR: OLIBONI PARTICIPAÇÕES S/A BANCO: QI SOCIEDADE DE CRÉDITO DIRETO S.A. (329)  C/C: 89535-8 AGÊNCIA:0001  O(A/S) DEVEDOR(ES/AS) autoriza(m) expressamente,  de  modo  irretratável  e  irrevogável,  o CREDOR, quando das respectivas Datas de Vencimento, a debitar a Conta da Operação todo e qualquer valor disponível até o limite dos valores cujo pagamento ou reembolso for devido no âmbito ou por efeito do presente CONTRATO. Sobre o valor ou a parcela do valor a debitar para o qual não houver fundos disponíveis na Conta da Operação, incidirão, desde a respectiva Data de Vencimento, os encargos moratórios, conforme previstos neste CONTRATO.   CAMPO 4 - ÍNDICE DO CONTRATO ÍNDICE: MENSAL do IPCA, tomando-se por base a variação do índice do segundo mês anterior ao da assinatura deste contrato, inclusive, e o índice relativo ao segundo mês anterior ao do efetivo pagamento de cada encargo.   VISTO DO(S) DEVEDOR(ES): ____________________________________   CAMPO 5 - IMÓVEL (IS) Imóvel: descrito no Anexo IV do presente instrumento  Origem: O referido imóvel foi havido pelos devedores por força do registro R. 06, na matrícula nº 24515, do Livro N° 02 de Registro Geral do 9º Oficial de Registro de Imóveis da Comarca de Niterói/RJ.    CAMPO 6 – VALOR DE AVALIAÇÃO PARA FINS DE LEILÃO PÚBLICO   Valor de avaliação do Imóvel para fins de leilão:  R$ 6.188.000,00.  Para efeitos de cálculo dos emolumentos de Tabelião e de Registro, poderá ser considerado, para o Imóvel, o valor de avaliação acima.    CONTRATO DE EMPRÉSTIMO (MÚTUO) E PACTO ADJETO DE ALIENAÇÃO FIDUCIÁRIA EM GARANTIA  COM EMISSÃO DE CÉDULA DE CRÉDITO IMOBILIÁRIO  - CCI  CONTRATO Nº 0001114017/OPS REFIN – SFI  RUBRICA DAS PARTES  Contrato de Empréstimo (Mútuo) com Alienação Fiduciária – Pessoa Física Página 6 de 37   CAMPO 7 – COMPOSIÇÃO DA RENDA PARA FINS DE INDENIZAÇÃO   NOME: ALENCAR LUIZ OLIBONI  PARTICIPAÇÃO: 33% NOME: LEONARDO COLODA OLIBONI  PARTICIPAÇÃO: 33% NOME: MARINA COLODA OLIBONI  PARTICIPAÇÃO: 33%   CAMPO 8 – CLÁUSULA(S) ADICIONAL(AIS) 1.  As  Cláusulas  Especiais,  contidas  nos  campos  do  Quadro  Resumo  deste instrumento, são adicionais e complementares, as gerais, adiante dispostas, sendo que, naqueles pontos em que houver conflito, estas, especiais, prevalecer ão em relação aquelas, gerais.  2. O(A/S)  DEVEDOR(ES/AS)  DECLARA(M),  no  âmbito  deste  instrumento  particular  e  da emissão desta Cédula de Crédito Imobiliário (CCI) estar(em) ciente(s) e concordar(em) com a cobrança da tarifa de avaliação de garantia imobiliária (TAG), instituída pela Resolução nº 4676/18 do  Conselho  Monetário  Nacional (CMN),  conforme  alterada  pela  Resolução  nº  4925/21 do Conselho Monetário Nacional, tendo em vista que a obrigação assumida perante a CREDORA é lastreada por garantia imobiliária na hipótese de inadimplemento e recuperação do crédito ora concedido.      2.1. Para todos fins e efeitos a TAG compreende os cus tos relativos a (i) emissão de laudo técnico avaliativo do Imóvel; (ii) análise jurídica para mensuração de riscos que eventualmente repercutam sob a garantia imobiliária; (iii) emissão de certidões forenses e fiscais fundamentadoras da análise jurídica e (iv) pagamento de colaboradores e sistemas diretamente envolvidos na análise técnica e jurídica da garantia imobiliária.     2.2. Em observância à Resolução nº 4925/21 do CMN, os custos envolvidos que envolvem a TAG são discriminados na forma que segue:     3. Foram apresentadas e encontram-se arquivadas junto a CREDORA as Certidões Negativas de Débitos Trabalhistas em nome dos(as) DEVEDOR(ES/AS).  4. O(A/S) DEVEDOR(ES/AS) DECLARA(M)  ter plena ciência que, no prazo de até 3 (três) dias úteis, após o registro regular do contrato, a QI SOCIEDADE DE CRÉDITO DIRETO S.A., ora Credora, liberará, o valor do empréstimo, com o que, desde já, concorda(m)  '"
      ]
     },
     "execution_count": 170,
     "metadata": {},
     "output_type": "execute_result"
    }
   ],
   "source": [
    "text"
   ]
  },
  {
   "cell_type": "code",
   "execution_count": 171,
   "metadata": {},
   "outputs": [],
   "source": [
    "listaDePara = {'valorTotal':'VALOR DO EMPRÉSTIMO: R$','tabela': 'SISTEMA DE AMORTIZAÇÃO:','registro': 'DESPESAS DE REGISTRO: R$','Taxa ao Mes':'H.1. NOMINAL:','valorLiquido': '-J-K-L-M-N): R$',\n",
    "                'prazoMes': 'PRAZO DE AMORTIZAÇÃO:','valorPrimeiraParcelaComEncargos':'VALOR TOTAL DO PRIMEIRO ENCARGO, NESTA DATA:  R$',\n",
    "                'valorImóvel':'Valor de avaliação do Imóvel para fins de leilão:  R$','prazoContrato': 'N.º DE PRESTAÇÕES:','ultimaParcela':'DATA DO TÉRMINO DO PRAZO CONTRATUAL: ','dataContrato': 'DATA DE DESEMBOLSO:',\n",
    "                'valorPrimeiraParcela':'VALOR DA PARCELA MENSAL (AMORTIZAÇÃO E JUROS), NESTA DATA:  R$','primeiraParcela':'VENCIMENTO DA PRIMEIRA PRESTAÇÃO :','indice':'ÍNDICE: MENSAL do'\n",
    "                }\n",
    "\n",
    "#len(listaHE) # <--- Qtd de Itens na Lista\n",
    "listaKey = []\n",
    "listaValues = []\n",
    "\n",
    "for key, value in listaDePara.items():\n",
    "    inicioFrase = text.find(value,0)\n",
    "    finalFrase = inicioFrase + len(value) + 1\n",
    "    proximoEspaco = text.find(\" \", finalFrase)\n",
    "    valorExtraido = text[finalFrase:proximoEspaco]\n",
    "\n",
    "    #Ajustar Valores Númericos\n",
    "    if '.' in valorExtraido:\n",
    "        valorExtraido = valorExtraido.replace(\".\", \"\")\n",
    "        valorExtraido = valorExtraido.replace(\",\", \".\")\n",
    "    \n",
    "    #Ajustar Valores Percentuais\n",
    "    if '%' in valorExtraido:\n",
    "        valorExtraido = valorExtraido.replace(\",\", \".\")\n",
    "        valorExtraido = valorExtraido.replace(\"%\", \"\")\n",
    "        valorExtraido = round(float(valorExtraido)/100,4)\n",
    "    elif 'IPCA' or 'IGPM' in valorExtraido:\n",
    "        valorExtraido = valorExtraido.replace(\",\", \"\")\n",
    "    \n",
    "    listaKey.append(key)\n",
    "    listaValues.append(valorExtraido)"
   ]
  },
  {
   "cell_type": "code",
   "execution_count": 172,
   "metadata": {},
   "outputs": [],
   "source": [
    "# Extraindo numero da matricula\n",
    "inicioFrase = text.find('matrícula nº',0)\n",
    "finalFrase = inicioFrase + len('matrícula nº') + 1\n",
    "ultimaMatricula = text.find(\"do\", finalFrase)\n",
    "valorExtraido = text[finalFrase:ultimaMatricula]\n",
    "valorExtraido = valorExtraido.replace(\",\", \"\")\n",
    "if len(valorExtraido) > 9:\n",
    "    valorExtraido = 0\n",
    "    inicioFrase = text.find('nas matrículas nºs',0)\n",
    "    finalFrase = inicioFrase + len('nas matrículas nºs') + 1\n",
    "    ultimaMatricula = text.find(\"do\", finalFrase)\n",
    "    valorExtraido = text[finalFrase:ultimaMatricula]\n",
    "    valorExtraido = valorExtraido.replace(\",\", \"\")\n",
    "    valorExtraido = valorExtraido.replace(\"e \", \"\")\n",
    "\n",
    "listaKey.append('Matrícula')\n",
    "listaValues.append(valorExtraido)\n"
   ]
  },
  {
   "cell_type": "code",
   "execution_count": 173,
   "metadata": {},
   "outputs": [],
   "source": [
    "# Extraindo cartório\n",
    "inicioFrase = text.find(' do Livro N°',0)\n",
    "finalFrase = inicioFrase + len(' do Livro N°') + 1\n",
    "ultimaMatricula = text.find(\".\", finalFrase)\n",
    "valorExtraido = text[finalFrase:ultimaMatricula]\n",
    "\n",
    "listaKey.append('Cartório')\n",
    "listaValues.append(valorExtraido)"
   ]
  },
  {
   "cell_type": "code",
   "execution_count": 174,
   "metadata": {},
   "outputs": [
    {
     "name": "stdout",
     "output_type": "stream",
     "text": [
      "– COMPOSIÇÃO DA RENDA PARA FINS DE INDENIZAÇÃO NOME: ALENCAR LUIZ OLIBONI PARTICIPAÇÃO: 33% NOME: LEONARDO COLODA OLIBONI PARTICIPAÇÃO: 33% NOME: MARINA COLODA OLIBONI PARTICIPAÇÃO: 33% \n"
     ]
    }
   ],
   "source": [
    "# Extraindo participantes da operação \n",
    "\n",
    "campo7 = 'CAMPO 7'                         #Definir Variáveis Auxiliares\n",
    "campo8 = 'CAMPO 8 – CLÁUSULA(S)'\n",
    "\n",
    "#Pegar posição das variáveis auxiliares no texto\n",
    "inicioTopico = text.find(campo7, 0)\n",
    "finalTopico = text.find(campo8, 0)\n",
    "\n",
    "#Criar Paragráfo Auxiliar\n",
    "paragrafoAux = text[inicioTopico+len(campo7)+1:finalTopico-1]\n",
    "paragrafoAux = re.sub('\\s+',' ', paragrafoAux)\n",
    "print(paragrafoAux)\n",
    "\n",
    "participantesKey = []\n",
    "participantesValues = []"
   ]
  },
  {
   "cell_type": "code",
   "execution_count": 175,
   "metadata": {},
   "outputs": [],
   "source": [
    "\n",
    "\n",
    "totalParticipantes = paragrafoAux.count('NOME: ')\n",
    "# Extraindo participantes\n",
    "fimValor = 0\n",
    "\n",
    "for num in range(0, totalParticipantes):\n",
    "    paragrafoAux = paragrafoAux[fimValor:]\n",
    "    inicioFrase = paragrafoAux.find('NOME: ',0)\n",
    "    finalFrase = inicioFrase + len('NOME: ') \n",
    "    ultimoNome = paragrafoAux.find(\"PARTICIPAÇÃO: \", finalFrase)\n",
    "    nomeExtraido = paragrafoAux[finalFrase:ultimoNome]\n",
    "    participantesKey.append(f'Participante{num+1}')\n",
    "    participantesKey.append(f'Participação{num+1}')\n",
    "    participantesValues.append(nomeExtraido)\n",
    "    inicioFrase = paragrafoAux.find('PARTICIPAÇÃO:',0)\n",
    "    finalFrase = inicioFrase + len('PARTICIPAÇÃO:') \n",
    "    fimValor = paragrafoAux.find(\"%\", finalFrase)\n",
    "    participacaoExtraido = paragrafoAux[finalFrase:fimValor+1]\n",
    "    participantesValues.append(participacaoExtraido)\n",
    "    dict_participantes = dict(zip(participantesKey,participantesValues))\n",
    "    dict_participantes"
   ]
  },
  {
   "cell_type": "code",
   "execution_count": 176,
   "metadata": {},
   "outputs": [
    {
     "data": {
      "text/plain": [
       "{'valorTotal': '3201801.53',\n",
       " 'tabela': 'SAC',\n",
       " 'registro': '10554.15',\n",
       " 'Taxa ao Mes': 0.1268,\n",
       " 'valorLiquido': '2981000.00',\n",
       " 'prazoMes': '228',\n",
       " 'valorPrimeiraParcelaComEncargos': '48642.95',\n",
       " 'valorImóvel': '6188000.00',\n",
       " 'prazoContrato': '225',\n",
       " 'ultimaParcela': '15/06/2041',\n",
       " 'dataContrato': '28/06/2022',\n",
       " 'valorPrimeiraParcela': 'UCIÁRIA',\n",
       " 'primeiraParcela': '15/10/2022',\n",
       " 'indice': 'IPCA',\n",
       " 'Matrícula': '24515 ',\n",
       " 'Cartório': '02 de Registro Geral do 9º Oficial de Registro de Imóveis da Comarca de Niterói/RJ',\n",
       " 'Participante1': 'ALENCAR LUIZ OLIBONI ',\n",
       " 'Participação1': ' 33%',\n",
       " 'Participante2': 'LEONARDO COLODA OLIBONI ',\n",
       " 'Participação2': ' 33%',\n",
       " 'Participante3': 'MARINA COLODA OLIBONI ',\n",
       " 'Participação3': ' 33%'}"
      ]
     },
     "execution_count": 176,
     "metadata": {},
     "output_type": "execute_result"
    }
   ],
   "source": [
    "#Criar Dicionario das duas Listas\n",
    "dict_keyValue = dict(zip(listaKey,listaValues))\n",
    "dict_keyValue.update(dict_participantes)\n",
    "dict_keyValue"
   ]
  },
  {
   "cell_type": "code",
   "execution_count": null,
   "metadata": {},
   "outputs": [],
   "source": []
  }
 ],
 "metadata": {
  "kernelspec": {
   "display_name": "Python 3.9.7 64-bit",
   "language": "python",
   "name": "python3"
  },
  "language_info": {
   "codemirror_mode": {
    "name": "ipython",
    "version": 3
   },
   "file_extension": ".py",
   "mimetype": "text/x-python",
   "name": "python",
   "nbconvert_exporter": "python",
   "pygments_lexer": "ipython3",
   "version": "3.9.7"
  },
  "orig_nbformat": 4,
  "vscode": {
   "interpreter": {
    "hash": "045832f79490e9a8a037a8f6e1a5c8ec877d805c4de0087de700d9a61e201314"
   }
  }
 },
 "nbformat": 4,
 "nbformat_minor": 2
}
