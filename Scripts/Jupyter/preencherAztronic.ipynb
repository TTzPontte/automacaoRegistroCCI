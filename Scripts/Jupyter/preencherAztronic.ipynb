{
 "cells": [
  {
   "cell_type": "code",
   "execution_count": 1,
   "metadata": {},
   "outputs": [],
   "source": [
    "# Bibliotecas\n",
    "from selenium.webdriver.support.ui import Select\n",
    "from selenium import webdriver\n",
    "from time import sleep\n",
    "import sys\n",
    "from selenium.webdriver.common.keys import Keys\n",
    "sys.path.insert(0, 'C:\\\\Users\\\\MatheusPereira\\\\OneDrive - Pontte\\\\Área de Trabalho\\\\automacaoRegistroCCI\\\\Scripts')\n",
    "from lerContrato import lerContrato\n"
   ]
  },
  {
   "cell_type": "code",
   "execution_count": 2,
   "metadata": {},
   "outputs": [],
   "source": [
    "anexoCalculoFluxo = r'C:\\Users\\MatheusPereira\\OneDrive - Pontte\\Área de Trabalho\\automacaoRegistroCCI\\CalculoDeFluxo\\Cálculo_Fluxo_Conrado.xlsx'\n",
    "contratoPath = r'C:\\Users\\MatheusPereira\\OneDrive - Pontte\\Área de Trabalho\\automacaoRegistroCCI\\Contratos\\HE_Contrato_Conrado_Assinatura Digital_VFinal - Conrado.pdf'"
   ]
  },
  {
   "cell_type": "code",
   "execution_count": 3,
   "metadata": {},
   "outputs": [],
   "source": [
    "#ChromeDriver\n",
    "driver = webdriver.Chrome(executable_path=r'G:\\Drives compartilhados\\Pontte\\Operações\\Automações\\Scripts\\Pontte\\Driver\\chromedriver.exe')\n",
    "\n",
    "#Acessar API Aztronic\n",
    "driver.get('http://aztronic.s3-website-us-east-1.amazonaws.com/')\n",
    "sleep(3)"
   ]
  },
  {
   "cell_type": "code",
   "execution_count": 4,
   "metadata": {},
   "outputs": [],
   "source": [
    "# Upload do Calculo de fluxo \n",
    "\n",
    "anexarCalculoFluxo = driver.find_element_by_xpath('//*[@id=\"main\"]/div/section[1]/div/div/form/fieldset[1]/div[1]/label/input')\n",
    "anexarCalculoFluxo.send_keys(anexoCalculoFluxo)\n",
    "sleep(2)"
   ]
  },
  {
   "cell_type": "code",
   "execution_count": 5,
   "metadata": {},
   "outputs": [
    {
     "data": {
      "text/plain": [
       "{'valorTotal': '325649.38',\n",
       " 'tabela': 'PRICE',\n",
       " 'registro': '(MÚTUO)',\n",
       " 'Taxa ao Mes': 0.1201,\n",
       " 'valorLiquido': 'RÉSTIMO',\n",
       " 'prazoMes': '',\n",
       " 'valorPrimeiraParcelaComEncargos': 'E',\n",
       " 'valorImóvel': 'ENAÇÃO',\n",
       " 'prazoContrato': '59',\n",
       " 'ultimaParcela': '0/07/2027',\n",
       " 'dataContrato': '08/07/2022',\n",
       " 'valorPrimeiraParcela': '7311.89',\n",
       " 'primeiraParcela': '10/09/2022',\n",
       " 'indice': 'IPCA',\n",
       " 'Matrícula': 'TIMO  (MÚTUO) E PACTO ADJETO DE ALIENAÇÃO FIDUCIÁRIA EM GARANTIA   COM EMISSÃO DE CÉDULA DE CRÉDITO IMOBILIÁRIO - CCI   CONTRATO Nº 0001149323/CFD  REFIN – SFI   RUBRICA DAS PARTES   Contrato dEmpréstimo ( Mútuo ) com Alienação Fiduciária – Pessoa Física  Página 1 d35   Pelo presentcontrato celebra',\n",
       " 'Cartório': ' 02 de Registro Geral do 5º Oficial de Registro de Imóveis da Comarca de Curitiba/PR ',\n",
       " 'CCI': '',\n",
       " 'Titular do Contrato': 'IMO  (MÚTUO) E PACTO ADJETO DE ALIENAÇÃO FIDUCIÁRIA EM GARANTIA   COM EMISSÃO DE CÉDULA DE CRÉDITO IMOBILIÁRIO - CCI   CONTRATO Nº 0001149323/CFD  REFIN – SFI   RUBRICA DAS PARTES   Contrato de Empréstimo ( Mútuo ) com Alienação Fiduciária – Pessoa Física  Página 1 de 35   Pelo presente contrato, celebrado nos termos do artigo 38 da Lei 9.514/97, de acordo com a redação que lhe deu o artigo 57 da Lei 10.931/200 4, as partes a seguir enunciadas e qualificadas formalizam este CONTRATO DE EMPRÉSTIMO  (MÚTUO) E PACTO ADJETO DE ALIENAÇÃO FIDUCIÁRIA EM GARANTIA  COM EMISSÃO DE CÉDULA DE CRÉDITO IMOBILIÁRIO - CCI , tendo por objet o o imóvel identificado no campo 5 a seguir , e consoante cláusulas e condições adiante estipuladas :  CAMPO 1 – CREDORA  RAZÃO SOCIAL: QI SOCIEDADE DE CRÉDITO DIRETO S.A.   ENDEREÇO COMERCIAL: Avenida Brigadeiro Faria Lima, nº 2.391, 1º andar  COMPLEMENTO:  Conjunto 12  BAIRRO: Jardim Paulistano  CIDADE:  São Paulo  UF:  SP   CEP: 01452 -000   CNPJ: 32.402.502/0001 -35  DATA DA CONSTITUIÇÃO:  10/01/2019  REGISTRO JUCESP : 35300530225    REPRESENTANTES:  Roberto Amaral Dantas Junior, brasileiro, portador da cédula de identidade RG nº 50.016.943 -3 SSP/SP e insc rito no CPF sob nº 400.516.238 -03, nos termos da Procuração Pública lavrada pelo 1º Tabelião de Notas de São Paulo/SP no livro 4831, página 341  Rogério de Almeida Domingues /'}"
      ]
     },
     "execution_count": 5,
     "metadata": {},
     "output_type": "execute_result"
    }
   ],
   "source": [
    "# Extraido informações com o leitor de contratos\n",
    "\n",
    "contrato = lerContrato(contratoPath)\n",
    "contrato"
   ]
  },
  {
   "cell_type": "code",
   "execution_count": 6,
   "metadata": {},
   "outputs": [],
   "source": [
    "matricula = contrato['Matrícula']\n",
    "matricula = matricula.replace('.',\"\")"
   ]
  },
  {
   "cell_type": "code",
   "execution_count": 7,
   "metadata": {},
   "outputs": [],
   "source": [
    "# Pegando Xpath para preencher API\n",
    "\n",
    "dataContrato = driver.find_element_by_xpath('//*[@id=\"data_contrato\"]')\n",
    "codigoIntegracao = driver.find_element_by_xpath('//*[@id=\"codigo_integracao\"]')\n",
    "ruaGaranti = driver.find_element_by_xpath('//*[@id=\"rua\"]')\n",
    "numeroGarantia = driver.find_element_by_xpath('//*[@id=\"numero\"]')\n",
    "complementoGarantia = driver.find_element_by_xpath('//*[@id=\"complemento\"]')\n",
    "cidadeGarantia = driver.find_element_by_xpath('//*[@id=\"cidade\"]')\n",
    "bairroGarantia = driver.find_element_by_xpath('//*[@id=\"bairro\"]')\n",
    "ufGarantia = driver.find_element_by_xpath('//*[@id=\"UF\"]')\n",
    "cepGarantia = driver.find_element_by_xpath('//*[@id=\"cep\"]')\n",
    "unidadeGarantia = driver.find_element_by_xpath('//*[@id=\"unidade\"]')\n",
    "blocoGarantia = driver.find_element_by_xpath('//*[@id=\"Bloco\"]')\n",
    "matriculaGarantia = driver.find_element_by_xpath('//*[@id=\"matricula\"]')\n"
   ]
  },
  {
   "cell_type": "code",
   "execution_count": 8,
   "metadata": {},
   "outputs": [],
   "source": [
    "ruaGaranti.send_keys(Keys.CONTROL,\"a\")\n",
    "ruaGaranti.send_keys(Keys.DELETE)\n",
    "\n",
    "numeroGarantia.send_keys(Keys.CONTROL,\"a\")\n",
    "numeroGarantia.send_keys(Keys.DELETE)\n",
    "\n",
    "complementoGarantia.send_keys(Keys.CONTROL,\"a\")\n",
    "complementoGarantia.send_keys(Keys.DELETE)\n",
    "\n",
    "cidadeGarantia.send_keys(Keys.CONTROL,\"a\")\n",
    "cidadeGarantia.send_keys(Keys.DELETE)\n",
    "\n",
    "bairroGarantia.send_keys(Keys.CONTROL,\"a\")\n",
    "bairroGarantia.send_keys(Keys.DELETE)\n",
    "\n",
    "ufGarantia.send_keys(Keys.CONTROL,\"a\")\n",
    "ufGarantia.send_keys(Keys.DELETE)\n",
    "\n",
    "cepGarantia.send_keys(Keys.CONTROL,\"a\")\n",
    "cepGarantia.send_keys(Keys.DELETE)\n",
    "\n",
    "unidadeGarantia.send_keys(Keys.CONTROL,\"a\")\n",
    "unidadeGarantia.send_keys(Keys.DELETE)\n",
    "\n",
    "blocoGarantia.send_keys(Keys.CONTROL,\"a\")\n",
    "blocoGarantia.send_keys(Keys.DELETE)\n",
    "\n",
    "matriculaGarantia.send_keys(Keys.CONTROL,\"a\")\n",
    "matriculaGarantia.send_keys(Keys.DELETE)"
   ]
  },
  {
   "cell_type": "code",
   "execution_count": 9,
   "metadata": {},
   "outputs": [],
   "source": [
    "# Preenchendo API\n",
    "\n",
    "dataContrato.send_keys(contrato['dataContrato'])        # Colocar a data correta, no momento esta a data de desembolso \n",
    "codigoIntegracao.send_keys('!!!Teste!!!')               # Colocar o código correto na variavel\n",
    "ruaGaranti.send_keys('Rua toca galo')\n",
    "driver.find_element_by_xpath('//*[@id=\"numero\"]').send_keys('77')\n",
    "complementoGarantia.send_keys('casas')\n",
    "cidadeGarantia.send_keys('MineCraft')\n",
    "bairroGarantia.send_keys('vila do diamante')\n",
    "ufGarantia.send_keys('MC')\n",
    "cepGarantia.send_keys('20202-202')\n",
    "unidadeGarantia.send_keys('un 01')\n",
    "blocoGarantia.send_keys('bl 1')\n",
    "matriculaGarantia.send_keys(matricula)\n",
    "cartorio = driver.find_element_by_xpath('//*[@id=\"numero_cartorio\"]').click()\n",
    "sleep(1)\n",
    "selectCartorio = driver.find_element_by_xpath('//*[@id=\"numero_cartorio\"]/div[2]/ul/li[1]').click()\n"
   ]
  },
  {
   "cell_type": "code",
   "execution_count": 15,
   "metadata": {},
   "outputs": [],
   "source": [
    "# Preenchendo participantes\n",
    "nomeParticipantes = driver.find_element_by_xpath('//*[@id=\"nome\"]')\n",
    "nomeParticipantes.clear()\n",
    "nomeParticipantes.send_keys('Pereira')\n"
   ]
  }
 ],
 "metadata": {
  "kernelspec": {
   "display_name": "Python 3.9.7 64-bit",
   "language": "python",
   "name": "python3"
  },
  "language_info": {
   "codemirror_mode": {
    "name": "ipython",
    "version": 3
   },
   "file_extension": ".py",
   "mimetype": "text/x-python",
   "name": "python",
   "nbconvert_exporter": "python",
   "pygments_lexer": "ipython3",
   "version": "3.9.7"
  },
  "orig_nbformat": 4,
  "vscode": {
   "interpreter": {
    "hash": "045832f79490e9a8a037a8f6e1a5c8ec877d805c4de0087de700d9a61e201314"
   }
  }
 },
 "nbformat": 4,
 "nbformat_minor": 2
}
