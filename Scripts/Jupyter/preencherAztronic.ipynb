{
 "cells": [
  {
   "cell_type": "code",
   "execution_count": 47,
   "metadata": {},
   "outputs": [],
   "source": [
    "# Bibliotecas\n",
    "from selenium.webdriver.support.ui import Select\n",
    "from selenium import webdriver\n",
    "from time import sleep\n",
    "import sys\n",
    "import re \n",
    "from selenium.webdriver.common.keys import Keys\n",
    "sys.path.insert(0, 'C:\\\\Users\\\\MatheusPereira\\\\OneDrive - Pontte\\\\Área de Trabalho\\\\automacaoRegistroCCI\\\\Scripts')\n",
    "import lerContrato as lc\n",
    "from lerContrato import lerContrato\n",
    "from lerPDFLaudo import lerPDF\n",
    "from lerLaudo import lerLaudo\n",
    "\n"
   ]
  },
  {
   "cell_type": "code",
   "execution_count": 48,
   "metadata": {},
   "outputs": [],
   "source": [
    "anexoCalculoFluxo = r'C:\\Users\\MatheusPereira\\OneDrive - Pontte\\Área de Trabalho\\automacaoRegistroCCI\\CalculoDeFluxo\\Calculo_Fluxo_Olibone.xlsx'\n",
    "contratoPath = r'C:\\Users\\MatheusPereira\\OneDrive - Pontte\\Área de Trabalho\\automacaoRegistroCCI\\Contratos\\HE_Contrato_Oliboni _Assinatura Digital_VFinal.pdf'\n",
    "laudoPath = r'C:\\Users\\MatheusPereira\\OneDrive - Pontte\\Área de Trabalho\\automacaoRegistroCCI\\Laudos\\5. Laudo- Patricia.pdf'"
   ]
  },
  {
   "cell_type": "code",
   "execution_count": 49,
   "metadata": {},
   "outputs": [],
   "source": [
    "#ChromeDriver\n",
    "driver = webdriver.Chrome(executable_path=r'G:\\Drives compartilhados\\Pontte\\Operações\\Automações\\Scripts\\Pontte\\Driver\\chromedriver.exe')\n",
    "\n",
    "#Acessar API Aztronic\n",
    "driver.get('http://aztronic.s3-website-us-east-1.amazonaws.com/')\n",
    "sleep(3)"
   ]
  },
  {
   "cell_type": "code",
   "execution_count": 50,
   "metadata": {},
   "outputs": [],
   "source": [
    "# Upload do Calculo de fluxo \n",
    "\n",
    "anexarCalculoFluxo = driver.find_element_by_xpath('//*[@id=\"main\"]/div/section[1]/div/div/form/fieldset[1]/div[1]/label/input')\n",
    "anexarCalculoFluxo.send_keys(anexoCalculoFluxo)\n",
    "sleep(2)"
   ]
  },
  {
   "cell_type": "code",
   "execution_count": 51,
   "metadata": {},
   "outputs": [
    {
     "name": "stdout",
     "output_type": "stream",
     "text": [
      "C:\\Users\\MatheusPereira\\OneDrive - Pontte\\Área de Trabalho\\automacaoRegistroCCI\\Laudos\\5. Laudo- Patricia.pdf\n",
      "{'Valor de Mercado: ': 'R$ 597.000,00', 'Matrícula: ': '62.941', 'Cartório': '11º Cartório de Registro de Imóveis de São Paulo', 'Endereço: ': 'Av. Giovanni Gronchi', 'Número: ': '4791', 'Complemento: ': 'Apto. 71-A - Bloco A - Ed. Dom Pedro Gastão de Orleans e', 'Bairro: ': 'Vila Andrade', 'Cidade: ': 'São Paulo', 'UF: ': 'SP', 'CEP ': '05724-003'} \n",
      "\n",
      "{'Quantidade': 3, 'nome1': 'ALENCAR LUIZ OLIBONI', 'cpf1': '337.550.780-15', 'data de nascimento1': '18/06/1961', 'endereço1': 'AVENIDA RUI BARBOSA, 12', 'complemento1': 'APTO 501', 'bairro1': 'SÃO FRANCISCO', 'cidade1': 'NITERÓI', 'uf1': 'RJ', 'cep1': '24360-440', 'telefone1': '(21) 99983 2620', 'email1': 'alencaroliboni@terra.com.br', 'participação1': '33%', 'nome2': 'LEONARDO COLODA OLIBONI', 'cpf2': '128.225.257-73', 'data de nascimento2': '05/03/1990', 'endereço2': 'RUA EURICO MANUEL DO CARMO, 02', 'complemento2': 'BL. 2, AP 304', 'bairro2': 'CHARITAS', 'cidade2': 'NITERÓI', 'uf2': 'RJ', 'cep2': '24370090', 'telefone2': '(21) 99983 2620', 'email2': 'alencaroliboni@terra.com.br', 'participação2': '33%', 'nome3': 'MARINA COLODA OLIBONI', 'cpf3': '124.246.777-78', 'data de nascimento3': '08/12/1988', 'endereço3': 'RUA AMORA, 501', 'complemento3': 'CASA G17', 'bairro3': 'PIRATININGA', 'cidade3': 'NITERÓI', 'uf3': 'RJ', 'cep3': '24350-590', 'telefone3': '(21) 99983 2620', 'email3': 'alencaroliboni@terra.com.br', 'participação3': '33%', 'nome4': 'MARISTELA DE FÁTIMA COLODA OLIBONI', 'cpf4': '421.088.370-00', 'data de nascimento4': '28/04/1962', 'endereço4': 'AVENIDA RUI BARBOSA, 12', 'complemento4': 'APTO 501', 'bairro4': 'SÃO FRANCISCO', 'cidade4': 'NITERÓI', 'uf4': 'RJ', 'cep4': '24360-440', 'telefone4': '(21) 99983 2620', 'email4': 'alencaroliboni@terra.com.br', 'participação4': 0, 'endereçoTitular': 'Avenida Rui Barbosa, nº 158', 'complementoTitular': 'Loja Parte', 'bairroTitular': 'São Francisco', 'cidadeTitular': 'Niterói', 'ufTitular': 'RJ', 'cepTitular': '24.360-440', 'cnpjTitular': '08.949.251/0001-29', 'dataContituição': '02/07/2007'}\n",
      "{'Valor de Mercado: ': 'R$ 597.000,00', 'Matrícula: ': '62.941', 'Cartório': '11º Cartório de Registro de Imóveis de São Paulo', 'Endereço: ': 'Av. Giovanni Gronchi', 'Número: ': '4791', 'Complemento: ': 'Apto. 71-A - Bloco A - Ed. Dom Pedro Gastão de Orleans e', 'Bairro: ': 'Vila Andrade', 'Cidade: ': 'São Paulo', 'UF: ': 'SP', 'CEP ': '05724-003'}\n"
     ]
    },
    {
     "data": {
      "text/plain": [
       "{'valorTotal': '3201801.53',\n",
       " 'tabela': 'SAC',\n",
       " 'registro': '10554.15',\n",
       " 'Taxa ao Mes': 0.1268,\n",
       " 'valorLiquido': '2981000.00',\n",
       " 'prazoMes': '228',\n",
       " 'valorPrimeiraParcelaComEncargos': '48642.95',\n",
       " 'valorImóvel': '6188000.00',\n",
       " 'prazoContrato': '225',\n",
       " 'ultimaParcela': '15/06/2041',\n",
       " 'dataLiberação': '28/06/2022',\n",
       " 'valorPrimeiraParcela': '47494.30',\n",
       " 'primeiraParcela': '15/10/2022',\n",
       " 'indice': 'IPCA',\n",
       " 'Matrícula': '24515',\n",
       " 'Cartório': '02 de Registro Geral do 9º Oficial de Registro de Imóveis da Comarca de Niterói/RJ',\n",
       " 'CCI': '0001114017/OPS',\n",
       " 'Titular': 'OLIBONI PARTICIPAÇÕES S/A ',\n",
       " 'operação': 'PJ',\n",
       " 'Quantidade': 5,\n",
       " 'Participante1': 'ALENCAR LUIZ OLIBONI',\n",
       " 'Participação1': '33%',\n",
       " 'Participante2': 'LEONARDO COLODA OLIBONI',\n",
       " 'Participação2': '33%',\n",
       " 'Participante3': 'MARINA COLODA OLIBONI',\n",
       " 'Participação3': '33%',\n",
       " 'dataContrato': '24/06/2022'}"
      ]
     },
     "execution_count": 51,
     "metadata": {},
     "output_type": "execute_result"
    }
   ],
   "source": [
    "# Extraido informações com o leitor de contratos\n",
    "\n",
    "contrato = lerContrato(contratoPath)\n",
    "Participantes = lc.dadosParticipantes(contratoPath,contrato)\n",
    "Laudo = lerLaudo(laudoPath)\n",
    "print(Participantes)\n",
    "print(Laudo)\n",
    "contrato"
   ]
  },
  {
   "cell_type": "code",
   "execution_count": 52,
   "metadata": {},
   "outputs": [],
   "source": [
    "# Pegando Xpath para preencher API\n",
    "\n",
    "dataContrato = driver.find_element_by_xpath('//*[@id=\"data_contrato\"]')\n",
    "codigoIntegracao = driver.find_element_by_xpath('//*[@id=\"codigo_integracao\"]')\n",
    "ruaGaranti = driver.find_element_by_xpath('//*[@id=\"rua\"]')\n",
    "numeroGarantia = driver.find_element_by_xpath('//*[@id=\"numero\"]')\n",
    "complementoGarantia = driver.find_element_by_xpath('//*[@id=\"complemento\"]')\n",
    "cidadeGarantia = driver.find_element_by_xpath('//*[@id=\"cidade\"]')\n",
    "bairroGarantia = driver.find_element_by_xpath('//*[@id=\"bairro\"]')\n",
    "ufGarantia = driver.find_element_by_xpath('//*[@id=\"UF\"]')\n",
    "cepGarantia = driver.find_element_by_xpath('//*[@id=\"cep\"]')\n",
    "unidadeGarantia = driver.find_element_by_xpath('//*[@id=\"unidade\"]')\n",
    "blocoGarantia = driver.find_element_by_xpath('//*[@id=\"Bloco\"]')\n",
    "matriculaGarantia = driver.find_element_by_xpath('//*[@id=\"matricula\"]')\n"
   ]
  },
  {
   "cell_type": "code",
   "execution_count": 53,
   "metadata": {},
   "outputs": [],
   "source": [
    "def limparCampo(campo):\n",
    "    campo.send_keys(Keys.CONTROL,\"a\")\n",
    "    campo.send_keys(Keys.DELETE)"
   ]
  },
  {
   "cell_type": "code",
   "execution_count": 54,
   "metadata": {},
   "outputs": [],
   "source": [
    "limparCampo(dataContrato)\n",
    "limparCampo(numeroGarantia)\n",
    "limparCampo(complementoGarantia)\n",
    "limparCampo(cidadeGarantia)\n",
    "limparCampo(bairroGarantia)\n",
    "limparCampo(ufGarantia)\n",
    "limparCampo(cepGarantia)\n",
    "limparCampo(unidadeGarantia)\n",
    "limparCampo(blocoGarantia)\n",
    "limparCampo(matriculaGarantia)"
   ]
  },
  {
   "cell_type": "code",
   "execution_count": 55,
   "metadata": {},
   "outputs": [],
   "source": [
    "# Preenchendo API\n",
    "dataContrato.send_keys(contrato['dataContrato'])        \n",
    "codigoIntegracao.send_keys(contrato['CCI'])\n",
    "driver.find_element_by_xpath('/html/body/div/main/div/section[1]/div/div/form/fieldset[3]/div/label[1]/input').send_keys(contrato['CCI'])\n",
    "\n",
    "ruaGaranti.send_keys(Laudo['Endereço: '])                                   # Laudo\n",
    "numeroGarantia.send_keys(Laudo['Número: '])                                  # ||\n",
    "complementoGarantia.send_keys(Laudo['Complemento: '])                        # ||\n",
    "cidadeGarantia.send_keys(Laudo['Cidade: '])                                  # ||\n",
    "bairroGarantia.send_keys(Laudo['Bairro: '])                                  # ||\n",
    "ufGarantia.send_keys(Laudo['UF: '])                                          # ||\n",
    "cepGarantia.send_keys(Laudo['CEP '])                                         # ||\n",
    "unidadeGarantia.send_keys('Extrair')                                         # ||\n",
    "blocoGarantia.send_keys('Extrair')                                           # ||\n",
    "\n",
    "matriculaGarantia.send_keys(contrato['Matrícula'])\n",
    "\n",
    "# Selecionar o cartório \n",
    "cartorio = driver.find_element_by_xpath('//*[@id=\"numero_cartorio\"]').click()              # Por enquanto tem que arrumar na Az até Tech arrumar\n",
    "sleep(1)\n",
    "selectCartorio = driver.find_element_by_xpath('//*[@id=\"numero_cartorio\"]/div[2]/ul/li[1]').click()\n"
   ]
  },
  {
   "cell_type": "code",
   "execution_count": 56,
   "metadata": {},
   "outputs": [],
   "source": [
    "# Adicionar campos de participantes\n",
    "for addCampo in range(0, contrato['Quantidade'] - 1):\n",
    "    driver.find_element_by_xpath('//*[@id=\"main\"]/div/section[1]/div/div/form/button').click()\n",
    "    sleep(1)"
   ]
  },
  {
   "cell_type": "code",
   "execution_count": 57,
   "metadata": {},
   "outputs": [],
   "source": [
    "contador = contrato['Quantidade']\n",
    "if contrato['operação'] == 'PJ':\n",
    "    contador = contrato['Quantidade'] - 1\n",
    "\n",
    "for quantidade in range(0, contador):\n",
    "    # Preenchendo participantes\n",
    "    nomeParticipantes = driver.find_element_by_xpath(f'/html/body/div/main/div/section[1]/div/div/form/fieldset[{quantidade+3}]/div/label[3]/input')\n",
    "    emailParticipantes = driver.find_element_by_xpath(f'/html/body/div/main/div/section[1]/div/div/form/fieldset[{quantidade+3}]/div/label[4]/input')\n",
    "    participação = driver.find_element_by_xpath(f'/html/body/div/main/div/section[1]/div/div/form/fieldset[{quantidade+3}]/div/label[5]/input')\n",
    "    cnpjCpf = driver.find_element_by_xpath(f'/html/body/div/main/div/section[1]/div/div/form/fieldset[{quantidade+3}]/div/label[6]/input')\n",
    "    sexo = driver.find_element_by_xpath(f'/html/body/div/main/div/section[1]/div/div/form/fieldset[{quantidade+3}]/div/label[8]/input')\n",
    "    dataNacimento = driver.find_element_by_xpath(f'/html/body/div/main/div/section[1]/div/div/form/fieldset[{quantidade+3}]/div/label[9]/input')\n",
    "    telefone = driver.find_element_by_xpath(f'/html/body/div/main/div/section[1]/div/div/form/fieldset[{quantidade+3}]/div/label[10]/input')\n",
    "    ruaParticipantes = driver.find_element_by_xpath(f'/html/body/div/main/div/section[1]/div/div/form/fieldset[{quantidade+3}]/div/label[11]/input')\n",
    "    numeroParticipantes = driver.find_element_by_xpath(f'/html/body/div/main/div/section[1]/div/div/form/fieldset[{quantidade+3}]/div/label[12]/input')\n",
    "    complementoParticipantes = driver.find_element_by_xpath(f'/html/body/div/main/div/section[1]/div/div/form/fieldset[{quantidade+3}]/div/label[13]/input')\n",
    "    cidadeParticipantes = driver.find_element_by_xpath(f'/html/body/div/main/div/section[1]/div/div/form/fieldset[{quantidade+3}]/div/label[14]/input')\n",
    "    bairroParticipantes = driver.find_element_by_xpath(f'/html/body/div/main/div/section[1]/div/div/form/fieldset[{quantidade+3}]/div/label[15]/input')\n",
    "    ufParticipantes = driver.find_element_by_xpath(f'/html/body/div/main/div/section[1]/div/div/form/fieldset[{quantidade+3}]/div/label[16]/input')\n",
    "    cepParticipantes = driver.find_element_by_xpath(f'/html/body/div/main/div/section[1]/div/div/form/fieldset[{quantidade+3}]/div/label[17]/input')\n",
    "\n",
    "    # Limpar campos\n",
    "    limparCampo(nomeParticipantes)\n",
    "    limparCampo(emailParticipantes)\n",
    "    limparCampo(participação)\n",
    "    limparCampo(cnpjCpf)\n",
    "    limparCampo(sexo)\n",
    "    limparCampo(dataNacimento)\n",
    "    limparCampo(telefone)\n",
    "    limparCampo(ruaParticipantes)\n",
    "    limparCampo(numeroParticipantes)\n",
    "    limparCampo(complementoParticipantes)\n",
    "    limparCampo(cidadeParticipantes)\n",
    "    limparCampo(bairroParticipantes)\n",
    "    limparCampo(ufParticipantes)\n",
    "    limparCampo(cepParticipantes)\n",
    "    \n",
    "    sleep(1)\n",
    "       \n",
    "    # Preencher campos\n",
    "    endereco = Participantes[f'endereço{quantidade+1}'].split(',')    # Separando a Rua do numero\n",
    "\n",
    "    nomeParticipantes.send_keys(Participantes[f'nome{quantidade+1}'])\n",
    "    emailParticipantes.send_keys(Participantes[f'email{quantidade+1}'])\n",
    "    participação.send_keys(Participantes[f'participação{quantidade+1}'])\n",
    "    cnpjCpf.send_keys(Participantes[f'cpf{quantidade+1}'])\n",
    "    dataNacimento.send_keys(Participantes[f'data de nascimento{quantidade+1}'])\n",
    "    telefone.send_keys(Participantes[f'telefone{quantidade+1}'])\n",
    "    ruaParticipantes.send_keys(endereco[0])\n",
    "    numeroParticipantes.send_keys(endereco[1])\n",
    "    endereco.clear()\n",
    "    complementoParticipantes.send_keys(Participantes[f'complemento{quantidade+1}'])\n",
    "    cidadeParticipantes.send_keys(Participantes[f'cidade{quantidade+1}'])\n",
    "    bairroParticipantes.send_keys(Participantes[f'bairro{quantidade+1}'])\n",
    "    ufParticipantes.send_keys(Participantes[f'uf{quantidade+1}'])\n",
    "    cepParticipantes.send_keys(Participantes[f'cep{quantidade+1}'])\n",
    "    sleep(1)\n",
    "\n"
   ]
  },
  {
   "cell_type": "code",
   "execution_count": 58,
   "metadata": {},
   "outputs": [],
   "source": [
    "if contrato['operação'] == 'PJ':\n",
    "    # Preenchendo Titular PJ\n",
    "    nomeParticipantes = driver.find_element_by_xpath(f'/html/body/div/main/div/section[1]/div/div/form/fieldset[{contador+3}]/div/label[3]/input')\n",
    "    emailParticipantes = driver.find_element_by_xpath(f'/html/body/div/main/div/section[1]/div/div/form/fieldset[{contador+3}]/div/label[4]/input')\n",
    "    participação = driver.find_element_by_xpath(f'/html/body/div/main/div/section[1]/div/div/form/fieldset[{contador+3}]/div/label[5]/input')\n",
    "    cnpjCpf = driver.find_element_by_xpath(f'/html/body/div/main/div/section[1]/div/div/form/fieldset[{contador+3}]/div/label[6]/input')\n",
    "    sexo = driver.find_element_by_xpath(f'/html/body/div/main/div/section[1]/div/div/form/fieldset[{contador+3}]/div/label[8]/input')\n",
    "    dataNacimento = driver.find_element_by_xpath(f'/html/body/div/main/div/section[1]/div/div/form/fieldset[{contador+3}]/div/label[9]/input')\n",
    "    telefone = driver.find_element_by_xpath(f'/html/body/div/main/div/section[1]/div/div/form/fieldset[{contador+3}]/div/label[10]/input')\n",
    "    ruaParticipantes = driver.find_element_by_xpath(f'/html/body/div/main/div/section[1]/div/div/form/fieldset[{contador+3}]/div/label[11]/input')\n",
    "    numeroParticipantes = driver.find_element_by_xpath(f'/html/body/div/main/div/section[1]/div/div/form/fieldset[{contador+3}]/div/label[12]/input')\n",
    "    complementoParticipantes = driver.find_element_by_xpath(f'/html/body/div/main/div/section[1]/div/div/form/fieldset[{contador+3}]/div/label[13]/input')\n",
    "    cidadeParticipantes = driver.find_element_by_xpath(f'/html/body/div/main/div/section[1]/div/div/form/fieldset[{contador+3}]/div/label[14]/input')\n",
    "    bairroParticipantes = driver.find_element_by_xpath(f'/html/body/div/main/div/section[1]/div/div/form/fieldset[{contador+3}]/div/label[15]/input')\n",
    "    ufParticipantes = driver.find_element_by_xpath(f'/html/body/div/main/div/section[1]/div/div/form/fieldset[{contador+3}]/div/label[16]/input')\n",
    "    cepParticipantes = driver.find_element_by_xpath(f'/html/body/div/main/div/section[1]/div/div/form/fieldset[{contador+3}]/div/label[17]/input')\n",
    "    operacao = driver.find_element_by_xpath(f'/html/body/div/main/div/section[1]/div/div/form/fieldset[{contador+3}]/div/label[7]/select')\n",
    "    \n",
    "\n",
    "    # Limpar campos\n",
    "    limparCampo(nomeParticipantes)\n",
    "    limparCampo(emailParticipantes)\n",
    "    limparCampo(participação)\n",
    "    limparCampo(cnpjCpf)\n",
    "    limparCampo(sexo)\n",
    "    limparCampo(dataNacimento)\n",
    "    limparCampo(telefone)\n",
    "    limparCampo(ruaParticipantes)\n",
    "    limparCampo(numeroParticipantes)\n",
    "    limparCampo(complementoParticipantes)\n",
    "    limparCampo(cidadeParticipantes)\n",
    "    limparCampo(bairroParticipantes)\n",
    "    limparCampo(ufParticipantes)\n",
    "    limparCampo(cepParticipantes)\n",
    "    \n",
    "    sleep(1)\n",
    "       \n",
    "    # Preencher campos\n",
    "    endereco = Participantes[f'endereçoTitular'].split(',')    # Separando a Rua do numero\n",
    "\n",
    "    nomeParticipantes.send_keys(contrato[f'Titular'])\n",
    "    emailParticipantes.send_keys(Participantes[f'email1'])\n",
    "    participação.send_keys(0)\n",
    "    cnpjCpf.send_keys(Participantes[f'cnpjTitular'])                           \n",
    "    dataNacimento.send_keys(Participantes[f'dataContituição'])\n",
    "    telefone.send_keys(Participantes[f'telefone1'])\n",
    "    ruaParticipantes.send_keys(endereco[0])\n",
    "    numeroParticipantes.send_keys(endereco[1])\n",
    "    endereco.clear()\n",
    "    complementoParticipantes.send_keys(Participantes[f'complementoTitular'])\n",
    "    cidadeParticipantes.send_keys(Participantes[f'cidadeTitular'])\n",
    "    bairroParticipantes.send_keys(Participantes[f'bairroTitular'])\n",
    "    ufParticipantes.send_keys(Participantes[f'ufTitular'])\n",
    "    cepParticipantes.send_keys(Participantes[f'cepTitular'])\n",
    "    sleep(1)\n",
    "  "
   ]
  },
  {
   "cell_type": "code",
   "execution_count": 59,
   "metadata": {},
   "outputs": [
    {
     "name": "stdout",
     "output_type": "stream",
     "text": [
      "12.68\n"
     ]
    }
   ],
   "source": [
    "# Tabela de Venda\n",
    "dataBase = driver.find_element_by_xpath('//*[@id=\"data_base\"]')\n",
    "indice = driver.find_element_by_xpath('//*[@id=\"indice_pre\"]')\n",
    "taxaJuros = driver.find_element_by_xpath('//*[@id=\"taxa_juros\"]')\n",
    "tipoAmortização = driver.find_element_by_xpath('//*[@id=\"taxa_juros\"]')\n",
    "\n",
    "limparCampo(dataBase)\n",
    "limparCampo(taxaJuros)\n",
    "\n",
    "if contrato['indice'] == 'IPCA':\n",
    "    indice.click()\n",
    "    indice =driver.find_element_by_css_selector('#indice_pre > option:nth-child(2)').click()\n",
    "\n",
    "if contrato['tabela'] == 'PRICE' or contrato['tabela'] == 'Price' or contrato['tabela'] == 'price':\n",
    "    tipoAmortização.click()\n",
    "    tipoAmortização =driver.find_element_by_css_selector('#tipo_amortizacao > option:nth-child(2)').click()\n",
    "\n",
    "elif contrato['tabela'] == 'SAC':\n",
    "    tipoAmortização.click()\n",
    "    tipoAmortização =driver.find_element_by_css_selector('#tipo_amortizacao > option:nth-child(1)').click()\n",
    "print(contrato['Taxa ao Mes']*100)\n",
    "taxaJuros.send_keys(str(contrato['Taxa ao Mes']*100).replace('.',','))\n",
    "dataBase.send_keys(contrato['dataContrato'])\n",
    "\n"
   ]
  },
  {
   "cell_type": "code",
   "execution_count": null,
   "metadata": {},
   "outputs": [],
   "source": []
  }
 ],
 "metadata": {
  "kernelspec": {
   "display_name": "Python 3.9.7 64-bit",
   "language": "python",
   "name": "python3"
  },
  "language_info": {
   "codemirror_mode": {
    "name": "ipython",
    "version": 3
   },
   "file_extension": ".py",
   "mimetype": "text/x-python",
   "name": "python",
   "nbconvert_exporter": "python",
   "pygments_lexer": "ipython3",
   "version": "3.9.7"
  },
  "orig_nbformat": 4,
  "vscode": {
   "interpreter": {
    "hash": "045832f79490e9a8a037a8f6e1a5c8ec877d805c4de0087de700d9a61e201314"
   }
  }
 },
 "nbformat": 4,
 "nbformat_minor": 2
}
