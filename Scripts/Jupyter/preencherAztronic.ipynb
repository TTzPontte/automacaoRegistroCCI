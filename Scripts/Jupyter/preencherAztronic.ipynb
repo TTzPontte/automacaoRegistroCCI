{
 "cells": [
  {
   "cell_type": "code",
   "execution_count": 1,
   "metadata": {},
   "outputs": [
    {
     "name": "stdout",
     "output_type": "stream",
     "text": [
      "valorTotal : 185236.16\n",
      "tabela : SAC\n",
      "registro : 3042.67\n",
      "Taxa ao Mes : 0.1162\n",
      "valorLiquido : 169200.00\n",
      "prazoMes : 240\n",
      "valorPrimeiraParcelaComEncargos : 2754.90\n",
      "valorImóvel : 376000.00\n",
      "prazoContrato : 234\n",
      "ultimaParcela : 30/06/2042\n",
      "dataLiberação : 08/06/2022\n",
      "valorPrimeiraParcela : 2662.09\n",
      "primeiraParcela : 30/01/2023\n",
      "indice : IPCA\n",
      "Matrícula : 141.951\n",
      "Cartório : 02 de Registro Geral do 3º Oficial de Registro de Imóveis da Comarca de São Paulo/SP\n",
      "CCI : 0001013447/AFD\n",
      "Titular : AGOSTINHO FRANCISCO DE SOUZA \n",
      "Participante1 : AGOSTINHO FRANCISCO DE SOUZA\n",
      "Participação1 : 100%\n",
      "dataContrato : 06/06/2022\n",
      "{'Quantidade': 1, 'cpf1': '011.615.038-62', 'data de nascimento1': '31/05/1963', 'endereço1': 'RUA SALES, 427 CONTRATO DE EMPRÉSTIMO (MÚTUO) E PACTO ADJETO DE ALIENAÇÃO FIDUCIÁRIA EM GARANTIA COM EMISSÃO DE CÉDULA DE CRÉDITO IMOBILIÁRIO - CCI CONTRATO Nº 0001013447/AFD REFIN – SFI RUBRICA DAS PARTES Contrato de Empréstimo (Mútuo) com Alienação Fiduciária – Pessoa Física Página 2 de 36', 'complemento1': 'N/A', 'bairro1': 'CABUÇU', 'cidade1': 'GUARULHOS', 'uf1': 'SP', 'cep1': '07144-260', 'telefone1': '(11) 96321-4563', 'email1': 'consultor.agostinho@gmail.com'}\n"
     ]
    }
   ],
   "source": [
    "# Bibliotecas\n",
    "from selenium.webdriver.support.ui import Select\n",
    "from selenium import webdriver\n",
    "from time import sleep\n",
    "import sys\n",
    "import re \n",
    "from selenium.webdriver.common.keys import Keys\n",
    "sys.path.insert(0, 'C:\\\\Users\\\\MatheusPereira\\\\OneDrive - Pontte\\\\Área de Trabalho\\\\automacaoRegistroCCI\\\\Scripts')\n",
    "import lerContrato as lc\n",
    "from lerContrato import lerContrato\n",
    "from lerPDFLaudo import lerPDF\n",
    "from lerLaudo import lerLaudo\n",
    "\n"
   ]
  },
  {
   "cell_type": "code",
   "execution_count": 2,
   "metadata": {},
   "outputs": [],
   "source": [
    "anexoCalculoFluxo = r'C:\\Users\\MatheusPereira\\OneDrive - Pontte\\Área de Trabalho\\automacaoRegistroCCI\\CalculoDeFluxo\\Cálculo_Fluxo_Conrado.xlsx'\n",
    "contratoPath = r'C:\\Users\\MatheusPereira\\OneDrive - Pontte\\Área de Trabalho\\automacaoRegistroCCI\\Contratos\\HE_Contrato_Oliboni _Assinatura Digital_VFinal.pdf'\n",
    "laudoPath = r'C:\\Users\\MatheusPereira\\OneDrive - Pontte\\Área de Trabalho\\automacaoRegistroCCI\\Laudos\\5. Laudo- Patricia.pdf'"
   ]
  },
  {
   "cell_type": "code",
   "execution_count": 3,
   "metadata": {},
   "outputs": [],
   "source": [
    "#ChromeDriver\n",
    "driver = webdriver.Chrome(executable_path=r'G:\\Drives compartilhados\\Pontte\\Operações\\Automações\\Scripts\\Pontte\\Driver\\chromedriver.exe')\n",
    "\n",
    "#Acessar API Aztronic\n",
    "driver.get('http://aztronic.s3-website-us-east-1.amazonaws.com/')\n",
    "sleep(3)"
   ]
  },
  {
   "cell_type": "code",
   "execution_count": 4,
   "metadata": {},
   "outputs": [],
   "source": [
    "# Upload do Calculo de fluxo \n",
    "\n",
    "anexarCalculoFluxo = driver.find_element_by_xpath('//*[@id=\"main\"]/div/section[1]/div/div/form/fieldset[1]/div[1]/label/input')\n",
    "anexarCalculoFluxo.send_keys(anexoCalculoFluxo)\n",
    "sleep(2)"
   ]
  },
  {
   "cell_type": "code",
   "execution_count": 5,
   "metadata": {},
   "outputs": [
    {
     "name": "stdout",
     "output_type": "stream",
     "text": [
      "C:\\Users\\MatheusPereira\\OneDrive - Pontte\\Área de Trabalho\\automacaoRegistroCCI\\Laudos\\5. Laudo- Patricia.pdf\n",
      "{'Valor de Mercado: ': 'R$ 597.000,00', 'Matrícula: ': '62.941', 'Cartório': '11º Cartório de Registro de Imóveis de São Paulo', 'Endereço: ': 'Av. Giovanni Gronchi', 'Número: ': '4791', 'Complemento: ': 'Apto. 71-A - Bloco A - Ed. Dom Pedro Gastão de Orleans e', 'Bairro: ': 'Vila Andrade', 'Cidade: ': 'São Paulo', 'UF: ': 'SP', 'CEP ': '05724-003'} \n",
      "\n",
      "{'Quantidade': 3, 'cpf1': '337.550.780-15', 'data de nascimento1': '18/06/1961', 'endereço1': 'AVENIDA RUI BARBOSA, 12', 'complemento1': 'APTO 501', 'bairro1': 'SÃO FRANCISCO', 'cidade1': 'NITERÓI', 'uf1': 'RJ', 'cep1': '24360-440', 'telefone1': '(21) 99983 2620', 'email1': 'alencaroliboni@terra.com.br', 'cpf2': '128.225.257-73', 'data de nascimento2': '05/03/1990', 'endereço2': 'RUA EURICO MANUEL DO CARMO, 02', 'complemento2': 'BL. 2, AP 304', 'bairro2': 'CHARITAS', 'cidade2': 'NITERÓI', 'uf2': 'RJ', 'cep2': '24370090', 'telefone2': '(21) 99983 2620', 'email2': 'alencaroliboni@terra.com.br', 'cpf3': '124.246.777-78', 'data de nascimento3': '08/12/1988', 'endereço3': 'RUA AMORA, 501', 'complemento3': 'CASA G17', 'bairro3': 'PIRATININGA', 'cidade3': 'NITERÓI', 'uf3': 'RJ', 'cep3': '24350-590', 'telefone3': '(21) 99983 2620', 'email3': 'alencaroliboni@terra.com.br'}\n",
      "{'Valor de Mercado: ': 'R$ 597.000,00', 'Matrícula: ': '62.941', 'Cartório': '11º Cartório de Registro de Imóveis de São Paulo', 'Endereço: ': 'Av. Giovanni Gronchi', 'Número: ': '4791', 'Complemento: ': 'Apto. 71-A - Bloco A - Ed. Dom Pedro Gastão de Orleans e', 'Bairro: ': 'Vila Andrade', 'Cidade: ': 'São Paulo', 'UF: ': 'SP', 'CEP ': '05724-003'}\n"
     ]
    },
    {
     "data": {
      "text/plain": [
       "{'valorTotal': '3201801.53',\n",
       " 'tabela': 'SAC',\n",
       " 'registro': '10554.15',\n",
       " 'Taxa ao Mes': 0.1268,\n",
       " 'valorLiquido': '2981000.00',\n",
       " 'prazoMes': '228',\n",
       " 'valorPrimeiraParcelaComEncargos': '48642.95',\n",
       " 'valorImóvel': '6188000.00',\n",
       " 'prazoContrato': '225',\n",
       " 'ultimaParcela': '15/06/2041',\n",
       " 'dataLiberação': '28/06/2022',\n",
       " 'valorPrimeiraParcela': '47494.30',\n",
       " 'primeiraParcela': '15/10/2022',\n",
       " 'indice': 'IPCA',\n",
       " 'Matrícula': '24515',\n",
       " 'Cartório': '02 de Registro Geral do 9º Oficial de Registro de Imóveis da Comarca de Niterói/RJ',\n",
       " 'CCI': '0001114017/OPS',\n",
       " 'Titular': 'OLIBONI PARTICIPAÇÕES S/A ',\n",
       " 'Participante1': 'ALENCAR LUIZ OLIBONI',\n",
       " 'Participação1': '33%',\n",
       " 'Participante2': 'LEONARDO COLODA OLIBONI',\n",
       " 'Participação2': '33%',\n",
       " 'Participante3': 'MARINA COLODA OLIBONI',\n",
       " 'Participação3': '33%',\n",
       " 'dataContrato': '24/06/2022'}"
      ]
     },
     "execution_count": 5,
     "metadata": {},
     "output_type": "execute_result"
    }
   ],
   "source": [
    "# Extraido informações com o leitor de contratos\n",
    "\n",
    "contrato = lerContrato(contratoPath)\n",
    "Participantes = lc.dadosParticipantes(contratoPath,contrato)\n",
    "Laudo = lerLaudo(laudoPath)\n",
    "print(Participantes)\n",
    "print(Laudo)\n",
    "contrato"
   ]
  },
  {
   "cell_type": "code",
   "execution_count": 6,
   "metadata": {},
   "outputs": [],
   "source": [
    "# Pegando Xpath para preencher API\n",
    "\n",
    "dataContrato = driver.find_element_by_xpath('//*[@id=\"data_contrato\"]')\n",
    "codigoIntegracao = driver.find_element_by_xpath('//*[@id=\"codigo_integracao\"]')\n",
    "ruaGaranti = driver.find_element_by_xpath('//*[@id=\"rua\"]')\n",
    "numeroGarantia = driver.find_element_by_xpath('//*[@id=\"numero\"]')\n",
    "complementoGarantia = driver.find_element_by_xpath('//*[@id=\"complemento\"]')\n",
    "cidadeGarantia = driver.find_element_by_xpath('//*[@id=\"cidade\"]')\n",
    "bairroGarantia = driver.find_element_by_xpath('//*[@id=\"bairro\"]')\n",
    "ufGarantia = driver.find_element_by_xpath('//*[@id=\"UF\"]')\n",
    "cepGarantia = driver.find_element_by_xpath('//*[@id=\"cep\"]')\n",
    "unidadeGarantia = driver.find_element_by_xpath('//*[@id=\"unidade\"]')\n",
    "blocoGarantia = driver.find_element_by_xpath('//*[@id=\"Bloco\"]')\n",
    "matriculaGarantia = driver.find_element_by_xpath('//*[@id=\"matricula\"]')\n"
   ]
  },
  {
   "cell_type": "code",
   "execution_count": 7,
   "metadata": {},
   "outputs": [],
   "source": [
    "dataContrato.send_keys(Keys.CONTROL,\"a\")\n",
    "dataContrato.send_keys(Keys.DELETE)\n",
    "\n",
    "numeroGarantia.send_keys(Keys.CONTROL,\"a\")\n",
    "numeroGarantia.send_keys(Keys.DELETE)\n",
    "\n",
    "complementoGarantia.send_keys(Keys.CONTROL,\"a\")\n",
    "complementoGarantia.send_keys(Keys.DELETE)\n",
    "\n",
    "cidadeGarantia.send_keys(Keys.CONTROL,\"a\")\n",
    "cidadeGarantia.send_keys(Keys.DELETE)\n",
    "\n",
    "bairroGarantia.send_keys(Keys.CONTROL,\"a\")\n",
    "bairroGarantia.send_keys(Keys.DELETE)\n",
    "\n",
    "ufGarantia.send_keys(Keys.CONTROL,\"a\")\n",
    "ufGarantia.send_keys(Keys.DELETE)\n",
    "\n",
    "cepGarantia.send_keys(Keys.CONTROL,\"a\")\n",
    "cepGarantia.send_keys(Keys.DELETE)\n",
    "\n",
    "unidadeGarantia.send_keys(Keys.CONTROL,\"a\")\n",
    "unidadeGarantia.send_keys(Keys.DELETE)\n",
    "\n",
    "blocoGarantia.send_keys(Keys.CONTROL,\"a\")\n",
    "blocoGarantia.send_keys(Keys.DELETE)\n",
    "\n",
    "matriculaGarantia.send_keys(Keys.CONTROL,\"a\")\n",
    "matriculaGarantia.send_keys(Keys.DELETE)"
   ]
  },
  {
   "cell_type": "code",
   "execution_count": 8,
   "metadata": {},
   "outputs": [],
   "source": [
    "# Preenchendo API\n",
    "\n",
    "dataContrato.send_keys(contrato['dataContrato'])        \n",
    "codigoIntegracao.send_keys(contrato['CCI'])\n",
    "driver.find_element_by_xpath('/html/body/div/main/div/section[1]/div/div/form/fieldset[3]/div/label[1]/input').send_keys(contrato['CCI'])\n",
    "\n",
    "ruaGaranti.send_keys(Laudo['Endereço: '])                                   # Laudo\n",
    "numeroGarantia.send_keys(Laudo['Número: '])                                  # ||\n",
    "complementoGarantia.send_keys(Laudo['Complemento: '])                        # ||\n",
    "cidadeGarantia.send_keys(Laudo['Cidade: '])                                  # ||\n",
    "bairroGarantia.send_keys(Laudo['Bairro: '])                                  # ||\n",
    "ufGarantia.send_keys(Laudo['UF: '])                                          # ||\n",
    "cepGarantia.send_keys(Laudo['CEP '])                                          # ||\n",
    "unidadeGarantia.send_keys('Extrair')                                         # ||\n",
    "blocoGarantia.send_keys('Extrair')                                           # ||\n",
    "\n",
    "matriculaGarantia.send_keys(contrato['Matrícula'])\n",
    "\n",
    "# Selecionar o cartório \n",
    "cartorio = driver.find_element_by_xpath('//*[@id=\"numero_cartorio\"]').click()              # Por enquanto tem que arrumar na Az até Tech arrumar\n",
    "sleep(1)\n",
    "selectCartorio = driver.find_element_by_xpath('//*[@id=\"numero_cartorio\"]/div[2]/ul/li[1]').click()\n"
   ]
  },
  {
   "cell_type": "code",
   "execution_count": 9,
   "metadata": {},
   "outputs": [],
   "source": [
    "# Add campos de participantes\n",
    "if Participantes['Quantidade'] > 1:\n",
    "    if contrato['Participante1'] == contrato['Titular']:\n",
    "        camposParticipantes = Participantes['Quantidade'] - 1\n",
    "    else:\n",
    "        camposParticipantes = Participantes['Quantidade']\n",
    "    for addCampo in range(0, camposParticipantes):\n",
    "        driver.find_element_by_xpath('//*[@id=\"main\"]/div/section[1]/div/div/form/button').click()\n",
    "        sleep(1)"
   ]
  },
  {
   "cell_type": "code",
   "execution_count": 10,
   "metadata": {},
   "outputs": [],
   "source": [
    "\n",
    "for quantidade in range(0, Participantes['Quantidade']):\n",
    "    # Preenchendo participantes\n",
    "    nomeParticipantes = driver.find_element_by_xpath(f'/html/body/div/main/div/section[1]/div/div/form/fieldset[{quantidade+3}]/div/label[3]/input')\n",
    "    emailParticipantes = driver.find_element_by_xpath(f'/html/body/div/main/div/section[1]/div/div/form/fieldset[{quantidade+3}]/div/label[4]/input')\n",
    "    participação = driver.find_element_by_xpath(f'/html/body/div/main/div/section[1]/div/div/form/fieldset[{quantidade+3}]/div/label[5]/input')\n",
    "    cnpjCpf = driver.find_element_by_xpath(f'/html/body/div/main/div/section[1]/div/div/form/fieldset[{quantidade+3}]/div/label[6]/input')\n",
    "    sexo = driver.find_element_by_xpath(f'/html/body/div/main/div/section[1]/div/div/form/fieldset[{quantidade+3}]/div/label[8]/input')\n",
    "    dataNacimento = driver.find_element_by_xpath(f'/html/body/div/main/div/section[1]/div/div/form/fieldset[{quantidade+3}]/div/label[9]/input')\n",
    "    telefone = driver.find_element_by_xpath(f'/html/body/div/main/div/section[1]/div/div/form/fieldset[{quantidade+3}]/div/label[10]/input')\n",
    "    ruaParticipantes = driver.find_element_by_xpath(f'/html/body/div/main/div/section[1]/div/div/form/fieldset[{quantidade+3}]/div/label[11]/input')\n",
    "    numeroParticipantes = driver.find_element_by_xpath(f'/html/body/div/main/div/section[1]/div/div/form/fieldset[{quantidade+3}]/div/label[12]/input')\n",
    "    complementoParticipantes = driver.find_element_by_xpath(f'/html/body/div/main/div/section[1]/div/div/form/fieldset[{quantidade+3}]/div/label[13]/input')\n",
    "    cidadeParticipantes = driver.find_element_by_xpath(f'/html/body/div/main/div/section[1]/div/div/form/fieldset[{quantidade+3}]/div/label[14]/input')\n",
    "    bairroParticipantes = driver.find_element_by_xpath(f'/html/body/div/main/div/section[1]/div/div/form/fieldset[{quantidade+3}]/div/label[15]/input')\n",
    "    ufParticipantes = driver.find_element_by_xpath(f'/html/body/div/main/div/section[1]/div/div/form/fieldset[{quantidade+3}]/div/label[16]/input')\n",
    "    cepParticipantes = driver.find_element_by_xpath(f'/html/body/div/main/div/section[1]/div/div/form/fieldset[{quantidade+3}]/div/label[17]/input')\n",
    "\n",
    "    # Limpar campos\n",
    "    nomeParticipantes.send_keys(Keys.CONTROL,\"a\")\n",
    "    nomeParticipantes.send_keys(Keys.DELETE)\n",
    "    \n",
    "    emailParticipantes.send_keys(Keys.CONTROL,\"a\")\n",
    "    emailParticipantes.send_keys(Keys.DELETE)\n",
    "    \n",
    "    participação.send_keys(Keys.CONTROL,\"a\")\n",
    "    participação.send_keys(Keys.DELETE)\n",
    "    \n",
    "    cnpjCpf.send_keys(Keys.CONTROL,\"a\")\n",
    "    cnpjCpf.send_keys(Keys.DELETE)\n",
    "    \n",
    "    sexo.send_keys(Keys.CONTROL,\"a\")\n",
    "    sexo.send_keys(Keys.DELETE)\n",
    "    \n",
    "    dataNacimento.send_keys(Keys.CONTROL,\"a\")\n",
    "    dataNacimento.send_keys(Keys.DELETE)\n",
    "    \n",
    "    telefone.send_keys(Keys.CONTROL,\"a\")\n",
    "    telefone.send_keys(Keys.DELETE)\n",
    "    \n",
    "    ruaParticipantes.send_keys(Keys.CONTROL,\"a\")\n",
    "    ruaParticipantes.send_keys(Keys.DELETE)\n",
    "    \n",
    "    numeroParticipantes.send_keys(Keys.CONTROL,\"a\")\n",
    "    numeroParticipantes.send_keys(Keys.DELETE)\n",
    "\n",
    "    complementoParticipantes.send_keys(Keys.CONTROL,\"a\")\n",
    "    complementoParticipantes.send_keys(Keys.DELETE)\n",
    "    \n",
    "    cidadeParticipantes.send_keys(Keys.CONTROL,\"a\")\n",
    "    cidadeParticipantes.send_keys(Keys.DELETE)\n",
    "    \n",
    "    bairroParticipantes.send_keys(Keys.CONTROL,\"a\")\n",
    "    bairroParticipantes.send_keys(Keys.DELETE)\n",
    "    \n",
    "    ufParticipantes.send_keys(Keys.CONTROL,\"a\")\n",
    "    ufParticipantes.send_keys(Keys.DELETE)\n",
    "    \n",
    "    cepParticipantes.send_keys(Keys.CONTROL,\"a\")\n",
    "    cepParticipantes.send_keys(Keys.DELETE)\n",
    "    \n",
    "    sleep(1)\n",
    "       \n",
    "    # Preencher campos\n",
    "    endereco = Participantes[f'endereço{quantidade+1}'].split(',')    # Separando a Rua do numero\n",
    "\n",
    "    nomeParticipantes.send_keys(contrato[f'Participante{quantidade+1}'])\n",
    "    emailParticipantes.send_keys(Participantes[f'email{quantidade+1}'])\n",
    "    participação.send_keys(contrato[f'Participação{quantidade+1}'])\n",
    "    cnpjCpf.send_keys(Participantes[f'cpf{quantidade+1}'])\n",
    "    #sexo.send_keys(Participantes[f'M'])                                # Desenvolver lógica para Sexo\n",
    "    dataNacimento.send_keys(Participantes[f'data de nascimento{quantidade+1}'])\n",
    "    telefone.send_keys(Participantes[f'telefone{quantidade+1}'])\n",
    "    ruaParticipantes.send_keys(endereco[0])\n",
    "    numeroParticipantes.send_keys(endereco[1])\n",
    "    endereco.clear()\n",
    "    complementoParticipantes.send_keys(Participantes[f'complemento{quantidade+1}'])\n",
    "    cidadeParticipantes.send_keys(Participantes[f'cidade{quantidade+1}'])\n",
    "    bairroParticipantes.send_keys(Participantes[f'bairro{quantidade+1}'])\n",
    "    ufParticipantes.send_keys(Participantes[f'uf{quantidade+1}'])\n",
    "    cepParticipantes.send_keys(Participantes[f'cep{quantidade+1}'])\n",
    "    sleep(1)\n"
   ]
  },
  {
   "cell_type": "code",
   "execution_count": 30,
   "metadata": {},
   "outputs": [
    {
     "data": {
      "text/plain": [
       "'12'"
      ]
     },
     "execution_count": 30,
     "metadata": {},
     "output_type": "execute_result"
    }
   ],
   "source": [
    "endereco = Participantes[f'endereço1'].split(',')\n",
    "endereco[1].strip()"
   ]
  },
  {
   "cell_type": "code",
   "execution_count": 67,
   "metadata": {},
   "outputs": [
    {
     "data": {
      "text/plain": [
       "3"
      ]
     },
     "execution_count": 67,
     "metadata": {},
     "output_type": "execute_result"
    }
   ],
   "source": [
    "Participantes['Quantidade']"
   ]
  },
  {
   "cell_type": "code",
   "execution_count": 15,
   "metadata": {},
   "outputs": [],
   "source": [
    "testdata = driver.find_element_by_xpath(\"/html/body/div/main/div/section[1]/div/div/form/fieldset[6]/div/label[6]/input\")\n",
    "testdata.send_keys(Keys.CONTROL,\"a\")\n",
    "testdata.send_keys(Keys.DELETE)"
   ]
  }
 ],
 "metadata": {
  "kernelspec": {
   "display_name": "Python 3.9.7 64-bit",
   "language": "python",
   "name": "python3"
  },
  "language_info": {
   "codemirror_mode": {
    "name": "ipython",
    "version": 3
   },
   "file_extension": ".py",
   "mimetype": "text/x-python",
   "name": "python",
   "nbconvert_exporter": "python",
   "pygments_lexer": "ipython3",
   "version": "3.9.7"
  },
  "orig_nbformat": 4,
  "vscode": {
   "interpreter": {
    "hash": "045832f79490e9a8a037a8f6e1a5c8ec877d805c4de0087de700d9a61e201314"
   }
  }
 },
 "nbformat": 4,
 "nbformat_minor": 2
}
