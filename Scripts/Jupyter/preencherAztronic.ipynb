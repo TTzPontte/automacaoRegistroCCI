{
 "cells": [
  {
   "cell_type": "code",
   "execution_count": 21,
   "metadata": {},
   "outputs": [],
   "source": [
    "# Bibliotecas\n",
    "from selenium.webdriver.support.ui import Select\n",
    "from selenium import webdriver\n",
    "from time import sleep\n",
    "import sys\n",
    "from selenium.webdriver.common.keys import Keys\n",
    "sys.path.insert(0, 'C:\\\\Users\\\\MatheusPereira\\\\OneDrive - Pontte\\\\Área de Trabalho\\\\automacaoRegistroCCI\\\\Scripts')\n",
    "import lerContrato as lc\n",
    "from lerContrato import lerContrato\n",
    "\n"
   ]
  },
  {
   "cell_type": "code",
   "execution_count": 22,
   "metadata": {},
   "outputs": [],
   "source": [
    "anexoCalculoFluxo = r'C:\\Users\\MatheusPereira\\OneDrive - Pontte\\Área de Trabalho\\automacaoRegistroCCI\\CalculoDeFluxo\\Cálculo_Fluxo_Conrado.xlsx'\n",
    "contratoPath = r'C:\\Users\\MatheusPereira\\OneDrive - Pontte\\Área de Trabalho\\automacaoRegistroCCI\\Contratos\\HE_Contrato_Oliboni _Assinatura Digital_VFinal.pdf'"
   ]
  },
  {
   "cell_type": "code",
   "execution_count": 23,
   "metadata": {},
   "outputs": [],
   "source": [
    "#ChromeDriver\n",
    "driver = webdriver.Chrome(executable_path=r'G:\\Drives compartilhados\\Pontte\\Operações\\Automações\\Scripts\\Pontte\\Driver\\chromedriver.exe')\n",
    "\n",
    "#Acessar API Aztronic\n",
    "driver.get('http://aztronic.s3-website-us-east-1.amazonaws.com/')\n",
    "sleep(3)"
   ]
  },
  {
   "cell_type": "code",
   "execution_count": 24,
   "metadata": {},
   "outputs": [],
   "source": [
    "# Upload do Calculo de fluxo \n",
    "\n",
    "anexarCalculoFluxo = driver.find_element_by_xpath('//*[@id=\"main\"]/div/section[1]/div/div/form/fieldset[1]/div[1]/label/input')\n",
    "anexarCalculoFluxo.send_keys(anexoCalculoFluxo)\n",
    "sleep(2)"
   ]
  },
  {
   "cell_type": "code",
   "execution_count": 25,
   "metadata": {},
   "outputs": [
    {
     "name": "stdout",
     "output_type": "stream",
     "text": [
      "3\n"
     ]
    },
    {
     "data": {
      "text/plain": [
       "{'valorTotal': '3201801.53',\n",
       " 'tabela': 'SAC',\n",
       " 'registro': '10554.15',\n",
       " 'Taxa ao Mes': 0.1268,\n",
       " 'valorLiquido': '2981000.00',\n",
       " 'prazoMes': '228',\n",
       " 'valorPrimeiraParcelaComEncargos': '48642.95',\n",
       " 'valorImóvel': '6188000.00',\n",
       " 'prazoContrato': '225',\n",
       " 'ultimaParcela': '15/06/2041',\n",
       " 'dataContrato': '28/06/2022',\n",
       " 'valorPrimeiraParcela': '47494.30',\n",
       " 'primeiraParcela': '15/10/2022',\n",
       " 'indice': 'IPCA',\n",
       " 'Matrícula': '24515',\n",
       " 'Cartório': '02 de Registro Geral do 9º Oficial de Registro de Imóveis da Comarca de Niterói/RJ',\n",
       " 'CCI': '0001114017/OPS',\n",
       " 'Titular': 'OLIBONI PARTICIPAÇÕES S/A ',\n",
       " 'Participante1': 'ALENCAR LUIZ OLIBONI',\n",
       " 'Participação1': '33%',\n",
       " 'Participante2': 'LEONARDO COLODA OLIBONI',\n",
       " 'Participação2': '33%',\n",
       " 'Participante3': 'MARINA COLODA OLIBONI',\n",
       " 'Participação3': '33%'}"
      ]
     },
     "execution_count": 25,
     "metadata": {},
     "output_type": "execute_result"
    }
   ],
   "source": [
    "# Extraido informações com o leitor de contratos\n",
    "\n",
    "contrato = lerContrato(contratoPath)\n",
    "numParticipantes = lc.numParticipantes(contratoPath)\n",
    "print(numParticipantes)\n",
    "contrato"
   ]
  },
  {
   "cell_type": "code",
   "execution_count": 26,
   "metadata": {},
   "outputs": [],
   "source": [
    "# Teste\n",
    "matricula = contrato['Matrícula']\n",
    "matricula = matricula.replace('.',\"\")"
   ]
  },
  {
   "cell_type": "code",
   "execution_count": 27,
   "metadata": {},
   "outputs": [],
   "source": [
    "# Add campos de participantes\n",
    "if numParticipantes > 1:\n",
    "    for addCampo in range(0, numParticipantes):\n",
    "        driver.find_element_by_xpath('//*[@id=\"main\"]/div/section[1]/div/div/form/button').click()\n",
    "        sleep(1)"
   ]
  },
  {
   "cell_type": "code",
   "execution_count": 20,
   "metadata": {},
   "outputs": [],
   "source": [
    "# Pegando Xpath para preencher API\n",
    "\n",
    "dataContrato = driver.find_element_by_xpath('//*[@id=\"data_contrato\"]')\n",
    "codigoIntegracao = driver.find_element_by_xpath('//*[@id=\"codigo_integracao\"]')\n",
    "ruaGaranti = driver.find_element_by_xpath('//*[@id=\"rua\"]')\n",
    "numeroGarantia = driver.find_element_by_xpath('//*[@id=\"numero\"]')\n",
    "complementoGarantia = driver.find_element_by_xpath('//*[@id=\"complemento\"]')\n",
    "cidadeGarantia = driver.find_element_by_xpath('//*[@id=\"cidade\"]')\n",
    "bairroGarantia = driver.find_element_by_xpath('//*[@id=\"bairro\"]')\n",
    "ufGarantia = driver.find_element_by_xpath('//*[@id=\"UF\"]')\n",
    "cepGarantia = driver.find_element_by_xpath('//*[@id=\"cep\"]')\n",
    "unidadeGarantia = driver.find_element_by_xpath('//*[@id=\"unidade\"]')\n",
    "blocoGarantia = driver.find_element_by_xpath('//*[@id=\"Bloco\"]')\n",
    "matriculaGarantia = driver.find_element_by_xpath('//*[@id=\"matricula\"]')\n"
   ]
  },
  {
   "cell_type": "code",
   "execution_count": 8,
   "metadata": {},
   "outputs": [],
   "source": [
    "ruaGaranti.send_keys(Keys.CONTROL,\"a\")\n",
    "ruaGaranti.send_keys(Keys.DELETE)\n",
    "\n",
    "numeroGarantia.send_keys(Keys.CONTROL,\"a\")\n",
    "numeroGarantia.send_keys(Keys.DELETE)\n",
    "\n",
    "complementoGarantia.send_keys(Keys.CONTROL,\"a\")\n",
    "complementoGarantia.send_keys(Keys.DELETE)\n",
    "\n",
    "cidadeGarantia.send_keys(Keys.CONTROL,\"a\")\n",
    "cidadeGarantia.send_keys(Keys.DELETE)\n",
    "\n",
    "bairroGarantia.send_keys(Keys.CONTROL,\"a\")\n",
    "bairroGarantia.send_keys(Keys.DELETE)\n",
    "\n",
    "ufGarantia.send_keys(Keys.CONTROL,\"a\")\n",
    "ufGarantia.send_keys(Keys.DELETE)\n",
    "\n",
    "cepGarantia.send_keys(Keys.CONTROL,\"a\")\n",
    "cepGarantia.send_keys(Keys.DELETE)\n",
    "\n",
    "unidadeGarantia.send_keys(Keys.CONTROL,\"a\")\n",
    "unidadeGarantia.send_keys(Keys.DELETE)\n",
    "\n",
    "blocoGarantia.send_keys(Keys.CONTROL,\"a\")\n",
    "blocoGarantia.send_keys(Keys.DELETE)\n",
    "\n",
    "matriculaGarantia.send_keys(Keys.CONTROL,\"a\")\n",
    "matriculaGarantia.send_keys(Keys.DELETE)"
   ]
  },
  {
   "cell_type": "code",
   "execution_count": 9,
   "metadata": {},
   "outputs": [],
   "source": [
    "# Preenchendo API\n",
    "\n",
    "dataContrato.send_keys(contrato['dataContrato'])        # Colocar a data correta, no momento esta a data de desembolso \n",
    "codigoIntegracao.send_keys('!!!Teste!!!')               # Colocar o código correto na variavel\n",
    "ruaGaranti.send_keys('Rua toca galo')\n",
    "driver.find_element_by_xpath('//*[@id=\"numero\"]').send_keys('77')\n",
    "complementoGarantia.send_keys('casas')\n",
    "cidadeGarantia.send_keys('MineCraft')\n",
    "bairroGarantia.send_keys('vila do diamante')\n",
    "ufGarantia.send_keys('MC')\n",
    "cepGarantia.send_keys('20202-202')\n",
    "unidadeGarantia.send_keys('un 01')\n",
    "blocoGarantia.send_keys('bl 1')\n",
    "matriculaGarantia.send_keys(matricula)\n",
    "cartorio = driver.find_element_by_xpath('//*[@id=\"numero_cartorio\"]').click()\n",
    "sleep(1)\n",
    "selectCartorio = driver.find_element_by_xpath('//*[@id=\"numero_cartorio\"]/div[2]/ul/li[1]').click()\n"
   ]
  },
  {
   "cell_type": "code",
   "execution_count": 15,
   "metadata": {},
   "outputs": [],
   "source": [
    "# Preenchendo participantes\n",
    "nomeParticipantes = driver.find_element_by_xpath('//*[@id=\"nome\"]')\n",
    "nomeParticipantes.clear()\n",
    "nomeParticipantes.send_keys('Pereira')\n"
   ]
  }
 ],
 "metadata": {
  "kernelspec": {
   "display_name": "Python 3.9.7 64-bit",
   "language": "python",
   "name": "python3"
  },
  "language_info": {
   "codemirror_mode": {
    "name": "ipython",
    "version": 3
   },
   "file_extension": ".py",
   "mimetype": "text/x-python",
   "name": "python",
   "nbconvert_exporter": "python",
   "pygments_lexer": "ipython3",
   "version": "3.9.7"
  },
  "orig_nbformat": 4,
  "vscode": {
   "interpreter": {
    "hash": "045832f79490e9a8a037a8f6e1a5c8ec877d805c4de0087de700d9a61e201314"
   }
  }
 },
 "nbformat": 4,
 "nbformat_minor": 2
}
