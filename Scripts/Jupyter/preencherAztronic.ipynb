{
 "cells": [
  {
   "cell_type": "code",
   "execution_count": 28,
   "metadata": {},
   "outputs": [],
   "source": [
    "# Bibliotecas\n",
    "from selenium.webdriver.support.ui import Select\n",
    "from selenium import webdriver\n",
    "from time import sleep\n",
    "import sys\n",
    "from selenium.webdriver.common.keys import Keys\n",
    "sys.path.insert(0, 'C:\\\\Users\\\\MatheusPereira\\\\OneDrive - Pontte\\\\Área de Trabalho\\\\automacaoRegistroCCI\\\\Scripts')\n",
    "import lerContrato as lc\n",
    "from lerContrato import lerContrato\n",
    "\n"
   ]
  },
  {
   "cell_type": "code",
   "execution_count": 29,
   "metadata": {},
   "outputs": [],
   "source": [
    "anexoCalculoFluxo = r'C:\\Users\\MatheusPereira\\OneDrive - Pontte\\Área de Trabalho\\automacaoRegistroCCI\\CalculoDeFluxo\\Cálculo_Fluxo_Conrado.xlsx'\n",
    "contratoPath = r'C:\\Users\\MatheusPereira\\OneDrive - Pontte\\Área de Trabalho\\automacaoRegistroCCI\\Contratos\\HE_Contrato_Oliboni _Assinatura Digital_VFinal.pdf'"
   ]
  },
  {
   "cell_type": "code",
   "execution_count": 30,
   "metadata": {},
   "outputs": [],
   "source": [
    "#ChromeDriver\n",
    "driver = webdriver.Chrome(executable_path=r'G:\\Drives compartilhados\\Pontte\\Operações\\Automações\\Scripts\\Pontte\\Driver\\chromedriver.exe')\n",
    "\n",
    "#Acessar API Aztronic\n",
    "driver.get('http://aztronic.s3-website-us-east-1.amazonaws.com/')\n",
    "sleep(3)"
   ]
  },
  {
   "cell_type": "code",
   "execution_count": 31,
   "metadata": {},
   "outputs": [],
   "source": [
    "# Upload do Calculo de fluxo \n",
    "\n",
    "anexarCalculoFluxo = driver.find_element_by_xpath('//*[@id=\"main\"]/div/section[1]/div/div/form/fieldset[1]/div[1]/label/input')\n",
    "anexarCalculoFluxo.send_keys(anexoCalculoFluxo)\n",
    "sleep(2)"
   ]
  },
  {
   "cell_type": "code",
   "execution_count": 32,
   "metadata": {},
   "outputs": [
    {
     "name": "stdout",
     "output_type": "stream",
     "text": [
      "{'Quantidade': 3, 'cpf1': '337.550.780-15', 'data de nascimento1': '18/06/1961', 'endereço1': 'AVENIDA RUI BARBOSA, 12', 'complemento1': 'APTO 501', 'bairro1': 'SÃO FRANCISCO', 'cidade1': 'NITERÓI', 'uf1': 'RJ', 'cep1': '24360-440', 'telefone1': '(21) 99983 2620', 'email1': 'alencaroliboni@terra.com.br', 'cpf2': '128.225.257-73', 'data de nascimento2': '05/03/1990', 'endereço2': 'RUA EURICO MANUEL DO CARMO, 02', 'complemento2': 'BL. 2, AP 304', 'bairro2': 'CHARITAS', 'cidade2': 'NITERÓI', 'uf2': 'RJ', 'cep2': '24370090', 'telefone2': '(21) 99983 2620', 'email2': 'alencaroliboni@terra.com.br', 'cpf3': '124.246.777-78', 'data de nascimento3': '08/12/1988', 'endereço3': 'RUA AMORA, 501', 'complemento3': 'CASA G17', 'bairro3': 'PIRATININGA', 'cidade3': 'NITERÓI', 'uf3': 'RJ', 'cep3': '24350-590', 'telefone3': '(21) 99983 2620', 'email3': 'alencaroliboni@terra.com.br'}\n"
     ]
    },
    {
     "data": {
      "text/plain": [
       "{'valorTotal': '3201801.53',\n",
       " 'tabela': 'SAC',\n",
       " 'registro': '10554.15',\n",
       " 'Taxa ao Mes': 0.1268,\n",
       " 'valorLiquido': '2981000.00',\n",
       " 'prazoMes': '228',\n",
       " 'valorPrimeiraParcelaComEncargos': '48642.95',\n",
       " 'valorImóvel': '6188000.00',\n",
       " 'prazoContrato': '225',\n",
       " 'ultimaParcela': '15/06/2041',\n",
       " 'dataContrato': '24/06/2022',\n",
       " 'valorPrimeiraParcela': '47494.30',\n",
       " 'primeiraParcela': '15/10/2022',\n",
       " 'indice': 'IPCA',\n",
       " 'Matrícula': '24515',\n",
       " 'Cartório': '02 de Registro Geral do 9º Oficial de Registro de Imóveis da Comarca de Niterói/RJ',\n",
       " 'CCI': '0001114017/OPS',\n",
       " 'Titular': 'OLIBONI PARTICIPAÇÕES S/A ',\n",
       " 'Participante1': 'ALENCAR LUIZ OLIBONI',\n",
       " 'Participação1': '33%',\n",
       " 'Participante2': 'LEONARDO COLODA OLIBONI',\n",
       " 'Participação2': '33%',\n",
       " 'Participante3': 'MARINA COLODA OLIBONI',\n",
       " 'Participação3': '33%'}"
      ]
     },
     "execution_count": 32,
     "metadata": {},
     "output_type": "execute_result"
    }
   ],
   "source": [
    "# Extraido informações com o leitor de contratos\n",
    "\n",
    "contrato = lerContrato(contratoPath)\n",
    "Participantes = lc.dadosParticipantes(contratoPath,contrato)\n",
    "print(Participantes)\n",
    "contrato"
   ]
  },
  {
   "cell_type": "code",
   "execution_count": 33,
   "metadata": {},
   "outputs": [],
   "source": [
    "# Teste\n",
    "matricula = contrato['Matrícula']\n",
    "matricula = matricula.replace('.',\"\")"
   ]
  },
  {
   "cell_type": "code",
   "execution_count": 34,
   "metadata": {},
   "outputs": [],
   "source": [
    "# Pegando Xpath para preencher API\n",
    "\n",
    "dataContrato = driver.find_element_by_xpath('//*[@id=\"data_contrato\"]')\n",
    "codigoIntegracao = driver.find_element_by_xpath('//*[@id=\"codigo_integracao\"]')\n",
    "ruaGaranti = driver.find_element_by_xpath('//*[@id=\"rua\"]')\n",
    "numeroGarantia = driver.find_element_by_xpath('//*[@id=\"numero\"]')\n",
    "complementoGarantia = driver.find_element_by_xpath('//*[@id=\"complemento\"]')\n",
    "cidadeGarantia = driver.find_element_by_xpath('//*[@id=\"cidade\"]')\n",
    "bairroGarantia = driver.find_element_by_xpath('//*[@id=\"bairro\"]')\n",
    "ufGarantia = driver.find_element_by_xpath('//*[@id=\"UF\"]')\n",
    "cepGarantia = driver.find_element_by_xpath('//*[@id=\"cep\"]')\n",
    "unidadeGarantia = driver.find_element_by_xpath('//*[@id=\"unidade\"]')\n",
    "blocoGarantia = driver.find_element_by_xpath('//*[@id=\"Bloco\"]')\n",
    "matriculaGarantia = driver.find_element_by_xpath('//*[@id=\"matricula\"]')\n"
   ]
  },
  {
   "cell_type": "code",
   "execution_count": 35,
   "metadata": {},
   "outputs": [],
   "source": [
    "dataContrato.send_keys(Keys.CONTROL,\"a\")\n",
    "dataContrato.send_keys(Keys.DELETE)\n",
    "\n",
    "numeroGarantia.send_keys(Keys.CONTROL,\"a\")\n",
    "numeroGarantia.send_keys(Keys.DELETE)\n",
    "\n",
    "complementoGarantia.send_keys(Keys.CONTROL,\"a\")\n",
    "complementoGarantia.send_keys(Keys.DELETE)\n",
    "\n",
    "cidadeGarantia.send_keys(Keys.CONTROL,\"a\")\n",
    "cidadeGarantia.send_keys(Keys.DELETE)\n",
    "\n",
    "bairroGarantia.send_keys(Keys.CONTROL,\"a\")\n",
    "bairroGarantia.send_keys(Keys.DELETE)\n",
    "\n",
    "ufGarantia.send_keys(Keys.CONTROL,\"a\")\n",
    "ufGarantia.send_keys(Keys.DELETE)\n",
    "\n",
    "cepGarantia.send_keys(Keys.CONTROL,\"a\")\n",
    "cepGarantia.send_keys(Keys.DELETE)\n",
    "\n",
    "unidadeGarantia.send_keys(Keys.CONTROL,\"a\")\n",
    "unidadeGarantia.send_keys(Keys.DELETE)\n",
    "\n",
    "blocoGarantia.send_keys(Keys.CONTROL,\"a\")\n",
    "blocoGarantia.send_keys(Keys.DELETE)\n",
    "\n",
    "matriculaGarantia.send_keys(Keys.CONTROL,\"a\")\n",
    "matriculaGarantia.send_keys(Keys.DELETE)"
   ]
  },
  {
   "cell_type": "code",
   "execution_count": 39,
   "metadata": {},
   "outputs": [],
   "source": [
    "# Preenchendo API\n",
    "\n",
    "dataContrato.send_keys(contrato['dataContrato'])        \n",
    "codigoIntegracao.send_keys(contrato['CCI'])\n",
    "driver.find_element_by_xpath('/html/body/div/main/div/section[1]/div/div/form/fieldset[3]/div/label[1]/input').send_keys(contrato['CCI'])\n",
    "\n",
    "ruaGaranti.send_keys('Rua toca galo')                                        # Laudo\n",
    "driver.find_element_by_xpath('//*[@id=\"numero\"]').send_keys('77')            # ||\n",
    "complementoGarantia.send_keys('casas')                                       # ||\n",
    "cidadeGarantia.send_keys('MineCraft')                                        # ||\n",
    "bairroGarantia.send_keys('vila do diamante')                                 # ||\n",
    "ufGarantia.send_keys('MC')                                                   # ||\n",
    "cepGarantia.send_keys('20202-202')                                           # ||\n",
    "unidadeGarantia.send_keys('un 01')                                           # ||\n",
    "blocoGarantia.send_keys('bl 1')                                              # ||\n",
    "\n",
    "matriculaGarantia.send_keys(contrato['Matrícula'])\n",
    "\n",
    "# Selecionar o cartório \n",
    "cartorio = driver.find_element_by_xpath('//*[@id=\"numero_cartorio\"]').click()              # Por enquanto tem que arrumar na Az até Tech arrumar\n",
    "sleep(1)\n",
    "selectCartorio = driver.find_element_by_xpath('//*[@id=\"numero_cartorio\"]/div[2]/ul/li[1]').click()\n"
   ]
  },
  {
   "cell_type": "code",
   "execution_count": 37,
   "metadata": {},
   "outputs": [],
   "source": [
    "# Add campos de participantes\n",
    "if Participantes['Quantidade'] > 1:\n",
    "    for addCampo in range(0, Participantes['Quantidade']):\n",
    "        driver.find_element_by_xpath('//*[@id=\"main\"]/div/section[1]/div/div/form/button').click()\n",
    "        sleep(1)"
   ]
  },
  {
   "cell_type": "code",
   "execution_count": 38,
   "metadata": {},
   "outputs": [
    {
     "ename": "InvalidSelectorException",
     "evalue": "Message: invalid selector: Unable to locate an element with the xpath expression  because of the following error:\nSyntaxError: Failed to execute 'evaluate' on 'Document': The string '' is not a valid XPath expression.\n  (Session info: chrome=104.0.5112.101)\n",
     "output_type": "error",
     "traceback": [
      "\u001b[1;31m---------------------------------------------------------------------------\u001b[0m",
      "\u001b[1;31mInvalidSelectorException\u001b[0m                  Traceback (most recent call last)",
      "\u001b[1;32mc:\\Users\\MatheusPereira\\OneDrive - Pontte\\Área de Trabalho\\automacaoRegistroCCI\\Scripts\\Jupyter\\preencherAztronic.ipynb Célula: 11\u001b[0m in \u001b[0;36m<cell line: 3>\u001b[1;34m()\u001b[0m\n\u001b[0;32m      <a href='vscode-notebook-cell:/c%3A/Users/MatheusPereira/OneDrive%20-%20Pontte/%C3%81rea%20de%20Trabalho/automacaoRegistroCCI/Scripts/Jupyter/preencherAztronic.ipynb#X13sZmlsZQ%3D%3D?line=0'>1</a>\u001b[0m \u001b[39m# Preenchendo participantes\u001b[39;00m\n\u001b[0;32m      <a href='vscode-notebook-cell:/c%3A/Users/MatheusPereira/OneDrive%20-%20Pontte/%C3%81rea%20de%20Trabalho/automacaoRegistroCCI/Scripts/Jupyter/preencherAztronic.ipynb#X13sZmlsZQ%3D%3D?line=1'>2</a>\u001b[0m nomeParticipantes \u001b[39m=\u001b[39m driver\u001b[39m.\u001b[39mfind_element_by_xpath(\u001b[39m'\u001b[39m\u001b[39m/html/body/div/main/div/section[1]/div/div/form/fieldset[3]/div/label[3]/input\u001b[39m\u001b[39m'\u001b[39m)\n\u001b[1;32m----> <a href='vscode-notebook-cell:/c%3A/Users/MatheusPereira/OneDrive%20-%20Pontte/%C3%81rea%20de%20Trabalho/automacaoRegistroCCI/Scripts/Jupyter/preencherAztronic.ipynb#X13sZmlsZQ%3D%3D?line=2'>3</a>\u001b[0m emailParticipantes \u001b[39m=\u001b[39m driver\u001b[39m.\u001b[39;49mfind_element_by_xpath(\u001b[39m'\u001b[39;49m\u001b[39m'\u001b[39;49m)\n\u001b[0;32m      <a href='vscode-notebook-cell:/c%3A/Users/MatheusPereira/OneDrive%20-%20Pontte/%C3%81rea%20de%20Trabalho/automacaoRegistroCCI/Scripts/Jupyter/preencherAztronic.ipynb#X13sZmlsZQ%3D%3D?line=3'>4</a>\u001b[0m participação \u001b[39m=\u001b[39m driver\u001b[39m.\u001b[39mfind_element_by_xpath()\n\u001b[0;32m      <a href='vscode-notebook-cell:/c%3A/Users/MatheusPereira/OneDrive%20-%20Pontte/%C3%81rea%20de%20Trabalho/automacaoRegistroCCI/Scripts/Jupyter/preencherAztronic.ipynb#X13sZmlsZQ%3D%3D?line=4'>5</a>\u001b[0m cnpjCpf \u001b[39m=\u001b[39m driver\u001b[39m.\u001b[39mfind_element_by_xpath(\u001b[39m'\u001b[39m\u001b[39m'\u001b[39m)\n",
      "File \u001b[1;32mc:\\Users\\MatheusPereira\\AppData\\Local\\Programs\\Python\\Python39\\lib\\site-packages\\selenium\\webdriver\\remote\\webdriver.py:394\u001b[0m, in \u001b[0;36mWebDriver.find_element_by_xpath\u001b[1;34m(self, xpath)\u001b[0m\n\u001b[0;32m    378\u001b[0m \u001b[39mdef\u001b[39;00m \u001b[39mfind_element_by_xpath\u001b[39m(\u001b[39mself\u001b[39m, xpath):\n\u001b[0;32m    379\u001b[0m     \u001b[39m\"\"\"\u001b[39;00m\n\u001b[0;32m    380\u001b[0m \u001b[39m    Finds an element by xpath.\u001b[39;00m\n\u001b[0;32m    381\u001b[0m \n\u001b[1;32m   (...)\u001b[0m\n\u001b[0;32m    392\u001b[0m \u001b[39m        element = driver.find_element_by_xpath('//div/td[1]')\u001b[39;00m\n\u001b[0;32m    393\u001b[0m \u001b[39m    \"\"\"\u001b[39;00m\n\u001b[1;32m--> 394\u001b[0m     \u001b[39mreturn\u001b[39;00m \u001b[39mself\u001b[39;49m\u001b[39m.\u001b[39;49mfind_element(by\u001b[39m=\u001b[39;49mBy\u001b[39m.\u001b[39;49mXPATH, value\u001b[39m=\u001b[39;49mxpath)\n",
      "File \u001b[1;32mc:\\Users\\MatheusPereira\\AppData\\Local\\Programs\\Python\\Python39\\lib\\site-packages\\selenium\\webdriver\\remote\\webdriver.py:976\u001b[0m, in \u001b[0;36mWebDriver.find_element\u001b[1;34m(self, by, value)\u001b[0m\n\u001b[0;32m    974\u001b[0m         by \u001b[39m=\u001b[39m By\u001b[39m.\u001b[39mCSS_SELECTOR\n\u001b[0;32m    975\u001b[0m         value \u001b[39m=\u001b[39m \u001b[39m'\u001b[39m\u001b[39m[name=\u001b[39m\u001b[39m\"\u001b[39m\u001b[39m%s\u001b[39;00m\u001b[39m\"\u001b[39m\u001b[39m]\u001b[39m\u001b[39m'\u001b[39m \u001b[39m%\u001b[39m value\n\u001b[1;32m--> 976\u001b[0m \u001b[39mreturn\u001b[39;00m \u001b[39mself\u001b[39;49m\u001b[39m.\u001b[39;49mexecute(Command\u001b[39m.\u001b[39;49mFIND_ELEMENT, {\n\u001b[0;32m    977\u001b[0m     \u001b[39m'\u001b[39;49m\u001b[39musing\u001b[39;49m\u001b[39m'\u001b[39;49m: by,\n\u001b[0;32m    978\u001b[0m     \u001b[39m'\u001b[39;49m\u001b[39mvalue\u001b[39;49m\u001b[39m'\u001b[39;49m: value})[\u001b[39m'\u001b[39m\u001b[39mvalue\u001b[39m\u001b[39m'\u001b[39m]\n",
      "File \u001b[1;32mc:\\Users\\MatheusPereira\\AppData\\Local\\Programs\\Python\\Python39\\lib\\site-packages\\selenium\\webdriver\\remote\\webdriver.py:321\u001b[0m, in \u001b[0;36mWebDriver.execute\u001b[1;34m(self, driver_command, params)\u001b[0m\n\u001b[0;32m    319\u001b[0m response \u001b[39m=\u001b[39m \u001b[39mself\u001b[39m\u001b[39m.\u001b[39mcommand_executor\u001b[39m.\u001b[39mexecute(driver_command, params)\n\u001b[0;32m    320\u001b[0m \u001b[39mif\u001b[39;00m response:\n\u001b[1;32m--> 321\u001b[0m     \u001b[39mself\u001b[39;49m\u001b[39m.\u001b[39;49merror_handler\u001b[39m.\u001b[39;49mcheck_response(response)\n\u001b[0;32m    322\u001b[0m     response[\u001b[39m'\u001b[39m\u001b[39mvalue\u001b[39m\u001b[39m'\u001b[39m] \u001b[39m=\u001b[39m \u001b[39mself\u001b[39m\u001b[39m.\u001b[39m_unwrap_value(\n\u001b[0;32m    323\u001b[0m         response\u001b[39m.\u001b[39mget(\u001b[39m'\u001b[39m\u001b[39mvalue\u001b[39m\u001b[39m'\u001b[39m, \u001b[39mNone\u001b[39;00m))\n\u001b[0;32m    324\u001b[0m     \u001b[39mreturn\u001b[39;00m response\n",
      "File \u001b[1;32mc:\\Users\\MatheusPereira\\AppData\\Local\\Programs\\Python\\Python39\\lib\\site-packages\\selenium\\webdriver\\remote\\errorhandler.py:242\u001b[0m, in \u001b[0;36mErrorHandler.check_response\u001b[1;34m(self, response)\u001b[0m\n\u001b[0;32m    240\u001b[0m         alert_text \u001b[39m=\u001b[39m value[\u001b[39m'\u001b[39m\u001b[39malert\u001b[39m\u001b[39m'\u001b[39m]\u001b[39m.\u001b[39mget(\u001b[39m'\u001b[39m\u001b[39mtext\u001b[39m\u001b[39m'\u001b[39m)\n\u001b[0;32m    241\u001b[0m     \u001b[39mraise\u001b[39;00m exception_class(message, screen, stacktrace, alert_text)\n\u001b[1;32m--> 242\u001b[0m \u001b[39mraise\u001b[39;00m exception_class(message, screen, stacktrace)\n",
      "\u001b[1;31mInvalidSelectorException\u001b[0m: Message: invalid selector: Unable to locate an element with the xpath expression  because of the following error:\nSyntaxError: Failed to execute 'evaluate' on 'Document': The string '' is not a valid XPath expression.\n  (Session info: chrome=104.0.5112.101)\n"
     ]
    }
   ],
   "source": [
    "# Preenchendo participantes\n",
    "nomeParticipantes = driver.find_element_by_xpath('/html/body/div/main/div/section[1]/div/div/form/fieldset[3]/div/label[3]/input')\n",
    "emailParticipantes = driver.find_element_by_xpath('/html/body/div/main/div/section[1]/div/div/form/fieldset[3]/div/label[4]/input')\n",
    "participação = driver.find_element_by_xpath('/html/body/div/main/div/section[1]/div/div/form/fieldset[3]/div/label[5]/input')\n",
    "cnpjCpf = driver.find_element_by_xpath('/html/body/div/main/div/section[1]/div/div/form/fieldset[3]/div/label[6]/input')\n",
    "sexo = driver.find_element_by_xpath('/html/body/div/main/div/section[1]/div/div/form/fieldset[3]/div/label[8]/input')\n",
    "dataNacimento = driver.find_element_by_xpath('/html/body/div/main/div/section[1]/div/div/form/fieldset[3]/div/label[9]/input')\n",
    "telefone = driver.find_element_by_xpath('/html/body/div/main/div/section[1]/div/div/form/fieldset[3]/div/label[10]/input')\n",
    "ruaParticipantes = driver.find_element_by_xpath('/html/body/div/main/div/section[1]/div/div/form/fieldset[3]/div/label[11]/input')\n",
    "numeroParticipantes = driver.find_element_by_xpath('/html/body/div/main/div/section[1]/div/div/form/fieldset[3]/div/label[12]/input')\n",
    "complementoParticipantes = driver.find_element_by_xpath('/html/body/div/main/div/section[1]/div/div/form/fieldset[3]/div/label[13]/input')\n",
    "cidadeParticipantes = driver.find_element_by_xpath('/html/body/div/main/div/section[1]/div/div/form/fieldset[3]/div/label[14]/input')\n",
    "bairroParticipantes = driver.find_element_by_xpath('/html/body/div/main/div/section[1]/div/div/form/fieldset[3]/div/label[15]/input')\n",
    "ufParticipantes = driver.find_element_by_xpath('/html/body/div/main/div/section[1]/div/div/form/fieldset[3]/div/label[16]/input')\n",
    "cepParticipantes = driver.find_element_by_xpath('/html/body/div/main/div/section[1]/div/div/form/fieldset[3]/div/label[17]/input')\n",
    "\n",
    "\n"
   ]
  },
  {
   "cell_type": "code",
   "execution_count": null,
   "metadata": {},
   "outputs": [],
   "source": [
    "# Limpar campos\n",
    "nomeParticipantes.clear()"
   ]
  },
  {
   "cell_type": "code",
   "execution_count": null,
   "metadata": {},
   "outputs": [],
   "source": [
    "nomeParticipantes.send_keys(contrato['Participante1'])"
   ]
  },
  {
   "cell_type": "code",
   "execution_count": 15,
   "metadata": {},
   "outputs": [],
   "source": [
    "testdata = driver.find_element_by_xpath(\"/html/body/div/main/div/section[1]/div/div/form/fieldset[6]/div/label[6]/input\")\n",
    "testdata.send_keys(Keys.CONTROL,\"a\")\n",
    "testdata.send_keys(Keys.DELETE)"
   ]
  }
 ],
 "metadata": {
  "kernelspec": {
   "display_name": "Python 3.9.7 64-bit",
   "language": "python",
   "name": "python3"
  },
  "language_info": {
   "codemirror_mode": {
    "name": "ipython",
    "version": 3
   },
   "file_extension": ".py",
   "mimetype": "text/x-python",
   "name": "python",
   "nbconvert_exporter": "python",
   "pygments_lexer": "ipython3",
   "version": "3.9.7"
  },
  "orig_nbformat": 4,
  "vscode": {
   "interpreter": {
    "hash": "045832f79490e9a8a037a8f6e1a5c8ec877d805c4de0087de700d9a61e201314"
   }
  }
 },
 "nbformat": 4,
 "nbformat_minor": 2
}
