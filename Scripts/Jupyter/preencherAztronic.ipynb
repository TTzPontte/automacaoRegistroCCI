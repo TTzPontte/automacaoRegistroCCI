{
 "cells": [
  {
   "cell_type": "code",
   "execution_count": 1,
   "metadata": {},
   "outputs": [],
   "source": [
    "# Bibliotecas\n",
    "from selenium.webdriver.support.ui import Select\n",
    "from selenium import webdriver\n",
    "from time import sleep\n",
    "import sys\n",
    "sys.path.insert(0, 'C:\\\\Users\\\\MatheusPereira\\\\OneDrive - Pontte\\\\Área de Trabalho\\\\automacaoRegistroCCI\\\\Scripts')\n",
    "from lerContrato import lerContrato\n"
   ]
  },
  {
   "cell_type": "code",
   "execution_count": 2,
   "metadata": {},
   "outputs": [],
   "source": [
    "anexoCalculoFluxo = r'C:\\Users\\MatheusPereira\\OneDrive - Pontte\\Área de Trabalho\\automacaoRegistroCCI\\CalculoDeFluxo\\Cálculo_Fluxo_Conrado.xlsx'\n",
    "contratoPath = r'C:\\Users\\MatheusPereira\\OneDrive - Pontte\\Área de Trabalho\\automacaoRegistroCCI\\Contratos\\HE_Contrato_Conrado_Assinatura Digital_VFinal - Conrado.pdf'"
   ]
  },
  {
   "cell_type": "code",
   "execution_count": 3,
   "metadata": {},
   "outputs": [],
   "source": [
    "#ChromeDriver\n",
    "driver = webdriver.Chrome(executable_path=r'G:\\Drives compartilhados\\Pontte\\Operações\\Automações\\Scripts\\Pontte\\Driver\\chromedriver.exe')\n",
    "\n",
    "#Acessar API Aztronic\n",
    "driver.get('http://aztronic.s3-website-us-east-1.amazonaws.com/')\n",
    "sleep(3)"
   ]
  },
  {
   "cell_type": "code",
   "execution_count": 10,
   "metadata": {},
   "outputs": [],
   "source": [
    "# Upload do Calculo de fluxo \n",
    "\n",
    "anexarCalculoFluxo = driver.find_element_by_xpath('//*[@id=\"main\"]/div/section[1]/div/div/form/fieldset[1]/div[1]/label/input')\n",
    "anexarCalculoFluxo.send_keys(anexoCalculoFluxo)\n",
    "sleep(2)"
   ]
  },
  {
   "cell_type": "code",
   "execution_count": 7,
   "metadata": {},
   "outputs": [
    {
     "data": {
      "text/plain": [
       "{'valorTotal': '325649.38',\n",
       " 'tabela': 'PRICE',\n",
       " 'registro': '3240.05',\n",
       " 'Taxa ao Mes': 0.1201,\n",
       " 'valorLiquido': '300000.00',\n",
       " 'prazoMes': '60',\n",
       " 'valorPrimeiraParcelaComEncargos': '7453.10',\n",
       " 'valorImóvel': '673000.00',\n",
       " 'prazoContrato': '59',\n",
       " 'ultimaParcela': '10/07/2027',\n",
       " 'dataContrato': '08/07/2022',\n",
       " 'valorPrimeiraParcela': '7311.89',\n",
       " 'primeiraParcela': '10/09/2022',\n",
       " 'indice': 'IPCA',\n",
       " 'Matrícula': '76.635 76.636 76.637 ',\n",
       " 'Cartório': '02 de Registro Geral do 5º Oficial de Registro de Imóveis da Comarca de Curitiba/PR'}"
      ]
     },
     "execution_count": 7,
     "metadata": {},
     "output_type": "execute_result"
    }
   ],
   "source": [
    "# Extraido informações com o leitor de contratos\n",
    "\n",
    "contrato = lerContrato(contratoPath)\n",
    "contrato"
   ]
  },
  {
   "cell_type": "code",
   "execution_count": 11,
   "metadata": {},
   "outputs": [],
   "source": [
    "# Pegando Xpath para preencher API\n",
    "\n",
    "dataContrato = driver.find_element_by_xpath('//*[@id=\"data_contrato\"]')\n",
    "codigoIntegracao = driver.find_element_by_xpath('//*[@id=\"codigo_integracao\"]')"
   ]
  },
  {
   "cell_type": "code",
   "execution_count": 12,
   "metadata": {},
   "outputs": [],
   "source": [
    "# Preenchendo API\n",
    "\n",
    "dataContrato.clear()\n",
    "dataContrato.send_keys(contrato['dataContrato'])        # Colocar a data correta, no momento esta a data de desembolso \n",
    "codigoIntegracao.send_keys('!!!Teste!!!')               # Colocar o código correto na variavel"
   ]
  }
 ],
 "metadata": {
  "kernelspec": {
   "display_name": "Python 3.9.7 64-bit",
   "language": "python",
   "name": "python3"
  },
  "language_info": {
   "codemirror_mode": {
    "name": "ipython",
    "version": 3
   },
   "file_extension": ".py",
   "mimetype": "text/x-python",
   "name": "python",
   "nbconvert_exporter": "python",
   "pygments_lexer": "ipython3",
   "version": "3.9.7"
  },
  "orig_nbformat": 4,
  "vscode": {
   "interpreter": {
    "hash": "045832f79490e9a8a037a8f6e1a5c8ec877d805c4de0087de700d9a61e201314"
   }
  }
 },
 "nbformat": 4,
 "nbformat_minor": 2
}
