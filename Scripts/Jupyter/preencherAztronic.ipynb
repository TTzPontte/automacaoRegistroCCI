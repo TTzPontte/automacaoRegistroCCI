{
 "cells": [
  {
   "cell_type": "code",
   "execution_count": 11,
   "metadata": {},
   "outputs": [],
   "source": [
    "# Bibliotecas\n",
    "from selenium.webdriver.support.ui import Select\n",
    "from selenium import webdriver\n",
    "from time import sleep\n",
    "import sys\n",
    "sys.path.insert(0, 'C:\\\\Users\\\\MatheusPereira\\\\OneDrive - Pontte\\\\Área de Trabalho\\\\automacaoRegistroCCI\\\\Scripts')\n",
    "import lerContrato\n"
   ]
  },
  {
   "cell_type": "code",
   "execution_count": 5,
   "metadata": {},
   "outputs": [],
   "source": [
    "anexoCalculoFluxo = r'C:\\Users\\MatheusPereira\\OneDrive - Pontte\\Área de Trabalho\\automacaoRegistroCCI\\CalculoDeFluxo\\Cálculo_Fluxo_Conrado.xlsx'\n",
    "contrato = r'C:\\Users\\MatheusPereira\\OneDrive - Pontte\\Área de Trabalho\\automacaoRegistroCCI\\Contratos\\HE_Contrato_Conrado_Assinatura Digital_VFinal - Conrado.pdf'"
   ]
  },
  {
   "cell_type": "code",
   "execution_count": 6,
   "metadata": {},
   "outputs": [],
   "source": [
    "#ChromeDriver\n",
    "driver = webdriver.Chrome(executable_path=r'G:\\Drives compartilhados\\Pontte\\Operações\\Automações\\Scripts\\Pontte\\Driver\\chromedriver.exe')\n",
    "\n",
    "#Acessar Login Aztronic\n",
    "driver.get('http://aztronic.s3-website-us-east-1.amazonaws.com/')\n",
    "sleep(3)"
   ]
  },
  {
   "cell_type": "code",
   "execution_count": 7,
   "metadata": {},
   "outputs": [],
   "source": [
    "anexarCalculoFluxo = driver.find_element_by_xpath('//*[@id=\"main\"]/div/section[1]/div/div/form/fieldset[1]/div[1]/label/input')"
   ]
  },
  {
   "cell_type": "code",
   "execution_count": 8,
   "metadata": {},
   "outputs": [
    {
     "name": "stdout",
     "output_type": "stream",
     "text": [
      "Final do preenchimento na aba Documentos\n"
     ]
    }
   ],
   "source": [
    "anexarCalculoFluxo.send_keys(anexoCalculoFluxo)\n",
    "print(\"Final do preenchimento na aba Documentos\")\n",
    "sleep(2)"
   ]
  }
 ],
 "metadata": {
  "kernelspec": {
   "display_name": "Python 3.9.7 64-bit",
   "language": "python",
   "name": "python3"
  },
  "language_info": {
   "codemirror_mode": {
    "name": "ipython",
    "version": 3
   },
   "file_extension": ".py",
   "mimetype": "text/x-python",
   "name": "python",
   "nbconvert_exporter": "python",
   "pygments_lexer": "ipython3",
   "version": "3.9.7"
  },
  "orig_nbformat": 4,
  "vscode": {
   "interpreter": {
    "hash": "045832f79490e9a8a037a8f6e1a5c8ec877d805c4de0087de700d9a61e201314"
   }
  }
 },
 "nbformat": 4,
 "nbformat_minor": 2
}
