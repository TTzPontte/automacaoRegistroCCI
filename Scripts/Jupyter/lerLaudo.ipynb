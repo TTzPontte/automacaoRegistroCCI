{
 "cells": [
  {
   "cell_type": "markdown",
   "metadata": {},
   "source": [
    "#Validar Script de Leitura de PDF                                       "
   ]
  },
  {
   "cell_type": "code",
   "execution_count": 1,
   "metadata": {},
   "outputs": [],
   "source": [
    "import sys\n",
    "import os\n",
    "import re\n",
    "sys.path.insert(0, r'C:\\Users\\Matheus\\Documents\\Git\\Pontte\\automacaoRegistroAztronic\\automacaoRegistroCCI\\Scripts')\n",
    "from lerPDF import lerPDF"
   ]
  },
  {
   "cell_type": "code",
   "execution_count": 2,
   "metadata": {},
   "outputs": [
    {
     "data": {
      "text/plain": [
       "['5. Laudo - Agostinho.pdf',\n",
       " '5. Laudo - Conrado.pdf',\n",
       " '5. Laudo - Juliana.pdf',\n",
       " '5. Laudo - Margareide.pdf',\n",
       " '5. Laudo - Romilton.pdf',\n",
       " '5. Laudo- Patricia.pdf',\n",
       " '5. Laudo- Renato.pdf']"
      ]
     },
     "execution_count": 2,
     "metadata": {},
     "output_type": "execute_result"
    }
   ],
   "source": [
    "files_dir = r\"C:\\Users\\Matheus\\Documents\\Git\\Pontte\\automacaoRegistroAztronic\\automacaoRegistroCCI\\Laudos\"\n",
    "laudoFiles = [f for f in os.listdir(files_dir) if f.endswith(\".pdf\")]\n",
    "laudoFiles"
   ]
  },
  {
   "cell_type": "code",
   "execution_count": 3,
   "metadata": {},
   "outputs": [],
   "source": [
    "#Testar Leitura de Laudos\n",
    "for laudo in laudoFiles:\n",
    "    path = os.path.join(files_dir, laudo)\n",
    "    #print(path)\n",
    "    texto = lerPDF(path, 2)\n",
    "    #print(texto)"
   ]
  },
  {
   "cell_type": "code",
   "execution_count": 27,
   "metadata": {},
   "outputs": [
    {
     "name": "stdout",
     "output_type": "stream",
     "text": [
      "\n",
      " 5. Laudo - Agostinho.pdf\n",
      "Valor de Mercado: 376.000,00 \n",
      "Número da matrícula do imóvel: 141.951 \n",
      "O cartório: 3º Ofício de Registro de Imóveis de São Paulo\n",
      "\n",
      " 5. Laudo - Conrado.pdf\n",
      "Valor de Mercado: 673.000,00 \n",
      "Número da matrícula do imóvel: 76.635 \n",
      "O cartório: 5º Serviço de Registro de Imóveis\n",
      "\n",
      " 5. Laudo - Juliana.pdf\n",
      "Valor de Mercado: 1.597.000,00 \n",
      "Número da matrícula do imóvel: 67.232 \n",
      "O cartório: Registro de Imóveis da Comarca de Mogi Mirim - SP\n",
      "\n",
      " 5. Laudo - Margareide.pdf\n",
      "Valor de Mercado: 930.000,00 \n",
      "Número da matrícula do imóvel: 28.286 \n",
      "O cartório: 2° Ofício de Registro de Imóveis e Hipotecas de Feira de Santana - Bahia\n",
      "\n",
      " 5. Laudo - Romilton.pdf\n",
      "Valor de Mercado: 491.000,00 \n",
      "Número da matrícula do imóvel: 138.091 \n",
      "O cartório: 3º Ofício de Registro Imobiliário Belo Horizonte - MG\n",
      "\n",
      " 5. Laudo- Patricia.pdf\n",
      "Valor de Mercado: 597.000,00 \n",
      "Número da matrícula do imóvel: 62.941 \n",
      "O cartório: 11º Cartório de Registro de Imóveis de São Paulo\n",
      "\n",
      " 5. Laudo- Renato.pdf\n",
      "Valor de Mercado: 899.000,00 \n",
      "Número da matrícula do imóvel: 1.865 \n",
      "O cartório: Cartório de Registro de Imóveis - Comarca de Ubatuba - Estado de São Paulo\n"
     ]
    }
   ],
   "source": [
    "for i in range(7):\n",
    "    #Extrair Texto\n",
    "    pathDocument = os.path.join(files_dir, laudoFiles[i])\n",
    "    print('\\n', laudoFiles[i])\n",
    "    extTexto = lerPDF(pathDocument,2)\n",
    "    extTexto\n",
    "\n",
    "    listaDePara = {\"Valor de Mercado: \": \"\",\"Matrícula: \": \"\"}\n",
    "\n",
    "    listaKey = []\n",
    "    listaValues = []\n",
    "\n",
    "    for key, value in listaDePara.items():\n",
    "        \n",
    "        if key == \"Valor de Mercado: \":\n",
    "            inicioFrase = extTexto.find(key,0)\n",
    "            finalFrase = inicioFrase + len(key)\n",
    "            breakLine = extTexto.find(\" | \", finalFrase)\n",
    "            valorMercado = extTexto[finalFrase+3:breakLine]\n",
    "            \n",
    "        elif key == \"Matrícula: \":\n",
    "            #Extrair Número da Matrícula\n",
    "            inicioFrase = extTexto.find(key,0)\n",
    "            finalFrase = inicioFrase + len(key)\n",
    "            proximoEspaco = extTexto.find(\" \", finalFrase)\n",
    "            numeroMat = extTexto[finalFrase:proximoEspaco]\n",
    "            \n",
    "            #Auxiliar Pós Número Matrícula\n",
    "            posMat = extTexto.find(numeroMat,0)+len(numeroMat)+1\n",
    "            finalCart = extTexto.find(\" | \",posMat)\n",
    "            #Extraír dados do cartório\n",
    "            cartorio = extTexto[posMat+3:finalCart]\n",
    "        \n",
    "            print(f\"Valor de Mercado: {valorMercado} \\nNúmero da matrícula do imóvel: {numeroMat} \\nO cartório: {cartorio}\")\n",
    "\n",
    "# listaDePara['Valor de Mercado: '] = valorMercado\n",
    "# listaDePara['Matrícula: '] = numeroMat\n",
    "# listaDePara['Cartório'] = cartorio\n",
    "# listaDePara"
   ]
  }
 ],
 "metadata": {
  "kernelspec": {
   "display_name": "Python 3.10.4 64-bit",
   "language": "python",
   "name": "python3"
  },
  "language_info": {
   "codemirror_mode": {
    "name": "ipython",
    "version": 3
   },
   "file_extension": ".py",
   "mimetype": "text/x-python",
   "name": "python",
   "nbconvert_exporter": "python",
   "pygments_lexer": "ipython3",
   "version": "3.10.4"
  },
  "orig_nbformat": 4,
  "vscode": {
   "interpreter": {
    "hash": "9a3b07ba528c89038647187279d5e29ba231df4ea6aa016e93723a294652464d"
   }
  }
 },
 "nbformat": 4,
 "nbformat_minor": 2
}
