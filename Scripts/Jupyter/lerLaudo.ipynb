{
 "cells": [
  {
   "cell_type": "markdown",
   "metadata": {},
   "source": [
    "#Validar Script de Leitura de PDF                                       "
   ]
  },
  {
   "cell_type": "code",
   "execution_count": 1,
   "metadata": {},
   "outputs": [],
   "source": [
    "import sys\n",
    "import os\n",
    "sys.path.insert(0, r'C:\\Users\\Matheus\\Documents\\Git\\Pontte\\automacaoRegistroAztronic\\automacaoRegistroCCI\\Scripts')\n",
    "from lerPDF import lerPDF"
   ]
  },
  {
   "cell_type": "code",
   "execution_count": 2,
   "metadata": {},
   "outputs": [
    {
     "data": {
      "text/plain": [
       "['5. Laudo - Conrado.pdf',\n",
       " '5. Laudo - Juliana.pdf',\n",
       " '5. Laudo - Margareide.pdf',\n",
       " '5. Laudo - Oliboni.pdf',\n",
       " '5. Laudo - Romilton.pdf',\n",
       " '5. Laudo - Vanessa.pdf',\n",
       " '5. Laudo de Avaliação - Sítio do Vovô - Jarinu - Agapee.pdf',\n",
       " '5. Laudo- Patricia.pdf',\n",
       " '5. Laudo- Renato.pdf',\n",
       " 'Laudo - Agostinho.pdf']"
      ]
     },
     "execution_count": 2,
     "metadata": {},
     "output_type": "execute_result"
    }
   ],
   "source": [
    "files_dir = r\"C:\\Users\\Matheus\\Documents\\Git\\Pontte\\automacaoRegistroAztronic\\automacaoRegistroCCI\\Laudos\"\n",
    "laudoFiles = [f for f in os.listdir(files_dir) if f.endswith(\".pdf\")]\n",
    "laudoFiles"
   ]
  },
  {
   "cell_type": "code",
   "execution_count": 3,
   "metadata": {},
   "outputs": [
    {
     "name": "stdout",
     "output_type": "stream",
     "text": [
      "C:\\Users\\Matheus\\Documents\\Git\\Pontte\\automacaoRegistroAztronic\\automacaoRegistroCCI\\Laudos\\5. Laudo - Conrado.pdf\n",
      " Parecer Técnico de Avaliação Rua Amazonas, nº 1167 Apto. Duplex 601 Residencial Costa Verde Água Verde - Curitiba / PR Rua Monte Alegre nº 428 cj 64 Perdizes - São Paulo / SP Fones: 2614-0268 / 2614-0239 m2g2patrimonial.com.br Resumo da Avaliação Solicitante:  Pontte Soluções Financeiras Ltda. Proponente:  Conrado Faria de Albuquerque Objetivo:  Determinação do Valor de Mercado Finalidade:  Garantia Bancária Endereço:  Rua Amazonas nº 1167 - Apto. Duplex 601 - Residencial Costa Verde Bairro:  Água Verde€€€€€€€ Cidade:  Curitiba €€€€€€€ UF:  PR Tipos:  Apartamento / Vaga de Garagem€€€€€€  Uso:  Residencial Matrícula:  76.635 do 5º Serviço de Registro de Imóveis Área Privativa:  78,0400 m²  Área Comum:  31,3148 m² Área Total:  109,3548 m² Matrículas adicionais:  76.636 / 76.637 do 5º Serviço de Registro de Imóveis Total Área Privativa:  24,000 m² Total Área Comum:  20,1872 m² Área Total:  44,1872 m² Data-Base:  24 de junho de 2022 Valor de Mercado:  R$ 673.000,00 Imóvel constitui uma boa garantia?  Sim Fachada. Fonte: Google Maps Rua Amazonas. Fonte: Google Maps\n",
      "C:\\Users\\Matheus\\Documents\\Git\\Pontte\\automacaoRegistroAztronic\\automacaoRegistroCCI\\Laudos\\5. Laudo - Juliana.pdf\n",
      " Laudo de Avaliação Imobiliária Rua Waldemar Toledo Junior, nº 99 Condomínio Residencial dos Jequitibás - Mogi  Mirim / SP Rua Monte Alegre nº 428 cj 64 Perdizes - São Paulo / SP Fones: 2614-0268 / 2614-0239 m2g2patrimonial.com.br Resumo da Avaliação Solicitante:  Pontte Soluções Financeiras Ltda. Proponente:  Juliana Cristina Pires Objetivo:  Determinação do Valor de Mercado e Liquidação Forçada Finalidade:  Garantia Bancária Endereço:  Rua Waldemar Toledo Junior nº 99 Bairro:  Condomínio Residencial dos Jequitibás Cidade:  Mogi Mirim UF:  SP Tipo:  Casa  Uso:  Residencial Matrícula:  67.232 do Registro de Imóveis da Comarca de Mogi Mirim - SP Área do Terreno:  491,12 m² Área Construída:  306,68 m² Data-Base:  21 de junho de 2022 Data da Vistoria:  20 de junho de 2022 Valor de Mercado:  R$ 1.597.000,00 Valor de Liquidação Forçada:  R$ 1.072.000,00 Imóvel constitui uma boa garantia?  Sim Fachada Fachada / Data e Hora\n",
      "C:\\Users\\Matheus\\Documents\\Git\\Pontte\\automacaoRegistroAztronic\\automacaoRegistroCCI\\Laudos\\5. Laudo - Margareide.pdf\n",
      " Laudo de Avaliação Imobiliária Rua Marechal Castelo Branco, nº 1032 Santa Mônica - Feira de Santana / BA Rua Monte Alegre nº 428 cj 64 Perdizes - São Paulo / SP Fones: 2614-0268 / 2614-0239 m2g2patrimonial.com.br Resumo da Avaliação Solicitante:  Pontte Soluções Financeiras Ltda. Proponente:  Margareide Leal Sampaio Objetivo:  Determinação do Valor de Mercado e Liquidação Forçada Finalidade:  Garantia Bancária Endereço:  Rua Marechal Castelo Branco nº 1032 Bairro:  Santa Mônica Cidade:  Feira de Santana UF:  BA Tipo:  Prédio comercial  Uso:  Comercial Matrícula:  28.286 do 2° Ofício de Registro de Imóveis e Hipotecas de Feira de Santana - Bahia Área do Terreno:  221,000 m² Área Construída:  234,04 m² Data-Base:  21 de junho de 2022 Data da Vistoria:  17 de junho de 2022 Valor de Mercado:  R$ 930.000,00 Valor de Liquidação Forçada:  R$ 603.000,00 Imóvel constitui uma boa garantia?  Sim Fachada Fachada\n",
      "C:\\Users\\Matheus\\Documents\\Git\\Pontte\\automacaoRegistroAztronic\\automacaoRegistroCCI\\Laudos\\5. Laudo - Oliboni.pdf\n",
      " Laudo de  A valiação ImobiliáriaRua General Pereira da Silva n° 171Icaraí - Niterói / RJ Rua Monte  Alegre nº 428 cj 64Perdizes - São Paulo / SPFones: 2614-0268 / 2614-0239m2g2patrimonial.com.brFachada FrenteFachada / Data e Hora Resumo  da A valiaçãoSolicitante: Pontte Soluções Financeiras LtdaProponente: Oliboni Participações SAObjetivo:  Determinação do V alor de Mercado e V alor de Liquidação ForçadaFinalidade: Garantia BancáriaEndereço: Rua General Pereira da Silva n° 171Bairro: Icaraí Cidade: NiteróiUF: RJ T ipo: PrédioUso: ComercialMatrícula: n° 24.515 do 9° Ofício de Justiça de Niterói Área de T erreno: 254,10 m²Área Construída: 616,55 m²Data-Base: 23 de maio de 2022  Data da V istoria: 19 de maio de 2022 V alor de Mercado:  V alor de Liquidação Forçada: Imóvel constitui uma boa garantia? Sim R$ 6 .1 8 8 .0 0 0 ,0 0 (s e is  m il hõ e s ,  c e nto  e  o ite nta  e  o ito  m il  re a is ). R$ 3 .7 4 1 .0 0 0 ,0 0 (três  m il hõ e s ,  s e te c e nto s  e  q ua ren ta  e  u m  m il  re a is ). Va lo r de  M e rca do :  Va lo r de  L iq ui da ç ã o  Fo rça da : R$ 6 .1 8 8 .0 0 0 ,0 0 (s e is  m il hõ e s ,  c e nto  e  o ite nta  e  o ito  m il  re a is ). R$ 3 .7 4 1 .0 0 0 ,0 0 (três  m il hõ e s ,  s e te c e nto s  e  q ua ren ta  e  u m  m il  re a is ). Va lo r de  M e rca do :  Va lo r de  L iq ui da ç ã o  Fo rça da :\n",
      "C:\\Users\\Matheus\\Documents\\Git\\Pontte\\automacaoRegistroAztronic\\automacaoRegistroCCI\\Laudos\\5. Laudo - Romilton.pdf\n",
      " Parecer Técnico de Avaliação Rua Dona Carmem, nº 89 Apto. 604 Edifício Lara Albert Santa Terezinha - Belo Horizonte / MG Rua Monte Alegre nº 428 cj 64 Perdizes - São Paulo / SP Fones: 2614-0268 / 2614-0239 m2g2patrimonial.com.br Resumo da Avaliação Solicitante:  Pontte Soluções Financeiras Ltda. Proponente:  Romilton Cioletti  Objetivo:  Determinação do Valor de Mercado Finalidade:  Garantia Bancária Endereço:  Rua Dona Carmem nº 89 - Apto. 604 - Edifício Lara Albert Bairro:  Santa Terezinha Cidade:  Belo Horizonte UF:  MG Tipo:  Apartamento  Uso:  Residencial Matrícula:  138.091 do 3º Ofício de Registro Imobiliário Belo Horizonte - MG Área Privativa:  126,4125 m² (avaliando) + 20,7000 m² (garagem) = 147,1125 m² Área Comum:  56,1099 m² Área Total:  203,2224 m² Data-Base:  23 de junho de 2022 Valor de Mercado:  R$ 491.000,00 Imóvel constitui uma boa garantia?  Sim Fachada. Fonte: Google Maps Rua Dona Carmem. Fonte: Google Maps\n",
      "C:\\Users\\Matheus\\Documents\\Git\\Pontte\\automacaoRegistroAztronic\\automacaoRegistroCCI\\Laudos\\5. Laudo - Vanessa.pdf\n",
      " INFORMAÇÕES   DA   SO L ICI TAÇÃ O  DE S ERVI ÇO P RO DUT O FI N A LIDAD E  O U  O B JET IVO   DA   SO LICIT A Ç Ã O L a ud o de Av a l i a ç ã o e  P erí c i a   Im ob i l i á ri a G a ra nti a   Im ob i l i á ri a SO LICIT A N T E P RO P RI ET Á RI O S P on tt e INFORMAÇÕES   DO I MÓV EL   AVAL IADO EN D ER EÇ O A l a m ed a   P ed ro  de   A ra újo  L i m a ,  2 3 6   -  C a sa B A I R R O CEP Ja rdi m   Q ui nta s  da   Terra c ota 1 3 3 3 2 -6 7 4 MUN I CÍ P I O UF Ind a i a tub a SP O CUP A ÇÃ O T I P O L O GIA CO N SER V A ÇÃ O Im óv el   P rópri o C a sa   Resi de nc i a l Bom Á R EA   CO N ST R UÍ D A   ( m ² ) Á R EA   D E  T ER R EN O   ( m ² ) 1 5 0 1 ,1 1 F o to g r a f i a  d a  f a c ha da  d o  i mó v e l RESU L TAD OS   OBT IDOS   E  ME TODOLO G IA  APL ICADA V A L O R   D E  MER CA D O   ( R $ ) L Ó GICA D A   O B T EN ÇÃ O   D E  V A L O R V A L O R   UN I T Á R I O   ( R $ /M² ) V A L O R   D E  L I Q UI D A ÇÃ O   FO R ÇA D A   ( R $ ) GR A U  D E  P R EC I SÃ O G RA U   II I GR A U  D E  FUN D A MEN T A ÇÃ O G RA U   II MA N I FES T A ÇÃ O   T ÉC N I CA   SO B R E  O   I MÓ V EL   A V A L I A D O MET O D O L O GIA   UT I L I Z A D A M étod o C om pa ra ti v o D i reto  de   D a do s  de   M erc a do CO N SI D ER A ÇÕ ES  FI N A I S: D A T A   D A   V I ST O R I A D A D O S  D O   R ESP O N SÁ V EL   T ÉC N I CO Fel i pe   A nd ré  Fra nc i o M a rt i ns  de   Fa ri a L O CA L   E  D A T A A SSI N A T UR A P a ra   a   a v a l i a ç ã o,  fora m   forne c i do s  os  segu i nte s  do c um en tos:   M a tr í c ul a   e I P TU .  P a ra   efe i to  de   c á l c ul o foi   a do ta do   a   á rea   c on st ruí da   de sc ri ta   na   do c um en ta ç ã o.    O   i m óv el   é c om po st o por  0 2   pa v i m en tos,  send o di v i di do   c on form e de sc ri ç ã o a   segu i r: Térreo:   G a ra ge m   c ob erta   pa ra   0 4   v eí c ul os,  Sa l a   de   Es ta r/TV, Sa l a   de   Ja nta r,  L a v a bo   Interno, C oz i nh a ,  D espe nsa ,  Suí te,  Á rea   G ou rm et,  C oz i nh a   (á rea   gou rm et),  Ba nh ei ro  Ex terno, L a v a bo   Ex terno, L a v a nd eri a ,  D ep ósi to,  P i sc i na ,  C a ni l   e a m pl a   á rea   externa . P a v .  Sup eri or: C i rc ul a ç ã o,  Terra ç o,  0 4   Suí tes.                                                                                                                                                                                                                                                                                                                                                                                                                                                                                                                                                                                           C on si de ra da s as a tua i s c on di ç ões fí si c a s e de m erc a do , sob os a spec tos téc ni c os a qu i de sc ri tos ne ss e l a ud o, o i m óv el po ss ui c on di ç ões pa ra serv i r à tr a nsa ç ã o preten di da . VA N ESS A   BU C C HI  BAPTI STA  C om pa ra ti v o de da do s de m erc a do , pa ra a a pu ra ç ã o do v a l or un i tá ri o de m etro qu a dra do , a pl i c a nd o-se os fa tores de v a l ori z a ç ã o ou de sv a l ori z a ç ã o da s  no rm a s  do   IB A P E. 4 .0 1 6 .0 0 0 7 .5 0 6 3 .2 1 2 .8 0 0 Im a ge m 5 3 5 ,0 6 0 3 /0 6 /2 0 2 2 Sã o P a ul o,  SP 0 7 /0 6 /2 0 2 2 CARA CTERÍS TICAS  DA   REG IÃO Q UAN T O   A O   USO INFRAE ST RUT URA SERVIÇOS C om erc i a l a Red e de   Á gu a a Red e de   G á s a Tra nsp orte  c ol eti v o Resi de nc i a l a Tel efo ni a a Red e de   Es goto a a C om érc i o Ind ustri a l P a v i m en ta ç ã o a Red e E l étri c a a a C ol eta   de   L i xo Serv i ç os  bá si c os P A DRÃ O   DE CONST RUÇÃ O   P REDOMIN A N T E  N A   REG IÃO FAC ILI DA DE DE  EST A C IO N A ME N T O Ba i xo/Popu l a r N en hu m a M éd i o/ N orm a l P ou c a a M éd i o/ A l to a Ra z oá v el A l to G ra nd e A C ESSO DEN SI DA DE HA B IT A C IO N A L VA LO RI Z A Ç Ã O D i fí c i l P ou c a Rui m   Ra z oá v el N orm a l a Ra z oá v el Bom A l ta Boa a Ó ti m o a Ó ti m a CARA CTERÍS TICAS  DO I MÓV EL C A RAC T ERÍS T ICA S  DO  IMÓ VEL Sa l a   da   Es ta r  / TV 0 1 L a v a nd eri a a 1 0 Ba nh ei ro  Suí te 5 0 D espe nsa 1 0 Sa l a   de   Ja nta r a 1 Q ua rt o a 0 0 P i sc i na 1 0 Á rea   G ou rm et 1 L a v a bo 2 Ba nh ei ro 2 0 C hu rr a squ ei ra 1 0 D ep ósi to 1 C oz i nh a 2 Suí te 5 Terra ç o 1 0 D I A GN Ó ST I CO   D A   L O CA L I Z A ÇÃ O   E  I N FR A ESTR UT UR A O i m óv el a v a l i a nd o se en c on tr a l oc a l i z a do no c on do m í ni o Ja rdi m Q ui nta s da Terra c ota da c i da de de Ind a i a tub a /SP, i nte ri or de Sã o P a ul o. Sua l oc a l i z a ç ã o di spon i bi l i z a   de   bo a   i nf ra estr utu ra   bá si c a   e fa c i l i da de   de   l oc om oç ã o a tr a v és  da s  rodov i a s,  fi c a nd o a proxi m a da m en te  8   k m   do   c en tr o da   c i da de . \n",
      "C:\\Users\\Matheus\\Documents\\Git\\Pontte\\automacaoRegistroAztronic\\automacaoRegistroCCI\\Laudos\\5. Laudo de Avaliação - Sítio do Vovô - Jarinu - Agapee.pdf\n",
      " Laudo de  A valiação ImobiliáriaEstrada Municipal Manoel Gerez Navarro,  s/n° - Sítio do V ovôMaracanã - Jarinu / SP Rua Monte  Alegre nº 428 cj 64Perdizes - São Paulo / SPFones: 2614-0268 / 2614-0239m2g2patrimonial.com.brFachadaFachada Resumo  da A valiaçãoS Pontte Soluções Financeiras Ltda  Determinação do V alor de Mercado e V alor de Liquidação Forçada Garantia Bancária  Estrada Municipal Manoel Gerez Navarro, s/n° - Sítio do V ovô Maracanã JarinuSP T erreno Residencial  n° 145.252 do Cartório de Registro de Imóveis Œ Comarca de  Atibaia Œ SP 161.186,00 m²470,00 m²23 de junho de 2022  14 de junho de 2022 Não R$ 4 .6 7 6 .0 0 0 ,0 0 (q ua tro mil hões ,  s e is c e nt os  e  s e tenta  e  s e is  mi l  re a is ). R$ 2 .6 1 6 .0 0 0 ,0 0 (d ois  mi lhõe s ,  s e is c e nt os  e  de ze s s e is  mi l  re a is ). V a lor  de  Me rc a do:   V a lor  de  Liquida ç ã o Forç a da : R$ 4 .6 7 6 .0 0 0 ,0 0 (q ua tro mil hões ,  s e is c e nt os  e  s e tenta  e  s e is  mi l  re a is ). R$ 2 .6 1 6 .0 0 0 ,0 0 (d ois  mi lhõe s ,  s e is c e nt os  e  de ze s s e is  mi l  re a is ). V a lor  de  Me rc a do:   V a lor  de  Liquida ç ã o Forç a da :\n",
      "C:\\Users\\Matheus\\Documents\\Git\\Pontte\\automacaoRegistroAztronic\\automacaoRegistroCCI\\Laudos\\5. Laudo- Patricia.pdf\n",
      " Parecer Técnico de Avaliação Av. Giovanni Gronchi, nº 4791 Apto. 71-A - Bloco A Ed. Dom Pedro Gastão de Orleans e Bragança Vila Andrade - São Paulo / SP Rua Monte Alegre nº 428 cj 64 Perdizes - São Paulo / SP Fones: 2614-0268 / 2614-0239 m2g2patrimonial.com.br Resumo da Avaliação Solicitante:  Pontte Soluções Financeiras Ltda Objetivo:  Determinação do Valor de Mercado Finalidade:  Garantia Bancária Endereço:  Av. Giovanni Gronchi nº 4791 - Apto. 71-A - Bloco A - Ed. Dom Pedro Gastão de Orleans e  Bragança Bairro:  Vila Andrade Cidade:  São Paulo UF:  SP Tipo:  Apartamento Uso:  Residencial Matrícula:  62.941 do 11º Cartório de Registro de Imóveis de São Paulo Área Privativa:  175,7350 m²  Área Comum:  109,6987 m² Área Total:  285,4337 m² Data-Base:  30 de maio de 2022 Valor de Mercado:  R$ 597.000,00 Fachada. Fonte: Google Maps. Av. Giovanni Gronchi. Fonte: Google Maps.\n",
      "C:\\Users\\Matheus\\Documents\\Git\\Pontte\\automacaoRegistroAztronic\\automacaoRegistroCCI\\Laudos\\5. Laudo- Renato.pdf\n",
      " Laudo de Avaliação Imobiliária Rua Flamengo, nº 419 Estufa I - Ubatuba / SP Rua Monte Alegre nº 428 cj 64 Perdizes - São Paulo / SP Fones: 2614-0268 / 2614-0239 m2g2patrimonial.com.br Resumo da Avaliação Solicitante:  Pontte Soluções Financeiras Ltda. Proponente:  Renato Cândido Bueno Objetivo:  Determinação do Valor de Mercado e Liquidação Forçada Finalidade:  Garantia Bancária Endereço:  Rua Flamengo nº 419 Bairro:  Estufa I Cidade:  Ubatuba UF:  SP Tipo:  Casa  Uso:  Residencial Matrícula:  1.865 do Cartório de Registro de Imóveis - Comarca de Ubatuba - Estado de São Paulo Área do Terreno:  300,000 m² Área Construída:  254,22 m² Data-Base:  03 de junho de 2022 Data da Vistoria:  02 de junho de 2022 Valor de Mercado:  R$ 899.000,00 Valor de Liquidação Forçada:  R$ 589.000,00 Imóvel constitui uma boa garantia?  Sim Fachada Fachada\n",
      "C:\\Users\\Matheus\\Documents\\Git\\Pontte\\automacaoRegistroAztronic\\automacaoRegistroCCI\\Laudos\\Laudo - Agostinho.pdf\n",
      " Parecer Técnico de Avaliação Rua Voluntários da Pátria, nº 654 Sala 302 Condomínio Ícone Santana Santana - São Paulo / SP Rua Monte Alegre nº 428 cj 64 Perdizes - São Paulo / SP Fones: 2614-0268 / 2614-0239 m2g2patrimonial.com.br Resumo da Avaliação Solicitante:  Pontte Soluções Financeiras Ltda Objetivo:  Determinação do Valor de Mercado Finalidade:  Garantia Bancária Endereço:  Rua Voluntários da Pátria nº 654 - Sala 302 - Condomínio Ícone Santana Bairro:  Santana Cidade:  São Paulo UF:  SP Tipo:  Sala comercial Uso:  Comercial Matrícula:  141.951 do 3º Ofício de Registro de Imóveis de São Paulo Área Privativa:  46,730 m²  Área Comum:  36,321 m² Área Total:  83,051 m² Data-Base:  23 de maio de 2022 Valor de Mercado:  R$ 376.000,00 Fachada. Fonte: Google Maps. Rua Voluntários da Pátria. Fonte: Google Maps.\n"
     ]
    }
   ],
   "source": [
    "for laudo in laudoFiles:\n",
    "    path = os.path.join(files_dir, laudo)\n",
    "    print(path)\n",
    "    texto = lerPDF(path, 2)\n",
    "    print(texto)"
   ]
  }
 ],
 "metadata": {
  "kernelspec": {
   "display_name": "Python 3.10.4 64-bit",
   "language": "python",
   "name": "python3"
  },
  "language_info": {
   "codemirror_mode": {
    "name": "ipython",
    "version": 3
   },
   "file_extension": ".py",
   "mimetype": "text/x-python",
   "name": "python",
   "nbconvert_exporter": "python",
   "pygments_lexer": "ipython3",
   "version": "3.10.4"
  },
  "orig_nbformat": 4,
  "vscode": {
   "interpreter": {
    "hash": "9a3b07ba528c89038647187279d5e29ba231df4ea6aa016e93723a294652464d"
   }
  }
 },
 "nbformat": 4,
 "nbformat_minor": 2
}
