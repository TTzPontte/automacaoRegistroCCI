{
 "cells": [
  {
   "cell_type": "markdown",
   "metadata": {},
   "source": [
    "#Validar Script de Leitura de PDF                                       "
   ]
  },
  {
   "cell_type": "code",
   "execution_count": 8,
   "metadata": {},
   "outputs": [],
   "source": [
    "import sys\n",
    "import os\n",
    "sys.path.insert(0, r'C:\\Users\\Matheus\\Documents\\Git\\Pontte\\automacaoRegistroAztronic\\automacaoRegistroCCI\\Scripts')\n",
    "from lerPDF import lerPDF"
   ]
  },
  {
   "cell_type": "code",
   "execution_count": 9,
   "metadata": {},
   "outputs": [
    {
     "data": {
      "text/plain": [
       "['5. Laudo - Conrado.pdf',\n",
       " '5. Laudo - Juliana.pdf',\n",
       " '5. Laudo - Margareide.pdf',\n",
       " '5. Laudo - Oliboni.pdf',\n",
       " '5. Laudo - Romilton.pdf',\n",
       " '5. Laudo de Avaliação - Sítio do Vovô - Jarinu - Agapee.pdf',\n",
       " '5. Laudo- Patricia.pdf',\n",
       " '5. Laudo- Renato.pdf',\n",
       " 'Laudo - Agostinho.pdf']"
      ]
     },
     "execution_count": 9,
     "metadata": {},
     "output_type": "execute_result"
    }
   ],
   "source": [
    "files_dir = r\"C:\\Users\\Matheus\\Documents\\Git\\Pontte\\automacaoRegistroAztronic\\automacaoRegistroCCI\\Laudos\"\n",
    "laudoFiles = [f for f in os.listdir(files_dir) if f.endswith(\".pdf\")]\n",
    "laudoFiles"
   ]
  },
  {
   "cell_type": "code",
   "execution_count": 10,
   "metadata": {},
   "outputs": [
    {
     "name": "stdout",
     "output_type": "stream",
     "text": [
      "C:\\Users\\Matheus\\Documents\\Git\\Pontte\\automacaoRegistroAztronic\\automacaoRegistroCCI\\Laudos\\5. Laudo - Conrado.pdf\n",
      " Parecer Técnico de Avaliação Rua Amazonas, nº 1167 Apto. Duplex 601 Residencial Costa Verde Água Verde - Curitiba / PR Rua Monte Alegre nº 428 cj 64 Perdizes - São Paulo / SP Fones: 2614-0268 / 2614-0239 m2g2patrimonial.com.br Resumo da Avaliação Solicitante:  Pontte Soluções Financeiras Ltda. Proponente:  Conrado Faria de Albuquerque Objetivo:  Determinação do Valor de Mercado Finalidade:  Garantia Bancária Endereço:  Rua Amazonas nº 1167 - Apto. Duplex 601 - Residencial Costa Verde Bairro:  Água Verde€€€€€€€ Cidade:  Curitiba €€€€€€€ UF:  PR Tipos:  Apartamento / Vaga de Garagem€€€€€€  Uso:  Residencial Matrícula:  76.635 do 5º Serviço de Registro de Imóveis Área Privativa:  78,0400 m²  Área Comum:  31,3148 m² Área Total:  109,3548 m² Matrículas adicionais:  76.636 / 76.637 do 5º Serviço de Registro de Imóveis Total Área Privativa:  24,000 m² Total Área Comum:  20,1872 m² Área Total:  44,1872 m² Data-Base:  24 de junho de 2022 Valor de Mercado:  R$ 673.000,00 Imóvel constitui uma boa garantia?  Sim Fachada. Fonte: Google Maps Rua Amazonas. Fonte: Google Maps\n",
      "C:\\Users\\Matheus\\Documents\\Git\\Pontte\\automacaoRegistroAztronic\\automacaoRegistroCCI\\Laudos\\5. Laudo - Juliana.pdf\n",
      " Laudo de Avaliação Imobiliária Rua Waldemar Toledo Junior, nº 99 Condomínio Residencial dos Jequitibás - Mogi  Mirim / SP Rua Monte Alegre nº 428 cj 64 Perdizes - São Paulo / SP Fones: 2614-0268 / 2614-0239 m2g2patrimonial.com.br Resumo da Avaliação Solicitante:  Pontte Soluções Financeiras Ltda. Proponente:  Juliana Cristina Pires Objetivo:  Determinação do Valor de Mercado e Liquidação Forçada Finalidade:  Garantia Bancária Endereço:  Rua Waldemar Toledo Junior nº 99 Bairro:  Condomínio Residencial dos Jequitibás Cidade:  Mogi Mirim UF:  SP Tipo:  Casa  Uso:  Residencial Matrícula:  67.232 do Registro de Imóveis da Comarca de Mogi Mirim - SP Área do Terreno:  491,12 m² Área Construída:  306,68 m² Data-Base:  21 de junho de 2022 Data da Vistoria:  20 de junho de 2022 Valor de Mercado:  R$ 1.597.000,00 Valor de Liquidação Forçada:  R$ 1.072.000,00 Imóvel constitui uma boa garantia?  Sim Fachada Fachada / Data e Hora\n",
      "C:\\Users\\Matheus\\Documents\\Git\\Pontte\\automacaoRegistroAztronic\\automacaoRegistroCCI\\Laudos\\5. Laudo - Margareide.pdf\n",
      " Laudo de Avaliação Imobiliária Rua Marechal Castelo Branco, nº 1032 Santa Mônica - Feira de Santana / BA Rua Monte Alegre nº 428 cj 64 Perdizes - São Paulo / SP Fones: 2614-0268 / 2614-0239 m2g2patrimonial.com.br Resumo da Avaliação Solicitante:  Pontte Soluções Financeiras Ltda. Proponente:  Margareide Leal Sampaio Objetivo:  Determinação do Valor de Mercado e Liquidação Forçada Finalidade:  Garantia Bancária Endereço:  Rua Marechal Castelo Branco nº 1032 Bairro:  Santa Mônica Cidade:  Feira de Santana UF:  BA Tipo:  Prédio comercial  Uso:  Comercial Matrícula:  28.286 do 2° Ofício de Registro de Imóveis e Hipotecas de Feira de Santana - Bahia Área do Terreno:  221,000 m² Área Construída:  234,04 m² Data-Base:  21 de junho de 2022 Data da Vistoria:  17 de junho de 2022 Valor de Mercado:  R$ 930.000,00 Valor de Liquidação Forçada:  R$ 603.000,00 Imóvel constitui uma boa garantia?  Sim Fachada Fachada\n",
      "C:\\Users\\Matheus\\Documents\\Git\\Pontte\\automacaoRegistroAztronic\\automacaoRegistroCCI\\Laudos\\5. Laudo - Oliboni.pdf\n",
      " Laudo de  A valiação ImobiliáriaRua General Pereira da Silva n° 171Icaraí - Niterói / RJ Rua Monte  Alegre nº 428 cj 64Perdizes - São Paulo / SPFones: 2614-0268 / 2614-0239m2g2patrimonial.com.brFachada FrenteFachada / Data e Hora Resumo  da A valiaçãoSolicitante: Pontte Soluções Financeiras LtdaProponente: Oliboni Participações SAObjetivo:  Determinação do V alor de Mercado e V alor de Liquidação ForçadaFinalidade: Garantia BancáriaEndereço: Rua General Pereira da Silva n° 171Bairro: Icaraí Cidade: NiteróiUF: RJ T ipo: PrédioUso: ComercialMatrícula: n° 24.515 do 9° Ofício de Justiça de Niterói Área de T erreno: 254,10 m²Área Construída: 616,55 m²Data-Base: 23 de maio de 2022  Data da V istoria: 19 de maio de 2022 V alor de Mercado:  V alor de Liquidação Forçada: Imóvel constitui uma boa garantia? Sim R$ 6 .1 8 8 .0 0 0 ,0 0 (s e is  m il hõ e s ,  c e nto  e  o ite nta  e  o ito  m il  re a is ). R$ 3 .7 4 1 .0 0 0 ,0 0 (três  m il hõ e s ,  s e te c e nto s  e  q ua ren ta  e  u m  m il  re a is ). Va lo r de  M e rca do :  Va lo r de  L iq ui da ç ã o  Fo rça da : R$ 6 .1 8 8 .0 0 0 ,0 0 (s e is  m il hõ e s ,  c e nto  e  o ite nta  e  o ito  m il  re a is ). R$ 3 .7 4 1 .0 0 0 ,0 0 (três  m il hõ e s ,  s e te c e nto s  e  q ua ren ta  e  u m  m il  re a is ). Va lo r de  M e rca do :  Va lo r de  L iq ui da ç ã o  Fo rça da :\n",
      "C:\\Users\\Matheus\\Documents\\Git\\Pontte\\automacaoRegistroAztronic\\automacaoRegistroCCI\\Laudos\\5. Laudo - Romilton.pdf\n",
      " Parecer Técnico de Avaliação Rua Dona Carmem, nº 89 Apto. 604 Edifício Lara Albert Santa Terezinha - Belo Horizonte / MG Rua Monte Alegre nº 428 cj 64 Perdizes - São Paulo / SP Fones: 2614-0268 / 2614-0239 m2g2patrimonial.com.br Resumo da Avaliação Solicitante:  Pontte Soluções Financeiras Ltda. Proponente:  Romilton Cioletti  Objetivo:  Determinação do Valor de Mercado Finalidade:  Garantia Bancária Endereço:  Rua Dona Carmem nº 89 - Apto. 604 - Edifício Lara Albert Bairro:  Santa Terezinha Cidade:  Belo Horizonte UF:  MG Tipo:  Apartamento  Uso:  Residencial Matrícula:  138.091 do 3º Ofício de Registro Imobiliário Belo Horizonte - MG Área Privativa:  126,4125 m² (avaliando) + 20,7000 m² (garagem) = 147,1125 m² Área Comum:  56,1099 m² Área Total:  203,2224 m² Data-Base:  23 de junho de 2022 Valor de Mercado:  R$ 491.000,00 Imóvel constitui uma boa garantia?  Sim Fachada. Fonte: Google Maps Rua Dona Carmem. Fonte: Google Maps\n",
      "C:\\Users\\Matheus\\Documents\\Git\\Pontte\\automacaoRegistroAztronic\\automacaoRegistroCCI\\Laudos\\5. Laudo de Avaliação - Sítio do Vovô - Jarinu - Agapee.pdf\n",
      " Laudo de  A valiação ImobiliáriaEstrada Municipal Manoel Gerez Navarro,  s/n° - Sítio do V ovôMaracanã - Jarinu / SP Rua Monte  Alegre nº 428 cj 64Perdizes - São Paulo / SPFones: 2614-0268 / 2614-0239m2g2patrimonial.com.brFachadaFachada Resumo  da A valiaçãoS Pontte Soluções Financeiras Ltda  Determinação do V alor de Mercado e V alor de Liquidação Forçada Garantia Bancária  Estrada Municipal Manoel Gerez Navarro, s/n° - Sítio do V ovô Maracanã JarinuSP T erreno Residencial  n° 145.252 do Cartório de Registro de Imóveis Œ Comarca de  Atibaia Œ SP 161.186,00 m²470,00 m²23 de junho de 2022  14 de junho de 2022 Não R$ 4 .6 7 6 .0 0 0 ,0 0 (q ua tro mil hões ,  s e is c e nt os  e  s e tenta  e  s e is  mi l  re a is ). R$ 2 .6 1 6 .0 0 0 ,0 0 (d ois  mi lhõe s ,  s e is c e nt os  e  de ze s s e is  mi l  re a is ). V a lor  de  Me rc a do:   V a lor  de  Liquida ç ã o Forç a da : R$ 4 .6 7 6 .0 0 0 ,0 0 (q ua tro mil hões ,  s e is c e nt os  e  s e tenta  e  s e is  mi l  re a is ). R$ 2 .6 1 6 .0 0 0 ,0 0 (d ois  mi lhõe s ,  s e is c e nt os  e  de ze s s e is  mi l  re a is ). V a lor  de  Me rc a do:   V a lor  de  Liquida ç ã o Forç a da :\n",
      "C:\\Users\\Matheus\\Documents\\Git\\Pontte\\automacaoRegistroAztronic\\automacaoRegistroCCI\\Laudos\\5. Laudo- Patricia.pdf\n",
      " Parecer Técnico de Avaliação Av. Giovanni Gronchi, nº 4791 Apto. 71-A - Bloco A Ed. Dom Pedro Gastão de Orleans e Bragança Vila Andrade - São Paulo / SP Rua Monte Alegre nº 428 cj 64 Perdizes - São Paulo / SP Fones: 2614-0268 / 2614-0239 m2g2patrimonial.com.br Resumo da Avaliação Solicitante:  Pontte Soluções Financeiras Ltda Objetivo:  Determinação do Valor de Mercado Finalidade:  Garantia Bancária Endereço:  Av. Giovanni Gronchi nº 4791 - Apto. 71-A - Bloco A - Ed. Dom Pedro Gastão de Orleans e  Bragança Bairro:  Vila Andrade Cidade:  São Paulo UF:  SP Tipo:  Apartamento Uso:  Residencial Matrícula:  62.941 do 11º Cartório de Registro de Imóveis de São Paulo Área Privativa:  175,7350 m²  Área Comum:  109,6987 m² Área Total:  285,4337 m² Data-Base:  30 de maio de 2022 Valor de Mercado:  R$ 597.000,00 Fachada. Fonte: Google Maps. Av. Giovanni Gronchi. Fonte: Google Maps.\n",
      "C:\\Users\\Matheus\\Documents\\Git\\Pontte\\automacaoRegistroAztronic\\automacaoRegistroCCI\\Laudos\\5. Laudo- Renato.pdf\n",
      " Laudo de Avaliação Imobiliária Rua Flamengo, nº 419 Estufa I - Ubatuba / SP Rua Monte Alegre nº 428 cj 64 Perdizes - São Paulo / SP Fones: 2614-0268 / 2614-0239 m2g2patrimonial.com.br Resumo da Avaliação Solicitante:  Pontte Soluções Financeiras Ltda. Proponente:  Renato Cândido Bueno Objetivo:  Determinação do Valor de Mercado e Liquidação Forçada Finalidade:  Garantia Bancária Endereço:  Rua Flamengo nº 419 Bairro:  Estufa I Cidade:  Ubatuba UF:  SP Tipo:  Casa  Uso:  Residencial Matrícula:  1.865 do Cartório de Registro de Imóveis - Comarca de Ubatuba - Estado de São Paulo Área do Terreno:  300,000 m² Área Construída:  254,22 m² Data-Base:  03 de junho de 2022 Data da Vistoria:  02 de junho de 2022 Valor de Mercado:  R$ 899.000,00 Valor de Liquidação Forçada:  R$ 589.000,00 Imóvel constitui uma boa garantia?  Sim Fachada Fachada\n",
      "C:\\Users\\Matheus\\Documents\\Git\\Pontte\\automacaoRegistroAztronic\\automacaoRegistroCCI\\Laudos\\Laudo - Agostinho.pdf\n",
      " Parecer Técnico de Avaliação Rua Voluntários da Pátria, nº 654 Sala 302 Condomínio Ícone Santana Santana - São Paulo / SP Rua Monte Alegre nº 428 cj 64 Perdizes - São Paulo / SP Fones: 2614-0268 / 2614-0239 m2g2patrimonial.com.br Resumo da Avaliação Solicitante:  Pontte Soluções Financeiras Ltda Objetivo:  Determinação do Valor de Mercado Finalidade:  Garantia Bancária Endereço:  Rua Voluntários da Pátria nº 654 - Sala 302 - Condomínio Ícone Santana Bairro:  Santana Cidade:  São Paulo UF:  SP Tipo:  Sala comercial Uso:  Comercial Matrícula:  141.951 do 3º Ofício de Registro de Imóveis de São Paulo Área Privativa:  46,730 m²  Área Comum:  36,321 m² Área Total:  83,051 m² Data-Base:  23 de maio de 2022 Valor de Mercado:  R$ 376.000,00 Fachada. Fonte: Google Maps. Rua Voluntários da Pátria. Fonte: Google Maps.\n"
     ]
    }
   ],
   "source": [
    "for laudo in laudoFiles:\n",
    "    path = os.path.join(files_dir, laudo)\n",
    "    print(path)\n",
    "    texto = lerPDF(path, 2)\n",
    "    print(texto)"
   ]
  }
 ],
 "metadata": {
  "kernelspec": {
   "display_name": "Python 3.10.4 64-bit",
   "language": "python",
   "name": "python3"
  },
  "language_info": {
   "codemirror_mode": {
    "name": "ipython",
    "version": 3
   },
   "file_extension": ".py",
   "mimetype": "text/x-python",
   "name": "python",
   "nbconvert_exporter": "python",
   "pygments_lexer": "ipython3",
   "version": "3.10.4"
  },
  "orig_nbformat": 4,
  "vscode": {
   "interpreter": {
    "hash": "9a3b07ba528c89038647187279d5e29ba231df4ea6aa016e93723a294652464d"
   }
  }
 },
 "nbformat": 4,
 "nbformat_minor": 2
}
