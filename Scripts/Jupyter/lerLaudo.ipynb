{
 "cells": [
  {
   "cell_type": "code",
   "execution_count": 59,
   "metadata": {},
   "outputs": [],
   "source": [
    "sys.path.insert(0, r'C:\\Users\\Matheus\\Documents\\Git\\Pontte\\automacaoRegistroAztronic\\automacaoRegistroCCI\\Scripts')\n",
    "from lerPDFLaudo import lerPDF\n",
    "import re\n"
   ]
  },
  {
   "cell_type": "code",
   "execution_count": 163,
   "metadata": {},
   "outputs": [],
   "source": [
    "def lerLaudo(laudoPDF):\n",
    "    #Extrair Texto\n",
    "    pathDocument = laudoPDF\n",
    "    extTexto = lerPDF(pathDocument,4)\n",
    "#    print(extTexto)\n",
    "    #DICT DE-PARA dos arquivos que serão extraídos\n",
    "    listaDePara = {\"Valor de Mercado: \": \"\",\"Matrícula: \": \"\", \"Cartório\": \"\", \"Endereço: \": \"\", \"Número: \":\"\", \"Complemento: \": \"\",\"Bairro: \":\"\",\"Cidade: \":\"\",\"UF: \":\"\", \"CEP \": \"\"}\n",
    "\n",
    "    for key, value in listaDePara.items(): \n",
    "        if key == \"Valor de Mercado: \" or key == \"Endereço: \":\n",
    "            #Extrair Valores\n",
    "            inicioFrase = extTexto.find(key,0)\n",
    "            finalFrase = inicioFrase + len(key)\n",
    "            breakLine = extTexto.find(\" | \", finalFrase)\n",
    "            saida = extTexto[finalFrase:breakLine]\n",
    "\n",
    "            #Tratamento Endereço\n",
    "            if key == \"Endereço: \":\n",
    "                posicaoNumero = saida.find(\"nº\") + len(\"nº\")\n",
    "                nextSpace = saida.find(\" \", posicaoNumero)\n",
    "                if posicaoNumero == nextSpace:\n",
    "                    nextSpace = saida.find(\" \", posicaoNumero+1)\n",
    "                numeroEndereco = saida[posicaoNumero:nextSpace]\n",
    "                auxComplemento = len(saida)-(posicaoNumero+len(numeroEndereco))\n",
    "                if auxComplemento >= 5:\n",
    "                    complemento = saida[nextSpace+3:len(saida)]\n",
    "                else:\n",
    "                    complemento = 'N/A'\n",
    "\n",
    "                saida = saida[0:posicaoNumero-len(\"nº \")]\n",
    "                \n",
    "                #Adicionar na Lista\n",
    "                listaDePara[\"Número: \"] = numeroEndereco.strip()\n",
    "                listaDePara[\"Complemento: \"] = complemento.strip()\n",
    "            \n",
    "            #Atribuir Valor ao DICT\n",
    "            listaDePara[key] = saida.strip()\n",
    "            \n",
    "        elif key == \"Matrícula: \":\n",
    "            #Extrair Número da Matrícula\n",
    "            inicioFrase = extTexto.find(key,0)\n",
    "            finalFrase = inicioFrase + len(key)\n",
    "            proximoEspaco = extTexto.find(\" \", finalFrase)\n",
    "            numeroMat = extTexto[finalFrase:proximoEspaco]\n",
    "            \n",
    "            #Auxiliar Pós Número Matrícula\n",
    "            posMat = extTexto.find(numeroMat,0)+len(numeroMat)+1\n",
    "            finalCart = extTexto.find(\" | \",posMat)\n",
    "\n",
    "            #Extraír dados do cartório\n",
    "            cartorio = extTexto[posMat+3:finalCart]\n",
    "\n",
    "            #Atribuir Valor ao DICT\n",
    "            listaDePara['Matrícula: '] = numeroMat\n",
    "            listaDePara['Cartório'] = cartorio\n",
    "        \n",
    "        elif key==\"Bairro: \" or key==\"Cidade: \" or key==\"UF: \":\n",
    "            inicioFrase = extTexto.find(key,0)\n",
    "            if key==\"Bairro: \":\n",
    "                finalFrase=extTexto.find(\"Cidade\",inicioFrase)\n",
    "            elif key==\"Cidade: \":\n",
    "                finalFrase=extTexto.find(\"UF\",inicioFrase)\n",
    "            else:\n",
    "                finalFrase=extTexto.find(\" | \",inicioFrase)\n",
    "\n",
    "            result = extTexto[inicioFrase+len(key):finalFrase].replace('\\xa0', '').replace(' | ', '')\n",
    "            listaDePara[key] = result\n",
    "\n",
    "        elif key==\"CEP \":\n",
    "            inicioFrase = extTexto.find(key,0)\n",
    "            finalFrase = extTexto.find(\"-\", inicioFrase)\n",
    "            cep = extTexto[inicioFrase+len(key):finalFrase+4]\n",
    "            listaDePara[key] = cep\n",
    "\n",
    "    print(pathDocument)\n",
    "    print(listaDePara, \"\\n\")\n",
    "    \n",
    "    \n",
    "    return listaDePara\n"
   ]
  },
  {
   "cell_type": "code",
   "execution_count": 156,
   "metadata": {},
   "outputs": [
    {
     "name": "stdout",
     "output_type": "stream",
     "text": [
      "C:\\Users\\Matheus\\Documents\\Git\\Pontte\\automacaoRegistroAztronic\\automacaoRegistroCCI\\Laudos\\5. Laudo - Conrado.pdf\n",
      "{'Valor de Mercado: ': 'R$ 673.000,00', 'Matrícula: ': '76.635', 'Cartório': '5º Serviço de Registro de Imóveis', 'Endereço: ': 'Rua Amazonas', 'Número: ': '1167', 'Complemento: ': 'Apto. Duplex 601 - Residencial Costa Verde', 'Bairro: ': 'Água Verde', 'Cidade: ': 'Curitiba ', 'UF: ': 'PR', 'CEP ': '80610-030'} \n",
      "\n"
     ]
    },
    {
     "data": {
      "text/plain": [
       "{'Valor de Mercado: ': 'R$ 673.000,00',\n",
       " 'Matrícula: ': '76.635',\n",
       " 'Cartório': '5º Serviço de Registro de Imóveis',\n",
       " 'Endereço: ': 'Rua Amazonas',\n",
       " 'Número: ': '1167',\n",
       " 'Complemento: ': 'Apto. Duplex 601 - Residencial Costa Verde',\n",
       " 'Bairro: ': 'Água Verde',\n",
       " 'Cidade: ': 'Curitiba ',\n",
       " 'UF: ': 'PR',\n",
       " 'CEP ': '80610-030'}"
      ]
     },
     "execution_count": 156,
     "metadata": {},
     "output_type": "execute_result"
    }
   ],
   "source": [
    "laudo = r\"C:\\Users\\Matheus\\Documents\\Git\\Pontte\\automacaoRegistroAztronic\\automacaoRegistroCCI\\Laudos\\5. Laudo - Conrado.pdf\"\n",
    "lerLaudo(laudo)"
   ]
  },
  {
   "cell_type": "code",
   "execution_count": 111,
   "metadata": {},
   "outputs": [
    {
     "data": {
      "text/plain": [
       "['5. Laudo - Agostinho.pdf',\n",
       " '5. Laudo - Conrado.pdf',\n",
       " '5. Laudo - Juliana.pdf',\n",
       " '5. Laudo - Margareide.pdf',\n",
       " '5. Laudo - Romilton.pdf',\n",
       " '5. Laudo- Patricia.pdf',\n",
       " '5. Laudo- Renato.pdf']"
      ]
     },
     "execution_count": 111,
     "metadata": {},
     "output_type": "execute_result"
    }
   ],
   "source": [
    "import os\n",
    "files_dir = r\"C:\\Users\\Matheus\\Documents\\Git\\Pontte\\automacaoRegistroAztronic\\automacaoRegistroCCI\\Laudos\"\n",
    "simuladorFiles = [f for f in os.listdir(files_dir) if f.endswith(\".pdf\")]\n",
    "simuladorFiles"
   ]
  },
  {
   "cell_type": "code",
   "execution_count": 164,
   "metadata": {},
   "outputs": [
    {
     "name": "stdout",
     "output_type": "stream",
     "text": [
      "C:\\Users\\Matheus\\Documents\\Git\\Pontte\\automacaoRegistroAztronic\\automacaoRegistroCCI\\Laudos\\5. Laudo - Agostinho.pdf\n",
      "{'Valor de Mercado: ': 'R$ 376.000,00', 'Matrícula: ': '141.951', 'Cartório': '3º Ofício de Registro de Imóveis de São Paulo', 'Endereço: ': 'Rua Voluntários da Pátria', 'Número: ': '654', 'Complemento: ': 'Sala 302 - Condomínio Ícone Santana', 'Bairro: ': 'Santana', 'Cidade: ': 'São Paulo', 'UF: ': 'SP', 'CEP ': '02010-000'} \n",
      "\n",
      "C:\\Users\\Matheus\\Documents\\Git\\Pontte\\automacaoRegistroAztronic\\automacaoRegistroCCI\\Laudos\\5. Laudo - Conrado.pdf\n",
      "{'Valor de Mercado: ': 'R$ 673.000,00', 'Matrícula: ': '76.635', 'Cartório': '5º Serviço de Registro de Imóveis', 'Endereço: ': 'Rua Amazonas', 'Número: ': '1167', 'Complemento: ': 'Apto. Duplex 601 - Residencial Costa Verde', 'Bairro: ': 'Água Verde', 'Cidade: ': 'Curitiba ', 'UF: ': 'PR', 'CEP ': '80610-030'} \n",
      "\n",
      "C:\\Users\\Matheus\\Documents\\Git\\Pontte\\automacaoRegistroAztronic\\automacaoRegistroCCI\\Laudos\\5. Laudo - Juliana.pdf\n",
      "{'Valor de Mercado: ': 'R$ 1.597.000,00', 'Matrícula: ': '67.232', 'Cartório': 'Registro de Imóveis da Comarca de Mogi Mirim - SP', 'Endereço: ': 'Rua Waldemar Toledo Junior', 'Número: ': '9', 'Complemento: ': 'N/A', 'Bairro: ': 'Condomínio Residencial dos Jequitibás', 'Cidade: ': 'Mogi Mirim', 'UF: ': 'SP', 'CEP ': '13807-845'} \n",
      "\n",
      "C:\\Users\\Matheus\\Documents\\Git\\Pontte\\automacaoRegistroAztronic\\automacaoRegistroCCI\\Laudos\\5. Laudo - Margareide.pdf\n",
      "{'Valor de Mercado: ': 'R$ 930.000,00', 'Matrícula: ': '28.286', 'Cartório': '2° Ofício de Registro de Imóveis e Hipotecas de Feira de Santana - Bahia', 'Endereço: ': 'Rua Marechal Castelo Branco', 'Número: ': '103', 'Complemento: ': 'N/A', 'Bairro: ': 'Santa Mônica', 'Cidade: ': 'Feira de Santana', 'UF: ': 'BA', 'CEP ': '44077-410'} \n",
      "\n",
      "C:\\Users\\Matheus\\Documents\\Git\\Pontte\\automacaoRegistroAztronic\\automacaoRegistroCCI\\Laudos\\5. Laudo - Romilton.pdf\n",
      "{'Valor de Mercado: ': 'R$ 491.000,00', 'Matrícula: ': '138.091', 'Cartório': '3º Ofício de Registro Imobiliário Belo Horizonte - MG', 'Endereço: ': 'Rua Dona Carmem', 'Número: ': '89', 'Complemento: ': 'Apto. 604 - Edifício Lara Albert', 'Bairro: ': 'Santa Terezinha', 'Cidade: ': 'Belo Horizonte', 'UF: ': 'MG', 'CEP ': '31360-090'} \n",
      "\n",
      "C:\\Users\\Matheus\\Documents\\Git\\Pontte\\automacaoRegistroAztronic\\automacaoRegistroCCI\\Laudos\\5. Laudo- Patricia.pdf\n",
      "{'Valor de Mercado: ': 'R$ 597.000,00', 'Matrícula: ': '62.941', 'Cartório': '11º Cartório de Registro de Imóveis de São Paulo', 'Endereço: ': 'Av. Giovanni Gronchi', 'Número: ': '4791', 'Complemento: ': 'Apto. 71-A - Bloco A - Ed. Dom Pedro Gastão de Orleans e', 'Bairro: ': 'Vila Andrade', 'Cidade: ': 'São Paulo', 'UF: ': 'SP', 'CEP ': '05724-003'} \n",
      "\n",
      "C:\\Users\\Matheus\\Documents\\Git\\Pontte\\automacaoRegistroAztronic\\automacaoRegistroCCI\\Laudos\\5. Laudo- Renato.pdf\n",
      "{'Valor de Mercado: ': 'R$ 899.000,00', 'Matrícula: ': '1.865', 'Cartório': 'Cartório de Registro de Imóveis - Comarca de Ubatuba - Estado de São Paulo', 'Endereço: ': 'Rua Flamengo', 'Número: ': '41', 'Complemento: ': 'N/A', 'Bairro: ': 'Estufa I', 'Cidade: ': 'Ubatuba', 'UF: ': 'SP', 'CEP ': '11689-242'} \n",
      "\n"
     ]
    }
   ],
   "source": [
    "for file in simuladorFiles:\n",
    "    path = os.path.join(files_dir, file)\n",
    "    lerLaudo(path)"
   ]
  }
 ],
 "metadata": {
  "language_info": {
   "name": "python"
  },
  "orig_nbformat": 4
 },
 "nbformat": 4,
 "nbformat_minor": 2
}
