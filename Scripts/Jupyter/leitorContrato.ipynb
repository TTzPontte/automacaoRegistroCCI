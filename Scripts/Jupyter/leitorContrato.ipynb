{
 "cells": [
  {
   "cell_type": "code",
   "execution_count": null,
   "metadata": {},
   "outputs": [],
   "source": [
    "# importa as bibliotecas necessárias\n",
    "import PyPDF2\n",
    "import re\n",
    "import pandas as pd"
   ]
  },
  {
   "cell_type": "code",
   "execution_count": null,
   "metadata": {},
   "outputs": [],
   "source": [
    "# Abre o arquivo pdf \n",
    "path = r'C:\\Users\\MatheusPereira\\OneDrive - Pontte\\Área de Trabalho\\automacaoRegistroCCI\\Contratos\\HE_Contrato_Agostinho_Assinatura Digital_VFinal.pdf'\n",
    "pdf_file = open(path, 'rb')\n"
   ]
  },
  {
   "cell_type": "code",
   "execution_count": null,
   "metadata": {},
   "outputs": [],
   "source": [
    "#Faz a leitura usando a biblioteca\n",
    "read_pdf = PyPDF2.PdfFileReader(pdf_file)\n",
    "\n",
    "# pega o numero de páginas\n",
    "number_of_pages = read_pdf.getNumPages()\n",
    "\n",
    "#Extriar Texto Página 1 a 5\n",
    "text=''\n",
    "for i in range(0,4):\n",
    "    #Ler Página PDF\n",
    "    pageObj = read_pdf.getPage(i)\n",
    "    #Extrair Texto\n",
    "    text=text+pageObj.extractText()\n",
    "\n",
    "#Tratar Texto (Remover Quebra de Linhas)\n",
    "text = re.sub('\\r', '', text) \n",
    "text = re.sub('\\n', '', text)"
   ]
  },
  {
   "cell_type": "code",
   "execution_count": null,
   "metadata": {},
   "outputs": [],
   "source": [
    "listaDePara = {'valorTotal':'VALOR DO EMPRÉSTIMO: R$','tabela': 'SISTEMA DE AMORTIZAÇÃO:','registro': 'DESPESAS DE REGISTRO: R$','valorLiquido': 'VALOR LÍQUIDO DO EMPRÉSTIMO (A-J-K-L-M-N): R$',\n",
    "                'prazoMes': 'PRAZO DE AMORTIZAÇÃO:','valorPrimeiraParcelaComEncargos':'VALOR TOTAL DO PRIMEIRO ENCARGO, NESTA DATA: R$',\n",
    "                'valorImóvel':'LEILÃO PÚBLICO   IMÓVEL: R$ ','prazoContrato': 'N.º DE PRESTAÇÕES:','ultimaParcela':'DATA DO TÉRMINO DO PRAZO CONTRATUAL:','dataContrato': 'DATA DE DESEMBOLSO:',\n",
    "                'valorPrimeiraParcela':'VALOR DA PARCELA MENSAL (AMORTIZAÇÃO E JUROS), NESTA DATA: R$','primeiraParcela':'VENCIMENTO DA PRIMEIRA PRESTAÇÃO:','indice':'ÍNDICE: MENSAL do'\n",
    "                }\n",
    "\n",
    "#len(listaHE) # <--- Qtd de Itens na Lista\n",
    "listaKey = []\n",
    "listaValues = []\n",
    "\n",
    "for key, value in listaDePara.items():\n",
    "    inicioFrase = text.find(value,0)\n",
    "    finalFrase = inicioFrase + len(value) + 1\n",
    "    proximoEspaco = text.find(\" \", finalFrase)\n",
    "    valorExtraido = text[finalFrase:proximoEspaco]\n",
    "\n",
    "    #Ajustar Valores Númericos\n",
    "    if '.' in valorExtraido:\n",
    "        valorExtraido = valorExtraido.replace(\".\", \"\")\n",
    "        valorExtraido = valorExtraido.replace(\",\", \".\")\n",
    "    \n",
    "    #Ajustar Valores Percentuais\n",
    "    if '%' in valorExtraido:\n",
    "        valorExtraido = valorExtraido.replace(\",\", \".\")\n",
    "        valorExtraido = valorExtraido.replace(\"%\", \"\")\n",
    "        valorExtraido = round(float(valorExtraido)/100,4)\n",
    "    \n",
    "    listaKey.append(key)\n",
    "    listaValues.append(valorExtraido)"
   ]
  }
 ],
 "metadata": {
  "kernelspec": {
   "display_name": "Python 3.9.7 64-bit",
   "language": "python",
   "name": "python3"
  },
  "language_info": {
   "name": "python",
   "version": "3.9.7"
  },
  "orig_nbformat": 4,
  "vscode": {
   "interpreter": {
    "hash": "045832f79490e9a8a037a8f6e1a5c8ec877d805c4de0087de700d9a61e201314"
   }
  }
 },
 "nbformat": 4,
 "nbformat_minor": 2
}
