{
 "cells": [
  {
   "cell_type": "code",
   "execution_count": 1,
   "metadata": {},
   "outputs": [],
   "source": [
    "# importa as bibliotecas necessárias\n",
    "import PyPDF2\n",
    "import re\n",
    "import pandas as pd"
   ]
  },
  {
   "cell_type": "code",
   "execution_count": 2,
   "metadata": {},
   "outputs": [],
   "source": [
    "# Abre o arquivo pdf \n",
    "path = r'C:\\Users\\MatheusPereira\\OneDrive - Pontte\\Área de Trabalho\\automacaoRegistroCCI\\Contratos\\HE_Contrato_Margareide_Assinatura Digital_VFinal.pdf'\n",
    "pdf_file = open(path, 'rb')\n"
   ]
  },
  {
   "cell_type": "code",
   "execution_count": 3,
   "metadata": {},
   "outputs": [],
   "source": [
    "#Faz a leitura usando a biblioteca\n",
    "read_pdf = PyPDF2.PdfFileReader(pdf_file)\n",
    "\n",
    "# pega o numero de páginas\n",
    "number_of_pages = read_pdf.getNumPages()\n",
    "\n",
    "#Extriar Texto Página 1 a 5\n",
    "text=''\n",
    "for i in range(0,4):\n",
    "    #Ler Página PDF\n",
    "    pageObj = read_pdf.getPage(i)\n",
    "    #Extrair Texto\n",
    "    text=text+pageObj.extractText()\n",
    "\n",
    "#Tratar Texto (Remover Quebra de Linhas)\n",
    "text = re.sub('\\r', '', text) \n",
    "text = re.sub('\\n', '', text)"
   ]
  },
  {
   "cell_type": "code",
   "execution_count": 9,
   "metadata": {},
   "outputs": [
    {
     "data": {
      "text/plain": [
       "\"CONTRATO DE EMPRÉSTIMO (MÚTUO) E PACTO ADJETO DE ALIENAÇÃO FIDUCIÁRIA EM GARANTIA  COM EMISSÃO DE CÉDULA DE CRÉDITO IMOBILIÁRIO  - CCI  CONTRATO Nº 0001148463/MLS REFIN – SFI  RUBRICA DAS PARTES  Contrato de Empréstimo (Mútuo) com Alienação Fiduciária – Pessoa Física Página 1 de 35   Pelo presente contrato, celebrado nos termos do artigo 38 da Lei 9.514/97, de acordo com a redação  que  lhe  deu  o  artigo  57  da  Lei  10.931/2004, as  partes  a  seguir  enunciadas  e qualificadas  formalizam  este  CONTRATO  DE EMPRÉSTIMO (MÚTUO)  E  PACTO ADJETO DE ALIENAÇÃO FIDUCIÁRIA EM GARANTIA  COM EMISSÃO DE CÉDULA DE CRÉDITO IMOBILIÁRIO - CCI, tendo por objeto o imóvel identificado no campo 5 a seguir, e consoante cláusulas e condições adiante estipuladas :  CAMPO 1 – CREDORA RAZÃO SOCIAL: QI SOCIEDADE DE CRÉDITO DIRETO S.A.    ENDEREÇO COMERCIAL: Avenida Brigadeiro Faria Lima, nº 2.391, 1º andar  COMPLEMENTO: Conjunto 12 BAIRRO: Jardim Paulistano CIDADE: São Paulo UF: SP   CEP: 01452-000  CNPJ: 32.402.502/0001-35  DATA DA CONSTITUIÇÃO: 10/01/2019 REGISTRO JUCESP: 35300530225   REPRESENTANTES: Roberto Amaral Dantas Junior, brasileiro, portador da cédula de identidade RG nº 50.016.943-3 SSP/SP e inscrito no CPF sob nº 400.516.238 -03, nos termos da Procuração Pública lavrada pelo 1º Tabelião de Notas de São Paulo/SP no livro 4831, página 341  Rogério de Almeida Domingues / CPF: 315.191.258 -36 Lucas de Jesus Clarim / CPF: 109.323.276-56 Marcelo Buosi Martins / CPF: 380.261.198-51   CAMPO 2 - DEVEDOR(ES/AS)  DEVEDORA FIDUCIANTE  NOME: MARGAREIDE LEAL SAMPAIO CPF: 370.898.895-72                      DATA DE NASCIMENTO: 19/12/1965 FILIAÇÃO: PEDRO OLIVEIRA SAMPAIO e SIDELCINA LEAL SAMPAIO   IDENTIDADE (tipo/número): RG: 02.142.150-16         ÓRGÃO EMISSOR: SSP/BA NACIONALIDADE: BRASILEIRA  PROFISSÃO: FUNCIONÁRIA PÚBLICA ESTADO CIVIL: DIVORCIADA REGIME DE CASAMENTO (SE FOR CASADO):  N/A  ENDEREÇO RESIDENCIAL E DOMICILIAR:   RUA JOSÉ DO PATROCÍNIO, 27 COMPLEMENTO: N/A BAIRRO: SANTA MÔNICA CONTRATO DE EMPRÉSTIMO (MÚTUO) E PACTO ADJETO DE ALIENAÇÃO FIDUCIÁRIA EM GARANTIA  COM EMISSÃO DE CÉDULA DE CRÉDITO IMOBILIÁRIO  - CCI  CONTRATO Nº 0001148463/MLS REFIN – SFI  RUBRICA DAS PARTES  Contrato de Empréstimo (Mútuo) com Alienação Fiduciária – Pessoa Física Página 2 de 35   CIDADE: FEIRA DE SANTANA     UF: BA  CEP: 44004-296  TELEFONE(S): (75) 99977-7970 EMAIL: margareidelsampaio@gmail.com   CAMPO 3 - COMPOSIÇÃO DE VALORES E PRINCIPAIS CONDIÇÕES DO EMPRÉSTIMO A. VALOR DO EMPRÉSTIMO: R$ 433.835,93 B. DATA DE DESEMBOLSO: 05/07/2022  C. PRAZO DE AMORTIZAÇÃO: 240 D. N.º DE PRESTAÇÕES: 237 E. DATA DO TÉRMINO DO PRAZO CONTRATUAL:  04/07/2042 F. PERIODICIDADE DE VENCIMENTO : mensal G. VENCIMENTO DA PRIMEIRA PRESTAÇÃO : 04/11/2022  H. TAXA DE JUROS (%)  H.1. NOMINAL: 13,6232% H.2. EFETIVA: 14,5419% I. SISTEMA DE AMORTIZAÇÃO: PRICE J. TARIFA DE ANÁLISE DE GARANTIAS: R$ 0,00 K. TARIFA DE ABERTURA DE CADASTRO: R$ 16.000,00 L. TARIFA DE AVALIAÇÃO DO IMÓVEL:  R$ 0,00 M. IOF: R$ 14.595,88 N. DESPESAS DE REGISTRO: R$ 3.240,05 O. VALOR LÍQUIDO DO EMPRÉSTIMO (A-J-K-L-M-N): R$ 400.000,00 P. SALDO DEVEDOR DO IMÓVEL: R$ 0,00 Q. VALOR DISPONÍVEL AO CLIENTE, NESTA DATA (O-P): R$ 400.000,00 R. VALOR DA PARCELA MENSAL (AMORTIZAÇÃO E JUROS), NESTA DATA:  R$ 5.215,54 S. DEMAIS VALORES QUE COMPÕEM O  ENCARGO MENSAL S.1.VALOR DOS PREMIOS DE SEGURO    S.1.1. DE MORTE E INVALIDEZ PERMANENTE:  R$ 94,15  S.1.2. DE DANOS FÍSICOS AO IMÓVEL: R$ 65,10 S.2. TARIFA DE GESTÃO: R$ 25,00 T. VALOR TOTAL DO PRIMEIRO ENCARGO, NESTA DATA:  R$ 5.399,79  U. CUSTO EFETIVO TOTAL (CET): 15,7475%  O Valor Disponível ao Cliente (Q), deduzido das demais dívidas informadas no CAMPO 8, caso aplicável  e não  tenham  sido pagas pelo(a/s)  DEVEDOR(ES/AS) até esta data, conforme especificado neste Campo, será liberado ao(a/s) DEVEDOR(ES/AS), mediante débito da conta de pagamento de titularidade do DEVEDOR(ES /AS) mantida junto ao CREDOR, abaixo especificada CONTRATO DE EMPRÉSTIMO (MÚTUO) E PACTO ADJETO DE ALIENAÇÃO FIDUCIÁRIA EM GARANTIA  COM EMISSÃO DE CÉDULA DE CRÉDITO IMOBILIÁRIO  - CCI  CONTRATO Nº 0001148463/MLS REFIN – SFI  RUBRICA DAS PARTES  Contrato de Empréstimo (Mútuo) com Alienação Fiduciária – Pessoa Física Página 3 de 35   (“Conta da Operação”), no último dos seguintes prazos: i) em 20 (vinte) dias úteis a contar desta data, desde que tenha(m) sido entregue a via original  à CREDORA, antes deste prazo, da matr ícula do imóvel e do presente instrumento com os registros do empréstimo e da alienação fiduciária através dele contratadas; ou  ii) em até 10 (dez) dias úteis, contados a partir da entrega  à CREDORA, da(s) via(s) original(is)  da(s) matricula(s) do(s) imóvel(is) e do presente instrumento,  com  os registros do empréstimo e da alienação fiduciária através dele contratadas.  TITULAR: MARGAREIDE LEAL SAMPAIO BANCO: QI SOCIEDADE DE CRÉDITO DIRETO S.A. (329)  C/C: 06313-0 AGÊNCIA:0001  O(A/S) DEVEDOR(ES/AS) autoriza(m) expressamente,  de  modo  irretratável  e  irrevogável,  o CREDOR, quando das respectivas Datas de Vencimento, a debitar a Conta da Operação todo e qualquer valor disponível até o limite dos valores cujo pagamento ou reembolso for devido no âmbito ou por efeito do presente CONTRATO. Sobre o valor ou a parcela do valor a debitar para o qual não houver fundos disponíveis na Conta da Operação, incidirão, desde a respectiva Data de Vencimento, os encargos moratórios, conforme previstos neste CONTRATO.   CAMPO 4 - ÍNDICE DO CONTRATO ÍNDICE: MENSAL do IPCA, tomando-se por base a variação do índice do segundo mês anterior ao da assinatura deste contrato, inclusive, e o índice relativo ao segundo mês anterior ao do efetivo pagamento de cada encargo.  VISTO DO(S) DEVEDOR(ES): ____________________________________   CAMPO 5 - IMÓVEL (IS) Imóvel: descrito no Anexo IV do presente instrumento  Origem: O referido imóvel foi havido pelos devedores por força do registro R. 01, na matrícula nº 28.286, do Livro N° 02 de Registro Geral do  2º Oficial de Registro de Imóveis da Comarca de  Feira de Santana/BA.    CAMPO 6 – VALOR DE AVALIAÇÃO PARA FINS DE  LEILÃO PÚBLICO  Valor de avaliação do Imóvel para fins de leilão:  R$ 930.000,00.  CONTRATO DE EMPRÉSTIMO (MÚTUO) E PACTO ADJETO DE ALIENAÇÃO FIDUCIÁRIA EM GARANTIA  COM EMISSÃO DE CÉDULA DE CRÉDITO IMOBILIÁRIO  - CCI  CONTRATO Nº 0001148463/MLS REFIN – SFI  RUBRICA DAS PARTES  Contrato de Empréstimo (Mútuo) com Alienação Fiduciária – Pessoa Física Página 4 de 35   Para efeitos de cálculo dos emolumentos de Tabelião e de Registro, poderá ser considerado, para o Imóvel, o valor de avaliação acima.    CAMPO 7 – COMPOSIÇÃO DA RENDA PARA FINS DE INDENIZAÇÃO   NOME: MARGAREIDE LEAL SAMPAIO  PARTICIPAÇÃO: 100%  CAMPO 8 – CLÁUSULA(S) ADICIONAL(AIS) 1.  As  Cláusulas  Especiais,  contidas  nos  campos  do  Quadro  Resumo  deste instrumento, são adicionais e complementares, as gerais, adiante dispostas, sendo que, naqueles pontos em que houver conflito, estas, especiais, prevalecer ão em relação aquelas, gerais.  2. Foram apresentadas e encontram-se arquivadas junto a CREDORA as Certidões Negativas de Débitos Trabalhistas em nome dos(as) DEVEDOR(ES/AS).  3. O(A/S) DEVEDOR(ES/AS) DECLARA(M)  ter plena ciência que, no prazo de até 3 (três) dias úteis, após o registro regular do contrato, a QI SOCIEDADE DE CRÉDITO DIRETO S.A., ora Credora, liberará, o valor do empréstimo, com o que, desde já, concorda(m) .  4. O(A/S) DEVEDOR(ES/AS) DECLARA(M) , ainda, que após o registro regular do contrato, se comprometem a entregar o boleto referente à seguinte dívida, para que o pagamento seja realizado pelo Custodiante da Conta, em até 3 (três) dias úteis após o recebimento, qual seja:   4.1. 100% (cem por cento) da dívida proveniente de Crédito Pessoal, no total aproximado de R$ 52.786,63, em nome do Devedor Fiduciante, devendo ser quitada perante o atual credor;   4.2. Após a quitação das dívidas acima elencadas, o valor remanescente do empréstimo será liberado no prazo de até 3 (três) dias úteis.  5. O(A/S) DEVEDOR(ES/AS) DECLARA(M) que, caso o imóvel objeto do presente instrumento seja pertencente às circunscrições imobiliárias das comarcas localizadas nos Estados de Minas Gerais, Espírito Santo, Rio de Janeiro, Mato Grosso do Sul ou Distrito Federal, os custos de registro  expressos no Campo 3, item “N” podem sofrer um acréscimo no valor discriminado devido à adoção de tabelas de emolumentos diferenciadas nas mencionadas unidades federativas.    DECLARA(M), ainda,  sob  responsabilidade  civil  e  criminal:  (i) não está(ão)  sujeito(a/s)  à apresentação da Certidão Negativa de Débitos Relativos aos Tributos Federais e à Dívida Ativa da União, administrados pela Secretaria da Receita Federal do Brasil (RFB) e pela Pr ocuradoria-Geral da Fazenda Nacional (PGFN), inclusive as contribuições sociais previstas nas alíneas 'a' a 'd' do \""
      ]
     },
     "execution_count": 9,
     "metadata": {},
     "output_type": "execute_result"
    }
   ],
   "source": [
    "text"
   ]
  },
  {
   "cell_type": "code",
   "execution_count": 26,
   "metadata": {},
   "outputs": [],
   "source": [
    "listaDePara = {'valorTotal':'VALOR DO EMPRÉSTIMO: R$','tabela': 'SISTEMA DE AMORTIZAÇÃO:','registro': 'DESPESAS DE REGISTRO: R$','valorLiquido': 'VALOR LÍQUIDO DO EMPRÉSTIMO (A-J-K-L-M-N): R$',\n",
    "                'prazoMes': 'PRAZO DE AMORTIZAÇÃO:','valorPrimeiraParcelaComEncargos':'VALOR TOTAL DO PRIMEIRO ENCARGO, NESTA DATA:  R$',\n",
    "                'valorImóvel':'Valor de avaliação do Imóvel para fins de leilão:  R$','prazoContrato': 'N.º DE PRESTAÇÕES:','ultimaParcela':'DATA DO TÉRMINO DO PRAZO CONTRATUAL: ','dataContrato': 'DATA DE DESEMBOLSO:',\n",
    "                'valorPrimeiraParcela':'VALOR DA PARCELA MENSAL (AMORTIZAÇÃO E JUROS), NESTA DATA:  R$','primeiraParcela':'VENCIMENTO DA PRIMEIRA PRESTAÇÃO :','indice':'ÍNDICE: MENSAL do'\n",
    "                }\n",
    "\n",
    "#len(listaHE) # <--- Qtd de Itens na Lista\n",
    "listaKey = []\n",
    "listaValues = []\n",
    "\n",
    "for key, value in listaDePara.items():\n",
    "    inicioFrase = text.find(value,0)\n",
    "    finalFrase = inicioFrase + len(value) + 1\n",
    "    proximoEspaco = text.find(\" \", finalFrase)\n",
    "    valorExtraido = text[finalFrase:proximoEspaco]\n",
    "\n",
    "    #Ajustar Valores Númericos\n",
    "    if '.' in valorExtraido:\n",
    "        valorExtraido = valorExtraido.replace(\".\", \"\")\n",
    "        valorExtraido = valorExtraido.replace(\",\", \".\")\n",
    "    \n",
    "    #Ajustar Valores Percentuais\n",
    "    if '%' in valorExtraido:\n",
    "        valorExtraido = valorExtraido.replace(\",\", \".\")\n",
    "        valorExtraido = valorExtraido.replace(\"%\", \"\")\n",
    "        valorExtraido = round(float(valorExtraido)/100,4)\n",
    "    if 'IPCA' or 'IGPM' in valorExtraido:\n",
    "        valorExtraido = valorExtraido.replace(\",\", \"\")\n",
    "    \n",
    "    listaKey.append(key)\n",
    "    listaValues.append(valorExtraido)"
   ]
  },
  {
   "cell_type": "code",
   "execution_count": null,
   "metadata": {},
   "outputs": [],
   "source": []
  },
  {
   "cell_type": "code",
   "execution_count": 27,
   "metadata": {},
   "outputs": [
    {
     "data": {
      "text/plain": [
       "{'valorTotal': '433835.93',\n",
       " 'tabela': 'PRICE',\n",
       " 'registro': '3240.05',\n",
       " 'valorLiquido': '400000.00',\n",
       " 'prazoMes': '240',\n",
       " 'valorPrimeiraParcelaComEncargos': '5399.79',\n",
       " 'valorImóvel': '930000.00',\n",
       " 'prazoContrato': '237',\n",
       " 'ultimaParcela': '04/07/2042',\n",
       " 'dataContrato': '05/07/2022',\n",
       " 'valorPrimeiraParcela': '5215.54',\n",
       " 'primeiraParcela': '04/11/2022',\n",
       " 'indice': 'IPCA'}"
      ]
     },
     "execution_count": 27,
     "metadata": {},
     "output_type": "execute_result"
    }
   ],
   "source": [
    "#Criar Dicionario das duas Listas\n",
    "dict_keyValue = dict(zip(listaKey,listaValues))\n",
    "dict_keyValue"
   ]
  }
 ],
 "metadata": {
  "kernelspec": {
   "display_name": "Python 3.9.7 64-bit",
   "language": "python",
   "name": "python3"
  },
  "language_info": {
   "codemirror_mode": {
    "name": "ipython",
    "version": 3
   },
   "file_extension": ".py",
   "mimetype": "text/x-python",
   "name": "python",
   "nbconvert_exporter": "python",
   "pygments_lexer": "ipython3",
   "version": "3.9.7"
  },
  "orig_nbformat": 4,
  "vscode": {
   "interpreter": {
    "hash": "045832f79490e9a8a037a8f6e1a5c8ec877d805c4de0087de700d9a61e201314"
   }
  }
 },
 "nbformat": 4,
 "nbformat_minor": 2
}
